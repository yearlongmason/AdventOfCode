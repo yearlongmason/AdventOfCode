{
 "cells": [
  {
   "cell_type": "markdown",
   "id": "e59305f6",
   "metadata": {},
   "source": [
    "# --- Day 6: Wait For It ---\n",
    "https://adventofcode.com/2023/day/6"
   ]
  },
  {
   "cell_type": "code",
   "execution_count": 2,
   "id": "43c32389",
   "metadata": {},
   "outputs": [],
   "source": [
    "def getBoatTimes():\n",
    "    with open(\"boatTimes.txt\") as file:\n",
    "        return file.read()"
   ]
  },
  {
   "cell_type": "code",
   "execution_count": 3,
   "id": "2b89eefb",
   "metadata": {},
   "outputs": [
    {
     "name": "stdout",
     "output_type": "stream",
     "text": [
      "Product of the winning strategies: 4811940\n"
     ]
    }
   ],
   "source": [
    "#Formatting\n",
    "boatTimes = getBoatTimes().split(\"\\n\")\n",
    "boatTimes = [x.split(\":\")[1] for x in boatTimes]\n",
    "boatTimes = [x.split() for x in boatTimes]\n",
    "boatTimes = [[int(num) for num in x] for x in boatTimes]\n",
    "\n",
    "#Keeps track of the number of ways to win for each race\n",
    "winningNums = []\n",
    "\n",
    "#Loops through each time/distance pair\n",
    "for time, distance in zip(boatTimes[0], boatTimes[1]):\n",
    "    \n",
    "    #Loop through possible times until one wins\n",
    "    for currentTime in range(0, time):\n",
    "        #Checks to see if the calculated distance it would go is greater than best distance\n",
    "        if (time - currentTime)*currentTime > distance:\n",
    "            #Append the max win time (time - currentTime) - currentTime (min win time) and add 1\n",
    "            #This gets the number of winnning combos\n",
    "            winningNums.append((time - currentTime) - currentTime + 1)\n",
    "            break\n",
    "\n",
    "#Calculates the product of the number of winning strategies\n",
    "winningNumsProd = 1\n",
    "for i in winningNums:\n",
    "    winningNumsProd *= i\n",
    "    \n",
    "print(f\"Product of the winning strategies: {winningNumsProd}\")"
   ]
  },
  {
   "cell_type": "markdown",
   "id": "3fab4628",
   "metadata": {},
   "source": [
    "# --- Part Two ---"
   ]
  },
  {
   "cell_type": "code",
   "execution_count": 5,
   "id": "0ec19083",
   "metadata": {},
   "outputs": [
    {
     "name": "stdout",
     "output_type": "stream",
     "text": [
      "Number of winning strategies: 30077773\n"
     ]
    }
   ],
   "source": [
    "#Formatting\n",
    "boatTime = getBoatTimes().split(\"\\n\")\n",
    "boatTime = [x.split(\":\")[1] for x in boatTime]\n",
    "boatTime = [x.split() for x in boatTime]\n",
    "time, distance = [int(\"\".join([num for num in x])) for x in boatTime]\n",
    "\n",
    "#This will store the number of ways we can win\n",
    "winningNum = 0\n",
    "\n",
    "#Loop through every possible time until we find the lowest\n",
    "for currentTime in range(0, time):\n",
    "    #Checks to see if the calculated distance it would go is greater than best distance\n",
    "    if (time-currentTime)*currentTime > distance:\n",
    "        winningNum = (time - currentTime) - currentTime + 1\n",
    "        break\n",
    "        \n",
    "print(f\"Number of winning strategies: {winningNum}\")"
   ]
  }
 ],
 "metadata": {
  "kernelspec": {
   "display_name": "Python 3 (ipykernel)",
   "language": "python",
   "name": "python3"
  },
  "language_info": {
   "codemirror_mode": {
    "name": "ipython",
    "version": 3
   },
   "file_extension": ".py",
   "mimetype": "text/x-python",
   "name": "python",
   "nbconvert_exporter": "python",
   "pygments_lexer": "ipython3",
   "version": "3.12.7"
  }
 },
 "nbformat": 4,
 "nbformat_minor": 5
}
