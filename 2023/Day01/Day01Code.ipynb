{
 "cells": [
  {
   "cell_type": "markdown",
   "id": "7997ee11",
   "metadata": {},
   "source": [
    "# --- Day 1: Trebuchet?! ---\n",
    "https://adventofcode.com/2023/day/1"
   ]
  },
  {
   "cell_type": "code",
   "execution_count": 2,
   "id": "40533d5a",
   "metadata": {},
   "outputs": [],
   "source": [
    "def getCalibrationDocument():\n",
    "    with open(\"calibrationDocument.txt\") as file:\n",
    "        return file.read()"
   ]
  },
  {
   "cell_type": "code",
   "execution_count": 3,
   "id": "5b87c8c3",
   "metadata": {},
   "outputs": [
    {
     "name": "stdout",
     "output_type": "stream",
     "text": [
      "The sum of the calibration values is: 55834\n"
     ]
    }
   ],
   "source": [
    "#formatting\n",
    "calDoc = getCalibrationDocument().split(\"\\n\")\n",
    "\n",
    "#Store all calibration values\n",
    "calibrationValues = []\n",
    "\n",
    "#Loop through each string\n",
    "for i, val in enumerate(calDoc):\n",
    "    calibrationValues.append([]) #Add a new list to store the first and last numbers\n",
    "    \n",
    "    #Loop through each character forwards\n",
    "    for j in val:\n",
    "        if j.isdigit(): #If the character is a digit, append it and break!\n",
    "            calibrationValues[i].append(j)\n",
    "            break\n",
    "            \n",
    "    #Loop through each character reversed\n",
    "    for j in reversed(val):\n",
    "        if j.isdigit(): #If the character is a digit, append it and break!\n",
    "            calibrationValues[i].append(j)\n",
    "            break\n",
    "\n",
    "#Transform list of digits (['2', '9']) to list of integers (29)\n",
    "calibrationValues = [int(''.join(x)) for x in calibrationValues]\n",
    "\n",
    "#Get the sum of the list\n",
    "calibrationValueSum = sum(calibrationValues)\n",
    "\n",
    "print(f\"The sum of the calibration values is: {calibrationValueSum}\")"
   ]
  },
  {
   "cell_type": "markdown",
   "id": "4e700c30",
   "metadata": {},
   "source": [
    "## Part 1 Different Approach"
   ]
  },
  {
   "cell_type": "code",
   "execution_count": 5,
   "id": "77927f4f",
   "metadata": {},
   "outputs": [
    {
     "name": "stdout",
     "output_type": "stream",
     "text": [
      "The sum of the calibration values is: 55834\n"
     ]
    }
   ],
   "source": [
    "#formatting\n",
    "calDoc = getCalibrationDocument().split(\"\\n\")\n",
    "\n",
    "#Store all calibration values\n",
    "calibrationValues = []\n",
    "\n",
    "for i in range(len(calDoc)):\n",
    "    \n",
    "    firstNum = None\n",
    "    findex = 0 #beginning index\n",
    "    \n",
    "    secondNum = None\n",
    "    lindex = len(calDoc[i])-1 #End index\n",
    "    \n",
    "    #Runs until the first and second number both have assignments\n",
    "    while((not firstNum) or (not secondNum)):\n",
    "        \n",
    "        if (not firstNum): #As long as firstNum == None\n",
    "            if (calDoc[i][findex].isdigit()): #If that index is a digit, assign it to firstNum\n",
    "                firstNum = calDoc[i][findex]\n",
    "            else: #Otherwise increment the index\n",
    "                findex += 1\n",
    "                \n",
    "        if (not secondNum): #As long as secondNum == None\n",
    "            if (calDoc[i][lindex].isdigit()):\n",
    "                secondNum = calDoc[i][lindex]\n",
    "            else:\n",
    "                lindex -= 1\n",
    "                \n",
    "    #Add the numbers combined to the calibrationValues\n",
    "    calibrationValues.append(int(f\"{firstNum}{secondNum}\"))\n",
    "\n",
    "#Get the sum of the list\n",
    "calibrationValueSum = sum(calibrationValues)\n",
    "\n",
    "print(f\"The sum of the calibration values is: {calibrationValueSum}\")"
   ]
  },
  {
   "cell_type": "markdown",
   "id": "ceaa7bde",
   "metadata": {},
   "source": [
    "## Part 1 Another Different Approach (not mine)"
   ]
  },
  {
   "cell_type": "code",
   "execution_count": 7,
   "id": "9ceb55de",
   "metadata": {},
   "outputs": [
    {
     "name": "stdout",
     "output_type": "stream",
     "text": [
      "The sum of the calibration values is: 55834\n"
     ]
    }
   ],
   "source": [
    "#formatting\n",
    "calDoc = getCalibrationDocument().split(\"\\n\")\n",
    "\n",
    "#Stores all calibrationValues\n",
    "calibrationValues = []\n",
    "\n",
    "#Loop through all lines\n",
    "for i in range(len(calDoc)):\n",
    "    \n",
    "    #List that stores all digits that appear in the line\n",
    "    allDigits = []\n",
    "    for j in calDoc[i]:\n",
    "        if j.isdigit():\n",
    "            allDigits.append(j)\n",
    "    \n",
    "    #Add the first and last appearing digit\n",
    "    calibrationValues.append(int(f\"{allDigits[0]}{allDigits[-1]}\"))\n",
    "    \n",
    "#Get the sum of the list\n",
    "calibrationValueSum = sum(calibrationValues)\n",
    "\n",
    "print(f\"The sum of the calibration values is: {calibrationValueSum}\")"
   ]
  },
  {
   "cell_type": "markdown",
   "id": "3b383bef",
   "metadata": {},
   "source": [
    "# --- Part Two ---"
   ]
  },
  {
   "cell_type": "code",
   "execution_count": 9,
   "id": "3cad2117",
   "metadata": {},
   "outputs": [
    {
     "name": "stdout",
     "output_type": "stream",
     "text": [
      "The CORRECT sum of the calibration values is: 53221\n"
     ]
    }
   ],
   "source": [
    "#formatting\n",
    "calDoc = getCalibrationDocument().split(\"\\n\")\n",
    "\n",
    "#Store all calibration values\n",
    "calibrationValues = []\n",
    "\n",
    "#Loop through each string\n",
    "for i, val in enumerate(calDoc):\n",
    "    calibrationValues.append([]) #Add a new list to store the first and last numbers\n",
    "    \n",
    "    #Loop through each character forwards\n",
    "    for j in range(len(val)):\n",
    "        if val[j].isdigit(): #If the character is a digit, append it and break!\n",
    "            calibrationValues[i].append(val[j])\n",
    "            break\n",
    "        #If a subset of the string (of correct length) is equal to the string, append the digit as a string\n",
    "        elif val[j:j+3] == \"one\":\n",
    "            calibrationValues[i].append('1')\n",
    "            break\n",
    "        elif val[j:j+3] == \"two\":\n",
    "            calibrationValues[i].append('2')\n",
    "            break\n",
    "        elif val[j:j+5] == \"three\":\n",
    "            calibrationValues[i].append('3')\n",
    "            break\n",
    "        elif val[j:j+4] == \"four\":\n",
    "            calibrationValues[i].append('4')\n",
    "            break\n",
    "        elif val[j:j+4] == \"five\":\n",
    "            calibrationValues[i].append('5')\n",
    "            break\n",
    "        elif val[j:j+3] == \"six\":\n",
    "            calibrationValues[i].append('6')\n",
    "            break\n",
    "        elif val[j:j+5] == \"seven\":\n",
    "            calibrationValues[i].append('7')\n",
    "            break\n",
    "        elif val[j:j+5] == \"eight\":\n",
    "            calibrationValues[i].append('8')\n",
    "            break\n",
    "        elif val[j:j+4] == \"nine\":\n",
    "            calibrationValues[i].append('9')\n",
    "            break\n",
    "            \n",
    "    reversedVal = val[::-1]\n",
    "    #Loop through each character reversed\n",
    "    for j in range(len(reversedVal)):\n",
    "        if reversedVal[j].isdigit(): #If the character is a digit, append it and break!\n",
    "            calibrationValues[i].append(reversedVal[j])\n",
    "            break\n",
    "        #If a subset of reversedVal (of correct length) is equal to the reversed string, append the digit as a string\n",
    "        elif reversedVal[j:j+3] == \"eno\":\n",
    "            calibrationValues[i].append('1')\n",
    "            break\n",
    "        elif reversedVal[j:j+3] == \"owt\":\n",
    "            calibrationValues[i].append('2')\n",
    "            break\n",
    "        elif reversedVal[j:j+5] == \"eerht\":\n",
    "            calibrationValues[i].append('3')\n",
    "            break\n",
    "        elif reversedVal[j:j+4] == \"ruof\":\n",
    "            calibrationValues[i].append('4')\n",
    "            break\n",
    "        elif reversedVal[j:j+4] == \"evif\":\n",
    "            calibrationValues[i].append('5')\n",
    "            break\n",
    "        elif reversedVal[j:j+3] == \"xis\":\n",
    "            calibrationValues[i].append('6')\n",
    "            break\n",
    "        elif reversedVal[j:j+5] == \"neves\":\n",
    "            calibrationValues[i].append('7')\n",
    "            break\n",
    "        elif reversedVal[j:j+5] == \"thgie\":\n",
    "            calibrationValues[i].append('8')\n",
    "            break\n",
    "        elif reversedVal[j:j+4] == \"enin\":\n",
    "            calibrationValues[i].append('9')\n",
    "            break\n",
    "\n",
    "#Transform list of digits (['2', '9']) to list of integers (29)\n",
    "calibrationValues = [int(''.join(x)) for x in calibrationValues]\n",
    "\n",
    "#Get the sum of the list\n",
    "calibrationValueSum = sum(calibrationValues)\n",
    "\n",
    "print(f\"The CORRECT sum of the calibration values is: {calibrationValueSum}\")"
   ]
  },
  {
   "cell_type": "markdown",
   "id": "9033cf01",
   "metadata": {},
   "source": [
    "## Part 2 Different Approach (not mine)"
   ]
  },
  {
   "cell_type": "code",
   "execution_count": 11,
   "id": "2945504b",
   "metadata": {},
   "outputs": [
    {
     "name": "stdout",
     "output_type": "stream",
     "text": [
      "The sum of the calibration values is: 53221\n"
     ]
    }
   ],
   "source": [
    "#formatting\n",
    "calDoc = getCalibrationDocument().split(\"\\n\")\n",
    "\n",
    "#Stores all calibrationValues\n",
    "calibrationValues = []\n",
    "\n",
    "#Loop through all lines\n",
    "for i in range(len(calDoc)):\n",
    "    \n",
    "    #List that stores all digits that appear in the line\n",
    "    allDigits = []\n",
    "    \n",
    "    #Loop through each character index\n",
    "    for j in range(len(calDoc[i])):\n",
    "        \n",
    "        #If the character is a digit, add it to the allDigits list\n",
    "        if calDoc[i][j].isdigit():\n",
    "            allDigits.append(calDoc[i][j])\n",
    "            \n",
    "        #Loop through each digit(string)\n",
    "        for k, num in enumerate([\"one\", \"two\", \"three\", \"four\", \"five\", \"six\", \"seven\", \"eight\", \"nine\"]):\n",
    "            #If the line parsed starting at our j pointer starts with the number, add it as a digit\n",
    "            if calDoc[i][j:].startswith(num):\n",
    "                allDigits.append(k+1)\n",
    "    \n",
    "    #Add the first and last appearing digit\n",
    "    calibrationValues.append(int(f\"{allDigits[0]}{allDigits[-1]}\"))\n",
    "    \n",
    "#Get the sum of the list\n",
    "calibrationValueSum = sum(calibrationValues)\n",
    "\n",
    "print(f\"The sum of the calibration values is: {calibrationValueSum}\")"
   ]
  }
 ],
 "metadata": {
  "kernelspec": {
   "display_name": "Python 3 (ipykernel)",
   "language": "python",
   "name": "python3"
  },
  "language_info": {
   "codemirror_mode": {
    "name": "ipython",
    "version": 3
   },
   "file_extension": ".py",
   "mimetype": "text/x-python",
   "name": "python",
   "nbconvert_exporter": "python",
   "pygments_lexer": "ipython3",
   "version": "3.12.7"
  }
 },
 "nbformat": 4,
 "nbformat_minor": 5
}
