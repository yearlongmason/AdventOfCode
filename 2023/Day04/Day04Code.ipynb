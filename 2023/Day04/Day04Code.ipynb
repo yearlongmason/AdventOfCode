{
 "cells": [
  {
   "cell_type": "markdown",
   "id": "67e1a144",
   "metadata": {},
   "source": [
    "# --- Day 4: Scratchcards ---\n",
    "https://adventofcode.com/2023/day/4"
   ]
  },
  {
   "cell_type": "code",
   "execution_count": 2,
   "id": "5f9e1f25",
   "metadata": {},
   "outputs": [],
   "source": [
    "def getCards():\n",
    "    with open(\"cards.txt\") as file:\n",
    "        return file.read()"
   ]
  },
  {
   "cell_type": "code",
   "execution_count": 3,
   "id": "05cd6e31",
   "metadata": {},
   "outputs": [
    {
     "name": "stdout",
     "output_type": "stream",
     "text": [
      "Total card points: 23847\n"
     ]
    }
   ],
   "source": [
    "#Formatting\n",
    "cards = getCards().split(\"\\n\")\n",
    "\n",
    "winningNums = [x.split(\": \")[1] for x in cards] #Trim off game number\n",
    "winningNums = [x.split(\" | \")[0] for x in winningNums] #Trims off actual numbers\n",
    "winningNums = [x.split(\" \") for x in winningNums] #Separate numbers\n",
    "winningNums = [[int(num) for num in x if num != ''] for x in winningNums] #Remove white spaces and converts to int\n",
    "\n",
    "givenNums = [x.split(\" | \")[1] for x in cards] #Separating the rest of the text from the given numbers (your numbers)\n",
    "givenNums = [x.split(\" \") for x in givenNums] #Separating the numbers by space\n",
    "givenNums = [[int(num) for num in x if num != ''] for x in givenNums] #Remove white spaces and converts to int\n",
    "\n",
    "#Keeps track of card scores\n",
    "cardScores = []\n",
    "\n",
    "#loop through each card\n",
    "for i in range(len(cards)):\n",
    "    #Get the intersection (overlapping numbers) of the winning numbers and the given numbers\n",
    "    numsIntersection = [x for x in givenNums[i] if x in winningNums[i]]\n",
    "    \n",
    "    #If there are overlapping numbers, append 2^(number of overlapping numbers-1), otherwise append 0\n",
    "    if len(numsIntersection):\n",
    "        cardScores.append(2**(len(numsIntersection)-1))\n",
    "    else:\n",
    "        cardScores.append(0)\n",
    "\n",
    "print(f\"Total card points: {sum(cardScores)}\")"
   ]
  },
  {
   "cell_type": "markdown",
   "id": "7e0f40d8",
   "metadata": {},
   "source": [
    "# --- Part Two ---"
   ]
  },
  {
   "cell_type": "code",
   "execution_count": 5,
   "id": "ec2a58e8",
   "metadata": {},
   "outputs": [
    {
     "name": "stdout",
     "output_type": "stream",
     "text": [
      "Total number of scratchcards: 8570000\n"
     ]
    }
   ],
   "source": [
    "import numpy as np\n",
    "\n",
    "#Formatting\n",
    "cards = getCards().split(\"\\n\")\n",
    "\n",
    "winningNums = [x.split(\": \")[1] for x in cards] #Trim off game number\n",
    "winningNums = [x.split(\" | \")[0] for x in winningNums] #Trims off actual numbers\n",
    "winningNums = [x.split(\" \") for x in winningNums] #Separate numbers\n",
    "winningNums = [[int(num) for num in x if num != ''] for x in winningNums] #Remove white spaces and converts to int\n",
    "\n",
    "givenNums = [x.split(\" | \")[1] for x in cards] #Separating the rest of the text from the given numbers (your numbers)\n",
    "givenNums = [x.split(\" \") for x in givenNums] #Separating the numbers by space\n",
    "givenNums = [[int(num) for num in x if num != ''] for x in givenNums] #Remove white spaces and converts to int\n",
    "\n",
    "#Keeps track of card copies (Each card starts with 1 (the original))\n",
    "copies = dict(zip(range(len(cards)), np.ones(len(cards), dtype=\"int32\")))\n",
    "#np.ones(len(cards), dtype=\"int32\") can also be replaced with [1 for x in range(len(cards))]\n",
    "\n",
    "#loop through each card\n",
    "for i in range(len(cards)):\n",
    "    #Get the intersection (overlapping numbers) of the winning numbers and the given numbers\n",
    "    numsIntersection = len([x for x in givenNums[i] if x in winningNums[i]])\n",
    "    \n",
    "    #Loop through the next cards to be copied after the current card\n",
    "    for j in range(i+1, numsIntersection+i+1):\n",
    "        copies[j]+=copies[i] #Add the number of current cards to the copies of the next card\n",
    "        \n",
    "print(f\"Total number of scratchcards: {sum(copies.values())}\")"
   ]
  }
 ],
 "metadata": {
  "kernelspec": {
   "display_name": "Python 3 (ipykernel)",
   "language": "python",
   "name": "python3"
  },
  "language_info": {
   "codemirror_mode": {
    "name": "ipython",
    "version": 3
   },
   "file_extension": ".py",
   "mimetype": "text/x-python",
   "name": "python",
   "nbconvert_exporter": "python",
   "pygments_lexer": "ipython3",
   "version": "3.12.7"
  }
 },
 "nbformat": 4,
 "nbformat_minor": 5
}
