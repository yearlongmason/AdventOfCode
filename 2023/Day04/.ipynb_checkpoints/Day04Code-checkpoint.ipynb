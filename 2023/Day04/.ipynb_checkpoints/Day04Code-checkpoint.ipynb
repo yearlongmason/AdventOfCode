{
 "cells": [
  {
   "cell_type": "markdown",
   "id": "67e1a144",
   "metadata": {},
   "source": [
    "# --- Day 4: Scratchcards ---\n",
    "The gondola takes you up. Strangely, though, the ground doesn't seem to be coming with you; you're not climbing a mountain. As the circle of Snow Island recedes below you, an entire new landmass suddenly appears above you! The gondola carries you to the surface of the new island and lurches into the station.\n",
    "\n",
    "As you exit the gondola, the first thing you notice is that the air here is much warmer than it was on Snow Island. It's also quite humid. Is this where the water source is?\n",
    "\n",
    "The next thing you notice is an Elf sitting on the floor across the station in what seems to be a pile of colorful square cards.\n",
    "\n",
    "\"Oh! Hello!\" The Elf excitedly runs over to you. \"How may I be of service?\" You ask about water sources.\n",
    "\n",
    "\"I'm not sure; I just operate the gondola lift. That does sound like something we'd have, though - this is Island Island, after all! I bet the gardener would know. He's on a different island, though - er, the small kind surrounded by water, not the floating kind. We really need to come up with a better naming scheme. Tell you what: if you can help me with something quick, I'll let you borrow my boat and you can go visit the gardener. I got all these scratchcards as a gift, but I can't figure out what I've won.\"\n",
    "\n",
    "The Elf leads you over to the pile of colorful cards. There, you discover dozens of scratchcards, all with their opaque covering already scratched off. Picking one up, it looks like each card has two lists of numbers separated by a vertical bar (|): a list of winning numbers and then a list of numbers you have. You organize the information into a table (your puzzle input).\n",
    "\n",
    "As far as the Elf has been able to figure out, you have to figure out which of the numbers you have appear in the list of winning numbers. The first match makes the card worth one point and each match after the first doubles the point value of that card.\n",
    "\n",
    "For example:\n",
    "\n",
    "`Card 1: 41 48 83 86 17 | 83 86  6 31 17  9 48 53`\n",
    "\n",
    "`Card 2: 13 32 20 16 61 | 61 30 68 82 17 32 24 19`\n",
    "\n",
    "`Card 3:  1 21 53 59 44 | 69 82 63 72 16 21 14  1`\n",
    "\n",
    "`Card 4: 41 92 73 84 69 | 59 84 76 51 58  5 54 83`\n",
    "\n",
    "`Card 5: 87 83 26 28 32 | 88 30 70 12 93 22 82 36`\n",
    "\n",
    "`Card 6: 31 18 13 56 72 | 74 77 10 23 35 67 36 11`\n",
    "\n",
    "In the above example, card 1 has five winning numbers (41, 48, 83, 86, and 17) and eight numbers you have (83, 86, 6, 31, 17, 9, 48, and 53). Of the numbers you have, four of them (48, 83, 17, and 86) are winning numbers! That means card 1 is worth 8 points (1 for the first match, then doubled three times for each of the three matches after the first).\n",
    "\n",
    "- Card 2 has two winning numbers (32 and 61), so it is worth 2 points.\n",
    "\n",
    "- Card 3 has two winning numbers (1 and 21), so it is worth 2 points.\n",
    "\n",
    "- Card 4 has one winning number (84), so it is worth 1 point.\n",
    "\n",
    "- Card 5 has no winning numbers, so it is worth no points.\n",
    "\n",
    "- Card 6 has no winning numbers, so it is worth no points.\n",
    "\n",
    "So, in this example, the Elf's pile of scratchcards is worth 13 points.\n",
    "\n",
    "Take a seat in the large pile of colorful cards. How many points are they worth in total?"
   ]
  },
  {
   "cell_type": "code",
   "execution_count": 2,
   "id": "5f9e1f25",
   "metadata": {},
   "outputs": [],
   "source": [
    "def getCards():\n",
    "    with open(\"cards.txt\") as file:\n",
    "        return file.read()"
   ]
  },
  {
   "cell_type": "code",
   "execution_count": 3,
   "id": "05cd6e31",
   "metadata": {},
   "outputs": [
    {
     "name": "stdout",
     "output_type": "stream",
     "text": [
      "Total card points: 23847\n"
     ]
    }
   ],
   "source": [
    "#Formatting\n",
    "cards = getCards().split(\"\\n\")\n",
    "\n",
    "winningNums = [x.split(\": \")[1] for x in cards] #Trim off game number\n",
    "winningNums = [x.split(\" | \")[0] for x in winningNums] #Trims off actual numbers\n",
    "winningNums = [x.split(\" \") for x in winningNums] #Separate numbers\n",
    "winningNums = [[int(num) for num in x if num != ''] for x in winningNums] #Remove white spaces and converts to int\n",
    "\n",
    "givenNums = [x.split(\" | \")[1] for x in cards] #Separating the rest of the text from the given numbers (your numbers)\n",
    "givenNums = [x.split(\" \") for x in givenNums] #Separating the numbers by space\n",
    "givenNums = [[int(num) for num in x if num != ''] for x in givenNums] #Remove white spaces and converts to int\n",
    "\n",
    "#Keeps track of card scores\n",
    "cardScores = []\n",
    "\n",
    "#loop through each card\n",
    "for i in range(len(cards)):\n",
    "    #Get the intersection (overlapping numbers) of the winning numbers and the given numbers\n",
    "    numsIntersection = [x for x in givenNums[i] if x in winningNums[i]]\n",
    "    \n",
    "    #If there are overlapping numbers, append 2^(number of overlapping numbers-1), otherwise append 0\n",
    "    if len(numsIntersection):\n",
    "        cardScores.append(2**(len(numsIntersection)-1))\n",
    "    else:\n",
    "        cardScores.append(0)\n",
    "\n",
    "print(f\"Total card points: {sum(cardScores)}\")"
   ]
  },
  {
   "cell_type": "markdown",
   "id": "7e0f40d8",
   "metadata": {},
   "source": [
    "# --- Part Two ---\n",
    "Just as you're about to report your findings to the Elf, one of you realizes that the rules have actually been printed on the back of every card this whole time.\n",
    "\n",
    "There's no such thing as \"points\". Instead, scratchcards only cause you to win more scratchcards equal to the number of winning numbers you have.\n",
    "\n",
    "Specifically, you win copies of the scratchcards below the winning card equal to the number of matches. So, if card 10 were to have 5 matching numbers, you would win one copy each of cards 11, 12, 13, 14, and 15.\n",
    "\n",
    "Copies of scratchcards are scored like normal scratchcards and have the same card number as the card they copied. So, if you win a copy of card 10 and it has 5 matching numbers, it would then win a copy of the same cards that the original card 10 won: cards 11, 12, 13, 14, and 15. This process repeats until none of the copies cause you to win any more cards. (Cards will never make you copy a card past the end of the table.)\n",
    "\n",
    "This time, the above example goes differently:\n",
    "\n",
    "`Card 1: 41 48 83 86 17 | 83 86  6 31 17  9 48 53`\n",
    "\n",
    "`Card 2: 13 32 20 16 61 | 61 30 68 82 17 32 24 19`\n",
    "\n",
    "`Card 3:  1 21 53 59 44 | 69 82 63 72 16 21 14  1`\n",
    "\n",
    "`Card 4: 41 92 73 84 69 | 59 84 76 51 58  5 54 83`\n",
    "\n",
    "`Card 5: 87 83 26 28 32 | 88 30 70 12 93 22 82 36`\n",
    "\n",
    "`Card 6: 31 18 13 56 72 | 74 77 10 23 35 67 36 11`\n",
    "\n",
    "- Card 1 has four matching numbers, so you win one copy each of the next four cards: cards 2, 3, 4, and 5.\n",
    "- Your original card 2 has two matching numbers, so you win one copy each of cards 3 and 4.\n",
    "- Your copy of card 2 also wins one copy each of cards 3 and 4.\n",
    "- Your four instances of card 3 (one original and three copies) have two matching numbers, so you win four copies each of cards 4 and 5.\n",
    "- Your eight instances of card 4 (one original and seven copies) have one matching number, so you win eight copies of card 5.\n",
    "- Your fourteen instances of card 5 (one original and thirteen copies) have no matching numbers and win no more cards.\n",
    "- Your one instance of card 6 (one original) has no matching numbers and wins no more cards.\n",
    "\n",
    "Once all of the originals and copies have been processed, you end up with 1 instance of card 1, 2 instances of card 2, 4 instances of card 3, 8 instances of card 4, 14 instances of card 5, and 1 instance of card 6. In total, this example pile of scratchcards causes you to ultimately have 30 scratchcards!\n",
    "\n",
    "Process all of the original and copied scratchcards until no more scratchcards are won. Including the original set of scratchcards, how many total scratchcards do you end up with?"
   ]
  },
  {
   "cell_type": "code",
   "execution_count": 5,
   "id": "ec2a58e8",
   "metadata": {},
   "outputs": [
    {
     "name": "stdout",
     "output_type": "stream",
     "text": [
      "Total number of scratchcards: 8570000\n"
     ]
    }
   ],
   "source": [
    "import numpy as np\n",
    "\n",
    "#Formatting\n",
    "cards = getCards().split(\"\\n\")\n",
    "\n",
    "winningNums = [x.split(\": \")[1] for x in cards] #Trim off game number\n",
    "winningNums = [x.split(\" | \")[0] for x in winningNums] #Trims off actual numbers\n",
    "winningNums = [x.split(\" \") for x in winningNums] #Separate numbers\n",
    "winningNums = [[int(num) for num in x if num != ''] for x in winningNums] #Remove white spaces and converts to int\n",
    "\n",
    "givenNums = [x.split(\" | \")[1] for x in cards] #Separating the rest of the text from the given numbers (your numbers)\n",
    "givenNums = [x.split(\" \") for x in givenNums] #Separating the numbers by space\n",
    "givenNums = [[int(num) for num in x if num != ''] for x in givenNums] #Remove white spaces and converts to int\n",
    "\n",
    "#Keeps track of card copies (Each card starts with 1 (the original))\n",
    "copies = dict(zip(range(len(cards)), np.ones(len(cards), dtype=\"int32\")))\n",
    "#np.ones(len(cards), dtype=\"int32\") can also be replaced with [1 for x in range(len(cards))]\n",
    "\n",
    "#loop through each card\n",
    "for i in range(len(cards)):\n",
    "    #Get the intersection (overlapping numbers) of the winning numbers and the given numbers\n",
    "    numsIntersection = len([x for x in givenNums[i] if x in winningNums[i]])\n",
    "    \n",
    "    #Loop through the next cards to be copied after the current card\n",
    "    for j in range(i+1, numsIntersection+i+1):\n",
    "        copies[j]+=copies[i] #Add the number of current cards to the copies of the next card\n",
    "        \n",
    "print(f\"Total number of scratchcards: {sum(copies.values())}\")"
   ]
  }
 ],
 "metadata": {
  "kernelspec": {
   "display_name": "Python 3 (ipykernel)",
   "language": "python",
   "name": "python3"
  },
  "language_info": {
   "codemirror_mode": {
    "name": "ipython",
    "version": 3
   },
   "file_extension": ".py",
   "mimetype": "text/x-python",
   "name": "python",
   "nbconvert_exporter": "python",
   "pygments_lexer": "ipython3",
   "version": "3.12.4"
  }
 },
 "nbformat": 4,
 "nbformat_minor": 5
}
