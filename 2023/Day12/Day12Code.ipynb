{
 "cells": [
  {
   "cell_type": "markdown",
   "id": "30b8870d",
   "metadata": {},
   "source": [
    "# --- Day 12: Hot Springs ---\n",
    "https://adventofcode.com/2023/day/12"
   ]
  },
  {
   "cell_type": "code",
   "execution_count": 2,
   "id": "49a25295",
   "metadata": {},
   "outputs": [],
   "source": [
    "def getHotSprings():\n",
    "    with open(\"hotSprings.txt\") as file:\n",
    "        return file.read()"
   ]
  },
  {
   "cell_type": "code",
   "execution_count": 3,
   "id": "e9da0ef3",
   "metadata": {},
   "outputs": [],
   "source": [
    "#Formatting\n",
    "hotSprings = getHotSprings()\n",
    "hotSprings = hotSprings.split(\"\\n\")\n",
    "hotSprings = [x.split() for x in hotSprings]\n",
    "springsMap = [x[0] for x in hotSprings]\n",
    "springsGroup = [x[1].split(\",\") for x in hotSprings]\n",
    "springsGroup = [[int(num) for num in group] for group in springsGroup]\n",
    "\n",
    "# To be implemented!"
   ]
  }
 ],
 "metadata": {
  "kernelspec": {
   "display_name": "Python 3 (ipykernel)",
   "language": "python",
   "name": "python3"
  },
  "language_info": {
   "codemirror_mode": {
    "name": "ipython",
    "version": 3
   },
   "file_extension": ".py",
   "mimetype": "text/x-python",
   "name": "python",
   "nbconvert_exporter": "python",
   "pygments_lexer": "ipython3",
   "version": "3.12.7"
  }
 },
 "nbformat": 4,
 "nbformat_minor": 5
}
