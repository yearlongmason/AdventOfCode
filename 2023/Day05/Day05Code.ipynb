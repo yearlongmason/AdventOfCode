{
 "cells": [
  {
   "cell_type": "markdown",
   "id": "b5112cf2",
   "metadata": {},
   "source": [
    "# --- Day 5: If You Give A Seed A Fertilizer ---\n",
    "https://adventofcode.com/2023/day/5"
   ]
  },
  {
   "cell_type": "code",
   "execution_count": 1,
   "id": "4de55f94",
   "metadata": {},
   "outputs": [],
   "source": [
    "def getAlmanac():\n",
    "    with open(\"almanac.txt\") as file:\n",
    "        return file.read()"
   ]
  },
  {
   "cell_type": "code",
   "execution_count": 3,
   "id": "a5f621db",
   "metadata": {},
   "outputs": [
    {
     "name": "stdout",
     "output_type": "stream",
     "text": [
      "Lowest location number: 227653707\n"
     ]
    }
   ],
   "source": [
    "#Formatting\n",
    "almanac = getAlmanac().split(\"\\n\\n\")\n",
    "\n",
    "#Gets and formats seeds\n",
    "seeds = almanac[0]\n",
    "seeds = seeds.split(\": \")[1]\n",
    "seeds = [int(x) for x in seeds.split(\" \")]\n",
    "\n",
    "#Formats all of the almanac maps\n",
    "almanac = [x.split(\"\\n\")[1:] for x in almanac[1:]]\n",
    "almanac = [[[int(num) for num in row.split(\" \")] for row in almanacMap] for almanacMap in almanac]\n",
    "\n",
    "#Keeps track of all final locations\n",
    "locations = []\n",
    "\n",
    "for seed in seeds:\n",
    "    currentVal = seed\n",
    "    for almanacMap in almanac:\n",
    "        for row in almanacMap:\n",
    "            \n",
    "            #If the current value is between the source range and the source range + range length\n",
    "            if currentVal >= row[1] and currentVal < row[1]+row[2]:\n",
    "                #Calculate the number of places it's being shifted, and shift it!\n",
    "                shift = row[0] - row[1]\n",
    "                currentVal += shift\n",
    "                break\n",
    "                \n",
    "    #After looping through all the almanac maps, add the location to the list\n",
    "    locations.append(currentVal)\n",
    "\n",
    "print(f\"Lowest location number: {min(locations)}\")"
   ]
  },
  {
   "cell_type": "markdown",
   "id": "4908c3f5",
   "metadata": {},
   "source": [
    "# --- Part Two ---"
   ]
  },
  {
   "cell_type": "markdown",
   "id": "e50ccbbe",
   "metadata": {},
   "source": [
    "## Optimized Version (Going backwards!)\n",
    "Rather than going through each seed and checking the location at the end of the almanac, this goes through every number starting at 0 until it finds a number that is a seed!\n",
    "\n",
    "Runtime: about 25 minutes"
   ]
  },
  {
   "cell_type": "code",
   "execution_count": 70,
   "id": "2c2ce1aa",
   "metadata": {},
   "outputs": [
    {
     "name": "stdout",
     "output_type": "stream",
     "text": [
      "Lowest location number: 78775051\n"
     ]
    }
   ],
   "source": [
    "#Formatting\n",
    "almanac = getAlmanac().split(\"\\n\\n\")\n",
    "\n",
    "#Gets and formats seeds\n",
    "seeds = almanac[0]\n",
    "seeds = seeds.split(\": \")[1]\n",
    "seeds = [int(x) for x in seeds.split(\" \")]\n",
    "\n",
    "#Formats all of the almanac maps\n",
    "almanac = [x.split(\"\\n\")[1:] for x in almanac[1:]]\n",
    "almanac = [[[int(num) for num in row.split(\" \")] for row in almanacMap] for almanacMap in almanac]\n",
    "\n",
    "#Keeps track of location being looped through\n",
    "location = 0\n",
    "seedFound = False\n",
    "\n",
    "#Loop through until break condition at the end is met\n",
    "while True:\n",
    "    currentVal = location\n",
    "    #Going backwards through the almanac maps!\n",
    "    for almanacMap in reversed(almanac):\n",
    "        for row in almanacMap:\n",
    "            \n",
    "            #If the current value is between the source range and the source range + range length\n",
    "            if currentVal >= row[0] and currentVal < row[0]+row[2]:\n",
    "                #Calculate the number of places it's being shifted, and shift it!\n",
    "                shift = row[1] - row[0]\n",
    "                currentVal += shift\n",
    "                break\n",
    "                \n",
    "    #Break condition is if the currentVal(which is now transformed from a location to a seed) is in the seed input\n",
    "    for i in range(0, len(seeds), 2):\n",
    "        #Check to see if the seed is between any of the ranges\n",
    "        if currentVal >= seeds[i] and currentVal < seeds[i]+seeds[i+1]:\n",
    "            seedFound = True\n",
    "            \n",
    "    #If a seed was found, break out of the loop\n",
    "    if seedFound:\n",
    "        break\n",
    "            \n",
    "    #Increment the location by 1\n",
    "    location+=1\n",
    "\n",
    "print(f\"Lowest location number: {location}\")"
   ]
  },
  {
   "cell_type": "markdown",
   "id": "c5cc3807-bbfc-40fb-9d70-e218453ad64a",
   "metadata": {},
   "source": [
    "## Original Solution\n",
    "Runtime: A really long time"
   ]
  },
  {
   "cell_type": "code",
   "execution_count": 20,
   "id": "16862e08",
   "metadata": {},
   "outputs": [
    {
     "name": "stdout",
     "output_type": "stream",
     "text": [
      "1: 17599561\n",
      "2: 200746426\n",
      "3: 43534336\n",
      "4: 56546377\n",
      "5: 378503603\n",
      "6: 130912435\n",
      "7: 137778160\n",
      "8: 188575752\n",
      "9: 1092214826\n",
      "10: 58874625\n",
      "Lowest location number: 78775051\n"
     ]
    }
   ],
   "source": [
    "#Formatting\n",
    "almanac = getAlmanac().split(\"\\n\\n\")\n",
    "\n",
    "#Gets and formats seed ranges\n",
    "seedRanges = almanac[0]\n",
    "seedRanges = seedRanges.split(\": \")[1]\n",
    "seedRanges = [int(x) for x in seedRanges.split(\" \")]\n",
    "    \n",
    "#Formats all of the almanac maps\n",
    "almanac = [x.split(\"\\n\")[1:] for x in almanac[1:]]\n",
    "almanac = [[[int(num) for num in row.split(\" \")] for row in almanacMap] for almanacMap in almanac]\n",
    "\n",
    "#Keeps track of the lowest location\n",
    "lowestLocation = None\n",
    "\n",
    "for i in range(0, len(seedRanges), 2): #Loop through every other seed\n",
    "    seeds = range(seedRanges[i], seedRanges[i]+seedRanges[i+1]) #seeds are the range of seeds as an iterator\n",
    "    print(f\"{(int(i/2)+1)}: {seedRanges[i+1]}\") #Keep tabs on where the program is\n",
    "    for seed in seeds:\n",
    "        currentVal = seed\n",
    "        for almanacMap in almanac:\n",
    "            for row in almanacMap:\n",
    "\n",
    "                #If the current value is between the source range and the source range + range length\n",
    "                if currentVal >= row[1] and currentVal < row[1]+row[2]:\n",
    "                    #Calculate the number of places it's being shifted, and shift it!\n",
    "                    shift = row[0] - row[1]\n",
    "                    currentVal += shift\n",
    "                    break\n",
    "\n",
    "        #After looping through all the almanac maps, check to see if the location is the lowest\n",
    "        if lowestLocation == None or lowestLocation > currentVal:\n",
    "            lowestLocation = currentVal\n",
    "\n",
    "print(f\"Lowest location number: {lowestLocation}\")"
   ]
  }
 ],
 "metadata": {
  "kernelspec": {
   "display_name": "Python 3 (ipykernel)",
   "language": "python",
   "name": "python3"
  },
  "language_info": {
   "codemirror_mode": {
    "name": "ipython",
    "version": 3
   },
   "file_extension": ".py",
   "mimetype": "text/x-python",
   "name": "python",
   "nbconvert_exporter": "python",
   "pygments_lexer": "ipython3",
   "version": "3.12.7"
  }
 },
 "nbformat": 4,
 "nbformat_minor": 5
}
