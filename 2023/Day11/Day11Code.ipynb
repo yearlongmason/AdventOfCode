{
 "cells": [
  {
   "cell_type": "markdown",
   "id": "8b096149",
   "metadata": {},
   "source": [
    "# --- Day 11: Cosmic Expansion ---\n",
    "https://adventofcode.com/2023/day/11"
   ]
  },
  {
   "cell_type": "code",
   "execution_count": 2,
   "id": "bf5f591d",
   "metadata": {},
   "outputs": [],
   "source": [
    "def getGalaxies():\n",
    "    with open(\"galaxies.txt\") as file:\n",
    "        return file.read()"
   ]
  },
  {
   "cell_type": "code",
   "execution_count": 3,
   "id": "c1bf5a47",
   "metadata": {},
   "outputs": [
    {
     "name": "stdout",
     "output_type": "stream",
     "text": [
      "Sum of shortest galaxy path lengths: 10276166\n"
     ]
    }
   ],
   "source": [
    "#Formatting\n",
    "galaxies = getGalaxies()\n",
    "galaxies = galaxies.split(\"\\n\")\n",
    "galaxies = [list(x) for x in galaxies]\n",
    "\n",
    "#Duplicate empty rows and columns\n",
    "#Rows\n",
    "#Create a temporary galaxies variable\n",
    "tempGalaxies = []\n",
    "#Go through each row in galaxies\n",
    "for row in galaxies:\n",
    "    #If there's only 1 unique character in the row, then add two of those rows to tempGalaxy\n",
    "    if len(set(row)) == 1:\n",
    "        tempGalaxies.extend([row, row])\n",
    "    #Otherwise, just add the row normally\n",
    "    else:\n",
    "        tempGalaxies.append(row)\n",
    "galaxies = tempGalaxies\n",
    "\n",
    "#Columns\n",
    "#Keep track of empty columns\n",
    "emptyColumns = []\n",
    "for col in range(len(galaxies[0])):\n",
    "    #If this loop makes it all the way through without finding a galaxy, add the column to the empty columns list\n",
    "    for row in range(len(galaxies)):\n",
    "        if galaxies[row][col] != \".\":\n",
    "            break\n",
    "    else:\n",
    "        emptyColumns.append(col)\n",
    "    \n",
    "#Create temporary galaxies list\n",
    "tempGalaxies = []\n",
    "#For each row add a new row to the temporary galaxies list\n",
    "for row in galaxies:\n",
    "    tempGalaxies.append([])\n",
    "    #Go through each column and character in the row\n",
    "    for col, char in enumerate(row):\n",
    "        #If the column is an empty column, add 2 empty spaces, otherwise, just add the character\n",
    "        if col in emptyColumns:\n",
    "            tempGalaxies[-1].extend(['.', '.'])\n",
    "        else:\n",
    "            tempGalaxies[-1].append(char)\n",
    "galaxies = tempGalaxies\n",
    "\n",
    "\n",
    "#Keep track of galaxy coordinates\n",
    "galaxyNum = 0\n",
    "galaxyCoordinates = dict()\n",
    "for rowIndex, row in enumerate(galaxies):\n",
    "    for charIndex, char in enumerate(row):\n",
    "        if char == \"#\":\n",
    "            galaxyCoordinates[galaxyNum] = [rowIndex, charIndex]\n",
    "            galaxyNum += 1\n",
    "            \n",
    "#Keep track of galaxy path lengths\n",
    "galaxyPathLengths = []\n",
    "#Loop through each pair of galaxies\n",
    "for galaxy1 in galaxyCoordinates.keys():\n",
    "    for galaxy2 in list(galaxyCoordinates.keys())[galaxy1+1:]:\n",
    "        #Calculate the shortest path abs(galaxy1 x - galaxy2 x) + abs(galaxy1 y - galaxy2 y)\n",
    "        rowDifference = abs(galaxyCoordinates[galaxy1][0] - galaxyCoordinates[galaxy2][0])\n",
    "        columnDifference = abs(galaxyCoordinates[galaxy1][1] - galaxyCoordinates[galaxy2][1])\n",
    "        galaxyPathLengths.append(rowDifference + columnDifference)\n",
    "        \n",
    "print(f\"Sum of shortest galaxy path lengths: {sum(galaxyPathLengths)}\")"
   ]
  },
  {
   "cell_type": "markdown",
   "id": "050dc298",
   "metadata": {},
   "source": [
    "# --- Part Two ---"
   ]
  },
  {
   "cell_type": "code",
   "execution_count": 5,
   "id": "a307b470",
   "metadata": {},
   "outputs": [
    {
     "name": "stdout",
     "output_type": "stream",
     "text": [
      "Sum of shortest galaxy path lengths: 598693078798\n"
     ]
    }
   ],
   "source": [
    "#Formatting\n",
    "galaxies = getGalaxies()\n",
    "galaxies = galaxies.split(\"\\n\")\n",
    "\n",
    "#Find rows and cols with just empty space\n",
    "#Rows\n",
    "emptyRows = []\n",
    "for i, row in enumerate(galaxies):\n",
    "    #If the unique characters in the row are just '.' then it is an empty row\n",
    "    if set(row) == set(['.']):\n",
    "        emptyRows.append(i)\n",
    "        \n",
    "#Columns\n",
    "emptyCols = []\n",
    "#Loop through each column\n",
    "for col in range(len(galaxies[0])):\n",
    "    #If it makes it through the entire column without breaking, then it is an empty column\n",
    "    for row in range(len(galaxies)):\n",
    "        if galaxies[row][col] == '#':\n",
    "            break\n",
    "    else:\n",
    "        emptyCols.append(col)\n",
    "\n",
    "#Get the actual coordinates for the galaxies:\n",
    "galaxyCoordinates = dict()\n",
    "galaxyNum = 0\n",
    "#Loop through each row and column in the galaxy map\n",
    "for rowIndex, row in enumerate(galaxies):\n",
    "    for colIndex, char in enumerate(row):\n",
    "        #If the current character is a galaxy, add it to the galaxyCoordinates dictionary\n",
    "        if char == \"#\":\n",
    "            #Calculate distance, given space expansion\n",
    "            rowExpansion = len([x for x in emptyRows if x < rowIndex]) * 999999\n",
    "            colExpansion = len([x for x in emptyCols if x < colIndex]) * 999999\n",
    "            galaxyCoordinates[galaxyNum] = [rowIndex + rowExpansion, colIndex + colExpansion]\n",
    "            galaxyNum += 1\n",
    "\n",
    "#Keep track of galaxy path lengths\n",
    "galaxyPathLengths = []\n",
    "#Loop through each unique combination of paths\n",
    "for i, galaxy1 in enumerate(galaxyCoordinates.keys()):\n",
    "    for galaxy2 in list(galaxyCoordinates.keys())[i+1:]:\n",
    "        #Calculate the length of the shortest path and append it to \n",
    "        rowDifference = abs(galaxyCoordinates[galaxy1][0] - galaxyCoordinates[galaxy2][0])\n",
    "        colDifference = abs(galaxyCoordinates[galaxy1][1] - galaxyCoordinates[galaxy2][1])\n",
    "        galaxyPathLengths.append(rowDifference + colDifference)\n",
    "\n",
    "print(f\"Sum of shortest galaxy path lengths: {sum(galaxyPathLengths)}\")"
   ]
  }
 ],
 "metadata": {
  "kernelspec": {
   "display_name": "Python 3 (ipykernel)",
   "language": "python",
   "name": "python3"
  },
  "language_info": {
   "codemirror_mode": {
    "name": "ipython",
    "version": 3
   },
   "file_extension": ".py",
   "mimetype": "text/x-python",
   "name": "python",
   "nbconvert_exporter": "python",
   "pygments_lexer": "ipython3",
   "version": "3.12.7"
  }
 },
 "nbformat": 4,
 "nbformat_minor": 5
}
