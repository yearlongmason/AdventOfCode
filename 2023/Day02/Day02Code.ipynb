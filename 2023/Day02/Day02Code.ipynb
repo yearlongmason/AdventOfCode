{
 "cells": [
  {
   "cell_type": "markdown",
   "id": "d8236039",
   "metadata": {},
   "source": [
    "# --- Day 2: Cube Conundrum ---\n",
    "https://adventofcode.com/2023/day/2"
   ]
  },
  {
   "cell_type": "code",
   "execution_count": 2,
   "id": "89b86a8e",
   "metadata": {},
   "outputs": [],
   "source": [
    "def getGames():\n",
    "    with open(\"games.txt\") as file:\n",
    "        return file.read()"
   ]
  },
  {
   "cell_type": "code",
   "execution_count": 3,
   "id": "2532efd0",
   "metadata": {},
   "outputs": [
    {
     "name": "stdout",
     "output_type": "stream",
     "text": [
      "The sum of valid game id's is: 1867\n"
     ]
    }
   ],
   "source": [
    "#formatting\n",
    "games = getGames().split('\\n')\n",
    "\n",
    "#Games formatted\n",
    "#Get the game number (happens to be the same as list(range(1,101)))\n",
    "fGames = [[int(x[x.find(\" \")+1:x.find(\":\")])] for x in games]\n",
    "\n",
    "#Trim the \"Game 1: \" off the front of the string, and split by different bag reveals (\"; \")\n",
    "games = [x[x.find(\":\")+2:].split(\"; \") for x in games]\n",
    "\n",
    "#loop through all games\n",
    "for i in range(len(games)):\n",
    "    #Loop through each reveal per game\n",
    "    for j in games[i]:\n",
    "        #This reveal is an empty dictionary\n",
    "        reveal = dict()\n",
    "        for k in j.split(\", \"): #For each color:number pair, update the current reveal dictionary\n",
    "            reveal.update({k[k.find(\" \")+1:]: int(k[:k.find(\" \")])})        \n",
    "        #Add current reveal to current game in fGames\n",
    "        fGames[i].append(reveal)\n",
    "    \n",
    "#This takes care of any missing colors in a reveal (for instance {red:2} becomes {red:2, blue:0, green:0})\n",
    "#Loop through each game\n",
    "for game in range(len(fGames)):\n",
    "    #Loop through each reveal\n",
    "    for reveal in range(1, len(fGames[game])):\n",
    "        #Check for each color not being in the reveal, if it's not add it to the reveal with the default value of 0\n",
    "        if \"blue\" not in fGames[game][reveal]:\n",
    "            fGames[game][reveal].update({\"blue\":0})\n",
    "        if \"green\" not in fGames[game][reveal]:\n",
    "            fGames[game][reveal].update({\"green\":0})\n",
    "        if \"red\" not in fGames[game][reveal]:\n",
    "            fGames[game][reveal].update({\"red\":0})\n",
    "            \n",
    "\n",
    "#Keeps a list of all the valid games' id's\n",
    "validGames = []\n",
    "\n",
    "#Loop through each game\n",
    "for game in range(len(fGames)):\n",
    "    \n",
    "    validGame = True #Initially assumes it is a valid game\n",
    "    \n",
    "    #Loop through each reveal in the current game\n",
    "    for reveal in range(1, len(fGames[game])):\n",
    "        #If the reveal fails a condition (red > 12, green > 13, blue > 14) validGame = false\n",
    "        if fGames[game][reveal]['red'] > 12 or fGames[game][reveal]['green'] > 13 or fGames[game][reveal]['blue'] > 14:\n",
    "            validGame = False\n",
    "            break\n",
    "            \n",
    "    #If game is valid, add the id to validGames\n",
    "    if (validGame):\n",
    "        validGames.append(fGames[game][0])\n",
    "        \n",
    "print(f\"The sum of valid game id's is: {sum(validGames)}\")"
   ]
  },
  {
   "cell_type": "markdown",
   "id": "5e1aa316",
   "metadata": {},
   "source": [
    "# --- Part Two ---"
   ]
  },
  {
   "cell_type": "code",
   "execution_count": 5,
   "id": "e77cc72e",
   "metadata": {},
   "outputs": [
    {
     "name": "stdout",
     "output_type": "stream",
     "text": [
      "The sum of the power of these sets is: 84538\n"
     ]
    }
   ],
   "source": [
    "#formatting\n",
    "games = getGames().split('\\n')\n",
    "\n",
    "#Games formatted\n",
    "#Get the game number (happens to be the same as list(range(1,101)))\n",
    "fGames = [[int(x[x.find(\" \")+1:x.find(\":\")])] for x in games]\n",
    "\n",
    "#Trim the \"Game 1: \" off the front of the string, and split by different bag reveals (\"; \")\n",
    "games = [x[x.find(\":\")+2:].split(\"; \") for x in games]\n",
    "\n",
    "#loop through all games\n",
    "for i in range(len(games)):\n",
    "    #Loop through each reveal per game\n",
    "    for j in games[i]:\n",
    "        #This reveal is an empty dictionary\n",
    "        reveal = dict()\n",
    "        for k in j.split(\", \"): #For each color:number pair, update the current reveal dictionary\n",
    "            reveal.update({k[k.find(\" \")+1:]: int(k[:k.find(\" \")])})        \n",
    "        #Add current reveal to current game in fGames\n",
    "        fGames[i].append(reveal)\n",
    "    \n",
    "#This takes care of any missing colors in a reveal (for instance {red:2} becomes {red:2, blue:0, green:0})\n",
    "#Loop through each game\n",
    "for game in range(len(fGames)):\n",
    "    #Loop through each reveal\n",
    "    for reveal in range(1, len(fGames[game])):\n",
    "        #Check for each color not being in the reveal, if it's not add it to the reveal with the default value of 0\n",
    "        if \"blue\" not in fGames[game][reveal]:\n",
    "            fGames[game][reveal].update({\"blue\":0})\n",
    "        if \"green\" not in fGames[game][reveal]:\n",
    "            fGames[game][reveal].update({\"green\":0})\n",
    "        if \"red\" not in fGames[game][reveal]:\n",
    "            fGames[game][reveal].update({\"red\":0})\n",
    "            \n",
    "\n",
    "#Keeps track of the power of each set (game)\n",
    "setPowers = []\n",
    "\n",
    "#Loop through each game\n",
    "for game in range(len(fGames)):\n",
    "    setPowers.append([0, 0, 0]) #Add a new list to setPowers containing the fewest number of cubes for each color\n",
    "    for reveal in range(1, len(fGames[game])): #Loop through each reveal\n",
    "        #For every color, if the number of cubes is higher than it is in setPowers, replace setPowers with the higher number\n",
    "        if fGames[game][reveal][\"red\"] > setPowers[game][0]:\n",
    "            setPowers[game][0] = fGames[game][reveal][\"red\"]\n",
    "        if fGames[game][reveal][\"green\"] > setPowers[game][1]:\n",
    "            setPowers[game][1] = fGames[game][reveal][\"green\"]\n",
    "        if fGames[game][reveal][\"blue\"] > setPowers[game][2]:\n",
    "            setPowers[game][2] = fGames[game][reveal][\"blue\"]\n",
    "            \n",
    "#Multiply fewest cubes together for each list in setPowers\n",
    "setPowers = [x[0]*x[1]*x[2] for x in setPowers]\n",
    "\n",
    "print(f\"The sum of the power of these sets is: {sum(setPowers)}\")"
   ]
  }
 ],
 "metadata": {
  "kernelspec": {
   "display_name": "Python 3 (ipykernel)",
   "language": "python",
   "name": "python3"
  },
  "language_info": {
   "codemirror_mode": {
    "name": "ipython",
    "version": 3
   },
   "file_extension": ".py",
   "mimetype": "text/x-python",
   "name": "python",
   "nbconvert_exporter": "python",
   "pygments_lexer": "ipython3",
   "version": "3.12.7"
  }
 },
 "nbformat": 4,
 "nbformat_minor": 5
}
