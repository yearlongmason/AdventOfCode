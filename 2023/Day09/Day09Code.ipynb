{
 "cells": [
  {
   "cell_type": "markdown",
   "id": "56d0e9c1",
   "metadata": {},
   "source": [
    "# --- Day 9: Mirage Maintenance ---\n",
    "https://adventofcode.com/2023/day/9"
   ]
  },
  {
   "cell_type": "code",
   "execution_count": 2,
   "id": "c2e33fde",
   "metadata": {},
   "outputs": [],
   "source": [
    "def getSequences():\n",
    "    with open(\"sequences.txt\") as file:\n",
    "        return file.read()"
   ]
  },
  {
   "cell_type": "code",
   "execution_count": 3,
   "id": "0bb23ddd",
   "metadata": {},
   "outputs": [
    {
     "name": "stdout",
     "output_type": "stream",
     "text": [
      "Sum of predicted values: 1806615041\n"
     ]
    }
   ],
   "source": [
    "#Formatting\n",
    "sequences = getSequences()\n",
    "sequences = sequences.split(\"\\n\")\n",
    "sequences = [[int(num) for num in x.split()] for x in sequences]\n",
    "\n",
    "#Keeps track of sequence predictions\n",
    "sequencePredictions = []\n",
    "\n",
    "for sequence in sequences:\n",
    "    #Keep track of all sequence differences\n",
    "    currentSequence = [sequence]\n",
    "\n",
    "    #Repeat until the difference between numbers in the sequence are all 0\n",
    "    while sum(currentSequence[-1]) != 0:\n",
    "        #Get the distances between numbers in sequence and add them to the currentSequence list\n",
    "        differences = [currentSequence[-1][x+1] - currentSequence[-1][x] for x in range(len(currentSequence[-1])-1)]\n",
    "        currentSequence.append(differences)\n",
    "        \n",
    "    #Get the next number in the sequence\n",
    "    sequencePredictions.append(sum([x[-1] for x in currentSequence]))\n",
    "    \n",
    "print(f\"Sum of predicted values: {sum(sequencePredictions)}\")"
   ]
  },
  {
   "cell_type": "markdown",
   "id": "a1d13812",
   "metadata": {},
   "source": [
    "# --- Part Two ---"
   ]
  },
  {
   "cell_type": "code",
   "execution_count": 5,
   "id": "d92bc4b0",
   "metadata": {},
   "outputs": [
    {
     "name": "stdout",
     "output_type": "stream",
     "text": [
      "Sum of predicted values: 1211\n"
     ]
    }
   ],
   "source": [
    "#Formatting\n",
    "sequences = getSequences()\n",
    "sequences = sequences.split(\"\\n\")\n",
    "sequences = [[int(num) for num in x.split()] for x in sequences]\n",
    "\n",
    "#Keeps track of sequence predictions\n",
    "previousPredictions = []\n",
    "\n",
    "for sequence in sequences:\n",
    "    #Keep track of all sequence differences\n",
    "    currentSequence = [sequence]\n",
    "\n",
    "    #Repeat until the difference between numbers in the sequence are all 0\n",
    "    while sum(currentSequence[-1]) != 0:\n",
    "        #Get the distances between numbers in sequence and add them to the currentSequence list\n",
    "        differences = [currentSequence[-1][x+1] - currentSequence[-1][x] for x in range(len(currentSequence[-1])-1)]\n",
    "        currentSequence.append(differences)\n",
    "        \n",
    "    #Keep track of the sequence differences reversed\n",
    "    reversedSequenceDifferences = list(reversed(currentSequence))\n",
    "    previousPrediction = 0\n",
    "    #Loop through backwards to find the previous number in the sequence\n",
    "    for i, sequence in enumerate(reversedSequenceDifferences, -1):\n",
    "        previousPrediction = reversedSequenceDifferences[i+1][0] - previousPrediction\n",
    "        \n",
    "    #Get the next number in the sequence\n",
    "    previousPredictions.append(previousPrediction)\n",
    "    \n",
    "print(f\"Sum of predicted values: {sum(previousPredictions)}\")"
   ]
  }
 ],
 "metadata": {
  "kernelspec": {
   "display_name": "Python 3 (ipykernel)",
   "language": "python",
   "name": "python3"
  },
  "language_info": {
   "codemirror_mode": {
    "name": "ipython",
    "version": 3
   },
   "file_extension": ".py",
   "mimetype": "text/x-python",
   "name": "python",
   "nbconvert_exporter": "python",
   "pygments_lexer": "ipython3",
   "version": "3.12.7"
  }
 },
 "nbformat": 4,
 "nbformat_minor": 5
}
