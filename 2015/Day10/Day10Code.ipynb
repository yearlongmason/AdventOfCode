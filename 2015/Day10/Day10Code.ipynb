{
 "cells": [
  {
   "cell_type": "markdown",
   "metadata": {},
   "source": [
    "# --- Day 10: Elves Look, Elves Say ---\n",
    "https://adventofcode.com/2015/day/10"
   ]
  },
  {
   "cell_type": "code",
   "execution_count": 1,
   "metadata": {},
   "outputs": [],
   "source": [
    "def getDigits():\n",
    "    with open(\"digits.txt\") as file:\n",
    "        return file.read()"
   ]
  },
  {
   "cell_type": "code",
   "execution_count": 2,
   "metadata": {},
   "outputs": [
    {
     "name": "stdout",
     "output_type": "stream",
     "text": [
      "Number of digits after 40 rounds: 360154\n"
     ]
    }
   ],
   "source": [
    "# Formatting\n",
    "digits = getDigits()\n",
    "\n",
    "# Loop through each round\n",
    "for round in range(40):\n",
    "\n",
    "    # Create a new string of digits\n",
    "    newDigits = \"\"\n",
    "    currentCount = 1\n",
    "\n",
    "    # Loop through each character in the previous digits\n",
    "    for i in range(1, len(digits)):\n",
    "        # If the current character is different from the previous character update new digits and reset count\n",
    "        if digits[i] != digits[i - 1]:\n",
    "            newDigits += str(currentCount)\n",
    "            newDigits += digits[i - 1]\n",
    "            currentCount = 1\n",
    "        # Otherwise just increment the count\n",
    "        else:\n",
    "            currentCount += 1\n",
    "    \n",
    "    # Update new digits for final number and change digits to newDigits\n",
    "    newDigits += str(currentCount)\n",
    "    newDigits += digits[-1]\n",
    "    digits = newDigits\n",
    "\n",
    "print(f\"Number of digits after 40 rounds: {len(digits)}\")"
   ]
  },
  {
   "cell_type": "markdown",
   "metadata": {},
   "source": [
    "# --- Part Two ---"
   ]
  },
  {
   "cell_type": "code",
   "execution_count": 3,
   "metadata": {},
   "outputs": [
    {
     "name": "stdout",
     "output_type": "stream",
     "text": [
      "Number of digits after 50 rounds: 5103798\n"
     ]
    }
   ],
   "source": [
    "# Formatting\n",
    "digits = getDigits()\n",
    "\n",
    "# Loop through each round\n",
    "for round in range(50):\n",
    "\n",
    "    # Create a new string of digits\n",
    "    newDigits = \"\"\n",
    "    currentCount = 1\n",
    "\n",
    "    # Loop through each character in the previous digits\n",
    "    for i in range(1, len(digits)):\n",
    "        # If the current character is different from the previous character update new digits and reset count\n",
    "        if digits[i] != digits[i - 1]:\n",
    "            newDigits += str(currentCount)\n",
    "            newDigits += digits[i - 1]\n",
    "            currentCount = 1\n",
    "        # Otherwise just increment the count\n",
    "        else:\n",
    "            currentCount += 1\n",
    "    \n",
    "    # Update new digits for final number and change digits to newDigits\n",
    "    newDigits += str(currentCount)\n",
    "    newDigits += digits[-1]\n",
    "    digits = newDigits\n",
    "\n",
    "print(f\"Number of digits after 50 rounds: {len(digits)}\")"
   ]
  }
 ],
 "metadata": {
  "kernelspec": {
   "display_name": "base",
   "language": "python",
   "name": "python3"
  },
  "language_info": {
   "codemirror_mode": {
    "name": "ipython",
    "version": 3
   },
   "file_extension": ".py",
   "mimetype": "text/x-python",
   "name": "python",
   "nbconvert_exporter": "python",
   "pygments_lexer": "ipython3",
   "version": "3.12.7"
  }
 },
 "nbformat": 4,
 "nbformat_minor": 2
}
