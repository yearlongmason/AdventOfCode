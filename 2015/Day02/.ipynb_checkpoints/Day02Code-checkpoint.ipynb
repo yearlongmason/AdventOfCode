{
 "cells": [
  {
   "cell_type": "markdown",
   "id": "967b7b08",
   "metadata": {},
   "source": [
    "# --- Day 2: I Was Told There Would Be No Math ---\n",
    "https://adventofcode.com/2015/day/2\n",
    "\n",
    "The elves are running low on wrapping paper, and so they need to submit an order for more. They have a list of the dimensions (length l, width w, and height h) of each present, and only want to order exactly as much as they need.\n",
    "\n",
    "Fortunately, every present is a box (a perfect right rectangular prism), which makes calculating the required wrapping paper for each gift a little easier: find the surface area of the box, which is 2xlxw + 2xwxh + 2xhxl. The elves also need a little extra paper for each present: the area of the smallest side.\n",
    "\n",
    "For example:\n",
    "\n",
    "- A present with dimensions 2x3x4 requires 2x6 + 2x12 + 2x8 = 52 square feet of wrapping paper plus 6 square feet of slack, for a total of 58 square feet.\n",
    "- A present with dimensions 1x1x10 requires 2x1 + 2x10 + 2x10 = 42 square feet of wrapping paper plus 1 square foot of slack, for a total of 43 square feet.\n",
    "\n",
    "All numbers in the elves' list are in feet. How many total square feet of wrapping paper should they order?"
   ]
  },
  {
   "cell_type": "code",
   "execution_count": 2,
   "id": "9d549169",
   "metadata": {
    "scrolled": true
   },
   "outputs": [],
   "source": [
    "def getSizes():\n",
    "    with open('boxSizes.txt') as file:\n",
    "        return file.read()"
   ]
  },
  {
   "cell_type": "code",
   "execution_count": 3,
   "id": "de426239",
   "metadata": {},
   "outputs": [
    {
     "name": "stdout",
     "output_type": "stream",
     "text": [
      "Total wrapping paper needed: 1586300 square feet\n"
     ]
    }
   ],
   "source": [
    "import numpy as np\n",
    "\n",
    "#Cleaning\n",
    "boxes = getSizes().split('\\n')\n",
    "boxes = [x.split('x') for x in boxes]\n",
    "for i in range(len(boxes)):\n",
    "    boxes[i] = [int(x) for x in boxes[i]]\n",
    "    \n",
    "surfaceAreas = []\n",
    "for i in boxes: #Loops through all box sizes and get the surface area needed for each box\n",
    "    surfaceAreas.append(2*i[0]*i[1] + 2*i[1]*i[2] + 2*i[0]*i[2] + np.min([i[0]*i[1], i[1]*i[2], i[0]*i[2]]))\n",
    "\n",
    "totalSqFeet = sum(surfaceAreas) #Gets the sum of all the surface areas\n",
    "print(f'Total wrapping paper needed: {totalSqFeet} square feet')"
   ]
  },
  {
   "cell_type": "markdown",
   "id": "1f067f4b",
   "metadata": {},
   "source": [
    "# --- Part Two ---\n",
    "The elves are also running low on ribbon. Ribbon is all the same width, so they only have to worry about the length they need to order, which they would again like to be exact.\n",
    "\n",
    "The ribbon required to wrap a present is the shortest distance around its sides, or the smallest perimeter of any one face. Each present also requires a bow made out of ribbon as well; the feet of ribbon required for the perfect bow is equal to the cubic feet of volume of the present. Don't ask how they tie the bow, though; they'll never tell.\n",
    "\n",
    "For example:\n",
    "\n",
    "- A present with dimensions 2x3x4 requires 2+2+3+3 = 10 feet of ribbon to wrap the present plus 2x3x4 = 24 feet of ribbon for the bow, for a total of 34 feet.\n",
    "- A present with dimensions 1x1x10 requires 1+1+1+1 = 4 feet of ribbon to wrap the present plus 1x1x10 = 10 feet of ribbon for the bow, for a total of 14 feet.\n",
    "\n",
    "How many total feet of ribbon should they order?"
   ]
  },
  {
   "cell_type": "code",
   "execution_count": 5,
   "id": "f5ef5cd6",
   "metadata": {},
   "outputs": [
    {
     "name": "stdout",
     "output_type": "stream",
     "text": [
      "Ribbon needed: 3737498 feet\n"
     ]
    }
   ],
   "source": [
    "#Cleaning\n",
    "boxes = getSizes().split('\\n')\n",
    "boxes = [x.split('x') for x in boxes]\n",
    "for i in range(len(boxes)):\n",
    "    boxes[i] = [int(x) for x in boxes[i]]\n",
    "    \n",
    "ribbonPerBox = [] #Keeps track of the ribbon needed per box\n",
    "for i in boxes:\n",
    "    sortedDimensions=sorted(i) #sorts the dimensions for easy access to the smallest numbers\n",
    "    ribbonPerBox.append(sortedDimensions[0]*2 + sortedDimensions[1]*2 +\\\n",
    "                        sortedDimensions[0]*sortedDimensions[1]*sortedDimensions[2]) #Adds the ribbon needed\n",
    "    \n",
    "ribbonNeeded = sum(ribbonPerBox)\n",
    "print(f'Ribbon needed: {ribbonNeeded} feet')"
   ]
  }
 ],
 "metadata": {
  "kernelspec": {
   "display_name": "Python 3 (ipykernel)",
   "language": "python",
   "name": "python3"
  },
  "language_info": {
   "codemirror_mode": {
    "name": "ipython",
    "version": 3
   },
   "file_extension": ".py",
   "mimetype": "text/x-python",
   "name": "python",
   "nbconvert_exporter": "python",
   "pygments_lexer": "ipython3",
   "version": "3.12.4"
  }
 },
 "nbformat": 4,
 "nbformat_minor": 5
}
