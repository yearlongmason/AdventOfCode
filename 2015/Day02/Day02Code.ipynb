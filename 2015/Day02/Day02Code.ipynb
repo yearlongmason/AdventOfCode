{
 "cells": [
  {
   "cell_type": "markdown",
   "id": "967b7b08",
   "metadata": {},
   "source": [
    "# --- Day 2: I Was Told There Would Be No Math ---\n",
    "https://adventofcode.com/2015/day/2"
   ]
  },
  {
   "cell_type": "code",
   "execution_count": 2,
   "id": "9d549169",
   "metadata": {
    "scrolled": true
   },
   "outputs": [],
   "source": [
    "def getSizes():\n",
    "    with open('boxSizes.txt') as file:\n",
    "        return file.read()"
   ]
  },
  {
   "cell_type": "code",
   "execution_count": 3,
   "id": "de426239",
   "metadata": {},
   "outputs": [
    {
     "name": "stdout",
     "output_type": "stream",
     "text": [
      "Total wrapping paper needed: 1586300 square feet\n"
     ]
    }
   ],
   "source": [
    "#Cleaning\n",
    "boxes = getSizes().split('\\n')\n",
    "boxes = [x.split('x') for x in boxes]\n",
    "for i in range(len(boxes)):\n",
    "    boxes[i] = [int(x) for x in boxes[i]]\n",
    "    \n",
    "surfaceAreas = []\n",
    "for i in boxes: #Loops through all box sizes and get the surface area needed for each box\n",
    "    surfaceAreas.append(2*i[0]*i[1] + 2*i[1]*i[2] + 2*i[0]*i[2] + min([i[0]*i[1], i[1]*i[2], i[0]*i[2]]))\n",
    "\n",
    "totalSqFeet = sum(surfaceAreas) #Gets the sum of all the surface areas\n",
    "print(f'Total wrapping paper needed: {totalSqFeet} square feet')"
   ]
  },
  {
   "cell_type": "markdown",
   "id": "1f067f4b",
   "metadata": {},
   "source": [
    "# --- Part Two ---"
   ]
  },
  {
   "cell_type": "code",
   "execution_count": 5,
   "id": "f5ef5cd6",
   "metadata": {},
   "outputs": [
    {
     "name": "stdout",
     "output_type": "stream",
     "text": [
      "Ribbon needed: 3737498 feet\n"
     ]
    }
   ],
   "source": [
    "#Cleaning\n",
    "boxes = getSizes().split('\\n')\n",
    "boxes = [x.split('x') for x in boxes]\n",
    "for i in range(len(boxes)):\n",
    "    boxes[i] = [int(x) for x in boxes[i]]\n",
    "    \n",
    "ribbonPerBox = [] #Keeps track of the ribbon needed per box\n",
    "for i in boxes:\n",
    "    sortedDimensions=sorted(i) #sorts the dimensions for easy access to the smallest numbers\n",
    "    ribbonPerBox.append(sortedDimensions[0]*2 + sortedDimensions[1]*2 +\\\n",
    "                        sortedDimensions[0]*sortedDimensions[1]*sortedDimensions[2]) #Adds the ribbon needed\n",
    "    \n",
    "ribbonNeeded = sum(ribbonPerBox)\n",
    "print(f'Ribbon needed: {ribbonNeeded} feet')"
   ]
  }
 ],
 "metadata": {
  "kernelspec": {
   "display_name": "Python 3 (ipykernel)",
   "language": "python",
   "name": "python3"
  },
  "language_info": {
   "codemirror_mode": {
    "name": "ipython",
    "version": 3
   },
   "file_extension": ".py",
   "mimetype": "text/x-python",
   "name": "python",
   "nbconvert_exporter": "python",
   "pygments_lexer": "ipython3",
   "version": "3.12.7"
  }
 },
 "nbformat": 4,
 "nbformat_minor": 5
}
