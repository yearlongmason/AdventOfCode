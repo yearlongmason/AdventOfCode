{
 "cells": [
  {
   "cell_type": "markdown",
   "id": "3c36a088",
   "metadata": {},
   "source": [
    "# --- Day 6: Probably a Fire Hazard ---\n",
    "https://adventofcode.com/2015/day/6"
   ]
  },
  {
   "cell_type": "code",
   "execution_count": 2,
   "id": "f4715388",
   "metadata": {
    "scrolled": true
   },
   "outputs": [],
   "source": [
    "def getLightDirs():\n",
    "    with open('lightDirections.txt') as file:\n",
    "        return file.read()"
   ]
  },
  {
   "cell_type": "code",
   "execution_count": 3,
   "id": "0ae49767",
   "metadata": {},
   "outputs": [
    {
     "name": "stdout",
     "output_type": "stream",
     "text": [
      "Number of lights on: 569999\n"
     ]
    }
   ],
   "source": [
    "import numpy as np\n",
    "lightDirs = getLightDirs().split('\\n')\n",
    "\n",
    "#This code formats the directions. Each direction (new line) has a list containing: [on/off/toggle, x1, y1, x2, y2]\n",
    "flightDirs = [] #Formatting light directions\n",
    "for i in range(len(lightDirs)): #Loops through each direction\n",
    "    tempDir = lightDirs[i] #Assigns the current string to a temporary value so it can be changed\n",
    "    \n",
    "    if lightDirs[i][0:8] == 'turn off': #If the direction is to turn off\n",
    "        x1 = int(tempDir[9:tempDir.find(',')]) #Gets x1\n",
    "        tempDir = tempDir[tempDir.find(',')+1:] #Trims tempDir to make it easier to get y1\n",
    "        y1 = int(tempDir[:tempDir.find(' ')]) #Gets y1\n",
    "        tempDir = tempDir[tempDir.find('through')+8:] #Trims tempDir to make it easier to get x2\n",
    "        x2 = int(tempDir[:tempDir.find(',')]) #Gets x2\n",
    "        y2 = int(tempDir[tempDir.find(',')+1:]) #Gets y2\n",
    "        flightDirs.append([0, x1,y1, x2,y2]) #Adds relavant information to formatted light directions\n",
    "        \n",
    "    elif lightDirs[i][0:7] == 'turn on': #If direction is to turn on\n",
    "        x1 = int(tempDir[8:tempDir.find(',')]) #Gets x1\n",
    "        tempDir = tempDir[tempDir.find(',')+1:] #Trims tempDir to make it easier to get y1\n",
    "        y1 = int(tempDir[:tempDir.find(' ')]) #Gets y1\n",
    "        tempDir = tempDir[tempDir.find('through')+8:] #Trims tempDir to make it easier to get x2\n",
    "        x2 = int(tempDir[:tempDir.find(',')]) #Gets x2\n",
    "        y2 = int(tempDir[tempDir.find(',')+1:]) #Gets y2\n",
    "        flightDirs.append([1, x1, y1, x2, y2]) #Adds relavant information to formatted light directions\n",
    "    \n",
    "    else:\n",
    "        x1 = int(tempDir[7:tempDir.find(',')]) #Gets x1\n",
    "        tempDir = tempDir[tempDir.find(',')+1:] #Trims tempDir to make it easier to get y1\n",
    "        y1 = int(tempDir[:tempDir.find(' ')]) #Gets y1\n",
    "        tempDir = tempDir[tempDir.find('through')+8:] #Trims tempDir to make it easier to get x2\n",
    "        x2 = int(tempDir[:tempDir.find(',')]) #Gets x2\n",
    "        y2 = int(tempDir[tempDir.find(',')+1:]) #Gets y2\n",
    "        flightDirs.append([2, x1, y1, x2, y2]) #Adds relavant information to formatted light directions\n",
    "\n",
    "lights = np.zeros((1000,1000)) #Arranges a 1000 x 1000 grid of lights starting at 0\n",
    "\n",
    "for i in flightDirs: #Loops through every direction\n",
    "    if i[0] == 0: #If the direction is to turn off the lights\n",
    "        for j in range(i[2], i[4]+1):#Loops through the y's in the rectangle\n",
    "            for k in range(i[1], i[3]+1):#Loops through the x's in the rectangle\n",
    "                lights[j][k] = 0\n",
    "    elif i[0] == 1: #If the direction is to turn on the lights\n",
    "        for j in range(i[2], i[4]+1):#Loops through the y's in the rectangle\n",
    "            for k in range(i[1], i[3]+1):#Loops through the x's in the rectangle\n",
    "                lights[j][k] = 1\n",
    "    else: #If the direction is to toggle the lights\n",
    "        for j in range(i[2], i[4]+1):#Loops through the y's in the rectangle\n",
    "            for k in range(i[1], i[3]+1):#Loops through the x's in the rectangle\n",
    "                if lights[j][k] == 0:\n",
    "                    lights[j][k] = 1\n",
    "                else:\n",
    "                    lights[j][k] = 0\n",
    "\n",
    "print(f'Number of lights on: {int(lights.sum())}')"
   ]
  },
  {
   "cell_type": "markdown",
   "id": "ab352fc2",
   "metadata": {},
   "source": [
    "# --- Part Two ---"
   ]
  },
  {
   "cell_type": "code",
   "execution_count": 5,
   "id": "37c15766",
   "metadata": {},
   "outputs": [
    {
     "name": "stdout",
     "output_type": "stream",
     "text": [
      "Total brightness: 17836115\n"
     ]
    }
   ],
   "source": [
    "import numpy as np\n",
    "lightDirs = getLightDirs().split('\\n')\n",
    "\n",
    "#This code formats the directions. Each direction (new line) has a list containing: [on/off/toggle, x1, y1, x2, y2]\n",
    "flightDirs = [] #Formatting light directions\n",
    "for i in range(len(lightDirs)): #Loops through each direction\n",
    "    tempDir = lightDirs[i] #Assigns the current string to a temporary value so it can be changed\n",
    "    \n",
    "    if lightDirs[i][0:8] == 'turn off': #If the direction is to turn off\n",
    "        x1 = int(tempDir[9:tempDir.find(',')]) #Gets x1\n",
    "        tempDir = tempDir[tempDir.find(',')+1:] #Trims tempDir to make it easier to get y1\n",
    "        y1 = int(tempDir[:tempDir.find(' ')]) #Gets y1\n",
    "        tempDir = tempDir[tempDir.find('through')+8:] #Trims tempDir to make it easier to get x2\n",
    "        x2 = int(tempDir[:tempDir.find(',')]) #Gets x2\n",
    "        y2 = int(tempDir[tempDir.find(',')+1:]) #Gets y2\n",
    "        flightDirs.append([0, x1,y1, x2,y2]) #Adds relavant information to formatted light directions\n",
    "        \n",
    "    elif lightDirs[i][0:7] == 'turn on': #If direction is to turn on\n",
    "        x1 = int(tempDir[8:tempDir.find(',')]) #Gets x1\n",
    "        tempDir = tempDir[tempDir.find(',')+1:] #Trims tempDir to make it easier to get y1\n",
    "        y1 = int(tempDir[:tempDir.find(' ')]) #Gets y1\n",
    "        tempDir = tempDir[tempDir.find('through')+8:] #Trims tempDir to make it easier to get x2\n",
    "        x2 = int(tempDir[:tempDir.find(',')]) #Gets x2\n",
    "        y2 = int(tempDir[tempDir.find(',')+1:]) #Gets y2\n",
    "        flightDirs.append([1, x1, y1, x2, y2]) #Adds relavant information to formatted light directions\n",
    "    \n",
    "    else:\n",
    "        x1 = int(tempDir[7:tempDir.find(',')]) #Gets x1\n",
    "        tempDir = tempDir[tempDir.find(',')+1:] #Trims tempDir to make it easier to get y1\n",
    "        y1 = int(tempDir[:tempDir.find(' ')]) #Gets y1\n",
    "        tempDir = tempDir[tempDir.find('through')+8:] #Trims tempDir to make it easier to get x2\n",
    "        x2 = int(tempDir[:tempDir.find(',')]) #Gets x2\n",
    "        y2 = int(tempDir[tempDir.find(',')+1:]) #Gets y2\n",
    "        flightDirs.append([2, x1, y1, x2, y2]) #Adds relavant information to formatted light directions\n",
    "\n",
    "lights = np.zeros((1000,1000)) #Arranges a 1000 x 1000 grid of lights starting at 0\n",
    "\n",
    "for i in flightDirs: #Loops through every direction\n",
    "    if i[0] == 0: #If the direction is to turn off the lights\n",
    "        for j in range(i[2], i[4]+1):#Loops through the y's in the rectangle\n",
    "            for k in range(i[1], i[3]+1):#Loops through the x's in the rectangle\n",
    "                if lights[j][k]!=0:\n",
    "                    lights[j][k] -= 1\n",
    "    elif i[0] == 1: #If the direction is to turn on the lights\n",
    "        for j in range(i[2], i[4]+1):#Loops through the y's in the rectangle\n",
    "            for k in range(i[1], i[3]+1):#Loops through the x's in the rectangle\n",
    "                lights[j][k] += 1\n",
    "    else: #If the direction is to toggle the lights\n",
    "        for j in range(i[2], i[4]+1):#Loops through the y's in the rectangle\n",
    "            for k in range(i[1], i[3]+1):#Loops through the x's in the rectangle\n",
    "                lights[j][k] += 2\n",
    "\n",
    "print(f'Total brightness: {int(lights.sum())}')"
   ]
  }
 ],
 "metadata": {
  "kernelspec": {
   "display_name": "Python 3 (ipykernel)",
   "language": "python",
   "name": "python3"
  },
  "language_info": {
   "codemirror_mode": {
    "name": "ipython",
    "version": 3
   },
   "file_extension": ".py",
   "mimetype": "text/x-python",
   "name": "python",
   "nbconvert_exporter": "python",
   "pygments_lexer": "ipython3",
   "version": "3.12.7"
  }
 },
 "nbformat": 4,
 "nbformat_minor": 5
}
