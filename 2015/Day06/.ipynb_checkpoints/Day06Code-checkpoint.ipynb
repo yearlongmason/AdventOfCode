{
 "cells": [
  {
   "cell_type": "markdown",
   "id": "3c36a088",
   "metadata": {},
   "source": [
    "# --- Day 6: Probably a Fire Hazard ---\n",
    "https://adventofcode.com/2015/day/6\n",
    "\n",
    "Because your neighbors keep defeating you in the holiday house decorating contest year after year, you've decided to deploy one million lights in a 1000x1000 grid.\n",
    "\n",
    "Furthermore, because you've been especially nice this year, Santa has mailed you instructions on how to display the ideal lighting configuration.\n",
    "\n",
    "Lights in your grid are numbered from 0 to 999 in each direction; the lights at each corner are at 0,0, 0,999, 999,999, and 999,0. The instructions include whether to turn on, turn off, or toggle various inclusive ranges given as coordinate pairs. Each coordinate pair represents opposite corners of a rectangle, inclusive; a coordinate pair like 0,0 through 2,2 therefore refers to 9 lights in a 3x3 square. The lights all start turned off.\n",
    "\n",
    "To defeat your neighbors this year, all you have to do is set up your lights by doing the instructions Santa sent you in order.\n",
    "\n",
    "For example:\n",
    "\n",
    "- turn on 0,0 through 999,999 would turn on (or leave on) every light.\n",
    "- toggle 0,0 through 999,0 would toggle the first line of 1000 lights, turning off the ones that were on, and turning on the ones that were off.\n",
    "- turn off 499,499 through 500,500 would turn off (or leave off) the middle four lights.\n",
    "\n",
    "After following the instructions, how many lights are lit?"
   ]
  },
  {
   "cell_type": "code",
   "execution_count": 2,
   "id": "f4715388",
   "metadata": {
    "scrolled": true
   },
   "outputs": [],
   "source": [
    "def getLightDirs():\n",
    "    with open('lightDirections.txt') as file:\n",
    "        return file.read()"
   ]
  },
  {
   "cell_type": "code",
   "execution_count": 3,
   "id": "0ae49767",
   "metadata": {},
   "outputs": [
    {
     "name": "stdout",
     "output_type": "stream",
     "text": [
      "Number of lights on: 569999\n"
     ]
    }
   ],
   "source": [
    "import numpy as np\n",
    "lightDirs = getLightDirs().split('\\n')\n",
    "\n",
    "#This code formats the directions. Each direction (new line) has a list containing: [on/off/toggle, x1, y1, x2, y2]\n",
    "flightDirs = [] #Formatting light directions\n",
    "for i in range(len(lightDirs)): #Loops through each direction\n",
    "    tempDir = lightDirs[i] #Assigns the current string to a temporary value so it can be changed\n",
    "    \n",
    "    if lightDirs[i][0:8] == 'turn off': #If the direction is to turn off\n",
    "        x1 = int(tempDir[9:tempDir.find(',')]) #Gets x1\n",
    "        tempDir = tempDir[tempDir.find(',')+1:] #Trims tempDir to make it easier to get y1\n",
    "        y1 = int(tempDir[:tempDir.find(' ')]) #Gets y1\n",
    "        tempDir = tempDir[tempDir.find('through')+8:] #Trims tempDir to make it easier to get x2\n",
    "        x2 = int(tempDir[:tempDir.find(',')]) #Gets x2\n",
    "        y2 = int(tempDir[tempDir.find(',')+1:]) #Gets y2\n",
    "        flightDirs.append([0, x1,y1, x2,y2]) #Adds relavant information to formatted light directions\n",
    "        \n",
    "    elif lightDirs[i][0:7] == 'turn on': #If direction is to turn on\n",
    "        x1 = int(tempDir[8:tempDir.find(',')]) #Gets x1\n",
    "        tempDir = tempDir[tempDir.find(',')+1:] #Trims tempDir to make it easier to get y1\n",
    "        y1 = int(tempDir[:tempDir.find(' ')]) #Gets y1\n",
    "        tempDir = tempDir[tempDir.find('through')+8:] #Trims tempDir to make it easier to get x2\n",
    "        x2 = int(tempDir[:tempDir.find(',')]) #Gets x2\n",
    "        y2 = int(tempDir[tempDir.find(',')+1:]) #Gets y2\n",
    "        flightDirs.append([1, x1, y1, x2, y2]) #Adds relavant information to formatted light directions\n",
    "    \n",
    "    else:\n",
    "        x1 = int(tempDir[7:tempDir.find(',')]) #Gets x1\n",
    "        tempDir = tempDir[tempDir.find(',')+1:] #Trims tempDir to make it easier to get y1\n",
    "        y1 = int(tempDir[:tempDir.find(' ')]) #Gets y1\n",
    "        tempDir = tempDir[tempDir.find('through')+8:] #Trims tempDir to make it easier to get x2\n",
    "        x2 = int(tempDir[:tempDir.find(',')]) #Gets x2\n",
    "        y2 = int(tempDir[tempDir.find(',')+1:]) #Gets y2\n",
    "        flightDirs.append([2, x1, y1, x2, y2]) #Adds relavant information to formatted light directions\n",
    "\n",
    "lights = np.zeros((1000,1000)) #Arranges a 1000 x 1000 grid of lights starting at 0\n",
    "\n",
    "for i in flightDirs: #Loops through every direction\n",
    "    if i[0] == 0: #If the direction is to turn off the lights\n",
    "        for j in range(i[2], i[4]+1):#Loops through the y's in the rectangle\n",
    "            for k in range(i[1], i[3]+1):#Loops through the x's in the rectangle\n",
    "                lights[j][k] = 0\n",
    "    elif i[0] == 1: #If the direction is to turn on the lights\n",
    "        for j in range(i[2], i[4]+1):#Loops through the y's in the rectangle\n",
    "            for k in range(i[1], i[3]+1):#Loops through the x's in the rectangle\n",
    "                lights[j][k] = 1\n",
    "    else: #If the direction is to toggle the lights\n",
    "        for j in range(i[2], i[4]+1):#Loops through the y's in the rectangle\n",
    "            for k in range(i[1], i[3]+1):#Loops through the x's in the rectangle\n",
    "                if lights[j][k] == 0:\n",
    "                    lights[j][k] = 1\n",
    "                else:\n",
    "                    lights[j][k] = 0\n",
    "\n",
    "print(f'Number of lights on: {int(lights.sum())}')"
   ]
  },
  {
   "cell_type": "markdown",
   "id": "ab352fc2",
   "metadata": {},
   "source": [
    "# --- Part Two ---\n",
    "You just finish implementing your winning light pattern when you realize you mistranslated Santa's message from Ancient Nordic Elvish.\n",
    "\n",
    "The light grid you bought actually has individual brightness controls; each light can have a brightness of zero or more. The lights all start at zero.\n",
    "\n",
    "The phrase turn on actually means that you should increase the brightness of those lights by 1.\n",
    "\n",
    "The phrase turn off actually means that you should decrease the brightness of those lights by 1, to a minimum of zero.\n",
    "\n",
    "The phrase toggle actually means that you should increase the brightness of those lights by 2.\n",
    "\n",
    "What is the total brightness of all lights combined after following Santa's instructions?\n",
    "\n",
    "For example:\n",
    "\n",
    "- turn on 0,0 through 0,0 would increase the total brightness by 1.\n",
    "- toggle 0,0 through 999,999 would increase the total brightness by 2000000."
   ]
  },
  {
   "cell_type": "code",
   "execution_count": 5,
   "id": "37c15766",
   "metadata": {},
   "outputs": [
    {
     "name": "stdout",
     "output_type": "stream",
     "text": [
      "Total brightness: 17836115\n"
     ]
    }
   ],
   "source": [
    "import numpy as np\n",
    "lightDirs = getLightDirs().split('\\n')\n",
    "\n",
    "#This code formats the directions. Each direction (new line) has a list containing: [on/off/toggle, x1, y1, x2, y2]\n",
    "flightDirs = [] #Formatting light directions\n",
    "for i in range(len(lightDirs)): #Loops through each direction\n",
    "    tempDir = lightDirs[i] #Assigns the current string to a temporary value so it can be changed\n",
    "    \n",
    "    if lightDirs[i][0:8] == 'turn off': #If the direction is to turn off\n",
    "        x1 = int(tempDir[9:tempDir.find(',')]) #Gets x1\n",
    "        tempDir = tempDir[tempDir.find(',')+1:] #Trims tempDir to make it easier to get y1\n",
    "        y1 = int(tempDir[:tempDir.find(' ')]) #Gets y1\n",
    "        tempDir = tempDir[tempDir.find('through')+8:] #Trims tempDir to make it easier to get x2\n",
    "        x2 = int(tempDir[:tempDir.find(',')]) #Gets x2\n",
    "        y2 = int(tempDir[tempDir.find(',')+1:]) #Gets y2\n",
    "        flightDirs.append([0, x1,y1, x2,y2]) #Adds relavant information to formatted light directions\n",
    "        \n",
    "    elif lightDirs[i][0:7] == 'turn on': #If direction is to turn on\n",
    "        x1 = int(tempDir[8:tempDir.find(',')]) #Gets x1\n",
    "        tempDir = tempDir[tempDir.find(',')+1:] #Trims tempDir to make it easier to get y1\n",
    "        y1 = int(tempDir[:tempDir.find(' ')]) #Gets y1\n",
    "        tempDir = tempDir[tempDir.find('through')+8:] #Trims tempDir to make it easier to get x2\n",
    "        x2 = int(tempDir[:tempDir.find(',')]) #Gets x2\n",
    "        y2 = int(tempDir[tempDir.find(',')+1:]) #Gets y2\n",
    "        flightDirs.append([1, x1, y1, x2, y2]) #Adds relavant information to formatted light directions\n",
    "    \n",
    "    else:\n",
    "        x1 = int(tempDir[7:tempDir.find(',')]) #Gets x1\n",
    "        tempDir = tempDir[tempDir.find(',')+1:] #Trims tempDir to make it easier to get y1\n",
    "        y1 = int(tempDir[:tempDir.find(' ')]) #Gets y1\n",
    "        tempDir = tempDir[tempDir.find('through')+8:] #Trims tempDir to make it easier to get x2\n",
    "        x2 = int(tempDir[:tempDir.find(',')]) #Gets x2\n",
    "        y2 = int(tempDir[tempDir.find(',')+1:]) #Gets y2\n",
    "        flightDirs.append([2, x1, y1, x2, y2]) #Adds relavant information to formatted light directions\n",
    "\n",
    "lights = np.zeros((1000,1000)) #Arranges a 1000 x 1000 grid of lights starting at 0\n",
    "\n",
    "for i in flightDirs: #Loops through every direction\n",
    "    if i[0] == 0: #If the direction is to turn off the lights\n",
    "        for j in range(i[2], i[4]+1):#Loops through the y's in the rectangle\n",
    "            for k in range(i[1], i[3]+1):#Loops through the x's in the rectangle\n",
    "                if lights[j][k]!=0:\n",
    "                    lights[j][k] -= 1\n",
    "    elif i[0] == 1: #If the direction is to turn on the lights\n",
    "        for j in range(i[2], i[4]+1):#Loops through the y's in the rectangle\n",
    "            for k in range(i[1], i[3]+1):#Loops through the x's in the rectangle\n",
    "                lights[j][k] += 1\n",
    "    else: #If the direction is to toggle the lights\n",
    "        for j in range(i[2], i[4]+1):#Loops through the y's in the rectangle\n",
    "            for k in range(i[1], i[3]+1):#Loops through the x's in the rectangle\n",
    "                lights[j][k] += 2\n",
    "\n",
    "print(f'Total brightness: {int(lights.sum())}')"
   ]
  }
 ],
 "metadata": {
  "kernelspec": {
   "display_name": "Python 3 (ipykernel)",
   "language": "python",
   "name": "python3"
  },
  "language_info": {
   "codemirror_mode": {
    "name": "ipython",
    "version": 3
   },
   "file_extension": ".py",
   "mimetype": "text/x-python",
   "name": "python",
   "nbconvert_exporter": "python",
   "pygments_lexer": "ipython3",
   "version": "3.12.4"
  }
 },
 "nbformat": 4,
 "nbformat_minor": 5
}
