{
 "cells": [
  {
   "cell_type": "markdown",
   "id": "c09ec661",
   "metadata": {},
   "source": [
    "# --- Day 8: Matchsticks ---\n",
    "Space on the sleigh is limited this year, and so Santa will be bringing his list as a digital copy. He needs to know how much space it will take up when stored.\n",
    "\n",
    "It is common in many programming languages to provide a way to escape special characters in strings. For example, C, JavaScript, Perl, Python, and even PHP handle special characters in very similar ways.\n",
    "\n",
    "However, it is important to realize the difference between the number of characters in the code representation of the string literal and the number of characters in the in-memory string itself.\n",
    "\n",
    "For example:\n",
    "\n",
    "- \"\" is 2 characters of code (the two double quotes), but the string contains zero characters.\n",
    "- \"abc\" is 5 characters of code, but 3 characters in the string data.\n",
    "- \"aaa\\\"aaa\" is 10 characters of code, but the string itself contains six \"a\" characters and a single, escaped quote character, for a total of 7 characters in the string data.\n",
    "- \"\\x27\" is 6 characters of code, but the string itself contains just one - an apostrophe ('), escaped using hexadecimal notation.\n",
    "\n",
    "Santa's list is a file that contains many double-quoted string literals, one on each line. The only escape sequences used are \\\\ (which represents a single backslash), \\\" (which represents a lone double-quote character), and \\x plus two hexadecimal characters (which represents a single character with that ASCII code).\n",
    "\n",
    "Disregarding the whitespace in the file, what is the number of characters of code for string literals minus the number of characters in memory for the values of the strings in total for the entire file?\n",
    "\n",
    "For example, given the four strings above, the total number of characters of string code (2 + 5 + 10 + 6 = 23) minus the total number of characters in memory for string values (0 + 3 + 7 + 1 = 11) is 23 - 11 = 12."
   ]
  },
  {
   "cell_type": "code",
   "execution_count": 2,
   "id": "5ac1a341",
   "metadata": {},
   "outputs": [],
   "source": [
    "def getStrings():\n",
    "    with open('stringSizes.txt') as file:\n",
    "        return file.read()"
   ]
  },
  {
   "cell_type": "code",
   "execution_count": 3,
   "id": "8eda80c4-6231-41b0-bc6f-f90a003ab49a",
   "metadata": {},
   "outputs": [],
   "source": [
    "# To be implemented!"
   ]
  }
 ],
 "metadata": {
  "kernelspec": {
   "display_name": "Python 3 (ipykernel)",
   "language": "python",
   "name": "python3"
  },
  "language_info": {
   "codemirror_mode": {
    "name": "ipython",
    "version": 3
   },
   "file_extension": ".py",
   "mimetype": "text/x-python",
   "name": "python",
   "nbconvert_exporter": "python",
   "pygments_lexer": "ipython3",
   "version": "3.12.4"
  }
 },
 "nbformat": 4,
 "nbformat_minor": 5
}
