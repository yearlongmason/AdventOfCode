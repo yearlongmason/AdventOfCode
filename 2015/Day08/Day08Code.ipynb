{
 "cells": [
  {
   "cell_type": "markdown",
   "id": "c09ec661",
   "metadata": {},
   "source": [
    "# --- Day 8: Matchsticks ---\n",
    "https://adventofcode.com/2015/day/8"
   ]
  },
  {
   "cell_type": "code",
   "execution_count": 1,
   "id": "5ac1a341",
   "metadata": {},
   "outputs": [],
   "source": [
    "def getStrings():\n",
    "    with open('stringSizes.txt') as file:\n",
    "        return file.read()"
   ]
  },
  {
   "cell_type": "code",
   "execution_count": 2,
   "id": "8eda80c4-6231-41b0-bc6f-f90a003ab49a",
   "metadata": {},
   "outputs": [
    {
     "name": "stdout",
     "output_type": "stream",
     "text": [
      "Total string differences: 1342\n"
     ]
    }
   ],
   "source": [
    "import re\n",
    "\n",
    "# Formatting\n",
    "strings = getStrings()\n",
    "strings = strings.split(\"\\n\")\n",
    "\n",
    "# Loop through each string and keep track of the total character difference\n",
    "totalStringDifference = 0\n",
    "for string in strings:\n",
    "    \n",
    "    # Construct a new string instead of modifying old one\n",
    "    newString = \"\"\n",
    "    # Loop through each character index (except for the \"'s around it)\n",
    "    char = 1\n",
    "    while char <= len(string) - 2:\n",
    "\n",
    "        # If substring is \"\\\\\" (\\\\ regex = r'\\\\\\\\')\n",
    "        if re.match(r'\\\\\\\\', string[char:char + 2]):\n",
    "            newString += \"\\\\\"\n",
    "            char += 2\n",
    "            continue\n",
    "\n",
    "        # If substring is '\\\"' (\" regex = r'\\\\\"')\n",
    "        elif re.match(r'\\\\\"', string[char:char + 2]):\n",
    "            newString += \"\\\"\"\n",
    "            char += 2\n",
    "            continue\n",
    "        \n",
    "        # Check to make sure it's within bounds\n",
    "        # Then check if it is a hex number (Hex regex = r'\\\\x[a-f0-9]{2}')\n",
    "        elif char + 4 <= len(string) + 1 and re.match(r'\\\\x[a-f0-9]{2}', string[char:char + 4]):\n",
    "            newString += \"P\" # Placeholder value since it should always be mapped to 1 character anyway\n",
    "            char += 4\n",
    "        \n",
    "        # If none of these match then just add the character and move on\n",
    "        else:\n",
    "            newString += string[char]\n",
    "            char += 1\n",
    "\n",
    "    # Get the difference between the string lengths\n",
    "    totalStringDifference += len(string) - len(newString)\n",
    "\n",
    "print(f\"Total string differences: {totalStringDifference}\")\n",
    "    "
   ]
  },
  {
   "cell_type": "markdown",
   "id": "c3a29d2c",
   "metadata": {},
   "source": [
    "# --- Part Two ---"
   ]
  },
  {
   "cell_type": "code",
   "execution_count": 3,
   "id": "d9e5c1bc",
   "metadata": {},
   "outputs": [
    {
     "name": "stdout",
     "output_type": "stream",
     "text": [
      "Total string differences: 2074\n"
     ]
    }
   ],
   "source": [
    "# Formatting\n",
    "strings = getStrings()\n",
    "strings = strings.split(\"\\n\")\n",
    "\n",
    "# Loop through each string and keep track of the total character difference\n",
    "totalStringDifference = 0\n",
    "for string in strings:\n",
    "    \n",
    "    # Create new string starting with first quotation mark\n",
    "    newString = \"\\\"\"\n",
    "\n",
    "    # Loop through each character\n",
    "    for char in string:\n",
    "        # Check for a backslash\n",
    "        if char == \"\\\\\":\n",
    "            newString += \"\\\\\\\\\"\n",
    "        # Check for a quote\n",
    "        elif char == \"\\\"\":\n",
    "            newString += \"\\\\\\\"\"\n",
    "        # Otherwise, just add the character\n",
    "        else:\n",
    "            newString += char\n",
    "            \n",
    "    # Add closing quotation mark once at the end of the string\n",
    "    newString += \"\\\"\"\n",
    "\n",
    "    # Get the difference between the string lengths\n",
    "    totalStringDifference += len(newString) - len(string)\n",
    "\n",
    "print(f\"Total string differences: {totalStringDifference}\")"
   ]
  }
 ],
 "metadata": {
  "kernelspec": {
   "display_name": "Python 3",
   "language": "python",
   "name": "python3"
  },
  "language_info": {
   "codemirror_mode": {
    "name": "ipython",
    "version": 3
   },
   "file_extension": ".py",
   "mimetype": "text/x-python",
   "name": "python",
   "nbconvert_exporter": "python",
   "pygments_lexer": "ipython3",
   "version": "3.13.0"
  }
 },
 "nbformat": 4,
 "nbformat_minor": 5
}
