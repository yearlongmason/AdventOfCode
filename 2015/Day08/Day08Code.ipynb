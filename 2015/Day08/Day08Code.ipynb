{
 "cells": [
  {
   "cell_type": "markdown",
   "id": "c09ec661",
   "metadata": {},
   "source": [
    "# --- Day 8: Matchsticks ---\n",
    "https://adventofcode.com/2015/day/8"
   ]
  },
  {
   "cell_type": "code",
   "execution_count": 1,
   "id": "5ac1a341",
   "metadata": {},
   "outputs": [],
   "source": [
    "def getStrings():\n",
    "    with open('stringSizes.txt') as file:\n",
    "        return file.read()"
   ]
  },
  {
   "cell_type": "code",
   "execution_count": 45,
   "id": "8eda80c4-6231-41b0-bc6f-f90a003ab49a",
   "metadata": {},
   "outputs": [
    {
     "ename": "KeyboardInterrupt",
     "evalue": "",
     "output_type": "error",
     "traceback": [
      "\u001b[1;31m---------------------------------------------------------------------------\u001b[0m",
      "\u001b[1;31mKeyboardInterrupt\u001b[0m                         Traceback (most recent call last)",
      "Cell \u001b[1;32mIn[45], line 29\u001b[0m\n\u001b[0;32m     26\u001b[0m     \u001b[38;5;28;01mcontinue\u001b[39;00m\n\u001b[0;32m     28\u001b[0m \u001b[38;5;66;03m# If substring is '\\\"'\u001b[39;00m\n\u001b[1;32m---> 29\u001b[0m \u001b[38;5;28;01mif\u001b[39;00m \u001b[43mre\u001b[49m\u001b[38;5;241;43m.\u001b[39;49m\u001b[43mmatch\u001b[49m\u001b[43m(\u001b[49m\u001b[38;5;124;43mr\u001b[39;49m\u001b[38;5;124;43m'\u001b[39;49m\u001b[38;5;130;43;01m\\\\\u001b[39;49;00m\u001b[38;5;124;43m\"\u001b[39;49m\u001b[38;5;124;43m'\u001b[39;49m\u001b[43m,\u001b[49m\u001b[43m \u001b[49m\u001b[43mstring\u001b[49m\u001b[43m[\u001b[49m\u001b[43mchar\u001b[49m\u001b[43m:\u001b[49m\u001b[43mchar\u001b[49m\u001b[43m \u001b[49m\u001b[38;5;241;43m+\u001b[39;49m\u001b[43m \u001b[49m\u001b[38;5;241;43m2\u001b[39;49m\u001b[43m]\u001b[49m\u001b[43m)\u001b[49m:\n\u001b[0;32m     30\u001b[0m     newString \u001b[38;5;241m+\u001b[39m\u001b[38;5;241m=\u001b[39m \u001b[38;5;124m\"\u001b[39m\u001b[38;5;130;01m\\\"\u001b[39;00m\u001b[38;5;124m\"\u001b[39m\n\u001b[0;32m     31\u001b[0m     char \u001b[38;5;241m+\u001b[39m\u001b[38;5;241m=\u001b[39m \u001b[38;5;241m2\u001b[39m\n",
      "File \u001b[1;32mc:\\Users\\mdude\\AppData\\Local\\Programs\\Python\\Python313\\Lib\\re\\__init__.py:164\u001b[0m, in \u001b[0;36mmatch\u001b[1;34m(pattern, string, flags)\u001b[0m\n\u001b[0;32m    159\u001b[0m PatternError \u001b[38;5;241m=\u001b[39m error \u001b[38;5;241m=\u001b[39m _compiler\u001b[38;5;241m.\u001b[39mPatternError\n\u001b[0;32m    161\u001b[0m \u001b[38;5;66;03m# --------------------------------------------------------------------\u001b[39;00m\n\u001b[0;32m    162\u001b[0m \u001b[38;5;66;03m# public interface\u001b[39;00m\n\u001b[1;32m--> 164\u001b[0m \u001b[38;5;28;01mdef\u001b[39;00m \u001b[38;5;21mmatch\u001b[39m(pattern, string, flags\u001b[38;5;241m=\u001b[39m\u001b[38;5;241m0\u001b[39m):\n\u001b[0;32m    165\u001b[0m \u001b[38;5;250m    \u001b[39m\u001b[38;5;124;03m\"\"\"Try to apply the pattern at the start of the string, returning\u001b[39;00m\n\u001b[0;32m    166\u001b[0m \u001b[38;5;124;03m    a Match object, or None if no match was found.\"\"\"\u001b[39;00m\n\u001b[0;32m    167\u001b[0m     \u001b[38;5;28;01mreturn\u001b[39;00m _compile(pattern, flags)\u001b[38;5;241m.\u001b[39mmatch(string)\n",
      "\u001b[1;31mKeyboardInterrupt\u001b[0m: "
     ]
    }
   ],
   "source": [
    "# Hex regex = r'\\\\x[a-f0-9]{2}'\n",
    "# \\\\ regex = r'\\\\\\\\'\n",
    "# \" regex = r'\\\\\"'\n",
    "import re\n",
    "\n",
    "strings = getStrings()\n",
    "strings = strings.split(\"\\n\")\n",
    "newStrings = []\n",
    "\n",
    "#re.findall(r'\\\\x[a-f0-9]{2}', r'\\x83qg\\\"nwgugfmfpzlrvty\\\"ryoxm\"')\n",
    "#re.findall(r'\\\\\\\\', r'\\x83qg\\\"nwgugfmfpzlrvty\\\\ryoxm\"')\n",
    "#re.findall(r'\\\\\"', r'\\x83qg\\\"nwgugfmfpzlrvty\\\\ryoxm\"')\n",
    "\n",
    "for string in strings:\n",
    "    \n",
    "    # Construct a new string instead of modifying old one\n",
    "    newString = \"\"\n",
    "    # Loop through each character index\n",
    "    char = 0\n",
    "    while char != len(string) - 1:\n",
    "\n",
    "        # If substring is \"\\\\\"\n",
    "        if re.match(r'\\\\\\\\', string[char:char + 2]):\n",
    "            newString += \"\\\\\"\n",
    "            char += 2\n",
    "            continue\n",
    "\n",
    "        # If substring is '\\\"'\n",
    "        if re.match(r'\\\\\"', string[char:char + 2]):\n",
    "            newString += \"\\\"\"\n",
    "            char += 2\n",
    "            continue\n",
    "        \n",
    "        # Check to make sure it's within bounds first\n",
    "        if char + 4 <= len(string) + 1:\n",
    "            if re.match(r'\\\\x[a-f0-9]{2}', string[char:char + 4]):\n",
    "                newString += \"H\" # Placeholder\n",
    "                char += 4\n",
    "                #bytearray.fromhex(\"27\").decode()\n",
    "\n",
    "        # Incrememnt char\n",
    "        char += 1\n",
    "    \n"
   ]
  },
  {
   "cell_type": "code",
   "execution_count": 42,
   "id": "4ab95867",
   "metadata": {},
   "outputs": [
    {
     "ename": "UnicodeDecodeError",
     "evalue": "'utf-8' codec can't decode byte 0xd4 in position 0: unexpected end of data",
     "output_type": "error",
     "traceback": [
      "\u001b[1;31m---------------------------------------------------------------------------\u001b[0m",
      "\u001b[1;31mUnicodeDecodeError\u001b[0m                        Traceback (most recent call last)",
      "Cell \u001b[1;32mIn[42], line 1\u001b[0m\n\u001b[1;32m----> 1\u001b[0m \u001b[38;5;28;43mbytearray\u001b[39;49m\u001b[38;5;241;43m.\u001b[39;49m\u001b[43mfromhex\u001b[49m\u001b[43m(\u001b[49m\u001b[38;5;124;43m\"\u001b[39;49m\u001b[38;5;124;43md4\u001b[39;49m\u001b[38;5;124;43m\"\u001b[39;49m\u001b[43m)\u001b[49m\u001b[38;5;241;43m.\u001b[39;49m\u001b[43mdecode\u001b[49m\u001b[43m(\u001b[49m\u001b[43m)\u001b[49m\n",
      "\u001b[1;31mUnicodeDecodeError\u001b[0m: 'utf-8' codec can't decode byte 0xd4 in position 0: unexpected end of data"
     ]
    }
   ],
   "source": [
    "bytearray.fromhex(\"d4\").decode()"
   ]
  }
 ],
 "metadata": {
  "kernelspec": {
   "display_name": "Python 3",
   "language": "python",
   "name": "python3"
  },
  "language_info": {
   "codemirror_mode": {
    "name": "ipython",
    "version": 3
   },
   "file_extension": ".py",
   "mimetype": "text/x-python",
   "name": "python",
   "nbconvert_exporter": "python",
   "pygments_lexer": "ipython3",
   "version": "3.13.0"
  }
 },
 "nbformat": 4,
 "nbformat_minor": 5
}
