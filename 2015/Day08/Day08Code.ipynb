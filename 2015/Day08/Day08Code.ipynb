{
 "cells": [
  {
   "cell_type": "markdown",
   "id": "c09ec661",
   "metadata": {},
   "source": [
    "# --- Day 8: Matchsticks ---\n",
    "https://adventofcode.com/2015/day/8"
   ]
  },
  {
   "cell_type": "code",
   "execution_count": 3,
   "id": "5ac1a341",
   "metadata": {},
   "outputs": [],
   "source": [
    "def getStrings():\n",
    "    with open('stringSizes.txt') as file:\n",
    "        return file.read()"
   ]
  },
  {
   "cell_type": "code",
   "execution_count": 4,
   "id": "8eda80c4-6231-41b0-bc6f-f90a003ab49a",
   "metadata": {},
   "outputs": [
    {
     "name": "stdout",
     "output_type": "stream",
     "text": [
      "To be implemented!\n"
     ]
    }
   ],
   "source": [
    "# Hex regex = r'\\\\x[a-f0-9]{2}'\n",
    "# \\\\ regex = r'\\\\\\\\'\n",
    "# \" regex = r'\\\\\"'\n",
    "import re\n",
    "\n",
    "strings = getStrings()\n",
    "strings = strings.split(\"\\n\")\n",
    "\n",
    "#re.findall(r'\\\\x[a-f0-9]{2}', r'\\x83qg\\\"nwgugfmfpzlrvty\\\"ryoxm\"')\n",
    "#re.findall(r'\\\\\\\\', r'\\x83qg\\\"nwgugfmfpzlrvty\\\\ryoxm\"')\n",
    "#re.findall(r'\\\\\"', r'\\x83qg\\\"nwgugfmfpzlrvty\\\\ryoxm\"')\n",
    "print(\"To be implemented!\")"
   ]
  }
 ],
 "metadata": {
  "kernelspec": {
   "display_name": "Python 3 (ipykernel)",
   "language": "python",
   "name": "python3"
  },
  "language_info": {
   "codemirror_mode": {
    "name": "ipython",
    "version": 3
   },
   "file_extension": ".py",
   "mimetype": "text/x-python",
   "name": "python",
   "nbconvert_exporter": "python",
   "pygments_lexer": "ipython3",
   "version": "3.12.7"
  }
 },
 "nbformat": 4,
 "nbformat_minor": 5
}
