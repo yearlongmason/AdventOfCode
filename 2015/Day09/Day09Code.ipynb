{
 "cells": [
  {
   "cell_type": "markdown",
   "metadata": {},
   "source": [
    "# --- Day 9: All in a Single Night ---\n",
    "https://adventofcode.com/2015/day/9"
   ]
  },
  {
   "cell_type": "code",
   "execution_count": 1,
   "metadata": {},
   "outputs": [],
   "source": [
    "def getLocations():\n",
    "    with open(\"locations.txt\") as file:\n",
    "        return file.read()"
   ]
  },
  {
   "cell_type": "code",
   "execution_count": 20,
   "metadata": {},
   "outputs": [
    {
     "name": "stdout",
     "output_type": "stream",
     "text": [
      "Distance of the shortest route: 117\n",
      "Distance of the longest route:  909\n"
     ]
    }
   ],
   "source": [
    "import re\n",
    "from itertools import permutations\n",
    "\n",
    "# Formatting\n",
    "locations = getLocations()\n",
    "locations = locations.split(\"\\n\")\n",
    "locations = [re.findall(r'(.*) to (.*) = (.*)', x)[0] for x in locations]\n",
    "\n",
    "# Get all unique locations\n",
    "uniqueLocations = []\n",
    "[uniqueLocations.extend([x[0], x[1]]) for x in locations]\n",
    "uniqueLocations = list(set(uniqueLocations))\n",
    "\n",
    "# Build a graph of all location paths\n",
    "locationGraph = dict({x:{} for x in uniqueLocations})\n",
    "for i in locations:\n",
    "    locationGraph[i[0]].update({i[1]: int(i[2])})\n",
    "    locationGraph[i[1]].update({i[0]: int(i[2])})\n",
    "\n",
    "# Loop through every permutation\n",
    "allCosts = []\n",
    "for permutation in permutations(uniqueLocations):\n",
    "    \n",
    "    # Find the cost of the current permutation\n",
    "    currentCost = 0\n",
    "    for i in range(len(permutation) - 1):\n",
    "        currentCost += locationGraph[permutation[i]][permutation[i + 1]]\n",
    "    allCosts.append(currentCost)\n",
    "\n",
    "print(f\"Distance of the shortest route: {min(allCosts)}\")\n",
    "print(f\"Distance of the longest route:  {max(allCosts)}\")"
   ]
  }
 ],
 "metadata": {
  "kernelspec": {
   "display_name": "base",
   "language": "python",
   "name": "python3"
  },
  "language_info": {
   "codemirror_mode": {
    "name": "ipython",
    "version": 3
   },
   "file_extension": ".py",
   "mimetype": "text/x-python",
   "name": "python",
   "nbconvert_exporter": "python",
   "pygments_lexer": "ipython3",
   "version": "3.12.7"
  }
 },
 "nbformat": 4,
 "nbformat_minor": 2
}
