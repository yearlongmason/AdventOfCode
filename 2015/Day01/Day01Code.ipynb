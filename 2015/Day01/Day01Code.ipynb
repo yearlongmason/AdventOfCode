{
 "cells": [
  {
   "cell_type": "markdown",
   "id": "92dc8f14",
   "metadata": {},
   "source": [
    "# --- Day 1: Not Quite Lisp ---\n",
    "https://adventofcode.com/2015/day/1"
   ]
  },
  {
   "cell_type": "code",
   "execution_count": 2,
   "id": "0d024167",
   "metadata": {
    "scrolled": true
   },
   "outputs": [],
   "source": [
    "def getInstructions():\n",
    "    with open('SantaInstructions.txt') as file:\n",
    "        return file.read()"
   ]
  },
  {
   "cell_type": "code",
   "execution_count": 3,
   "id": "92af17de",
   "metadata": {},
   "outputs": [
    {
     "name": "stdout",
     "output_type": "stream",
     "text": [
      "Floor: 74\n"
     ]
    }
   ],
   "source": [
    "instructions = getInstructions()\n",
    "floor = 0\n",
    "for i in instructions:\n",
    "    if i == '(':\n",
    "        floor += 1\n",
    "    else:\n",
    "        floor -= 1\n",
    "        \n",
    "print(f'Floor: {floor}')"
   ]
  },
  {
   "cell_type": "markdown",
   "id": "80ed64b8",
   "metadata": {},
   "source": [
    "# Part 1 Optimized"
   ]
  },
  {
   "cell_type": "code",
   "execution_count": 5,
   "id": "544f2b3a",
   "metadata": {},
   "outputs": [
    {
     "name": "stdout",
     "output_type": "stream",
     "text": [
      "Floor: 74\n"
     ]
    }
   ],
   "source": [
    "instructions = getInstructions()\n",
    "floor = instructions.count('(') - instructions.count(')')\n",
    "print(f'Floor: {floor}')"
   ]
  },
  {
   "cell_type": "markdown",
   "id": "fd6960d9",
   "metadata": {},
   "source": [
    "# --- Part Two ---"
   ]
  },
  {
   "cell_type": "code",
   "execution_count": 7,
   "id": "db866644",
   "metadata": {},
   "outputs": [
    {
     "name": "stdout",
     "output_type": "stream",
     "text": [
      "First time the plans went to the basement: 1795\n"
     ]
    }
   ],
   "source": [
    "instructions = getInstructions()\n",
    "floor = 0\n",
    "for i, val in enumerate(instructions):\n",
    "    if val == '(':\n",
    "        floor += 1\n",
    "    else:\n",
    "        floor -= 1\n",
    "    if floor == -1:\n",
    "        firstBasement = i+1\n",
    "        break\n",
    "\n",
    "print(f'First time the plans went to the basement: {firstBasement}')"
   ]
  }
 ],
 "metadata": {
  "kernelspec": {
   "display_name": "Python 3 (ipykernel)",
   "language": "python",
   "name": "python3"
  },
  "language_info": {
   "codemirror_mode": {
    "name": "ipython",
    "version": 3
   },
   "file_extension": ".py",
   "mimetype": "text/x-python",
   "name": "python",
   "nbconvert_exporter": "python",
   "pygments_lexer": "ipython3",
   "version": "3.12.7"
  }
 },
 "nbformat": 4,
 "nbformat_minor": 5
}
