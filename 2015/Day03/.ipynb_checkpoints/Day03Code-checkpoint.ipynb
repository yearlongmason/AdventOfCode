{
 "cells": [
  {
   "cell_type": "markdown",
   "id": "138705cb",
   "metadata": {},
   "source": [
    "# --- Day 3: Perfectly Spherical Houses in a Vacuum ---\n",
    "https://adventofcode.com/2015/day/3\n",
    "\n",
    "Santa is delivering presents to an infinite two-dimensional grid of houses.\n",
    "\n",
    "He begins by delivering a present to the house at his starting location, and then an elf at the North Pole calls him via radio and tells him where to move next. Moves are always exactly one house to the north (^), south (v), east (>), or west (<). After each move, he delivers another present to the house at his new location.\n",
    "\n",
    "However, the elf back at the north pole has had a little too much eggnog, and so his directions are a little off, and Santa ends up visiting some houses more than once. How many houses receive at least one present?\n",
    "\n",
    "For example:\n",
    "\n",
    "- '>' delivers presents to 2 houses: one at the starting location, and one to the east.\n",
    "- '^>v<' delivers presents to 4 houses in a square, including twice to the house at his starting/ending location.\n",
    "- '^v^v^v^v^v' delivers a bunch of presents to some very lucky children at only 2 houses."
   ]
  },
  {
   "cell_type": "code",
   "execution_count": 2,
   "id": "73f89f08",
   "metadata": {
    "scrolled": true
   },
   "outputs": [],
   "source": [
    "def getDirs():\n",
    "    with open('santaDirections.txt') as file:\n",
    "        return file.read()"
   ]
  },
  {
   "cell_type": "code",
   "execution_count": 3,
   "id": "670971cc",
   "metadata": {},
   "outputs": [
    {
     "name": "stdout",
     "output_type": "stream",
     "text": [
      "Houses visited at least once: 2565\n"
     ]
    }
   ],
   "source": [
    "dirs = getDirs()\n",
    "#Santa coordinates\n",
    "x=0\n",
    "y=0\n",
    "\n",
    "#Loops through each step, and if it's a new house (x,y coordinate) it'll add it to the list of houses\n",
    "allHouses=[[x,y]]\n",
    "for i in dirs:\n",
    "    if i == '^':\n",
    "        y+=1\n",
    "    elif i == 'v':\n",
    "        y-=1\n",
    "    elif i == '>':\n",
    "        x+=1\n",
    "    else:\n",
    "        x-=1\n",
    "    if [x,y] not in allHouses:\n",
    "        allHouses.append([x,y])\n",
    "\n",
    "print(f'Houses visited at least once: {len(allHouses)}')"
   ]
  },
  {
   "cell_type": "markdown",
   "id": "31acd855",
   "metadata": {},
   "source": [
    "# --- Part Two ---\n",
    "The next year, to speed up the process, Santa creates a robot version of himself, Robo-Santa, to deliver presents with him.\n",
    "\n",
    "Santa and Robo-Santa start at the same location (delivering two presents to the same starting house), then take turns moving based on instructions from the elf, who is eggnoggedly reading from the same script as the previous year.\n",
    "\n",
    "This year, how many houses receive at least one present?\n",
    "\n",
    "For example:\n",
    "\n",
    "- ^v delivers presents to 3 houses, because Santa goes north, and then Robo-Santa goes south.\n",
    "- ^>v< now delivers presents to 3 houses, and Santa and Robo-Santa end up back where they started.\n",
    "- ^v^v^v^v^v now delivers presents to 11 houses, with Santa going one direction and Robo-Santa going the other."
   ]
  },
  {
   "cell_type": "code",
   "execution_count": 5,
   "id": "a515b3c2",
   "metadata": {},
   "outputs": [
    {
     "name": "stdout",
     "output_type": "stream",
     "text": [
      "Houses visited at least once: 2639\n"
     ]
    }
   ],
   "source": [
    "dirs = getDirs()\n",
    "\n",
    "#Santa coordinates\n",
    "x=0\n",
    "y=0\n",
    "#Robo-Santa coordinates\n",
    "rx=0\n",
    "ry=0\n",
    "\n",
    "#Loops through each step (alternating), and if it's a new house (x,y coordinate) it'll add it to the list of houses\n",
    "housesVisited = [[x,y]]\n",
    "for i in range(len(dirs)):\n",
    "    if i%2: #If it's directions for real Santa\n",
    "        if dirs[i] == '^':\n",
    "            y+=1\n",
    "        elif dirs[i] == 'v':\n",
    "            y-=1\n",
    "        elif dirs[i] == '>':\n",
    "            x+=1\n",
    "        else:\n",
    "            x-=1\n",
    "        if [x,y] not in housesVisited:\n",
    "            housesVisited.append([x,y])\n",
    "    else: #If it's directions for Robo-Santa\n",
    "        if dirs[i] == '^':\n",
    "            ry+=1\n",
    "        elif dirs[i] == 'v':\n",
    "            ry-=1\n",
    "        elif dirs[i] == '>':\n",
    "            rx+=1\n",
    "        else:\n",
    "            rx-=1\n",
    "        if [rx,ry] not in housesVisited:\n",
    "            housesVisited.append([rx,ry])\n",
    "            \n",
    "print(f'Houses visited at least once: {len(housesVisited)}')"
   ]
  }
 ],
 "metadata": {
  "kernelspec": {
   "display_name": "Python 3 (ipykernel)",
   "language": "python",
   "name": "python3"
  },
  "language_info": {
   "codemirror_mode": {
    "name": "ipython",
    "version": 3
   },
   "file_extension": ".py",
   "mimetype": "text/x-python",
   "name": "python",
   "nbconvert_exporter": "python",
   "pygments_lexer": "ipython3",
   "version": "3.12.4"
  }
 },
 "nbformat": 4,
 "nbformat_minor": 5
}
