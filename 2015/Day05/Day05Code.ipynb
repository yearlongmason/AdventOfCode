{
 "cells": [
  {
   "cell_type": "markdown",
   "id": "17fb8ffc",
   "metadata": {},
   "source": [
    "# --- Day 5: Doesn't He Have Intern-Elves For This? ---\n",
    "https://adventofcode.com/2015/day/5"
   ]
  },
  {
   "cell_type": "code",
   "execution_count": 2,
   "id": "591bbec5",
   "metadata": {},
   "outputs": [],
   "source": [
    "def getSantaList():\n",
    "    with open('naughtyNice.txt') as file:\n",
    "        return file.read()"
   ]
  },
  {
   "cell_type": "code",
   "execution_count": 3,
   "id": "6ecff758",
   "metadata": {},
   "outputs": [
    {
     "name": "stdout",
     "output_type": "stream",
     "text": [
      "Number of nice strings: 255\n"
     ]
    }
   ],
   "source": [
    "def isNice(s):\n",
    "    \"\"\"This goes through each of the specified rules that qualify something as a nice string\n",
    "    Return: True if string is nice, False if string is naughty\"\"\"\n",
    "    \n",
    "    #Checks to make sure there are at least 3 vowels\n",
    "    if (s.count('a') + s.count('e') + s.count('i') + s.count('o') + s.count('u')) < 3:\n",
    "        return False\n",
    "    \n",
    "    #Checks to make sure no forbidden substrings exist\n",
    "    if 'ab' in s or 'cd' in s or 'pq' in s or 'xy' in s:\n",
    "        return False\n",
    "    \n",
    "    #If it makes it here then it passed the other tests, so if it has a double letter, then it's nice\n",
    "    for i in range(1,len(s)):\n",
    "        if s[i]==s[i-1]:\n",
    "            return True\n",
    "    return False #Otherwise return False\n",
    "\n",
    "santasList = getSantaList().split('\\n')\n",
    "numNiceStrings = sum([int(isNice(x)) for x in santasList]) #Gets the sum of all strings in santasList that are nice\n",
    "print(f'Number of nice strings: {numNiceStrings}')"
   ]
  },
  {
   "cell_type": "markdown",
   "id": "1e6465b0",
   "metadata": {},
   "source": [
    "# --- Part Two ---"
   ]
  },
  {
   "cell_type": "code",
   "execution_count": 5,
   "id": "478a1e41",
   "metadata": {},
   "outputs": [
    {
     "name": "stdout",
     "output_type": "stream",
     "text": [
      "Number of nice strings: 55\n"
     ]
    }
   ],
   "source": [
    "def isNice(s):\n",
    "    \"\"\"This goes through each of the specified rules that qualify something as a nice string\n",
    "    Return: True if string is nice, False if string is naughty\"\"\"\n",
    "    \n",
    "    #This checks for the rule about one letter repeating with exactly one letter in between\n",
    "    for i in range(0,len(s)-2):\n",
    "        if s[i] == s[i+2]:\n",
    "            break #This means that it won't return false because the else won't run\n",
    "    else:\n",
    "        return False\n",
    "    \n",
    "    #This checks for the rule about substring repeats\n",
    "    for i in range(len(s)-1):\n",
    "        tempS = s[0:i] + ' ' +s[i+2:] #Creates the string without the selected substring with a space to avoid connecting\n",
    "        if s[i]+s[i+1] in tempS:\n",
    "            return True\n",
    "    return False\n",
    "\n",
    "santasList = getSantaList().split('\\n')\n",
    "numNiceStrings = sum([int(isNice(x)) for x in santasList]) #Gets the sum of all strings in santasList that are nice\n",
    "print(f'Number of nice strings: {numNiceStrings}')"
   ]
  }
 ],
 "metadata": {
  "kernelspec": {
   "display_name": "Python 3 (ipykernel)",
   "language": "python",
   "name": "python3"
  },
  "language_info": {
   "codemirror_mode": {
    "name": "ipython",
    "version": 3
   },
   "file_extension": ".py",
   "mimetype": "text/x-python",
   "name": "python",
   "nbconvert_exporter": "python",
   "pygments_lexer": "ipython3",
   "version": "3.12.7"
  }
 },
 "nbformat": 4,
 "nbformat_minor": 5
}
