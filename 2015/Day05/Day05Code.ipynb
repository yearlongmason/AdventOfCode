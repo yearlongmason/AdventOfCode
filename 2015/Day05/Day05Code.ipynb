{
 "cells": [
  {
   "cell_type": "markdown",
   "id": "17fb8ffc",
   "metadata": {},
   "source": [
    "# --- Day 5: Doesn't He Have Intern-Elves For This? ---\n",
    "https://adventofcode.com/2015/day/5\n",
    "\n",
    "Santa needs help figuring out which strings in his text file are naughty or nice.\n",
    "\n",
    "A nice string is one with all of the following properties:\n",
    "\n",
    "- It contains at least three vowels (aeiou only), like aei, xazegov, or aeiouaeiouaeiou.\n",
    "- It contains at least one letter that appears twice in a row, like xx, abcdde (dd), or aabbccdd (aa, bb, cc, or dd).\n",
    "- It does not contain the strings ab, cd, pq, or xy, even if they are part of one of the other requirements.\n",
    "\n",
    "For example:\n",
    "\n",
    "- ugknbfddgicrmopn is nice because it has at least three vowels (u...i...o...), a double letter (...dd...), and none of the disallowed substrings.\n",
    "- aaa is nice because it has at least three vowels and a double letter, even though the letters used by different rules overlap.\n",
    "- jchzalrnumimnmhp is naughty because it has no double letter.\n",
    "- haegwjzuvuyypxyu is naughty because it contains the string xy.\n",
    "- dvszwmarrgswjxmb is naughty because it contains only one vowel.\n",
    "\n",
    "How many strings are nice?"
   ]
  },
  {
   "cell_type": "code",
   "execution_count": 2,
   "id": "591bbec5",
   "metadata": {},
   "outputs": [],
   "source": [
    "def getSantaList():\n",
    "    with open('naughtyNice.txt') as file:\n",
    "        return file.read()"
   ]
  },
  {
   "cell_type": "code",
   "execution_count": 3,
   "id": "6ecff758",
   "metadata": {},
   "outputs": [
    {
     "name": "stdout",
     "output_type": "stream",
     "text": [
      "Number of nice strings: 255\n"
     ]
    }
   ],
   "source": [
    "def isNice(s):\n",
    "    \"\"\"This goes through each of the specefied rules that qualifies something as a nice string\n",
    "    Return: True if string is nice, False if string is naughty\"\"\"\n",
    "    \n",
    "    #Checks to make sure there are at least 3 vowels\n",
    "    if (s.count('a') + s.count('e') + s.count('i') + s.count('o') + s.count('u')) < 3:\n",
    "        return False\n",
    "    \n",
    "    #Checks to make sure no forbidden substrings exist\n",
    "    if 'ab' in s or 'cd' in s or 'pq' in s or 'xy' in s:\n",
    "        return False\n",
    "    \n",
    "    #If it makes it here then it passed the other tests, so if it has a double letter, then it's nice\n",
    "    for i in range(1,len(s)):\n",
    "        if s[i]==s[i-1]:\n",
    "            return True\n",
    "    return False #Otherwise return False\n",
    "\n",
    "santasList = getSantaList().split('\\n')\n",
    "numNiceStrings = sum([int(isNice(x)) for x in santasList]) #Gets the sum of all strings in santasList that are nice\n",
    "print(f'Number of nice strings: {numNiceStrings}')"
   ]
  },
  {
   "cell_type": "markdown",
   "id": "1e6465b0",
   "metadata": {},
   "source": [
    "# --- Part Two ---\n",
    "Realizing the error of his ways, Santa has switched to a better model of determining whether a string is naughty or nice. None of the old rules apply, as they are all clearly ridiculous.\n",
    "\n",
    "Now, a nice string is one with all of the following properties:\n",
    "\n",
    "- It contains a pair of any two letters that appears at least twice in the string without overlapping, like xyxy (xy) or aabcdefgaa (aa), but not like aaa (aa, but it overlaps).\n",
    "- It contains at least one letter which repeats with exactly one letter between them, like xyx, abcdefeghi (efe), or even aaa.\n",
    "\n",
    "For example:\n",
    "\n",
    "- qjhvhtzxzqqjkmpb is nice because is has a pair that appears twice (qj) and a letter that repeats with exactly one letter between them (zxz).\n",
    "- xxyxx is nice because it has a pair that appears twice and a letter that repeats with one between, even though the letters used by each rule overlap.\n",
    "- uurcxstgmygtbstg is naughty because it has a pair (tg) but no repeat with a single letter between them.\n",
    "- ieodomkazucvgmuy is naughty because it has a repeating letter with one between (odo), but no pair that appears twice.\n",
    "\n",
    "How many strings are nice under these new rules?"
   ]
  },
  {
   "cell_type": "code",
   "execution_count": 5,
   "id": "478a1e41",
   "metadata": {},
   "outputs": [
    {
     "name": "stdout",
     "output_type": "stream",
     "text": [
      "Number of nice strings: 55\n"
     ]
    }
   ],
   "source": [
    "def isNice(s):\n",
    "    \"\"\"This goes through each of the specefied rules that qualifies something as a nice string\n",
    "    Return: True if string is nice, False if string is naughty\"\"\"\n",
    "    \n",
    "    #This checks for the rule about one letter repeating with exactly one letter in between\n",
    "    for i in range(0,len(s)-2):\n",
    "        if s[i] == s[i+2]:\n",
    "            break #This means that it won't return false because the else won't run\n",
    "    else:\n",
    "        return False\n",
    "    \n",
    "    #This checks for the rule about substring repeats\n",
    "    for i in range(len(s)-1):\n",
    "        tempS = s[0:i] + ' ' +s[i+2:] #Creates the string without the selected substring with a space to avoid connecting\n",
    "        if s[i]+s[i+1] in tempS:\n",
    "            return True\n",
    "    return False\n",
    "\n",
    "santasList = getSantaList().split('\\n')\n",
    "numNiceStrings = sum([int(isNice(x)) for x in santasList]) #Gets the sum of all strings in santasList that are nice\n",
    "print(f'Number of nice strings: {numNiceStrings}')"
   ]
  }
 ],
 "metadata": {
  "kernelspec": {
   "display_name": "Python 3 (ipykernel)",
   "language": "python",
   "name": "python3"
  },
  "language_info": {
   "codemirror_mode": {
    "name": "ipython",
    "version": 3
   },
   "file_extension": ".py",
   "mimetype": "text/x-python",
   "name": "python",
   "nbconvert_exporter": "python",
   "pygments_lexer": "ipython3",
   "version": "3.12.7"
  }
 },
 "nbformat": 4,
 "nbformat_minor": 5
}
