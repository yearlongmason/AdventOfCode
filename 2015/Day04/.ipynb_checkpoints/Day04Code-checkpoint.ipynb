{
 "cells": [
  {
   "cell_type": "markdown",
   "id": "679d5c29",
   "metadata": {},
   "source": [
    "# --- Day 4: The Ideal Stocking Stuffer ---\n",
    "https://adventofcode.com/2015/day/4\n",
    "\n",
    "Santa needs help mining some AdventCoins (very similar to bitcoins) to use as gifts for all the economically forward-thinking little girls and boys.\n",
    "\n",
    "To do this, he needs to find MD5 hashes which, in hexadecimal, start with at least five zeroes. The input to the MD5 hash is some secret key (your puzzle input, given below) followed by a number in decimal. To mine AdventCoins, you must find Santa the lowest positive number (no leading zeroes: 1, 2, 3, ...) that produces such a hash.\n",
    "\n",
    "For example:\n",
    "\n",
    "- If your secret key is abcdef, the answer is 609043, because the MD5 hash of abcdef609043 starts with five zeroes (000001dbbfa...), and it is the lowest such number to do so.\n",
    "- If your secret key is pqrstuv, the lowest number it combines with to make an MD5 hash starting with five zeroes is 1048970; that is, the MD5 hash of pqrstuv1048970 looks like 000006136ef....\n",
    "\n",
    "Your puzzle input is bgvyzdsv."
   ]
  },
  {
   "cell_type": "code",
   "execution_count": 2,
   "id": "ca2df4d9",
   "metadata": {},
   "outputs": [
    {
     "name": "stdout",
     "output_type": "stream",
     "text": [
      "Answer: 254575\n"
     ]
    }
   ],
   "source": [
    "import hashlib\n",
    "\n",
    "key = 'bgvyzdsv'\n",
    "\n",
    "#Loops until the answer is found\n",
    "counter = 1 #Counter keeps track of the potential answer\n",
    "while True:\n",
    "    if hashlib.md5(bytes(key + str(counter), 'utf-8')).hexdigest()[0:5] == '00000': #if md5 hash starts with '00000' break\n",
    "        break\n",
    "    counter+=1\n",
    "\n",
    "print(f'Answer: {counter}')"
   ]
  },
  {
   "cell_type": "markdown",
   "id": "5828658c",
   "metadata": {},
   "source": [
    "# --- Part Two ---\n",
    "Now find one that starts with six zeroes."
   ]
  },
  {
   "cell_type": "code",
   "execution_count": 4,
   "id": "915928fe",
   "metadata": {},
   "outputs": [
    {
     "name": "stdout",
     "output_type": "stream",
     "text": [
      "Answer: 1038736\n"
     ]
    }
   ],
   "source": [
    "import hashlib\n",
    "\n",
    "key = 'bgvyzdsv'\n",
    "\n",
    "#Loops until the answer is found\n",
    "counter = 1 #Counter keeps track of the potential answer\n",
    "while True:\n",
    "    if hashlib.md5(bytes(key + str(counter), 'utf-8')).hexdigest()[0:6]=='000000': #if md5 hash starts with '000000' break\n",
    "        break\n",
    "    counter+=1\n",
    "    \n",
    "print(f'Answer: {counter}')"
   ]
  }
 ],
 "metadata": {
  "kernelspec": {
   "display_name": "Python 3 (ipykernel)",
   "language": "python",
   "name": "python3"
  },
  "language_info": {
   "codemirror_mode": {
    "name": "ipython",
    "version": 3
   },
   "file_extension": ".py",
   "mimetype": "text/x-python",
   "name": "python",
   "nbconvert_exporter": "python",
   "pygments_lexer": "ipython3",
   "version": "3.12.4"
  }
 },
 "nbformat": 4,
 "nbformat_minor": 5
}
