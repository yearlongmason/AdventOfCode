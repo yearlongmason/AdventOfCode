{
 "cells": [
  {
   "cell_type": "markdown",
   "id": "679d5c29",
   "metadata": {},
   "source": [
    "# --- Day 4: The Ideal Stocking Stuffer ---\n",
    "https://adventofcode.com/2015/day/4"
   ]
  },
  {
   "cell_type": "code",
   "execution_count": 2,
   "id": "7320f667-a0e2-4877-a6ec-d4fcc15df413",
   "metadata": {},
   "outputs": [],
   "source": [
    "def getKey():\n",
    "    with open(\"key.txt\") as file:\n",
    "        return file.read()"
   ]
  },
  {
   "cell_type": "code",
   "execution_count": 3,
   "id": "ca2df4d9",
   "metadata": {},
   "outputs": [
    {
     "name": "stdout",
     "output_type": "stream",
     "text": [
      "Answer: 254575\n"
     ]
    }
   ],
   "source": [
    "import hashlib\n",
    "\n",
    "key = getKey()\n",
    "\n",
    "#Loops until the answer is found\n",
    "counter = 1 #Counter keeps track of the potential answer\n",
    "while True:\n",
    "    if hashlib.md5(bytes(key + str(counter), 'utf-8')).hexdigest()[0:5] == '00000': #if md5 hash starts with '00000' break\n",
    "        break\n",
    "    counter+=1\n",
    "\n",
    "print(f'Answer: {counter}')"
   ]
  },
  {
   "cell_type": "markdown",
   "id": "5828658c",
   "metadata": {},
   "source": [
    "# --- Part Two ---"
   ]
  },
  {
   "cell_type": "code",
   "execution_count": 5,
   "id": "915928fe",
   "metadata": {},
   "outputs": [
    {
     "name": "stdout",
     "output_type": "stream",
     "text": [
      "Answer: 1038736\n"
     ]
    }
   ],
   "source": [
    "import hashlib\n",
    "\n",
    "key = getKey()\n",
    "\n",
    "#Loops until the answer is found\n",
    "counter = 1 #Counter keeps track of the potential answer\n",
    "while True:\n",
    "    if hashlib.md5(bytes(key + str(counter), 'utf-8')).hexdigest()[0:6]=='000000': #if md5 hash starts with '000000' break\n",
    "        break\n",
    "    counter+=1\n",
    "    \n",
    "print(f'Answer: {counter}')"
   ]
  }
 ],
 "metadata": {
  "kernelspec": {
   "display_name": "Python 3 (ipykernel)",
   "language": "python",
   "name": "python3"
  },
  "language_info": {
   "codemirror_mode": {
    "name": "ipython",
    "version": 3
   },
   "file_extension": ".py",
   "mimetype": "text/x-python",
   "name": "python",
   "nbconvert_exporter": "python",
   "pygments_lexer": "ipython3",
   "version": "3.12.7"
  }
 },
 "nbformat": 4,
 "nbformat_minor": 5
}
