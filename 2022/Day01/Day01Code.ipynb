{
 "cells": [
  {
   "cell_type": "markdown",
   "id": "1e1840f2",
   "metadata": {},
   "source": [
    "# --- Day 1: Calorie Counting ---\n",
    "https://adventofcode.com/2022/day/1"
   ]
  },
  {
   "cell_type": "code",
   "execution_count": 2,
   "id": "ec644e2b",
   "metadata": {},
   "outputs": [],
   "source": [
    "def getCals():\n",
    "    with open('calories.txt') as file:\n",
    "        return file.read()"
   ]
  },
  {
   "cell_type": "code",
   "execution_count": 3,
   "id": "1c8a00b6",
   "metadata": {},
   "outputs": [
    {
     "name": "stdout",
     "output_type": "stream",
     "text": [
      "Most calories carried by one elf: 69289\n"
     ]
    }
   ],
   "source": [
    "#Formatting input\n",
    "cals = getCals().split('\\n\\n') #Splits by every new elf\n",
    "cals = [x.split('\\n') for x in cals] #List comprehension that splits each entry per elf\n",
    "for i in range(len(cals)):\n",
    "    for j in range(len(cals[i])):\n",
    "        cals[i][j] = int(cals[i][j]) #Casts all calorie entries as integers\n",
    "        \n",
    "allElves =[] #List of all total calories per elf\n",
    "for i in range(len(cals)):\n",
    "    allElves.append(0) #Adds a new count of calories for each elf\n",
    "    for j in range(len(cals[i])):\n",
    "        allElves[-1]+=cals[i][j] #Adds the calories per item to the last elf that was added\n",
    "        \n",
    "print(f\"Most calories carried by one elf: {max(allElves)}\") #Prints the max to find the elf with the most calories"
   ]
  },
  {
   "cell_type": "markdown",
   "id": "500939d7",
   "metadata": {},
   "source": [
    "# --- Part Two ---"
   ]
  },
  {
   "cell_type": "code",
   "execution_count": 5,
   "id": "72d6788b",
   "metadata": {},
   "outputs": [
    {
     "name": "stdout",
     "output_type": "stream",
     "text": [
      "Most calories carried by one elf: 69289\n",
      "Sum of the calories carried by the top three elves: 205615\n"
     ]
    }
   ],
   "source": [
    "#Formatting input\n",
    "cals = getCals().split('\\n\\n') #Splits by every new elf\n",
    "cals = [x.split('\\n') for x in cals] #List comprehension that splits each entry per elf\n",
    "for i in range(len(cals)):\n",
    "    for j in range(len(cals[i])):\n",
    "        cals[i][j] = int(cals[i][j]) #Casts all calorie entries as integers\n",
    "        \n",
    "allElves =[] #List of all total calories per elf\n",
    "for i in range(len(cals)):\n",
    "    allElves.append(0) #Adds a new count of calories for each elf\n",
    "    for j in range(len(cals[i])):\n",
    "        allElves[-1]+=cals[i][j] #Adds the calories per item to the last elf that was added\n",
    "        \n",
    "allElves = sorted(allElves) #Sorts allElves\n",
    "print(f\"Most calories carried by one elf: {allElves[-1]}\") #Prints the last in the sorted list (the max)\n",
    "print(f\"Sum of the calories carried by the top three elves: {allElves[-1] + allElves[-2] + allElves[-3]}\") #Sum of top 3"
   ]
  },
  {
   "cell_type": "markdown",
   "id": "318bacaa",
   "metadata": {},
   "source": [
    "## --- Optimized ---"
   ]
  },
  {
   "cell_type": "code",
   "execution_count": 7,
   "id": "cae6a1cd",
   "metadata": {},
   "outputs": [
    {
     "name": "stdout",
     "output_type": "stream",
     "text": [
      "Most calories carried by one elf: 69289\n",
      "Sum of the calories carried by the top three elves: 205615\n"
     ]
    }
   ],
   "source": [
    "totals=[]\n",
    "for i in range(len(getCals().split('\\n\\n'))):\n",
    "    totals.append(0)\n",
    "    for j in range(len(getCals().split('\\n\\n')[i].split('\\n'))):\n",
    "        totals[-1]+=int(getCals().split('\\n\\n')[i].split('\\n')[j])\n",
    "        \n",
    "totals = sorted(totals)\n",
    "print(f\"Most calories carried by one elf: {totals[-1]}\") #Prints the last in the sorted list (the max)\n",
    "print(f\"Sum of the calories carried by the top three elves: {totals[-1] + totals[-2] + totals[-3]}\") #Sum of top 3"
   ]
  }
 ],
 "metadata": {
  "kernelspec": {
   "display_name": "Python 3 (ipykernel)",
   "language": "python",
   "name": "python3"
  },
  "language_info": {
   "codemirror_mode": {
    "name": "ipython",
    "version": 3
   },
   "file_extension": ".py",
   "mimetype": "text/x-python",
   "name": "python",
   "nbconvert_exporter": "python",
   "pygments_lexer": "ipython3",
   "version": "3.12.7"
  }
 },
 "nbformat": 4,
 "nbformat_minor": 5
}
