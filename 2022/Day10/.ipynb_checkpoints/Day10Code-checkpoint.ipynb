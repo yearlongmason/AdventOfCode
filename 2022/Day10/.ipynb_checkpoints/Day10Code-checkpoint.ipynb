{
 "cells": [
  {
   "cell_type": "markdown",
   "id": "7c465c24",
   "metadata": {},
   "source": [
    "# --- Day 10: Cathode-Ray Tube ---\n",
    "https://adventofcode.com/2022/day/10\n",
    "\n",
    "You avoid the ropes, plunge into the river, and swim to shore.\n",
    "\n",
    "The Elves yell something about meeting back up with them upriver, but the river is too loud to tell exactly what they're saying. They finish crossing the bridge and disappear from view.\n",
    "\n",
    "Situations like this must be why the Elves prioritized getting the communication system on your handheld device working. You pull it out of your pack, but the amount of water slowly draining from a big crack in its screen tells you it probably won't be of much immediate use.\n",
    "\n",
    "Unless, that is, you can design a replacement for the device's video system! It seems to be some kind of cathode-ray tube screen and simple CPU that are both driven by a precise clock circuit. The clock circuit ticks at a constant rate; each tick is called a cycle.\n",
    "\n",
    "Start by figuring out the signal being sent by the CPU. The CPU has a single register, X, which starts with the value 1. It supports only two instructions:\n",
    "\n",
    "- addx V takes two cycles to complete. After two cycles, the X register is increased by the value V. (V can be negative.)\n",
    "- noop takes one cycle to complete. It has no other effect.\n",
    "\n",
    "The CPU uses these instructions in a program (your puzzle input) to, somehow, tell the screen what to draw.\n",
    "\n",
    "Maybe you can learn something by looking at the value of the X register throughout execution. For now, consider the signal strength (the cycle number multiplied by the value of the X register) during the 20th cycle and every 40 cycles after that (that is, during the 20th, 60th, 100th, 140th, 180th, and 220th cycles).\n",
    "\n",
    "Find the signal strength during the 20th, 60th, 100th, 140th, 180th, and 220th cycles. What is the sum of these six signal strengths?"
   ]
  },
  {
   "cell_type": "code",
   "execution_count": 2,
   "id": "43dd7797",
   "metadata": {},
   "outputs": [],
   "source": [
    "def getCpuInstructions():\n",
    "    with open('cpuInstructions.txt') as file:\n",
    "        return file.read()"
   ]
  },
  {
   "cell_type": "code",
   "execution_count": 3,
   "id": "0cfe59f2",
   "metadata": {},
   "outputs": [
    {
     "name": "stdout",
     "output_type": "stream",
     "text": [
      "Sum of the signal strength during the 20th, 60th, 100th, 140th, 180th, and 220th cycles: 14820\n"
     ]
    }
   ],
   "source": [
    "#formatting\n",
    "cpui = getCpuInstructions()\n",
    "cpui = cpui.split('\\n')\n",
    "cpui = [x.split(' ') if x!='noop' else x for x in cpui]\n",
    "cpui = [[x[0], int(x[1])] if len(x)==2 else x for x in cpui]\n",
    "\n",
    "cycle=1 #Current cycle\n",
    "x=1\n",
    "allCycleVals={cycle: x} #A dictionary containing the x value at every step\n",
    "for i in range(len(cpui)): #loops through each step in the instructions\n",
    "    if cpui[i]=='noop': #If the step is 'noop' add one to the cycle and log the x val in the dict\n",
    "        cycle+=1\n",
    "        allCycleVals[cycle] = x\n",
    "    else: #If the step is addx\n",
    "        for j in range(2): #Loop through 2 cycles\n",
    "            cycle+=1\n",
    "            if j==0: #If it's the first cycle log the x val\n",
    "                allCycleVals[cycle] = x\n",
    "        x+=cpui[i][1] #After both cycles, add the correct value to x\n",
    "        allCycleVals[cycle] = x #log the new x\n",
    "        \n",
    "signalStrength=(allCycleVals[20]*20)+(allCycleVals[60]*60)+(allCycleVals[100]*100)+(allCycleVals[140]*140)\\\n",
    "+(allCycleVals[180]*180)+(allCycleVals[220]*220)\n",
    "#print(allCycleVals)\n",
    "print(f'Sum of the signal strength during the 20th, 60th, 100th, 140th, 180th, and 220th cycles: {signalStrength}')"
   ]
  },
  {
   "cell_type": "markdown",
   "id": "9bce6a6e",
   "metadata": {},
   "source": [
    "# --- Part Two ---\n",
    "https://adventofcode.com/2022/day/10#part2\n",
    "\n",
    "It seems like the X register controls the horizontal position of a sprite. Specifically, the sprite is 3 pixels wide, and the X register sets the horizontal position of the middle of that sprite. (In this system, there is no such thing as \"vertical position\": if the sprite's horizontal position puts its pixels where the CRT is currently drawing, then those pixels will be drawn.)\n",
    "\n",
    "You count the pixels on the CRT: 40 wide and 6 high. This CRT screen draws the top row of pixels left-to-right, then the row below that, and so on. The left-most pixel in each row is in position 0, and the right-most pixel in each row is in position 39.\n",
    "\n",
    "Like the CPU, the CRT is tied closely to the clock circuit: the CRT draws a single pixel during each cycle.\n",
    "\n",
    "So, by carefully timing the CPU instructions and the CRT drawing operations, you should be able to determine whether the sprite is visible the instant each pixel is drawn. If the sprite is positioned such that one of its three pixels is the pixel currently being drawn, the screen produces a lit pixel (#); otherwise, the screen leaves the pixel dark (.).\n",
    "\n",
    "Render the image given by your program. What eight capital letters appear on your CRT?"
   ]
  },
  {
   "cell_type": "code",
   "execution_count": 5,
   "id": "ce9f3bde",
   "metadata": {},
   "outputs": [
    {
     "name": "stdout",
     "output_type": "stream",
     "text": [
      "###..####.####.#..#.####.####.#..#..##..\n",
      "..#....#.#....#.#..#....#....#..#.#..#.#\n",
      "..#...#..###..##...###..###..####.#..#.#\n",
      "##...#...#....#.#..#....#....#..#.####.#\n",
      ".#..#....#....#.#..#....#....#..#.#..#.#\n",
      "..#.####.####.#..#.####.#....#..#.#..#..\n"
     ]
    }
   ],
   "source": [
    "#formatting\n",
    "cpui = getCpuInstructions()\n",
    "\n",
    "cpui = cpui.split('\\n')\n",
    "cpui = [x.split(' ') if x!='noop' else x for x in cpui]\n",
    "cpui = [[x[0], int(x[1])] if len(x)==2 else x for x in cpui]\n",
    "\n",
    "cycle=1 #Current cycle\n",
    "x=1\n",
    "allCycleVals={cycle: x} #A dictionary containing the x value at every step\n",
    "for i in range(len(cpui)): #loops through each step in the instructions\n",
    "    if cpui[i]=='noop': #If the step is 'noop' add one to the cycle and log the x val in the dict\n",
    "        cycle+=1\n",
    "        allCycleVals[cycle] = x\n",
    "    else: #If the step is addx\n",
    "        for j in range(2): #Loop through 2 cycles\n",
    "            cycle+=1\n",
    "            if j==0: #If it's the first cycle log the x val\n",
    "                allCycleVals[cycle] = x\n",
    "        x+=cpui[i][1] #After both cycles, add the correct value to x\n",
    "        allCycleVals[cycle] = x #log the new x\n",
    "        \n",
    "litPoints=''\n",
    "index=1\n",
    "for i in allCycleVals:\n",
    "    sprite=[allCycleVals[i], allCycleVals[i]+1, allCycleVals[i]+2]\n",
    "    if index in sprite:\n",
    "        litPoints+='#'\n",
    "    else:\n",
    "        litPoints+='.'\n",
    "    index+=1\n",
    "    if index==41:\n",
    "        index=1\n",
    "        \n",
    "print(f'{litPoints[:40]}\\n{litPoints[41:81]}\\n{litPoints[81:121]}\\n{litPoints[121:161]}\\\n",
    "\\n{litPoints[161:201]}\\n{litPoints[201:241]}')"
   ]
  }
 ],
 "metadata": {
  "kernelspec": {
   "display_name": "Python 3 (ipykernel)",
   "language": "python",
   "name": "python3"
  },
  "language_info": {
   "codemirror_mode": {
    "name": "ipython",
    "version": 3
   },
   "file_extension": ".py",
   "mimetype": "text/x-python",
   "name": "python",
   "nbconvert_exporter": "python",
   "pygments_lexer": "ipython3",
   "version": "3.12.4"
  }
 },
 "nbformat": 4,
 "nbformat_minor": 5
}
