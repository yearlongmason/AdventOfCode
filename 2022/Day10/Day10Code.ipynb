{
 "cells": [
  {
   "cell_type": "markdown",
   "id": "7c465c24",
   "metadata": {},
   "source": [
    "# --- Day 10: Cathode-Ray Tube ---\n",
    "https://adventofcode.com/2022/day/10"
   ]
  },
  {
   "cell_type": "code",
   "execution_count": 2,
   "id": "43dd7797",
   "metadata": {},
   "outputs": [],
   "source": [
    "def getCpuInstructions():\n",
    "    with open('cpuInstructions.txt') as file:\n",
    "        return file.read()"
   ]
  },
  {
   "cell_type": "code",
   "execution_count": 3,
   "id": "0cfe59f2",
   "metadata": {},
   "outputs": [
    {
     "name": "stdout",
     "output_type": "stream",
     "text": [
      "Sum of the signal strength during the 20th, 60th, 100th, 140th, 180th, and 220th cycles: 14820\n"
     ]
    }
   ],
   "source": [
    "#formatting\n",
    "cpui = getCpuInstructions()\n",
    "cpui = cpui.split('\\n')\n",
    "cpui = [x.split(' ') if x!='noop' else x for x in cpui]\n",
    "cpui = [[x[0], int(x[1])] if len(x)==2 else x for x in cpui]\n",
    "\n",
    "cycle=1 #Current cycle\n",
    "x=1\n",
    "allCycleVals={cycle: x} #A dictionary containing the x value at every step\n",
    "for i in range(len(cpui)): #loops through each step in the instructions\n",
    "    if cpui[i]=='noop': #If the step is 'noop' add one to the cycle and log the x val in the dict\n",
    "        cycle+=1\n",
    "        allCycleVals[cycle] = x\n",
    "    else: #If the step is addx\n",
    "        for j in range(2): #Loop through 2 cycles\n",
    "            cycle+=1\n",
    "            if j==0: #If it's the first cycle log the x val\n",
    "                allCycleVals[cycle] = x\n",
    "        x+=cpui[i][1] #After both cycles, add the correct value to x\n",
    "        allCycleVals[cycle] = x #log the new x\n",
    "        \n",
    "signalStrength=(allCycleVals[20]*20)+(allCycleVals[60]*60)+(allCycleVals[100]*100)+(allCycleVals[140]*140)\\\n",
    "+(allCycleVals[180]*180)+(allCycleVals[220]*220)\n",
    "#print(allCycleVals)\n",
    "print(f'Sum of the signal strength during the 20th, 60th, 100th, 140th, 180th, and 220th cycles: {signalStrength}')"
   ]
  },
  {
   "cell_type": "markdown",
   "id": "9bce6a6e",
   "metadata": {},
   "source": [
    "# --- Part Two ---"
   ]
  },
  {
   "cell_type": "code",
   "execution_count": 5,
   "id": "ce9f3bde",
   "metadata": {},
   "outputs": [
    {
     "name": "stdout",
     "output_type": "stream",
     "text": [
      "###..####.####.#..#.####.####.#..#..##..\n",
      "..#....#.#....#.#..#....#....#..#.#..#.#\n",
      "..#...#..###..##...###..###..####.#..#.#\n",
      "##...#...#....#.#..#....#....#..#.####.#\n",
      ".#..#....#....#.#..#....#....#..#.#..#.#\n",
      "..#.####.####.#..#.####.#....#..#.#..#..\n"
     ]
    }
   ],
   "source": [
    "#formatting\n",
    "cpui = getCpuInstructions()\n",
    "\n",
    "cpui = cpui.split('\\n')\n",
    "cpui = [x.split(' ') if x!='noop' else x for x in cpui]\n",
    "cpui = [[x[0], int(x[1])] if len(x)==2 else x for x in cpui]\n",
    "\n",
    "cycle=1 #Current cycle\n",
    "x=1\n",
    "allCycleVals={cycle: x} #A dictionary containing the x value at every step\n",
    "for i in range(len(cpui)): #loops through each step in the instructions\n",
    "    if cpui[i]=='noop': #If the step is 'noop' add one to the cycle and log the x val in the dict\n",
    "        cycle+=1\n",
    "        allCycleVals[cycle] = x\n",
    "    else: #If the step is addx\n",
    "        for j in range(2): #Loop through 2 cycles\n",
    "            cycle+=1\n",
    "            if j==0: #If it's the first cycle log the x val\n",
    "                allCycleVals[cycle] = x\n",
    "        x+=cpui[i][1] #After both cycles, add the correct value to x\n",
    "        allCycleVals[cycle] = x #log the new x\n",
    "        \n",
    "litPoints=''\n",
    "index=1\n",
    "for i in allCycleVals:\n",
    "    sprite=[allCycleVals[i], allCycleVals[i]+1, allCycleVals[i]+2]\n",
    "    if index in sprite:\n",
    "        litPoints+='#'\n",
    "    else:\n",
    "        litPoints+='.'\n",
    "    index+=1\n",
    "    if index==41:\n",
    "        index=1\n",
    "        \n",
    "print(f'{litPoints[:40]}\\n{litPoints[41:81]}\\n{litPoints[81:121]}\\n{litPoints[121:161]}\\\n",
    "\\n{litPoints[161:201]}\\n{litPoints[201:241]}')"
   ]
  }
 ],
 "metadata": {
  "kernelspec": {
   "display_name": "Python 3 (ipykernel)",
   "language": "python",
   "name": "python3"
  },
  "language_info": {
   "codemirror_mode": {
    "name": "ipython",
    "version": 3
   },
   "file_extension": ".py",
   "mimetype": "text/x-python",
   "name": "python",
   "nbconvert_exporter": "python",
   "pygments_lexer": "ipython3",
   "version": "3.12.7"
  }
 },
 "nbformat": 4,
 "nbformat_minor": 5
}
