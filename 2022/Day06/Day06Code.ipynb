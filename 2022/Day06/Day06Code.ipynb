{
 "cells": [
  {
   "cell_type": "markdown",
   "id": "e0f4259b",
   "metadata": {},
   "source": [
    "# --- Day 6: Tuning Trouble ---\n",
    "https://adventofcode.com/2022/day/6"
   ]
  },
  {
   "cell_type": "code",
   "execution_count": 2,
   "id": "d83b04c4",
   "metadata": {},
   "outputs": [],
   "source": [
    "def datastream():\n",
    "    with open('datastream.txt') as file:\n",
    "        return file.read()"
   ]
  },
  {
   "cell_type": "code",
   "execution_count": 3,
   "id": "2bbe93f2",
   "metadata": {},
   "outputs": [
    {
     "name": "stdout",
     "output_type": "stream",
     "text": [
      "First marker: 1658\n"
     ]
    }
   ],
   "source": [
    "#Easiest formatting ever!\n",
    "data=[*datastream()]\n",
    "\n",
    "for i in range(3,len(data)): #Loops through all data starting at index 3\n",
    "    if len({data[i-3], data[i-2], data[i-1], data[i]})==4: #Checks to see if the previous 4 have no duplicates\n",
    "        firstMarker=i+1 #Returns the first marker found\n",
    "        break\n",
    "\n",
    "print(f'First marker: {firstMarker}')"
   ]
  },
  {
   "cell_type": "markdown",
   "id": "a0224d17",
   "metadata": {},
   "source": [
    "# --- Part Two ---"
   ]
  },
  {
   "cell_type": "code",
   "execution_count": 5,
   "id": "24a49fc6",
   "metadata": {
    "scrolled": true
   },
   "outputs": [
    {
     "name": "stdout",
     "output_type": "stream",
     "text": [
      "First marker: 2260\n"
     ]
    }
   ],
   "source": [
    "#Easiest formatting ever!\n",
    "data=[*datastream()]\n",
    "\n",
    "for i in range(14,len(data)): #Loops through all data starting at index 14\n",
    "    prev14={data[i-x] for x in range(13,-1,-1)} #List of previous 14 numbers\n",
    "    if len(prev14)==14: #If it goes 14 characters without repeating it sets the first marker to i+1 and then breaks\n",
    "        firstMarker=i+1\n",
    "        break\n",
    "\n",
    "print(f'First marker: {firstMarker}')"
   ]
  },
  {
   "cell_type": "markdown",
   "id": "48487bdf",
   "metadata": {},
   "source": [
    "## Part 1 Code Golf\n",
    "This is much less efficient and absolutely ridiculous, I just wanted to see if it could be done!"
   ]
  },
  {
   "cell_type": "code",
   "execution_count": 7,
   "id": "2a2ac781",
   "metadata": {},
   "outputs": [
    {
     "name": "stdout",
     "output_type": "stream",
     "text": [
      "1658\n"
     ]
    }
   ],
   "source": [
    "print(list({[x for x in range(3,len([*datastream()])) if len({[*datastream()][x-i] for i in range(3,-1,-1)})==4][0]+1})[0])"
   ]
  },
  {
   "cell_type": "markdown",
   "id": "7f203972",
   "metadata": {},
   "source": [
    "## Part 2 Code Golf"
   ]
  },
  {
   "cell_type": "code",
   "execution_count": 9,
   "id": "77d38aaa",
   "metadata": {},
   "outputs": [
    {
     "name": "stdout",
     "output_type": "stream",
     "text": [
      "2260\n"
     ]
    }
   ],
   "source": [
    "print(list({[x for x in range(3,len([*datastream()]))if len({[*datastream()][x-i]for i in range(13,-1,-1)})==14][0]+1})[0])"
   ]
  }
 ],
 "metadata": {
  "kernelspec": {
   "display_name": "Python 3 (ipykernel)",
   "language": "python",
   "name": "python3"
  },
  "language_info": {
   "codemirror_mode": {
    "name": "ipython",
    "version": 3
   },
   "file_extension": ".py",
   "mimetype": "text/x-python",
   "name": "python",
   "nbconvert_exporter": "python",
   "pygments_lexer": "ipython3",
   "version": "3.12.7"
  }
 },
 "nbformat": 4,
 "nbformat_minor": 5
}
