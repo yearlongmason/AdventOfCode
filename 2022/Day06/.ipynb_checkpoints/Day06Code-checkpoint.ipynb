{
 "cells": [
  {
   "cell_type": "markdown",
   "id": "e0f4259b",
   "metadata": {},
   "source": [
    "# --- Day 6: Tuning Trouble ---\n",
    "https://adventofcode.com/2022/day/6\n",
    "\n",
    "The preparations are finally complete; you and the Elves leave camp on foot and begin to make your way toward the star fruit grove.\n",
    "\n",
    "As you move through the dense undergrowth, one of the Elves gives you a handheld device. He says that it has many fancy features, but the most important one to set up right now is the communication system.\n",
    "\n",
    "However, because he's heard you have significant experience dealing with signal-based systems, he convinced the other Elves that it would be okay to give you their one malfunctioning device - surely you'll have no problem fixing it.\n",
    "\n",
    "As if inspired by comedic timing, the device emits a few colorful sparks.\n",
    "\n",
    "To be able to communicate with the Elves, the device needs to lock on to their signal. The signal is a series of seemingly-random characters that the device receives one at a time.\n",
    "\n",
    "To fix the communication system, you need to add a subroutine to the device that detects a start-of-packet marker in the datastream. In the protocol being used by the Elves, the start of a packet is indicated by a sequence of four characters that are all different.\n",
    "\n",
    "The device will send your subroutine a datastream buffer (your puzzle input); your subroutine needs to identify the first position where the four most recently received characters were all different. Specifically, it needs to report the number of characters from the beginning of the buffer to the end of the first such four-character marker.\n",
    "\n",
    "For example, suppose you receive the following datastream buffer:\n",
    "\n",
    "mjqjpqmgbljsphdztnvjfqwrcgsmlb\n",
    "\n",
    "After the first three characters (mjq) have been received, there haven't been enough characters received yet to find the marker. The first time a marker could occur is after the fourth character is received, making the most recent four characters mjqj. Because j is repeated, this isn't a marker.\n",
    "\n",
    "The first time a marker appears is after the seventh character arrives. Once it does, the last four characters received are jpqm, which are all different. In this case, your subroutine should report the value 7, because the first start-of-packet marker is complete after 7 characters have been processed.\n",
    "\n",
    "Here are a few more examples:\n",
    "\n",
    "bvwbjplbgvbhsrlpgdmjqwftvncz: first marker after character 5\n",
    "\n",
    "nppdvjthqldpwncqszvftbrmjlhg: first marker after character 6\n",
    "\n",
    "nznrnfrfntjfmvfwmzdfjlvtqnbhcprsg: first marker after character 10\n",
    "\n",
    "zcfzfwzzqfrljwzlrfnpqdbhtmscgvjw: first marker after character 11\n",
    "\n",
    "How many characters need to be processed before the first start-of-packet marker is detected?\n",
    "\n",
    "Answer: 1658"
   ]
  },
  {
   "cell_type": "code",
   "execution_count": 2,
   "id": "d83b04c4",
   "metadata": {},
   "outputs": [],
   "source": [
    "def datastream():\n",
    "    with open('datastream.txt') as file:\n",
    "        return file.read()"
   ]
  },
  {
   "cell_type": "code",
   "execution_count": 3,
   "id": "2bbe93f2",
   "metadata": {},
   "outputs": [
    {
     "name": "stdout",
     "output_type": "stream",
     "text": [
      "First marker: 1658\n"
     ]
    }
   ],
   "source": [
    "#Easiest formatting ever!\n",
    "data=[*datastream()]\n",
    "\n",
    "for i in range(3,len(data)): #Loops through all data starting at index 3\n",
    "    if len({data[i-3], data[i-2], data[i-1], data[i]})==4: #Checks to see if the previous 4 have no duplicates\n",
    "        firstMarker=i+1 #Returns the first marker found\n",
    "        break\n",
    "\n",
    "print(f'First marker: {firstMarker}')"
   ]
  },
  {
   "cell_type": "markdown",
   "id": "a0224d17",
   "metadata": {},
   "source": [
    "# --- Part Two ---\n",
    "https://adventofcode.com/2022/day/6#part2\n",
    "\n",
    "Your device's communication system is correctly detecting packets, but still isn't working. It looks like it also needs to look for messages.\n",
    "\n",
    "A start-of-message marker is just like a start-of-packet marker, except it consists of 14 distinct characters rather than 4.\n",
    "\n",
    "Here are the first positions of start-of-message markers for all of the above examples:\n",
    "\n",
    "mjqjpqmgbljsphdztnvjfqwrcgsmlb: first marker after character 19\n",
    "\n",
    "bvwbjplbgvbhsrlpgdmjqwftvncz: first marker after character 23\n",
    "\n",
    "nppdvjthqldpwncqszvftbrmjlhg: first marker after character 23\n",
    "\n",
    "nznrnfrfntjfmvfwmzdfjlvtqnbhcprsg: first marker after character 29\n",
    "\n",
    "zcfzfwzzqfrljwzlrfnpqdbhtmscgvjw: first marker after character 26\n",
    "\n",
    "How many characters need to be processed before the first start-of-message marker is detected?\n",
    "\n",
    "Answer: 2260"
   ]
  },
  {
   "cell_type": "code",
   "execution_count": 5,
   "id": "24a49fc6",
   "metadata": {
    "scrolled": true
   },
   "outputs": [
    {
     "name": "stdout",
     "output_type": "stream",
     "text": [
      "First marker: 2260\n"
     ]
    }
   ],
   "source": [
    "#Easiest formatting ever!\n",
    "data=[*datastream()]\n",
    "\n",
    "for i in range(14,len(data)): #Loops through all data starting at index 14\n",
    "    prev14={data[i-x] for x in range(13,-1,-1)} #List of previous 14 numbers\n",
    "    if len(prev14)==14: #If it goes 14 characters without repeating it sets the first marker to i+1 and then breaks\n",
    "        firstMarker=i+1\n",
    "        break\n",
    "\n",
    "print(f'First marker: {firstMarker}')"
   ]
  },
  {
   "cell_type": "markdown",
   "id": "48487bdf",
   "metadata": {},
   "source": [
    "# Part 1 Code Golf\n",
    "This is much less efficient and absolutely ridiculous, I just wanted to see if it could be done!"
   ]
  },
  {
   "cell_type": "code",
   "execution_count": 7,
   "id": "2a2ac781",
   "metadata": {},
   "outputs": [
    {
     "name": "stdout",
     "output_type": "stream",
     "text": [
      "1658\n"
     ]
    }
   ],
   "source": [
    "print(list({[x for x in range(3,len([*datastream()])) if len({[*datastream()][x-i] for i in range(3,-1,-1)})==4][0]+1})[0])"
   ]
  },
  {
   "cell_type": "markdown",
   "id": "7f203972",
   "metadata": {},
   "source": [
    "# Part 2 Code Golf"
   ]
  },
  {
   "cell_type": "code",
   "execution_count": 9,
   "id": "77d38aaa",
   "metadata": {},
   "outputs": [
    {
     "name": "stdout",
     "output_type": "stream",
     "text": [
      "2260\n"
     ]
    }
   ],
   "source": [
    "print(list({[x for x in range(3,len([*datastream()]))if len({[*datastream()][x-i]for i in range(13,-1,-1)})==14][0]+1})[0])"
   ]
  }
 ],
 "metadata": {
  "kernelspec": {
   "display_name": "Python 3 (ipykernel)",
   "language": "python",
   "name": "python3"
  },
  "language_info": {
   "codemirror_mode": {
    "name": "ipython",
    "version": 3
   },
   "file_extension": ".py",
   "mimetype": "text/x-python",
   "name": "python",
   "nbconvert_exporter": "python",
   "pygments_lexer": "ipython3",
   "version": "3.12.4"
  }
 },
 "nbformat": 4,
 "nbformat_minor": 5
}
