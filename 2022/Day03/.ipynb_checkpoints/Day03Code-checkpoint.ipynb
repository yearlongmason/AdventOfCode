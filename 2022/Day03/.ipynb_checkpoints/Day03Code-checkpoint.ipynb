{
 "cells": [
  {
   "cell_type": "markdown",
   "id": "0cc5721a",
   "metadata": {},
   "source": [
    "# --- Day 3: Rucksack Reorganization ---\n",
    "https://adventofcode.com/2022/day/3\n",
    "\n",
    "One Elf has the important job of loading all of the rucksacks with supplies for the jungle journey. Unfortunately, that Elf didn't quite follow the packing instructions, and so a few items now need to be rearranged.\n",
    "\n",
    "Each rucksack has two large compartments. All items of a given type are meant to go into exactly one of the two compartments. The Elf that did the packing failed to follow this rule for exactly one item type per rucksack.\n",
    "\n",
    "The Elves have made a list of all of the items currently in each rucksack (your puzzle input), but they need your help finding the errors. Every item type is identified by a single lowercase or uppercase letter (that is, a and A refer to different types of items).\n",
    "\n",
    "The list of items for each rucksack is given as characters all on a single line. A given rucksack always has the same number of items in each of its two compartments, so the first half of the characters represent items in the first compartment, while the second half of the characters represent items in the second compartment.\n",
    "\n",
    "To help prioritize item rearrangement, every item type can be converted to a priority:\n",
    "\n",
    "Lowercase item types a through z have priorities 1 through 26.\n",
    "\n",
    "Uppercase item types A through Z have priorities 27 through 52.\n",
    "\n",
    "Find the item type that appears in both compartments of each rucksack. What is the sum of the priorities of those item types?"
   ]
  },
  {
   "cell_type": "code",
   "execution_count": 2,
   "id": "d0538749",
   "metadata": {},
   "outputs": [],
   "source": [
    "def getRuck():\n",
    "    with open('rucksack.txt') as file:\n",
    "        return file.read()"
   ]
  },
  {
   "cell_type": "code",
   "execution_count": 3,
   "id": "865e81ed",
   "metadata": {},
   "outputs": [
    {
     "name": "stdout",
     "output_type": "stream",
     "text": [
      "Sum of the priority of all item duplicates: 8202\n"
     ]
    }
   ],
   "source": [
    "#formatting\n",
    "ruck=getRuck().split() #Splits by new line (each new rucksack)\n",
    "for i in range(len(ruck)): #Splits each rucksack exactly in half\n",
    "    ruck[i] = [ruck[i][:int(len(ruck[i])/2)], ruck[i][int(len(ruck[i])/2):]]\n",
    "    \n",
    "allDuplicates=[] #List that keeps track of all duplicate items\n",
    "for i in range(len(ruck)): #Loops through all rucksacks\n",
    "    for j in ruck[i][0]: #Loops through all items in part 1 of the rucksack\n",
    "        if j in ruck[i][1]: #If the item is also in part 2 then it is the duplicate\n",
    "            allDuplicates.append(j)\n",
    "            break\n",
    "            \n",
    "prioritySum=0\n",
    "for i in allDuplicates: #Loops through all duplicate values\n",
    "    if i.islower(): #If it's a lowercase letter, add the ASCII value -96 to get the correct score\n",
    "        prioritySum+=ord(i)-96\n",
    "    else: #If it's an uppercase letter, add the ASCII value -38 to get the correct score\n",
    "        prioritySum+=ord(i)-38\n",
    "print(f'Sum of the priority of all item duplicates: {prioritySum}')"
   ]
  },
  {
   "cell_type": "markdown",
   "id": "8aeb7626",
   "metadata": {},
   "source": [
    "# --- Part Two ---\n",
    "https://adventofcode.com/2022/day/3\n",
    "\n",
    "As you finish identifying the misplaced items, the Elves come to you with another issue.\n",
    "\n",
    "For safety, the Elves are divided into groups of three. Every Elf carries a badge that identifies their group. For efficiency, within each group of three Elves, the badge is the only item type carried by all three Elves. That is, if a group's badge is item type B, then all three Elves will have item type B somewhere in their rucksack, and at most two of the Elves will be carrying any other item type.\n",
    "\n",
    "The problem is that someone forgot to put this year's updated authenticity sticker on the badges. All of the badges need to be pulled out of the rucksacks so the new authenticity stickers can be attached.\n",
    "\n",
    "Additionally, nobody wrote down which item type corresponds to each group's badges. The only way to tell which item type is the right one is by finding the one item type that is common between all three Elves in each group.\n",
    "\n",
    "Every set of three lines in your list corresponds to a single group, but each group can have a different badge item type.\n",
    "\n",
    "Priorities for these items must still be found to organize the sticker attachment efforts.\n",
    "\n",
    "Find the item type that corresponds to the badges of each three-Elf group. What is the sum of the priorities of those item types?"
   ]
  },
  {
   "cell_type": "code",
   "execution_count": 5,
   "id": "6aa5f0cf",
   "metadata": {},
   "outputs": [
    {
     "name": "stdout",
     "output_type": "stream",
     "text": [
      "Sum of the priority of all badges: 2864\n"
     ]
    }
   ],
   "source": [
    "ruck=getRuck().split() #Splits by new line (each new rucksack)\n",
    "groups=[]\n",
    "for i in range(0,len(ruck),3): #Loops through all rucksacks (step=3)\n",
    "    groups.append([ruck[i],ruck[i+1],ruck[i+2]]) #Adds next three rucksacks to groups\n",
    "    \n",
    "badges=[]\n",
    "for i in range(len(groups)): #Loops through all the elf groups\n",
    "    for j in groups[i][0]: #Loops through each item in the first group \n",
    "        if j in groups[i][1] and j in groups[i][2]: #If the current item is in the second and third group it is the badge\n",
    "            badges.append(j)\n",
    "            break\n",
    "\n",
    "prioritySum=0\n",
    "for i in badges: #Loops through all duplicate values\n",
    "    if i.islower(): #If it's a lowercase letter, add the ASCII value -96 to get the correct score\n",
    "        prioritySum+=ord(i)-96\n",
    "    else: #If it's an uppercase letter, add the ASCII value -38 to get the correct score\n",
    "        prioritySum+=ord(i)-38\n",
    "print(f'Sum of the priority of all badges: {prioritySum}')"
   ]
  }
 ],
 "metadata": {
  "kernelspec": {
   "display_name": "Python 3 (ipykernel)",
   "language": "python",
   "name": "python3"
  },
  "language_info": {
   "codemirror_mode": {
    "name": "ipython",
    "version": 3
   },
   "file_extension": ".py",
   "mimetype": "text/x-python",
   "name": "python",
   "nbconvert_exporter": "python",
   "pygments_lexer": "ipython3",
   "version": "3.12.4"
  }
 },
 "nbformat": 4,
 "nbformat_minor": 5
}
