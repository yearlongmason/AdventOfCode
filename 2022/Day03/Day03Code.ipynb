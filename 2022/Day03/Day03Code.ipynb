{
 "cells": [
  {
   "cell_type": "markdown",
   "id": "0cc5721a",
   "metadata": {},
   "source": [
    "# --- Day 3: Rucksack Reorganization ---\n",
    "https://adventofcode.com/2022/day/3"
   ]
  },
  {
   "cell_type": "code",
   "execution_count": 2,
   "id": "d0538749",
   "metadata": {},
   "outputs": [],
   "source": [
    "def getRuck():\n",
    "    with open('rucksack.txt') as file:\n",
    "        return file.read()"
   ]
  },
  {
   "cell_type": "code",
   "execution_count": 3,
   "id": "865e81ed",
   "metadata": {},
   "outputs": [
    {
     "name": "stdout",
     "output_type": "stream",
     "text": [
      "Sum of the priority of all item duplicates: 8202\n"
     ]
    }
   ],
   "source": [
    "#formatting\n",
    "ruck=getRuck().split() #Splits by new line (each new rucksack)\n",
    "for i in range(len(ruck)): #Splits each rucksack exactly in half\n",
    "    ruck[i] = [ruck[i][:int(len(ruck[i])/2)], ruck[i][int(len(ruck[i])/2):]]\n",
    "    \n",
    "allDuplicates=[] #List that keeps track of all duplicate items\n",
    "for i in range(len(ruck)): #Loops through all rucksacks\n",
    "    for j in ruck[i][0]: #Loops through all items in part 1 of the rucksack\n",
    "        if j in ruck[i][1]: #If the item is also in part 2 then it is the duplicate\n",
    "            allDuplicates.append(j)\n",
    "            break\n",
    "            \n",
    "prioritySum=0\n",
    "for i in allDuplicates: #Loops through all duplicate values\n",
    "    if i.islower(): #If it's a lowercase letter, add the ASCII value -96 to get the correct score\n",
    "        prioritySum+=ord(i)-96\n",
    "    else: #If it's an uppercase letter, add the ASCII value -38 to get the correct score\n",
    "        prioritySum+=ord(i)-38\n",
    "print(f'Sum of the priority of all item duplicates: {prioritySum}')"
   ]
  },
  {
   "cell_type": "markdown",
   "id": "8aeb7626",
   "metadata": {},
   "source": [
    "# --- Part Two ---"
   ]
  },
  {
   "cell_type": "code",
   "execution_count": 5,
   "id": "6aa5f0cf",
   "metadata": {},
   "outputs": [
    {
     "name": "stdout",
     "output_type": "stream",
     "text": [
      "Sum of the priority of all badges: 2864\n"
     ]
    }
   ],
   "source": [
    "ruck=getRuck().split() #Splits by new line (each new rucksack)\n",
    "groups=[]\n",
    "for i in range(0,len(ruck),3): #Loops through all rucksacks (step=3)\n",
    "    groups.append([ruck[i],ruck[i+1],ruck[i+2]]) #Adds next three rucksacks to groups\n",
    "    \n",
    "badges=[]\n",
    "for i in range(len(groups)): #Loops through all the elf groups\n",
    "    for j in groups[i][0]: #Loops through each item in the first group \n",
    "        if j in groups[i][1] and j in groups[i][2]: #If the current item is in the second and third group it is the badge\n",
    "            badges.append(j)\n",
    "            break\n",
    "\n",
    "prioritySum=0\n",
    "for i in badges: #Loops through all duplicate values\n",
    "    if i.islower(): #If it's a lowercase letter, add the ASCII value -96 to get the correct score\n",
    "        prioritySum+=ord(i)-96\n",
    "    else: #If it's an uppercase letter, add the ASCII value -38 to get the correct score\n",
    "        prioritySum+=ord(i)-38\n",
    "print(f'Sum of the priority of all badges: {prioritySum}')"
   ]
  }
 ],
 "metadata": {
  "kernelspec": {
   "display_name": "Python 3 (ipykernel)",
   "language": "python",
   "name": "python3"
  },
  "language_info": {
   "codemirror_mode": {
    "name": "ipython",
    "version": 3
   },
   "file_extension": ".py",
   "mimetype": "text/x-python",
   "name": "python",
   "nbconvert_exporter": "python",
   "pygments_lexer": "ipython3",
   "version": "3.12.7"
  }
 },
 "nbformat": 4,
 "nbformat_minor": 5
}
