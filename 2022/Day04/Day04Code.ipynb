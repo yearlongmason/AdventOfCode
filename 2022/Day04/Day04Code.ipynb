{
 "cells": [
  {
   "cell_type": "markdown",
   "id": "342b4183",
   "metadata": {},
   "source": [
    "# --- Day 4: Camp Cleanup ---\n",
    "https://adventofcode.com/2022/day/4"
   ]
  },
  {
   "cell_type": "code",
   "execution_count": 2,
   "id": "97333916",
   "metadata": {},
   "outputs": [],
   "source": [
    "def getCleanup():\n",
    "    with open('cleanup.txt') as file:\n",
    "        return file.read()"
   ]
  },
  {
   "cell_type": "code",
   "execution_count": 3,
   "id": "2f87f8ed",
   "metadata": {},
   "outputs": [
    {
     "name": "stdout",
     "output_type": "stream",
     "text": [
      "Number of pairs that are fully contained: 644\n"
     ]
    }
   ],
   "source": [
    "#formatting\n",
    "clean = getCleanup() #Gets input\n",
    "clean=clean.split('\\n') #Splits by group of elfs\n",
    "clean=[x.split(',') for x in clean] #Splits each group of elfs by each elf\n",
    "for i in range(len(clean)): #Splits each elf's range\n",
    "    clean[i][0]=clean[i][0].split('-')\n",
    "    clean[i][1]=clean[i][1].split('-')\n",
    "for i in range(len(clean)):\n",
    "    for j in range(0,len(clean[i]),2):\n",
    "        #Casts every number in the pair of elfs as integers\n",
    "        clean[i][j][0]=int(clean[i][j][0])\n",
    "        clean[i][j][1]=int(clean[i][j][1])\n",
    "        clean[i][j+1][0]=int(clean[i][j+1][0])\n",
    "        clean[i][j+1][1]=int(clean[i][j+1][1])\n",
    "        #If the range of the first elf is less than the range of the second elf it will swap them\n",
    "        diff1=abs(clean[i][j][0]-clean[i][j][1])\n",
    "        diff2=abs(clean[i][j+1][0]-clean[i][j+1][1])\n",
    "        if diff1 < diff2:\n",
    "            clean[i][j], clean[i][j+1] = clean[i][j+1], clean[i][j]\n",
    "\n",
    "fullyContained=0 #Keeps track of the pairs that are fully contained\n",
    "for i in range(len(clean)):\n",
    "    for j in range(0,len(clean[i]),2): #Loops through each elf and increases by 2\n",
    "        elf1=list(range(clean[i][j][0], clean[i][j][1]+1,1)) #Makes a list of all of elf1's sections\n",
    "        elf2=list(range(clean[i][j+1][0], clean[i][j+1][1]+1,1)) #Makes a list of all of elf2's sections\n",
    "        broken=False #Keeps track of weather or not there's a break in the function\n",
    "        for i in elf2: #Loops through all items in elf2 (the smaller one)\n",
    "            if i not in elf1: #if i is not in elf1 then it is not fully contained so it breaks\n",
    "                broken=True\n",
    "                break\n",
    "        if not broken: #If it wasn't broken then it is fully contained\n",
    "            fullyContained+=1\n",
    "        \n",
    "print(f'Number of pairs that are fully contained: {fullyContained}')"
   ]
  },
  {
   "cell_type": "markdown",
   "id": "7da695c2",
   "metadata": {},
   "source": [
    "# --- Part Two ---"
   ]
  },
  {
   "cell_type": "code",
   "execution_count": 5,
   "id": "6b3cac1f",
   "metadata": {},
   "outputs": [
    {
     "name": "stdout",
     "output_type": "stream",
     "text": [
      "Number of pairs with any overlap: 926\n"
     ]
    }
   ],
   "source": [
    "#formatting\n",
    "clean = getCleanup() #Gets input\n",
    "clean=clean.split('\\n') #Splits by group of elfs\n",
    "clean=[x.split(',') for x in clean] #Splits each group of elfs by each elf\n",
    "for i in range(len(clean)): #Splits each elf's range\n",
    "    clean[i][0]=clean[i][0].split('-')\n",
    "    clean[i][1]=clean[i][1].split('-')\n",
    "for i in range(len(clean)): #Casts all numbers as integers for every elf\n",
    "    for j in range(len(clean[i])):\n",
    "        clean[i][j][0]=int(clean[i][j][0])\n",
    "        clean[i][j][1]=int(clean[i][j][1])\n",
    "\n",
    "overlap=0 #Keeps track of the number of pairs with any overlap\n",
    "for i in range(len(clean)):\n",
    "    for j in range(0,len(clean[i]),2):\n",
    "        elf1=list(range(clean[i][j][0], clean[i][j][1]+1,1)) #Makes a list of all of elf1's sections\n",
    "        elf2=list(range(clean[i][j+1][0], clean[i][j+1][1]+1,1)) #Makes a list of all of elf2's sections\n",
    "        for i in elf2: #Loops through all of elf 2 (the smaller list)\n",
    "            if i in elf1: #If i is in elf1 then there is overlap so it breaks and adds 1 to overlap\n",
    "                overlap+=1\n",
    "                break\n",
    "        \n",
    "print(f'Number of pairs with any overlap: {overlap}')"
   ]
  },
  {
   "cell_type": "markdown",
   "id": "b83f4e5f",
   "metadata": {},
   "source": [
    "## Part 1 Optimized"
   ]
  },
  {
   "cell_type": "code",
   "execution_count": 7,
   "id": "f65a3bbf",
   "metadata": {},
   "outputs": [
    {
     "name": "stdout",
     "output_type": "stream",
     "text": [
      "Number of pairs that are fully contained: 644\n"
     ]
    }
   ],
   "source": [
    "#formatting\n",
    "clean = getCleanup() #Gets input\n",
    "clean=clean.split('\\n') #Splits by group of elfs\n",
    "clean=[x.split(',') for x in clean] #Splits each group of elfs by each elf\n",
    "for i in range(len(clean)): #Splits each elf's range\n",
    "    clean[i][0]=clean[i][0].split('-')\n",
    "    clean[i][1]=clean[i][1].split('-')\n",
    "for i in range(len(clean)):\n",
    "    for j in range(0,len(clean[i]),2):\n",
    "        #Casts every number in the pair of elfs as integers\n",
    "        clean[i][j][0]=int(clean[i][j][0])\n",
    "        clean[i][j][1]=int(clean[i][j][1])\n",
    "        clean[i][j+1][0]=int(clean[i][j+1][0])\n",
    "        clean[i][j+1][1]=int(clean[i][j+1][1])\n",
    "\n",
    "fullyContained=0 #Keeps track of the pairs that are fully contained\n",
    "for i in range(len(clean)):\n",
    "    for j in range(0,len(clean[i]),2): #Loops through each elf and increases by 2\n",
    "        #if the first elf fully contains the second elf\n",
    "        if clean[i][j][0] <= clean[i][j+1][0] and clean[i][j][1] >= clean[i][j+1][1]:\n",
    "            fullyContained+=1\n",
    "        #if the second elf fully contains the first elf\n",
    "        elif clean[i][j+1][0] <= clean[i][j][0] and clean[i][j+1][1] >= clean[i][j][1]:\n",
    "            fullyContained+=1\n",
    "        \n",
    "print(f'Number of pairs that are fully contained: {fullyContained}')"
   ]
  },
  {
   "cell_type": "markdown",
   "id": "d7d5bd30",
   "metadata": {},
   "source": [
    "## Part 2 Optimized"
   ]
  },
  {
   "cell_type": "code",
   "execution_count": 9,
   "id": "4807eb49",
   "metadata": {},
   "outputs": [
    {
     "name": "stdout",
     "output_type": "stream",
     "text": [
      "Number of pairs that have overlap: 926\n"
     ]
    }
   ],
   "source": [
    "#formatting\n",
    "clean = getCleanup() #Gets input\n",
    "clean=clean.split('\\n') #Splits by group of elfs\n",
    "clean=[x.split(',') for x in clean] #Splits each group of elfs by each elf\n",
    "for i in range(len(clean)): #Splits each elf's range\n",
    "    clean[i][0]=clean[i][0].split('-')\n",
    "    clean[i][1]=clean[i][1].split('-')\n",
    "for i in range(len(clean)):\n",
    "    for j in range(len(clean[i])):\n",
    "        #Casts every number in the pair of elfs as integers\n",
    "        clean[i][j][0]=int(clean[i][j][0])\n",
    "        clean[i][j][1]=int(clean[i][j][1])\n",
    "\n",
    "overlap=0 #Keeps track of the pairs that have overlap\n",
    "for i in range(len(clean)):\n",
    "    for j in range(0,len(clean[i]),2): #Loops through each elf and increases by 2\n",
    "        #if there is any overlap between \n",
    "        if (clean[i][j][0] >= clean[i][j+1][0] and clean[i][j][0] <= clean[i][j+1][1])\\\n",
    "        or (clean[i][j][1] >= clean[i][j+1][0] and clean[i][j][0] <= clean[i][j+1][1]):\n",
    "            overlap+=1\n",
    "        \n",
    "print(f'Number of pairs that have overlap: {overlap}')"
   ]
  }
 ],
 "metadata": {
  "kernelspec": {
   "display_name": "Python 3 (ipykernel)",
   "language": "python",
   "name": "python3"
  },
  "language_info": {
   "codemirror_mode": {
    "name": "ipython",
    "version": 3
   },
   "file_extension": ".py",
   "mimetype": "text/x-python",
   "name": "python",
   "nbconvert_exporter": "python",
   "pygments_lexer": "ipython3",
   "version": "3.12.7"
  }
 },
 "nbformat": 4,
 "nbformat_minor": 5
}
