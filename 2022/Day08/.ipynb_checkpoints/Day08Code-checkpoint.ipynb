{
 "cells": [
  {
   "cell_type": "markdown",
   "id": "2bcd8b54",
   "metadata": {},
   "source": [
    "# --- Day 8: Treetop Tree House ---\n",
    "https://adventofcode.com/2022/day/8\n",
    "\n",
    "The expedition comes across a peculiar patch of tall trees all planted carefully in a grid. The Elves explain that a previous expedition planted these trees as a reforestation effort. Now, they're curious if this would be a good location for a tree house.\n",
    "\n",
    "First, determine whether there is enough tree cover here to keep a tree house hidden. To do this, you need to count the number of trees that are visible from outside the grid when looking directly along a row or column.\n",
    "\n",
    "The Elves have already launched a quadcopter to generate a map with the height of each tree (your puzzle input).\n",
    "\n",
    "Each tree is represented as a single digit whose value is its height, where 0 is the shortest and 9 is the tallest.\n",
    "\n",
    "A tree is visible if all of the other trees between it and an edge of the grid are shorter than it. Only consider trees in the same row or column; that is, only look up, down, left, or right from any given tree.\n",
    "\n",
    "All of the trees around the edge of the grid are visible - since they are already on the edge, there are no trees to block the view.\n",
    "\n",
    "With 16 trees visible on the edge and another 5 visible in the interior, a total of 21 trees are visible in this arrangement.\n",
    "\n",
    "Consider your map; how many trees are visible from outside the grid?"
   ]
  },
  {
   "cell_type": "code",
   "execution_count": 2,
   "id": "0eea9203",
   "metadata": {},
   "outputs": [],
   "source": [
    "def getTreeHeights():\n",
    "    with open('treeHeights.txt') as file:\n",
    "        return file.read()"
   ]
  },
  {
   "cell_type": "code",
   "execution_count": 3,
   "id": "426606d8",
   "metadata": {
    "scrolled": true
   },
   "outputs": [
    {
     "name": "stdout",
     "output_type": "stream",
     "text": [
      "Number of visible trees: 1647\n"
     ]
    }
   ],
   "source": [
    "#formatting\n",
    "htrees=getTreeHeights().split('\\n')\n",
    "htrees = [[*x] for x in htrees]\n",
    "for i in range(len(htrees)):\n",
    "    htrees[i]=[int(x) for x in htrees[i]]\n",
    "    \n",
    "def allUp(heightmap, row, col):\n",
    "    for i in range(row-1,-1,-1): #Loops through all rows above self\n",
    "        if heightmap[i][col] >= heightmap[row][col]:#If there is a larger tree return false (it is not visible)\n",
    "            return False\n",
    "    return True\n",
    "\n",
    "def allDown(heightmap, row, col):\n",
    "    for i in range(row+1,len(heightmap),1): #Loops through all rows below self\n",
    "        if heightmap[i][col] >= heightmap[row][col]:#If there is a larger tree return false (it is not visible)\n",
    "            return False\n",
    "    return True\n",
    "\n",
    "def allLeft(heightmap, row, col):\n",
    "    for i in range(col-1,-1,-1): #Loops through all rows left of self\n",
    "        if heightmap[row][i] >= heightmap[row][col]:#If there is a larger tree return false (it is not visible)\n",
    "            return False\n",
    "    return True\n",
    "\n",
    "def allRight(heightmap, row, col):\n",
    "    for i in range(col+1,len(heightmap[0]),1): #Loops through all rows right of self\n",
    "        if heightmap[row][i] >=heightmap[row][col]:#If there is a larger tree return false (it is not visible)\n",
    "            return False\n",
    "    return True\n",
    "\n",
    "visibleTrees=[] #Keeps track of all trees that are visible\n",
    "for i in range(len(htrees)):\n",
    "    for j in range(len(htrees[i])):\n",
    "        #Checks to see if tree is visible from any direction\n",
    "        if allUp(htrees, i, j) or allDown(htrees, i, j) or allLeft(htrees, i, j) or allRight(htrees, i, j):\n",
    "            visibleTrees.append(htrees[i][j])\n",
    "        \n",
    "print(f'Number of visible trees: {len(visibleTrees)}')"
   ]
  },
  {
   "cell_type": "markdown",
   "id": "177585db",
   "metadata": {},
   "source": [
    "# --- Part Two ---\n",
    "https://adventofcode.com/2022/day/8#part2\n",
    "\n",
    "Content with the amount of tree cover available, the Elves just need to know the best spot to build their tree house: they would like to be able to see a lot of trees.\n",
    "\n",
    "To measure the viewing distance from a given tree, look up, down, left, and right from that tree; stop if you reach an edge or at the first tree that is the same height or taller than the tree under consideration. (If a tree is right on the edge, at least one of its viewing distances will be zero.)\n",
    "\n",
    "The Elves don't care about distant trees taller than those found by the rules above; the proposed tree house has large eaves to keep it dry, so they wouldn't be able to see higher than the tree house anyway.\n",
    "\n",
    "A tree's scenic score is found by multiplying together its viewing distance in each of the four directions.\n",
    "\n",
    "Consider each tree on your map. What is the highest scenic score possible for any tree?"
   ]
  },
  {
   "cell_type": "code",
   "execution_count": 5,
   "id": "5b634aae",
   "metadata": {},
   "outputs": [
    {
     "name": "stdout",
     "output_type": "stream",
     "text": [
      "Highest scenic score: 392080\n"
     ]
    }
   ],
   "source": [
    "htrees=getTreeHeights().split('\\n')\n",
    "htrees = [[*x] for x in htrees]\n",
    "for i in range(len(htrees)):\n",
    "    htrees[i]=[int(x) for x in htrees[i]]\n",
    "    \n",
    "def upSight(heightmap, row, col):\n",
    "    numTrees=0 #Keeps track of how many trees can be seen\n",
    "    for i in range(row-1,-1,-1): #Loops through all rows above self\n",
    "        numTrees+=1\n",
    "        if heightmap[i][col] >= heightmap[row][col]:#If there is a larger tree return false (it is not visible)\n",
    "            break\n",
    "    return numTrees\n",
    "\n",
    "def downSight(heightmap, row, col):\n",
    "    numTrees=0 #Keeps track of how many trees can be seen\n",
    "    for i in range(row+1,len(heightmap),1): #Loops through all rows below self\n",
    "        numTrees+=1\n",
    "        if heightmap[i][col] >= heightmap[row][col]:#If there is a larger tree return false (it is not visible)\n",
    "            break\n",
    "    return numTrees\n",
    "\n",
    "def leftSight(heightmap, row, col):\n",
    "    numTrees=0 #Keeps track of how many trees can be seen\n",
    "    for i in range(col-1,-1,-1): #Loops through all rows left of self\n",
    "        numTrees+=1\n",
    "        if heightmap[row][i] >= heightmap[row][col]:#If there is a larger tree return false (it is not visible)\n",
    "            break\n",
    "    return numTrees\n",
    "\n",
    "def rightSight(heightmap, row, col):\n",
    "    numTrees=0 #Keeps track of how many trees can be seen\n",
    "    for i in range(col+1,len(heightmap[0]),1): #Loops through all rows right of self\n",
    "        numTrees+=1\n",
    "        if heightmap[row][i] >=heightmap[row][col]:#If there is a larger tree return false (it is not visible)\n",
    "            break\n",
    "    return numTrees\n",
    "\n",
    "scenicScores=[]\n",
    "for i in range(len(htrees)):\n",
    "    for j in range(len(htrees[i])):\n",
    "        scenicScores.append(upSight(htrees,i,j)*downSight(htrees,i,j)*leftSight(htrees,i,j)*rightSight(htrees,i,j))\n",
    "        \n",
    "print(f'Highest scenic score: {max(scenicScores)}')"
   ]
  }
 ],
 "metadata": {
  "kernelspec": {
   "display_name": "Python 3 (ipykernel)",
   "language": "python",
   "name": "python3"
  },
  "language_info": {
   "codemirror_mode": {
    "name": "ipython",
    "version": 3
   },
   "file_extension": ".py",
   "mimetype": "text/x-python",
   "name": "python",
   "nbconvert_exporter": "python",
   "pygments_lexer": "ipython3",
   "version": "3.12.4"
  }
 },
 "nbformat": 4,
 "nbformat_minor": 5
}
