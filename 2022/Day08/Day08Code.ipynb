{
 "cells": [
  {
   "cell_type": "markdown",
   "id": "2bcd8b54",
   "metadata": {},
   "source": [
    "# --- Day 8: Treetop Tree House ---\n",
    "https://adventofcode.com/2022/day/8"
   ]
  },
  {
   "cell_type": "code",
   "execution_count": 2,
   "id": "0eea9203",
   "metadata": {},
   "outputs": [],
   "source": [
    "def getTreeHeights():\n",
    "    with open('treeHeights.txt') as file:\n",
    "        return file.read()"
   ]
  },
  {
   "cell_type": "code",
   "execution_count": 3,
   "id": "426606d8",
   "metadata": {
    "scrolled": true
   },
   "outputs": [
    {
     "name": "stdout",
     "output_type": "stream",
     "text": [
      "Number of visible trees: 1647\n"
     ]
    }
   ],
   "source": [
    "#formatting\n",
    "htrees=getTreeHeights().split('\\n')\n",
    "htrees = [[*x] for x in htrees]\n",
    "for i in range(len(htrees)):\n",
    "    htrees[i]=[int(x) for x in htrees[i]]\n",
    "    \n",
    "def allUp(heightmap, row, col):\n",
    "    for i in range(row-1,-1,-1): #Loops through all rows above self\n",
    "        if heightmap[i][col] >= heightmap[row][col]:#If there is a larger tree return false (it is not visible)\n",
    "            return False\n",
    "    return True\n",
    "\n",
    "def allDown(heightmap, row, col):\n",
    "    for i in range(row+1,len(heightmap),1): #Loops through all rows below self\n",
    "        if heightmap[i][col] >= heightmap[row][col]:#If there is a larger tree return false (it is not visible)\n",
    "            return False\n",
    "    return True\n",
    "\n",
    "def allLeft(heightmap, row, col):\n",
    "    for i in range(col-1,-1,-1): #Loops through all rows left of self\n",
    "        if heightmap[row][i] >= heightmap[row][col]:#If there is a larger tree return false (it is not visible)\n",
    "            return False\n",
    "    return True\n",
    "\n",
    "def allRight(heightmap, row, col):\n",
    "    for i in range(col+1,len(heightmap[0]),1): #Loops through all rows right of self\n",
    "        if heightmap[row][i] >=heightmap[row][col]:#If there is a larger tree return false (it is not visible)\n",
    "            return False\n",
    "    return True\n",
    "\n",
    "visibleTrees=[] #Keeps track of all trees that are visible\n",
    "for i in range(len(htrees)):\n",
    "    for j in range(len(htrees[i])):\n",
    "        #Checks to see if tree is visible from any direction\n",
    "        if allUp(htrees, i, j) or allDown(htrees, i, j) or allLeft(htrees, i, j) or allRight(htrees, i, j):\n",
    "            visibleTrees.append(htrees[i][j])\n",
    "        \n",
    "print(f'Number of visible trees: {len(visibleTrees)}')"
   ]
  },
  {
   "cell_type": "markdown",
   "id": "177585db",
   "metadata": {},
   "source": [
    "# --- Part Two ---"
   ]
  },
  {
   "cell_type": "code",
   "execution_count": 5,
   "id": "5b634aae",
   "metadata": {},
   "outputs": [
    {
     "name": "stdout",
     "output_type": "stream",
     "text": [
      "Highest scenic score: 392080\n"
     ]
    }
   ],
   "source": [
    "htrees=getTreeHeights().split('\\n')\n",
    "htrees = [[*x] for x in htrees]\n",
    "for i in range(len(htrees)):\n",
    "    htrees[i]=[int(x) for x in htrees[i]]\n",
    "    \n",
    "def upSight(heightmap, row, col):\n",
    "    numTrees=0 #Keeps track of how many trees can be seen\n",
    "    for i in range(row-1,-1,-1): #Loops through all rows above self\n",
    "        numTrees+=1\n",
    "        if heightmap[i][col] >= heightmap[row][col]:#If there is a larger tree return false (it is not visible)\n",
    "            break\n",
    "    return numTrees\n",
    "\n",
    "def downSight(heightmap, row, col):\n",
    "    numTrees=0 #Keeps track of how many trees can be seen\n",
    "    for i in range(row+1,len(heightmap),1): #Loops through all rows below self\n",
    "        numTrees+=1\n",
    "        if heightmap[i][col] >= heightmap[row][col]:#If there is a larger tree return false (it is not visible)\n",
    "            break\n",
    "    return numTrees\n",
    "\n",
    "def leftSight(heightmap, row, col):\n",
    "    numTrees=0 #Keeps track of how many trees can be seen\n",
    "    for i in range(col-1,-1,-1): #Loops through all rows left of self\n",
    "        numTrees+=1\n",
    "        if heightmap[row][i] >= heightmap[row][col]:#If there is a larger tree return false (it is not visible)\n",
    "            break\n",
    "    return numTrees\n",
    "\n",
    "def rightSight(heightmap, row, col):\n",
    "    numTrees=0 #Keeps track of how many trees can be seen\n",
    "    for i in range(col+1,len(heightmap[0]),1): #Loops through all rows right of self\n",
    "        numTrees+=1\n",
    "        if heightmap[row][i] >=heightmap[row][col]:#If there is a larger tree return false (it is not visible)\n",
    "            break\n",
    "    return numTrees\n",
    "\n",
    "scenicScores=[]\n",
    "for i in range(len(htrees)):\n",
    "    for j in range(len(htrees[i])):\n",
    "        scenicScores.append(upSight(htrees,i,j)*downSight(htrees,i,j)*leftSight(htrees,i,j)*rightSight(htrees,i,j))\n",
    "        \n",
    "print(f'Highest scenic score: {max(scenicScores)}')"
   ]
  }
 ],
 "metadata": {
  "kernelspec": {
   "display_name": "Python 3 (ipykernel)",
   "language": "python",
   "name": "python3"
  },
  "language_info": {
   "codemirror_mode": {
    "name": "ipython",
    "version": 3
   },
   "file_extension": ".py",
   "mimetype": "text/x-python",
   "name": "python",
   "nbconvert_exporter": "python",
   "pygments_lexer": "ipython3",
   "version": "3.12.7"
  }
 },
 "nbformat": 4,
 "nbformat_minor": 5
}
