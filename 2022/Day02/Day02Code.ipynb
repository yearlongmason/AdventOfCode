{
 "cells": [
  {
   "cell_type": "markdown",
   "id": "a46bb58d",
   "metadata": {},
   "source": [
    "# --- Day 2: Rock Paper Scissors ---\n",
    "https://adventofcode.com/2022/day/2"
   ]
  },
  {
   "cell_type": "code",
   "execution_count": 2,
   "id": "d8ada2cd",
   "metadata": {},
   "outputs": [],
   "source": [
    "def getStrategy():\n",
    "    with open('strategy.txt') as file:\n",
    "        return file.read()"
   ]
  },
  {
   "cell_type": "code",
   "execution_count": 3,
   "id": "aebb19ab",
   "metadata": {},
   "outputs": [
    {
     "name": "stdout",
     "output_type": "stream",
     "text": [
      "Total score: 11873\n"
     ]
    }
   ],
   "source": [
    "# Formatting\n",
    "strat = getStrategy().split('\\n') #Splits by each game\n",
    "strat = [x.split(' ') for x in strat] #Splits each game by moves\n",
    "\n",
    "totalScore = 0\n",
    "for i in range(len(strat)): #Loops through each game\n",
    "    if strat[i][0] =='A': #Opponent chooses rock\n",
    "        if strat[i][1] =='X': #rock + tie\n",
    "            totalScore+=4\n",
    "        elif strat[i][1] =='Y': #paper + win\n",
    "            totalScore+=8\n",
    "        elif strat[i][1] =='Z': #scissors + lose\n",
    "            totalScore+=3\n",
    "    elif strat[i][0] =='B': #Opponent chooses paper\n",
    "        if strat[i][1] =='X': #rock + lose\n",
    "            totalScore+=1\n",
    "        elif strat[i][1] =='Y': #paper + tie\n",
    "            totalScore+=5\n",
    "        elif strat[i][1] =='Z': #scissors + win\n",
    "            totalScore+=9\n",
    "    elif strat[i][0] =='C': #Opponent chooses scissors\n",
    "        if strat[i][1] =='X': #rock + win\n",
    "            totalScore+=7\n",
    "        elif strat[i][1] =='Y': #paper + lose\n",
    "            totalScore+=2\n",
    "        elif strat[i][1] =='Z': #scissors + tie\n",
    "            totalScore+=6\n",
    "            \n",
    "print(f'Total score: {totalScore}')"
   ]
  },
  {
   "cell_type": "markdown",
   "id": "a30acb89",
   "metadata": {},
   "source": [
    "# --- Part Two ---"
   ]
  },
  {
   "cell_type": "code",
   "execution_count": 5,
   "id": "f9bf4830",
   "metadata": {},
   "outputs": [
    {
     "name": "stdout",
     "output_type": "stream",
     "text": [
      "Corrected total score: 12014\n"
     ]
    }
   ],
   "source": [
    "# Formatting\n",
    "strat = getStrategy().split('\\n') #Splits by each game\n",
    "strat = [x.split(' ') for x in strat] #Splits each game by moves\n",
    "\n",
    "totalScore = 0\n",
    "for i in range(len(strat)): #Loops through each game\n",
    "    if strat[i][0] =='A': #Opponent chooses rock\n",
    "        if strat[i][1] =='X': #scissors + lose\n",
    "            totalScore+=3\n",
    "        elif strat[i][1] =='Y': #rock + tie\n",
    "            totalScore+=4\n",
    "        elif strat[i][1] =='Z': #paper + win\n",
    "            totalScore+=8\n",
    "    elif strat[i][0] =='B': #Opponent chooses paper\n",
    "        if strat[i][1] =='X': #rock + lose\n",
    "            totalScore+=1\n",
    "        elif strat[i][1] =='Y': #paper + tie\n",
    "            totalScore+=5\n",
    "        elif strat[i][1] =='Z': #scissors + win\n",
    "            totalScore+=9\n",
    "    elif strat[i][0] =='C': #Opponent chooses scissors\n",
    "        if strat[i][1] =='X': #paper + lose\n",
    "            totalScore+=2\n",
    "        elif strat[i][1] =='Y': #scissors + tie\n",
    "            totalScore+=6\n",
    "        elif strat[i][1] =='Z': #rock + win\n",
    "            totalScore+=7\n",
    "\n",
    "print(f'Corrected total score: {totalScore}')"
   ]
  }
 ],
 "metadata": {
  "kernelspec": {
   "display_name": "Python 3 (ipykernel)",
   "language": "python",
   "name": "python3"
  },
  "language_info": {
   "codemirror_mode": {
    "name": "ipython",
    "version": 3
   },
   "file_extension": ".py",
   "mimetype": "text/x-python",
   "name": "python",
   "nbconvert_exporter": "python",
   "pygments_lexer": "ipython3",
   "version": "3.12.7"
  }
 },
 "nbformat": 4,
 "nbformat_minor": 5
}
