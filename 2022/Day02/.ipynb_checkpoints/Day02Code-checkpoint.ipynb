{
 "cells": [
  {
   "cell_type": "markdown",
   "id": "a46bb58d",
   "metadata": {},
   "source": [
    "# --- Day 2: Rock Paper Scissors ---\n",
    "https://adventofcode.com/2022/day/2\n",
    "\n",
    "The Elves begin to set up camp on the beach. To decide whose tent gets to be closest to the snack storage, a giant Rock Paper Scissors tournament is already in progress.\n",
    "\n",
    "Rock Paper Scissors is a game between two players. Each game contains many rounds; in each round, the players each simultaneously choose one of Rock, Paper, or Scissors using a hand shape. Then, a winner for that round is selected: Rock defeats Scissors, Scissors defeats Paper, and Paper defeats Rock. If both players choose the same shape, the round instead ends in a draw.\n",
    "\n",
    "Appreciative of your help yesterday, one Elf gives you an encrypted strategy guide (your puzzle input) that they say will be sure to help you win. \"The first column is what your opponent is going to play: A for Rock, B for Paper, and C for Scissors. The second column--\" Suddenly, the Elf is called away to help with someone's tent.\n",
    "\n",
    "The second column, you reason, must be what you should play in response: X for Rock, Y for Paper, and Z for Scissors. Winning every time would be suspicious, so the responses must have been carefully chosen.\n",
    "\n",
    "The winner of the whole tournament is the player with the highest score. Your total score is the sum of your scores for each round. The score for a single round is the score for the shape you selected (1 for Rock, 2 for Paper, and 3 for Scissors) plus the score for the outcome of the round (0 if you lost, 3 if the round was a draw, and 6 if you won).\n",
    "\n",
    "Since you can't be sure if the Elf is trying to help you or trick you, you should calculate the score you would get if you were to follow the strategy guide.\n",
    "\n",
    "What would your total score be if everything goes exactly according to your strategy guide?"
   ]
  },
  {
   "cell_type": "code",
   "execution_count": 2,
   "id": "d8ada2cd",
   "metadata": {},
   "outputs": [],
   "source": [
    "def getStrategy():\n",
    "    with open('strategy.txt') as file:\n",
    "        return file.read()"
   ]
  },
  {
   "cell_type": "code",
   "execution_count": 3,
   "id": "aebb19ab",
   "metadata": {},
   "outputs": [
    {
     "name": "stdout",
     "output_type": "stream",
     "text": [
      "Total score: 11873\n"
     ]
    }
   ],
   "source": [
    "#formatting\n",
    "strat = getStrategy().split('\\n') #Splits by each game\n",
    "strat = [x.split(' ') for x in strat] #Splits each game by moves\n",
    "\n",
    "totalScore = 0\n",
    "for i in range(len(strat)): #Loops through each game\n",
    "    if strat[i][0] =='A': #Opponent chooses rock\n",
    "        if strat[i][1] =='X': #rock + tie\n",
    "            totalScore+=4\n",
    "        elif strat[i][1] =='Y': #paper + win\n",
    "            totalScore+=8\n",
    "        elif strat[i][1] =='Z': #scissors + lose\n",
    "            totalScore+=3\n",
    "    elif strat[i][0] =='B': #Opponent chooses paper\n",
    "        if strat[i][1] =='X': #rock + lose\n",
    "            totalScore+=1\n",
    "        elif strat[i][1] =='Y': #paper + tie\n",
    "            totalScore+=5\n",
    "        elif strat[i][1] =='Z': #scissors + win\n",
    "            totalScore+=9\n",
    "    elif strat[i][0] =='C': #Opponent chooses scissors\n",
    "        if strat[i][1] =='X': #rock + win\n",
    "            totalScore+=7\n",
    "        elif strat[i][1] =='Y': #paper + lose\n",
    "            totalScore+=2\n",
    "        elif strat[i][1] =='Z': #scissors + tie\n",
    "            totalScore+=6\n",
    "            \n",
    "print(f'Total score: {totalScore}')"
   ]
  },
  {
   "cell_type": "markdown",
   "id": "a30acb89",
   "metadata": {},
   "source": [
    "# --- Part Two ---\n",
    "https://adventofcode.com/2022/day/2#part2\n",
    "\n",
    "The Elf finishes helping with the tent and sneaks back over to you. \"Anyway, the second column says how the round needs to end: X means you need to lose, Y means you need to end the round in a draw, and Z means you need to win. Good luck!\"\n",
    "\n",
    "The total score is still calculated in the same way, but now you need to figure out what shape to choose so the round ends as indicated.\n",
    "\n",
    "Following the Elf's instructions for the second column, what would your total score be if everything goes exactly according to your strategy guide?"
   ]
  },
  {
   "cell_type": "code",
   "execution_count": 5,
   "id": "f9bf4830",
   "metadata": {},
   "outputs": [
    {
     "name": "stdout",
     "output_type": "stream",
     "text": [
      "Corrected total score: 12014\n"
     ]
    }
   ],
   "source": [
    "#formatting\n",
    "strat = getStrategy().split('\\n') #Splits by each game\n",
    "strat = [x.split(' ') for x in strat] #Splits each game by moves\n",
    "\n",
    "totalScore = 0\n",
    "for i in range(len(strat)): #Loops through each game\n",
    "    if strat[i][0] =='A': #Opponent chooses rock\n",
    "        if strat[i][1] =='X': #scissors + lose\n",
    "            totalScore+=3\n",
    "        elif strat[i][1] =='Y': #rock + tie\n",
    "            totalScore+=4\n",
    "        elif strat[i][1] =='Z': #paper + win\n",
    "            totalScore+=8\n",
    "    elif strat[i][0] =='B': #Opponent chooses paper\n",
    "        if strat[i][1] =='X': #rock + lose\n",
    "            totalScore+=1\n",
    "        elif strat[i][1] =='Y': #paper + tie\n",
    "            totalScore+=5\n",
    "        elif strat[i][1] =='Z': #scissors + win\n",
    "            totalScore+=9\n",
    "    elif strat[i][0] =='C': #Opponent chooses scissors\n",
    "        if strat[i][1] =='X': #paper + lose\n",
    "            totalScore+=2\n",
    "        elif strat[i][1] =='Y': #scissors + tie\n",
    "            totalScore+=6\n",
    "        elif strat[i][1] =='Z': #rock + win\n",
    "            totalScore+=7\n",
    "\n",
    "print(f'Corrected total score: {totalScore}')"
   ]
  }
 ],
 "metadata": {
  "kernelspec": {
   "display_name": "Python 3 (ipykernel)",
   "language": "python",
   "name": "python3"
  },
  "language_info": {
   "codemirror_mode": {
    "name": "ipython",
    "version": 3
   },
   "file_extension": ".py",
   "mimetype": "text/x-python",
   "name": "python",
   "nbconvert_exporter": "python",
   "pygments_lexer": "ipython3",
   "version": "3.12.4"
  }
 },
 "nbformat": 4,
 "nbformat_minor": 5
}
