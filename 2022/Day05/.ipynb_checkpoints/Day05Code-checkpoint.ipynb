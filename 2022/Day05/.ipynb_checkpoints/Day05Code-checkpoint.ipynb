{
 "cells": [
  {
   "cell_type": "markdown",
   "id": "fb84cca2",
   "metadata": {},
   "source": [
    "# --- Day 5: Supply Stacks ---\n",
    "https://adventofcode.com/2022/day/5\n",
    "\n",
    "The expedition can depart as soon as the final supplies have been unloaded from the ships. Supplies are stored in stacks of marked crates, but because the needed supplies are buried under many other crates, the crates need to be rearranged.\n",
    "\n",
    "The ship has a giant cargo crane capable of moving crates between stacks. To ensure none of the crates get crushed or fall over, the crane operator will rearrange them in a series of carefully-planned steps. After the crates are rearranged, the desired crates will be at the top of each stack.\n",
    "\n",
    "The Elves don't want to interrupt the crane operator during this delicate procedure, but they forgot to ask her which crate will end up where, and they want to be ready to unload them as soon as possible so they can embark.\n",
    "\n",
    "They do, however, have a drawing of the starting stacks of crates and the rearrangement procedure (your puzzle input)."
   ]
  },
  {
   "cell_type": "code",
   "execution_count": 2,
   "id": "b3306281",
   "metadata": {},
   "outputs": [
    {
     "name": "stdout",
     "output_type": "stream",
     "text": [
      "    [V] [G]             [H]        \n",
      "[Z] [H] [Z]         [T] [S]        \n",
      "[P] [D] [F]         [B] [V] [Q]    \n",
      "[B] [M] [V] [N]     [F] [D] [N]    \n",
      "[Q] [Q] [D] [F]     [Z] [Z] [P] [M]\n",
      "[M] [Z] [R] [D] [Q] [V] [T] [F] [R]\n",
      "[D] [L] [H] [G] [F] [Q] [M] [G] [W]\n",
      "[N] [C] [Q] [H] [N] [D] [Q] [M] [B]\n",
      " 1   2   3   4   5   6   7   8   9 \n"
     ]
    }
   ],
   "source": [
    "def getCrates():\n",
    "    with open('crates.txt') as file:\n",
    "        return file.read()\n",
    "\n",
    "print(getCrates())"
   ]
  },
  {
   "cell_type": "code",
   "execution_count": 3,
   "id": "f5a79f77",
   "metadata": {},
   "outputs": [],
   "source": [
    "def getDirections():\n",
    "    with open('directions.txt') as file:\n",
    "        return file.read()"
   ]
  },
  {
   "cell_type": "code",
   "execution_count": 4,
   "id": "0b744aaa",
   "metadata": {},
   "outputs": [
    {
     "name": "stdout",
     "output_type": "stream",
     "text": [
      "Top crates: QGTHFZBHV\n"
     ]
    }
   ],
   "source": [
    "#defining a stack class\n",
    "class Stack:\n",
    "    def __init__(self):\n",
    "        self.stack=[]\n",
    "        \n",
    "    def push(self, item):\n",
    "        self.stack.append(item)\n",
    "        \n",
    "    def pop(self):\n",
    "        return self.stack.pop()\n",
    "    \n",
    "    def isEmpty(self):\n",
    "        return self.stack==[]\n",
    "    \n",
    "    def reverseStack(self):\n",
    "        self.stack.reverse()\n",
    "        \n",
    "    def peek(self):\n",
    "        return self.stack[-1]\n",
    "        \n",
    "#Formats crates\n",
    "crates=getCrates()\n",
    "crates=crates.split('\\n')\n",
    "crates.pop() #Gets rid of the last line which is just the labels\n",
    "allCrates=[]\n",
    "for i in range((len(crates[0])+1)//4):\n",
    "    allCrates.append(Stack())\n",
    "letters=[]\n",
    "for i in crates: #This creates a 2D list of all crates in the correct positions without extra text\n",
    "    letters.append([])\n",
    "    for j in range(1,len(i),4):\n",
    "        letters[-1].append(i[j])\n",
    "for i in range(len(letters)): #Puts all values of crates in the correct stack\n",
    "    for j in range(len(letters[i])):\n",
    "        if letters[i][j] !=' ': #Only adds a crate if there is one\n",
    "            allCrates[j].push(letters[i][j])\n",
    "for i in range(len(allCrates)): #Reverses all stacks otherwise it'd be upside down\n",
    "    allCrates[i].reverseStack()\n",
    "    \n",
    "#formats directions\n",
    "directions=getDirections()\n",
    "directions=directions.split('\\n')\n",
    "cleanDirs=[] #Cleaned directions will keep track of just the numbers in the directions\n",
    "for i in range(len(directions)):\n",
    "    cleanDirs.append([])\n",
    "    directions[i] = directions[i].replace('move ', '')\n",
    "    cleanDirs[-1].append(int(directions[i][0:directions[i].index(' ')]))\n",
    "    directions[i] = directions[i][directions[i].index(' ')+6:]\n",
    "    cleanDirs[-1].append(int(directions[i][0:directions[i].index(' ')]))\n",
    "    directions[i] = directions[i][directions[i].index(' ')+4:]\n",
    "    cleanDirs[-1].append(int(directions[i][0:]))\n",
    "    \n",
    "for i in range(len(cleanDirs)): #This uses the stacks to move each crate 1 by 1\n",
    "    for j in range(cleanDirs[i][0]):\n",
    "        allCrates[cleanDirs[i][2]-1].push(allCrates[cleanDirs[i][1]-1].pop())\n",
    "        \n",
    "topCrates='' #Assembles the tops of the crates\n",
    "for i in allCrates:\n",
    "    topCrates+=i.peek()\n",
    "\n",
    "print(f'Top crates: {topCrates}')"
   ]
  },
  {
   "cell_type": "markdown",
   "id": "91aa8393",
   "metadata": {},
   "source": [
    "# --- Part Two ---\n",
    "https://adventofcode.com/2022/day/5#part2\n",
    "\n",
    "As you watch the crane operator expertly rearrange the crates, you notice the process isn't following your prediction.\n",
    "\n",
    "Some mud was covering the writing on the side of the crane, and you quickly wipe it away. The crane isn't a CrateMover 9000 - it's a CrateMover 9001.\n",
    "\n",
    "The CrateMover 9001 is notable for many new and exciting features: air conditioning, leather seats, an extra cup holder, and the ability to pick up and move multiple crates at once.\n",
    "\n",
    "Before the rearrangement process finishes, update your simulation so that the Elves know where they should stand to be ready to unload the final supplies. After the rearrangement procedure completes, what crate ends up on top of each stack?"
   ]
  },
  {
   "cell_type": "code",
   "execution_count": 6,
   "id": "d3a079e1",
   "metadata": {},
   "outputs": [
    {
     "name": "stdout",
     "output_type": "stream",
     "text": [
      "Top crates: MGDMPSZTM\n"
     ]
    }
   ],
   "source": [
    "import pprint\n",
    "#Formats crates\n",
    "crates=getCrates()\n",
    "crates=crates.split('\\n')\n",
    "crates.pop() #Gets rid of the last line which is just the labels\n",
    "letters=[]\n",
    "for i in crates: #This creates a 2D list of all crates in the correct positions without extra text\n",
    "    letters.append([])\n",
    "    for j in range(1,len(i),4):\n",
    "        letters[-1].append(i[j])\n",
    "crateslist=[] #Makes a list of all stacks with their crates in order\n",
    "for i in range(len(letters[0])): #Adds all the stacks\n",
    "    crateslist.append([])\n",
    "for i in range(len(letters)): #Add all crates to their respective stack\n",
    "    for j in range(len(letters[i])):\n",
    "        if letters[i][j]!=' ':\n",
    "            crateslist[j].append(letters[i][j])\n",
    "for i in range(len(crateslist)): #Reverse the list otherwise it'd be upside down\n",
    "    crateslist[i].reverse()\n",
    "    \n",
    "#formats directions\n",
    "directions=getDirections()\n",
    "directions=directions.split('\\n')\n",
    "cleanDirs=[] #Cleaned directions will keep track of just the numbers in the directions\n",
    "#More formatting!\n",
    "for i in range(len(directions)):\n",
    "    cleanDirs.append([])\n",
    "    directions[i] = directions[i].replace('move ', '')\n",
    "    cleanDirs[-1].append(int(directions[i][0:directions[i].index(' ')]))\n",
    "    directions[i] = directions[i][directions[i].index(' ')+6:]\n",
    "    cleanDirs[-1].append(int(directions[i][0:directions[i].index(' ')]))\n",
    "    directions[i] = directions[i][directions[i].index(' ')+4:]\n",
    "    cleanDirs[-1].append(int(directions[i][0]))\n",
    "\n",
    "for i in range(len(cleanDirs)): #This just simulates moving the crates\n",
    "    moving=crateslist[cleanDirs[i][1]-1][-cleanDirs[i][0]:]\n",
    "    for j in moving: #Loops through every item that is being moved\n",
    "        crateslist[cleanDirs[i][2]-1].append(j)\n",
    "        crateslist[cleanDirs[i][1]-1].pop()\n",
    "\n",
    "topCrates='' #Assembles the tops of the crates\n",
    "for i in crateslist:\n",
    "    topCrates+=i[-1]\n",
    "\n",
    "print(f'Top crates: {topCrates}')"
   ]
  }
 ],
 "metadata": {
  "kernelspec": {
   "display_name": "Python 3 (ipykernel)",
   "language": "python",
   "name": "python3"
  },
  "language_info": {
   "codemirror_mode": {
    "name": "ipython",
    "version": 3
   },
   "file_extension": ".py",
   "mimetype": "text/x-python",
   "name": "python",
   "nbconvert_exporter": "python",
   "pygments_lexer": "ipython3",
   "version": "3.12.4"
  }
 },
 "nbformat": 4,
 "nbformat_minor": 5
}
