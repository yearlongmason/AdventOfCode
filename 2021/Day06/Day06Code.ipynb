{
 "cells": [
  {
   "cell_type": "markdown",
   "id": "49a9314a",
   "metadata": {},
   "source": [
    "# --- Day 6: Lanternfish ---\n",
    "https://adventofcode.com/2021/day/6"
   ]
  },
  {
   "cell_type": "code",
   "execution_count": 2,
   "id": "fb1393e7",
   "metadata": {},
   "outputs": [],
   "source": [
    "import time\n",
    "\n",
    "def readLanternfish():\n",
    "    with open('lanternfish.txt') as file:\n",
    "        return file.read()\n",
    "\n",
    "def readLanternfishTest():\n",
    "    with open('lanternfishTest.txt') as file:\n",
    "        return file.read()"
   ]
  },
  {
   "cell_type": "code",
   "execution_count": 3,
   "id": "298775e0",
   "metadata": {},
   "outputs": [
    {
     "name": "stdout",
     "output_type": "stream",
     "text": [
      "Number of lanternfish after 80 days: 363101\n",
      "Time to run: 1.941 seconds\n"
     ]
    }
   ],
   "source": [
    "fish = readLanternfish().split(',')\n",
    "\n",
    "class Lanternfish: #Defines Lanternfish class to represent each lanternfish\n",
    "    allFish = [] #This will store every instance of a lanternfish\n",
    "    \n",
    "    def __init__(self, days=8):\n",
    "        self.days = days\n",
    "        Lanternfish.allFish.append(self) #Everytime a new instance of Lanternfish is created it will append it to allFish\n",
    "    \n",
    "    def dayPass(self): #This function represents 1 day passing\n",
    "        self.days -=1\n",
    "        if self.days == -1:#Checks to see if the lanternfish is ready to create a new lanternfish\n",
    "            self.days=6 #Resets days\n",
    "            Lanternfish() #Creates a new instance of Lanternfish that uses the default days value(8)\n",
    "            \n",
    "    @classmethod\n",
    "    def dayPassAll(cls):\n",
    "        for i in range(len(cls.allFish)): #Goes through each instance of fish\n",
    "            cls.allFish[i].days-=1 #Subtracts 1 day from the fish's time till reproduction\n",
    "            if cls.allFish[i].days == -1: #If the fish's timer goes to -1 it reproduces and resets it's days left\n",
    "                cls.allFish[i].days = 6\n",
    "                Lanternfish() #Initiates a new instance of Lanternfish that uses the default days value(8)\n",
    "            \n",
    "for i in range(len(fish)): #Casts everything in fish as a Lanternfish class\n",
    "    fish[i] = Lanternfish(int(fish[i]))\n",
    "        \n",
    "start = time.time()\n",
    "days = 80\n",
    "for i in range(days): #Cycles through 80 days\n",
    "    Lanternfish.dayPassAll() #Class method version\n",
    "    '''This is a slower version that goes through every instance and calls the dayPass function on each instance\n",
    "    for i in range(len(Lanternfish.allFish)): #Goes through every fish for every day\n",
    "        Lanternfish.allFish[i].dayPass() #Passes a day for each fish\n",
    "    '''\n",
    "print(f\"Number of lanternfish after {days} days: {len(Lanternfish.allFish)}\\nTime to run: {round(time.time() - start,3)} seconds\")"
   ]
  },
  {
   "cell_type": "markdown",
   "id": "ef2d4296",
   "metadata": {},
   "source": [
    "# --- Part Two ---"
   ]
  },
  {
   "cell_type": "code",
   "execution_count": 5,
   "id": "88e67913",
   "metadata": {},
   "outputs": [
    {
     "name": "stdout",
     "output_type": "stream",
     "text": [
      "Number of lanternfish after 110 days: 4939632\n",
      "Time to run: 18.99644 seconds\n"
     ]
    }
   ],
   "source": [
    "fish = readLanternfish().split(',')\n",
    "\n",
    "class Lanternfish: #Defines Lanternfish class to represent each lanternfish\n",
    "    allFish = [] #This will store every instance of a lanternfish\n",
    "    \n",
    "    def __init__(self, days=8):\n",
    "        self.days = days\n",
    "        Lanternfish.allFish.append(self) #Everytime a new instance of Lanternfish is created it will append it to allFish\n",
    "            \n",
    "    @classmethod\n",
    "    def dayPass(cls):\n",
    "        for i in range(len(cls.allFish)):\n",
    "            cls.allFish[i].days-=1\n",
    "            if cls.allFish[i].days == -1:\n",
    "                cls.allFish[i].days = 6\n",
    "                Lanternfish()\n",
    "            \n",
    "for i in range(len(fish)): #Casts everything in fish as a Lanternfish class\n",
    "    fish[i] = Lanternfish(int(fish[i]))\n",
    "        \n",
    "days = 110\n",
    "totalTime = time.time()\n",
    "for i in range(days): #Cycles through days\n",
    "    dayLength = time.time()\n",
    "    Lanternfish.dayPass()\n",
    "    #print(f\"Day {i+1}: {len(Lanternfish.allFish)} lanternfish | Time: {round(time.time() - dayLength,5)} seconds\")\n",
    "        \n",
    "print(f\"\"\"Number of lanternfish after {days} days: {len(Lanternfish.allFish)}\n",
    "Time to run: {round(time.time() - totalTime,5)} seconds\"\"\")"
   ]
  },
  {
   "cell_type": "code",
   "execution_count": 6,
   "id": "fdcb4f42",
   "metadata": {},
   "outputs": [
    {
     "name": "stdout",
     "output_type": "stream",
     "text": [
      "Number of lanternfish after 256 days: 1644286074024\n"
     ]
    }
   ],
   "source": [
    "fish = readLanternfish().split(',')\n",
    "for i in range(len(fish)):\n",
    "    fish[i] = int(fish[i])\n",
    "\n",
    "fishQueue = [0,0,0,0,0,0,0,0,0] #Initiates a list with a value of 0 for each amount of days left\n",
    "for i in fish:\n",
    "    fishQueue[i] += 1 #Takes the input (fish) and adds 1 to each day value in fishQueue so it has the num of fish per value\n",
    "\n",
    "def dayPass(fishQueue):\n",
    "    \"\"\"Simulates 1 day of lanternfish reproduction\"\"\"\n",
    "    newFish = fishQueue.pop(0) #dequeues the fish that have 0 days (index 0) and assigns it to newFish\n",
    "    fishQueue.append(newFish) #enqueues the number of new fish to the end which represents 8 days left\n",
    "    fishQueue[6] += newFish #Adds the number of fish that reset their timers to day 6 (index 6)\n",
    "    return fishQueue\n",
    "\n",
    "days = 256\n",
    "for i in range(days): #Runs the dayPass function once for every simulated day and assigns it to fishQueue\n",
    "    fishQueue = dayPass(fishQueue)\n",
    "print(f\"Number of lanternfish after {days} days: {sum(fishQueue)}\")"
   ]
  }
 ],
 "metadata": {
  "kernelspec": {
   "display_name": "Python 3 (ipykernel)",
   "language": "python",
   "name": "python3"
  },
  "language_info": {
   "codemirror_mode": {
    "name": "ipython",
    "version": 3
   },
   "file_extension": ".py",
   "mimetype": "text/x-python",
   "name": "python",
   "nbconvert_exporter": "python",
   "pygments_lexer": "ipython3",
   "version": "3.12.7"
  }
 },
 "nbformat": 4,
 "nbformat_minor": 5
}
