{
 "cells": [
  {
   "cell_type": "markdown",
   "id": "33676977",
   "metadata": {},
   "source": [
    "# --- Day 4: Giant Squid ---\n",
    "https://adventofcode.com/2021/day/4"
   ]
  },
  {
   "cell_type": "code",
   "execution_count": 2,
   "id": "8d9fa7c1",
   "metadata": {},
   "outputs": [],
   "source": [
    "def readBoardCalls(): #Reads from the bingo calls file and returns the boards as a string\n",
    "    with open('bingoCalls.txt') as file:\n",
    "        return file.read()\n",
    "\n",
    "def readBoards(): #Reads from the boards file and returns the boards as a string\n",
    "    with open('bingoBoards.txt') as file:\n",
    "        return file.read()"
   ]
  },
  {
   "cell_type": "code",
   "execution_count": 3,
   "id": "836e1f18",
   "metadata": {},
   "outputs": [
    {
     "name": "stdout",
     "output_type": "stream",
     "text": [
      "Winning Board:\n",
      "Sum of the numbers not called: 439 | Last number called: 57\n",
      "Score: 25023\n"
     ]
    }
   ],
   "source": [
    "class BoardSquare():\n",
    "    def __init__(self, data):\n",
    "        self.data = data\n",
    "        self.called = False\n",
    "        \n",
    "    def __eq__(self, other):\n",
    "        return self.data == other\n",
    "    \n",
    "    def __str__(self):\n",
    "        return self.data\n",
    "\n",
    "boardCalls = readBoardCalls().split(',') #Reads the board calls and formats it into a string\n",
    "boards = readBoards() #Reads the boards\n",
    "boards=boards.replace('  ', ' ') #Gets rid of the double spaces with single digit numbers\n",
    "boards = boards.split('\\n') #Splits the board by\n",
    "while '' in boards: #Gets rid of rows that are just equal to ''\n",
    "    boards.pop(boards.index(''))\n",
    "boardsF = [] #Creates a new boards formatted list\n",
    "for i in range(len(boards)//5): #Goes through for the amount of boards there are in the list\n",
    "    boardsF.append([])#Adds a board list\n",
    "    for j in range(5): #Loops through\n",
    "        boardsF[i].append(boards[j].split())\n",
    "    boards = boards[5:]\n",
    "boards = boardsF\n",
    "\n",
    "for i in range(len(boards)): #This puts all board data into my square class\n",
    "    for j in range(5):\n",
    "        for k in range(5):\n",
    "            boards[i][j][k] = BoardSquare(boards[i][j][k])\n",
    "\n",
    "winningBoard = None\n",
    "breakCondition = False\n",
    "for call in boardCalls:\n",
    "    #Nested for loop will go through ever index of every board\n",
    "    for i in range(len(boards)):\n",
    "        for j in range(5):\n",
    "            for k in range(5):\n",
    "                if boards[i][j][k]==call: #Checks to see if\n",
    "                    boards[i][j][k].called = True\n",
    "                    #Since one was right, it checks all the values of that column\n",
    "                    if boards[i][0][k].called == boards[i][1][k].called == boards[i][2][k].called == boards[i][3][k].called == boards[i][4][k].called == True:\n",
    "                        winningBoard = boards[i]\n",
    "                        breakCondition=True\n",
    "                        lastCall= int(call)\n",
    "                    #Checking all the values of the row\n",
    "                    if boards[i][j][0].called == boards[i][j][1].called == boards[i][j][2].called == boards[i][j][3].called == boards[i][j][4].called == True:\n",
    "                        winningBoard = boards[i]\n",
    "                        lastCall = int(call)\n",
    "                        breakCondition=True\n",
    "                    #When one board wins the breakCondition is true and that makes it break out of all loops\n",
    "                if breakCondition == True:\n",
    "                    break\n",
    "            if breakCondition == True:\n",
    "                break\n",
    "        if breakCondition == True:\n",
    "            break\n",
    "    if breakCondition == True:\n",
    "        break\n",
    "\n",
    "sumNotCalled = 0\n",
    "for row in range(len(winningBoard)):\n",
    "    for col in range(5):\n",
    "        if winningBoard[row][col].called == False:\n",
    "            sumNotCalled += int(winningBoard[row][col].data)\n",
    "score = sumNotCalled*lastCall\n",
    "print(f\"Winning Board:\\nSum of the numbers not called: {sumNotCalled} | Last number called: {lastCall}\\nScore: {score}\")"
   ]
  },
  {
   "cell_type": "markdown",
   "id": "55db8ec7",
   "metadata": {},
   "source": [
    "# --- Part Two ---"
   ]
  },
  {
   "cell_type": "code",
   "execution_count": 5,
   "id": "a3dde26d",
   "metadata": {
    "scrolled": true
   },
   "outputs": [
    {
     "name": "stdout",
     "output_type": "stream",
     "text": [
      "Losing Board:\n",
      "Sum of the numbers not called: 439 | Last number called: 6\n",
      "Score: 2634\n"
     ]
    }
   ],
   "source": [
    "class BoardSquare():\n",
    "    def __init__(self, data):\n",
    "        self.data = data\n",
    "        self.called = False\n",
    "        \n",
    "    def __eq__(self, other):\n",
    "        return self.data == other\n",
    "    \n",
    "    def __str__(self):\n",
    "        return self.data\n",
    "\n",
    "boardCalls = readBoardCalls().split(',') #Reads the board calls and formats it into a string\n",
    "boards = readBoards() #Reads the boards\n",
    "boards=boards.replace('  ', ' ') #Gets rid of the double spaces with single digit numbers\n",
    "boards = boards.split('\\n') #Splits the board by\n",
    "while '' in boards: #Gets rid of rows that are just equal to ''\n",
    "    boards.pop(boards.index(''))\n",
    "boardsF = [] #Creates a new boards formatted list\n",
    "for i in range(len(boards)//5): #Goes through for the amount of boards there are in the list\n",
    "    boardsF.append([])#Adds a board list\n",
    "    for j in range(5): #Loops through\n",
    "        boardsF[i].append(boards[j].split())\n",
    "    boards = boards[5:]\n",
    "boards = boardsF\n",
    "\n",
    "for i in range(len(boards)): #This puts all board data into my square class\n",
    "    for j in range(5):\n",
    "        for k in range(5):\n",
    "            boards[i][j][k] = BoardSquare(boards[i][j][k])\n",
    "\n",
    "winningBoards = []\n",
    "breakCondition = False\n",
    "for call in boardCalls:\n",
    "    #Nested for loop will go through ever index of every board\n",
    "    for i in range(len(boards)):\n",
    "        for j in range(5):\n",
    "            for k in range(5):\n",
    "                if boards[i][j][k]==call: #Checks to see if\n",
    "                    boards[i][j][k].called = True\n",
    "                    #Since one was right, it checks all the values of that column\n",
    "                    if boards[i][0][k].called == boards[i][1][k].called == boards[i][2][k].called == boards[i][3][k].called == boards[i][4][k].called == True:\n",
    "                        if i not in winningBoards:\n",
    "                            winningBoards.append(i)\n",
    "                    if boards[i][j][0].called == boards[i][j][1].called == boards[i][j][2].called == boards[i][j][3].called == boards[i][j][4].called == True:\n",
    "                        if i not in winningBoards:\n",
    "                            winningBoards.append(i)\n",
    "                    if len(winningBoards) == len(boards):\n",
    "                        lastCall = int(call)\n",
    "                        breakCondition = True\n",
    "                if breakCondition == True:\n",
    "                    break\n",
    "            if breakCondition == True:\n",
    "                    break\n",
    "        if breakCondition == True:\n",
    "                    break\n",
    "    if breakCondition == True:\n",
    "                    break\n",
    "\n",
    "\n",
    "worstBoard = boards[winningBoards[-1]]\n",
    "sumNotCalled = 0\n",
    "for row in range(len(worstBoard)):\n",
    "    for col in range(5):\n",
    "        if worstBoard[row][col].called == False:\n",
    "            sumNotCalled += int(worstBoard[row][col].data)\n",
    "score = sumNotCalled*lastCall\n",
    "print(f\"Losing Board:\\nSum of the numbers not called: {sumNotCalled} | Last number called: {lastCall}\\nScore: {score}\")"
   ]
  }
 ],
 "metadata": {
  "kernelspec": {
   "display_name": "Python 3 (ipykernel)",
   "language": "python",
   "name": "python3"
  },
  "language_info": {
   "codemirror_mode": {
    "name": "ipython",
    "version": 3
   },
   "file_extension": ".py",
   "mimetype": "text/x-python",
   "name": "python",
   "nbconvert_exporter": "python",
   "pygments_lexer": "ipython3",
   "version": "3.12.7"
  }
 },
 "nbformat": 4,
 "nbformat_minor": 5
}
