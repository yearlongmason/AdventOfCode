{
 "cells": [
  {
   "cell_type": "markdown",
   "id": "20d84cfe",
   "metadata": {},
   "source": [
    "# --- Day 8: Seven Segment Search ---\n",
    "https://adventofcode.com/2021/day/8"
   ]
  },
  {
   "cell_type": "code",
   "execution_count": 2,
   "id": "6b7c3bea",
   "metadata": {},
   "outputs": [],
   "source": [
    "def readSegments():\n",
    "    with open('segmentSearch.txt') as file:\n",
    "        return file.read()"
   ]
  },
  {
   "cell_type": "code",
   "execution_count": 3,
   "id": "1e367bf6",
   "metadata": {},
   "outputs": [
    {
     "name": "stdout",
     "output_type": "stream",
     "text": [
      "Number of 1's 4's 7's or 8's in the output: 452\n"
     ]
    }
   ],
   "source": [
    "#Formatting\n",
    "segments = readSegments().split('\\n') #Splitting by line\n",
    "for i in range(len(segments)):\n",
    "    segments[i] = segments[i].split(' | ') # splitting by input/output\n",
    "for i in range(len(segments)):\n",
    "    for j in range(2):\n",
    "        segments[i][j] = segments[i][j].split(' ')\n",
    "        \n",
    "#counting 1's 4's 7's and 8's in output\n",
    "numOf1478s = 0\n",
    "for i in range(len(segments)):\n",
    "    for j in range(4):\n",
    "        num = segments[i][1][j]\n",
    "        if (len(num)==2) or (len(num)==3) or (len(num)==4) or (len(num)==7):\n",
    "            numOf1478s +=1\n",
    "print(f\"Number of 1's 4's 7's or 8's in the output: {numOf1478s}\")"
   ]
  },
  {
   "cell_type": "markdown",
   "id": "e21d1a40",
   "metadata": {},
   "source": [
    "# --- Part Two ---"
   ]
  },
  {
   "cell_type": "code",
   "execution_count": 5,
   "id": "14da48b2",
   "metadata": {},
   "outputs": [
    {
     "name": "stdout",
     "output_type": "stream",
     "text": [
      "Sum of all the output values: 1096964\n"
     ]
    }
   ],
   "source": [
    "#Formatting\n",
    "segments = readSegments().split('\\n') #Splitting by line\n",
    "for i in range(len(segments)):\n",
    "    segments[i] = segments[i].split(' | ') # splitting by input/output\n",
    "for i in range(len(segments)):\n",
    "    for j in range(2):\n",
    "        segments[i][j] = segments[i][j].split(' ')\n",
    "\n",
    "allOutputs = []\n",
    "for i in range(len(segments)): #Each segment (line and output)\n",
    "    entry = segments[i][0] #Defining specific segment\n",
    "    output = segments[i][1]\n",
    "    zero, one, two, three, four, five, six, seven, eight, nine = \"\", \"\", \"\", \"\", \"\", \"\", \"\", \"\", \"\", \"\"\n",
    "    fiveLetters = []\n",
    "    sixLetters = []\n",
    "    for i in range(len(entry)): #Search for and pop 1\n",
    "        if len(entry[i]) == 2:\n",
    "            one = entry.pop(i)\n",
    "            break\n",
    "    for i in range(len(entry)): #Search for and pop 7\n",
    "        if len(entry[i]) == 3:\n",
    "            seven = entry.pop(i)\n",
    "            break\n",
    "    for i in range(len(entry)): #Search for and pop 4\n",
    "        if len(entry[i]) == 4:\n",
    "            four = entry.pop(i)\n",
    "            break\n",
    "    for i in range(len(entry)): #Search for and pop 8\n",
    "        if len(entry[i]) == 7:\n",
    "            eight = entry.pop(i)\n",
    "            break\n",
    "    for i in range(len(entry)): #Adds all 5 letter entries and 6 letter entries to a list\n",
    "            if len(entry[i]) == 5:\n",
    "                fiveLetters.append(entry[i])\n",
    "            else:\n",
    "                sixLetters.append(entry[i])\n",
    "                \n",
    "    for fiveLetterNum in fiveLetters: #Finds three\n",
    "        correctSpots = 0\n",
    "        for i in seven: #loops through all letters in 7's three letter number\n",
    "            if i in fiveLetterNum: #Checks to see if that letter is also in fiveLetterNum\n",
    "                correctSpots+=1\n",
    "        if correctSpots == 3: #If all three are in that num then fiveLetterNum is 3\n",
    "            three = fiveLetterNum\n",
    "            break\n",
    "    fiveLetters.pop(fiveLetters.index(three))\n",
    "    \n",
    "    for fiveLetterNum in fiveLetters: #Finds five\n",
    "        correctSpots = 0\n",
    "        for i in four: #loops through all letters in 4's four letter number\n",
    "            if i in fiveLetterNum: #Checks to see if that letter is also in fiveLetterNum\n",
    "                correctSpots+=1\n",
    "        if correctSpots == 3: #If all three are in that num then fiveLetterNum is 3\n",
    "            five = fiveLetterNum\n",
    "            break\n",
    "    fiveLetters.pop(fiveLetters.index(five))\n",
    "    two = fiveLetters.pop() #2 is the only value left in fiveLetters\n",
    "    \n",
    "    for sixLetterNum in sixLetters: #Finds nine\n",
    "        correctSpots = 0\n",
    "        for i in three: #loops through all letters in three's five letter number\n",
    "            if i in sixLetterNum: #Checks to see if that letter is also in sixLetterNum\n",
    "                correctSpots+=1\n",
    "        if correctSpots == 5: #If all five are in that num then sixLetterNum is nine\n",
    "            nine = sixLetterNum\n",
    "            break\n",
    "    sixLetters.pop(sixLetters.index(nine))\n",
    "    \n",
    "    for sixLetterNum in sixLetters: #Finds zero\n",
    "        correctSpots = 0\n",
    "        for i in seven: #loops through all letters in seven's three letter number\n",
    "            if i in sixLetterNum: #Checks to see if that letter is also in sixLetterNum\n",
    "                correctSpots+=1\n",
    "        if correctSpots == 3: #If all three are in that num then sixLetterNum is 0\n",
    "            zero = sixLetterNum\n",
    "            break\n",
    "    sixLetters.pop(sixLetters.index(zero))\n",
    "    six = sixLetters.pop() #six is the only thing left in sixLetters\n",
    "    \n",
    "    #Sorts all numbers\n",
    "    zero = ''.join(sorted(zero))\n",
    "    one = ''.join(sorted(one))\n",
    "    two = ''.join(sorted(two))\n",
    "    three = ''.join(sorted(three))\n",
    "    four = ''.join(sorted(four))\n",
    "    five = ''.join(sorted(five))\n",
    "    six = ''.join(sorted(six))\n",
    "    seven = ''.join(sorted(seven))\n",
    "    eight = ''.join(sorted(eight))\n",
    "    nine = ''.join(sorted(nine))\n",
    "    outputValue = \"\"\n",
    "    for i in output:\n",
    "        outputI=''.join(sorted(i)) #Sorts each output number\n",
    "        if outputI == zero:\n",
    "            outputValue+='0'\n",
    "        elif outputI == one:\n",
    "            outputValue+='1'\n",
    "        elif outputI == two:\n",
    "            outputValue+='2'\n",
    "        elif outputI == three:\n",
    "            outputValue+='3'\n",
    "        elif outputI == four:\n",
    "            outputValue+='4'\n",
    "        elif outputI == five:\n",
    "            outputValue+='5'\n",
    "        elif outputI == six:\n",
    "            outputValue+='6'\n",
    "        elif outputI == seven:\n",
    "            outputValue+='7'\n",
    "        elif outputI == eight:\n",
    "            outputValue+='8'\n",
    "        elif outputI == nine:\n",
    "            outputValue+='9'\n",
    "    allOutputs.append(int(outputValue))\n",
    "\n",
    "    #print(f\"{zero} | {one} | {two} | {three} | {four} | {five} | {six} | {seven} | {eight} | {nine} | {outputValue}\")\n",
    "print(f\"Sum of all the output values: {sum(allOutputs)}\")"
   ]
  }
 ],
 "metadata": {
  "kernelspec": {
   "display_name": "Python 3 (ipykernel)",
   "language": "python",
   "name": "python3"
  },
  "language_info": {
   "codemirror_mode": {
    "name": "ipython",
    "version": 3
   },
   "file_extension": ".py",
   "mimetype": "text/x-python",
   "name": "python",
   "nbconvert_exporter": "python",
   "pygments_lexer": "ipython3",
   "version": "3.12.7"
  }
 },
 "nbformat": 4,
 "nbformat_minor": 5
}
