{
 "cells": [
  {
   "cell_type": "markdown",
   "id": "0769e2ec",
   "metadata": {},
   "source": [
    "# --- Day 12: Passage Pathing ---\n",
    "https://adventofcode.com/2021/day/12\n",
    "\n",
    "With your submarine's subterranean subsystems subsisting suboptimally, the only way you're getting out of this cave anytime soon is by finding a path yourself. Not just a path - the only way to know if you've found the best path is to find all of them.\n",
    "\n",
    "Fortunately, the sensors are still mostly working, and so you build a rough map of the remaining caves (your puzzle input).\n",
    "\n",
    "Your goal is to find the number of distinct paths that start at start, end at end, and don't visit small caves more than once. There are two types of caves: big caves (written in uppercase, like A) and small caves (written in lowercase, like b). It would be a waste of time to visit any small cave more than once, but big caves are large enough that it might be worth visiting them multiple times. So, all paths you find should visit small caves at most once, and can visit big caves any number of times.\n",
    "\n",
    "How many paths through this cave system are there that visit small caves at most once?"
   ]
  },
  {
   "cell_type": "code",
   "execution_count": 1,
   "id": "16fbc44e",
   "metadata": {},
   "outputs": [],
   "source": [
    "def getCaves():\n",
    "    with open('caves.txt') as file:\n",
    "        return file.read()"
   ]
  },
  {
   "cell_type": "code",
   "execution_count": 3,
   "id": "850dfb2e",
   "metadata": {
    "scrolled": true
   },
   "outputs": [
    {
     "name": "stdout",
     "output_type": "stream",
     "text": [
      "Number of paths from start to end: 3497\n"
     ]
    }
   ],
   "source": [
    "#formatting\n",
    "caves=getCaves()\n",
    "caves=caves.split('\\n')\n",
    "caves = [x.split('-') for x in caves]\n",
    "\n",
    "class Graph:\n",
    "    def __init__(self):\n",
    "        self.graph={}\n",
    "        \n",
    "    def addEdge(self, node, neighbor):\n",
    "        \"\"\"Adds an edge to the graph if it's not already in there\"\"\"\n",
    "        if neighbor != 'start':\n",
    "            if node not in self.graph:\n",
    "                self.graph[node]=[neighbor]\n",
    "            else:\n",
    "                if neighbor not in self.graph[node]:\n",
    "                    self.graph[node].append(neighbor)\n",
    "        \n",
    "    def showEdges(self):\n",
    "        \"\"\"Shows all the edges in the graph\"\"\"\n",
    "        for node in self.graph:\n",
    "            for neighbor in self.graph[node]:\n",
    "                print(f'({node},{neighbor})')\n",
    "                \n",
    "    def findAllPaths(self, start, end, path=[], smallCaveTwice=False):\n",
    "        \"\"\"Returns a list of all paths \"\"\"\n",
    "        path = path + [start]#Adds the current node to the end of the path\n",
    "        if start == end: #If the the current node is the end, return the path\n",
    "            return [path]\n",
    "        allPaths=[] #Keeps track of all paths\n",
    "        for node in self.graph[start]: #Loop through all of current nodes' neighbors \n",
    "            if (node not in path or node.isupper()) and node != 'start': #Filters out repeat small caves\n",
    "                newPaths=self.findAllPaths(node, end, path, smallCaveTwice)\n",
    "                for newPath in newPaths:\n",
    "                    allPaths.append(newPath)\n",
    "        return allPaths\n",
    "    \n",
    "cavesGraph=Graph()\n",
    "for i in caves:\n",
    "    cavesGraph.addEdge(i[0],i[1])\n",
    "    cavesGraph.addEdge(i[1],i[0])\n",
    "allCavePaths=cavesGraph.findAllPaths('start', 'end')\n",
    "\n",
    "print(f\"Number of paths from start to end: {len(allCavePaths)}\")"
   ]
  },
  {
   "cell_type": "markdown",
   "id": "fef53b0a",
   "metadata": {},
   "source": [
    "# --- Part Two ---\n",
    "https://adventofcode.com/2021/day/12#part2\n",
    "\n",
    "After reviewing the available paths, you realize you might have time to visit a single small cave twice. Specifically, big caves can be visited any number of times, a single small cave can be visited at most twice, and the remaining small caves can be visited at most once. However, the caves named start and end can only be visited exactly once each: once you leave the start cave, you may not return to it, and once you reach the end cave, the path must end immediately.\n",
    "\n",
    "Given these new rules, how many paths through this cave system are there?"
   ]
  },
  {
   "cell_type": "code",
   "execution_count": 5,
   "id": "41181c0a",
   "metadata": {},
   "outputs": [
    {
     "ename": "RecursionError",
     "evalue": "maximum recursion depth exceeded",
     "output_type": "error",
     "traceback": [
      "\u001b[1;31m---------------------------------------------------------------------------\u001b[0m",
      "\u001b[1;31mRecursionError\u001b[0m                            Traceback (most recent call last)",
      "Cell \u001b[1;32mIn[5], line 51\u001b[0m\n\u001b[0;32m     49\u001b[0m     cavesGraph\u001b[38;5;241m.\u001b[39maddEdge(i[\u001b[38;5;241m0\u001b[39m],i[\u001b[38;5;241m1\u001b[39m])\n\u001b[0;32m     50\u001b[0m     cavesGraph\u001b[38;5;241m.\u001b[39maddEdge(i[\u001b[38;5;241m1\u001b[39m],i[\u001b[38;5;241m0\u001b[39m])\n\u001b[1;32m---> 51\u001b[0m allCavePaths\u001b[38;5;241m=\u001b[39mcavesGraph\u001b[38;5;241m.\u001b[39mfindAllPaths(\u001b[38;5;124m'\u001b[39m\u001b[38;5;124mstart\u001b[39m\u001b[38;5;124m'\u001b[39m, \u001b[38;5;124m'\u001b[39m\u001b[38;5;124mend\u001b[39m\u001b[38;5;124m'\u001b[39m)\n\u001b[0;32m     53\u001b[0m \u001b[38;5;28mprint\u001b[39m(\u001b[38;5;124mf\u001b[39m\u001b[38;5;124m\"\u001b[39m\u001b[38;5;124mNumber of paths from start to end: \u001b[39m\u001b[38;5;132;01m{\u001b[39;00m\u001b[38;5;28mlen\u001b[39m(allCavePaths)\u001b[38;5;132;01m}\u001b[39;00m\u001b[38;5;124m\"\u001b[39m)\n",
      "Cell \u001b[1;32mIn[5], line 42\u001b[0m, in \u001b[0;36mGraph.findAllPaths\u001b[1;34m(self, start, end, path, smallCaveTwice)\u001b[0m\n\u001b[0;32m     40\u001b[0m \u001b[38;5;28;01mif\u001b[39;00m node \u001b[38;5;129;01min\u001b[39;00m path \u001b[38;5;129;01mand\u001b[39;00m node\u001b[38;5;241m.\u001b[39mislower():\n\u001b[0;32m     41\u001b[0m     smallCaveTwice\u001b[38;5;241m==\u001b[39m\u001b[38;5;28;01mTrue\u001b[39;00m\n\u001b[1;32m---> 42\u001b[0m newPaths\u001b[38;5;241m=\u001b[39m\u001b[38;5;28mself\u001b[39m\u001b[38;5;241m.\u001b[39mfindAllPaths(node, end, path, smallCaveTwice)\n\u001b[0;32m     43\u001b[0m \u001b[38;5;28;01mfor\u001b[39;00m newPath \u001b[38;5;129;01min\u001b[39;00m newPaths:\n\u001b[0;32m     44\u001b[0m     allPaths\u001b[38;5;241m.\u001b[39mappend(newPath)\n",
      "Cell \u001b[1;32mIn[5], line 42\u001b[0m, in \u001b[0;36mGraph.findAllPaths\u001b[1;34m(self, start, end, path, smallCaveTwice)\u001b[0m\n\u001b[0;32m     40\u001b[0m \u001b[38;5;28;01mif\u001b[39;00m node \u001b[38;5;129;01min\u001b[39;00m path \u001b[38;5;129;01mand\u001b[39;00m node\u001b[38;5;241m.\u001b[39mislower():\n\u001b[0;32m     41\u001b[0m     smallCaveTwice\u001b[38;5;241m==\u001b[39m\u001b[38;5;28;01mTrue\u001b[39;00m\n\u001b[1;32m---> 42\u001b[0m newPaths\u001b[38;5;241m=\u001b[39m\u001b[38;5;28mself\u001b[39m\u001b[38;5;241m.\u001b[39mfindAllPaths(node, end, path, smallCaveTwice)\n\u001b[0;32m     43\u001b[0m \u001b[38;5;28;01mfor\u001b[39;00m newPath \u001b[38;5;129;01min\u001b[39;00m newPaths:\n\u001b[0;32m     44\u001b[0m     allPaths\u001b[38;5;241m.\u001b[39mappend(newPath)\n",
      "    \u001b[1;31m[... skipping similar frames: Graph.findAllPaths at line 42 (2974 times)]\u001b[0m\n",
      "Cell \u001b[1;32mIn[5], line 42\u001b[0m, in \u001b[0;36mGraph.findAllPaths\u001b[1;34m(self, start, end, path, smallCaveTwice)\u001b[0m\n\u001b[0;32m     40\u001b[0m \u001b[38;5;28;01mif\u001b[39;00m node \u001b[38;5;129;01min\u001b[39;00m path \u001b[38;5;129;01mand\u001b[39;00m node\u001b[38;5;241m.\u001b[39mislower():\n\u001b[0;32m     41\u001b[0m     smallCaveTwice\u001b[38;5;241m==\u001b[39m\u001b[38;5;28;01mTrue\u001b[39;00m\n\u001b[1;32m---> 42\u001b[0m newPaths\u001b[38;5;241m=\u001b[39m\u001b[38;5;28mself\u001b[39m\u001b[38;5;241m.\u001b[39mfindAllPaths(node, end, path, smallCaveTwice)\n\u001b[0;32m     43\u001b[0m \u001b[38;5;28;01mfor\u001b[39;00m newPath \u001b[38;5;129;01min\u001b[39;00m newPaths:\n\u001b[0;32m     44\u001b[0m     allPaths\u001b[38;5;241m.\u001b[39mappend(newPath)\n",
      "\u001b[1;31mRecursionError\u001b[0m: maximum recursion depth exceeded"
     ]
    }
   ],
   "source": [
    "#formatting\n",
    "#caves=getCaves()\n",
    "caves=\"\"\"start-A\n",
    "start-b\n",
    "A-c\n",
    "A-b\n",
    "b-d\n",
    "A-\n",
    "b-end\"\"\"\n",
    "caves = caves.split('\\n')\n",
    "caves = [x.split('-') for x in caves]\n",
    "\n",
    "class Graph:\n",
    "    def __init__(self):\n",
    "        self.graph={}\n",
    "        \n",
    "    def addEdge(self, node, neighbor):\n",
    "        \"\"\"Adds an edge to the graph if it's not already in there\"\"\"\n",
    "        if neighbor != 'start':\n",
    "            if node not in self.graph:\n",
    "                self.graph[node]=[neighbor]\n",
    "            else:\n",
    "                if neighbor not in self.graph[node]:\n",
    "                    self.graph[node].append(neighbor)\n",
    "        \n",
    "    def showEdges(self):\n",
    "        \"\"\"Shows all the edges in the graph\"\"\"\n",
    "        for node in self.graph:\n",
    "            for neighbor in self.graph[node]:\n",
    "                print(f'({node},{neighbor})')\n",
    "    \n",
    "    def findAllPaths(self, start, end, path=[], smallCaveTwice=False):\n",
    "        \"\"\"Returns a list of all paths\"\"\"\n",
    "        path=path+[start]#Adds the current node to the end of the path\n",
    "        if start == end: #If the the current node is the end, return the path\n",
    "            return [path]\n",
    "        allPaths=[] #Keeps track of all paths\n",
    "        for node in self.graph[start]: #Loop through all of current nodes' neighbors \n",
    "            if (node.isupper() or smallCaveTwice==False or node == \"end\") and node !='start': #Filters out sm caves\n",
    "                if node in path and node.islower():\n",
    "                    smallCaveTwice==True\n",
    "                newPaths=self.findAllPaths(node, end, path, smallCaveTwice)\n",
    "                for newPath in newPaths:\n",
    "                    allPaths.append(newPath)\n",
    "        return allPaths\n",
    "    \n",
    "cavesGraph=Graph()\n",
    "for i in caves:\n",
    "    cavesGraph.addEdge(i[0],i[1])\n",
    "    cavesGraph.addEdge(i[1],i[0])\n",
    "allCavePaths=cavesGraph.findAllPaths('start', 'end')\n",
    "\n",
    "print(f\"Number of paths from start to end: {len(allCavePaths)}\")"
   ]
  }
 ],
 "metadata": {
  "kernelspec": {
   "display_name": "Python 3 (ipykernel)",
   "language": "python",
   "name": "python3"
  },
  "language_info": {
   "codemirror_mode": {
    "name": "ipython",
    "version": 3
   },
   "file_extension": ".py",
   "mimetype": "text/x-python",
   "name": "python",
   "nbconvert_exporter": "python",
   "pygments_lexer": "ipython3",
   "version": "3.12.4"
  }
 },
 "nbformat": 4,
 "nbformat_minor": 5
}
