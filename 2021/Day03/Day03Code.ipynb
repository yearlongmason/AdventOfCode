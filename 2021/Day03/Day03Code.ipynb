{
 "cells": [
  {
   "cell_type": "markdown",
   "id": "501f7ef9",
   "metadata": {},
   "source": [
    "# --- Day 3: Binary Diagnostic ---\n",
    "https://adventofcode.com/2021/day/3"
   ]
  },
  {
   "cell_type": "code",
   "execution_count": 1,
   "id": "fc8367d5",
   "metadata": {},
   "outputs": [],
   "source": [
    "def readFile():\n",
    "    with open('binaryDiagnostic.txt') as file:\n",
    "        return file.read()"
   ]
  },
  {
   "cell_type": "code",
   "execution_count": 66,
   "id": "e912eb82-bd87-4b6d-8189-16269bb343cd",
   "metadata": {},
   "outputs": [
    {
     "name": "stdout",
     "output_type": "stream",
     "text": [
      "Answer:\n",
      "Gamma rate in binary: 011101001101 | Decimal: 1869\n",
      "Epsilon rate in binary: 100010110010 | Decimal: 2226\n",
      "Power consumption: 4160394\n"
     ]
    }
   ],
   "source": [
    "# Formatting\n",
    "diagnostic = readFile().split('\\n')\n",
    "gammaRate = \"\"\n",
    "epsilonRate = \"\"\n",
    "\n",
    "# Loop through each index\n",
    "for i in range(len(diagnostic[0])):\n",
    "    # Get all bits for that index\n",
    "    indexBits = [int(x[i]) for x in diagnostic]\n",
    "\n",
    "    # Get the most and least common bit at that index\n",
    "    mostCommonBit = str(int(sum(indexBits) > len(indexBits)/2))\n",
    "    leastCommonBit = str(int(sum(indexBits) < len(indexBits)/2))\n",
    "\n",
    "    # Add the correct value to the gamma and epsilon rate\n",
    "    gammaRate += mostCommonBit\n",
    "    epsilonRate += leastCommonBit\n",
    "    \n",
    "print(\"Answer:\")\n",
    "print(f\"Gamma rate in binary: {gammaRate} | Decimal: {int(gammaRate, 2)}\")\n",
    "print(f\"Epsilon rate in binary: {epsilonRate} | Decimal: {int(epsilonRate, 2)}\")\n",
    "print(f\"Power consumption: {int(gammaRate, 2) * int(epsilonRate, 2)}\")"
   ]
  },
  {
   "cell_type": "markdown",
   "id": "315ade74",
   "metadata": {},
   "source": [
    "# --- Part Two ---"
   ]
  },
  {
   "cell_type": "code",
   "execution_count": 99,
   "id": "84d3d7bc-62b7-430a-baaa-48c4a5d3fe92",
   "metadata": {},
   "outputs": [
    {
     "name": "stdout",
     "output_type": "stream",
     "text": [
      "Answer:\n",
      "Oxygen generator rating in binary: 011010110111 | Decimal: 1719\n",
      "CO2 scrubber rating in binary: 100101100000 | Decimal: 2400\n",
      "Life support rating: 4125600\n"
     ]
    }
   ],
   "source": [
    "# Formatting\n",
    "diagnostic = readFile().split('\\n')\n",
    "oxygenRating = diagnostic.copy()\n",
    "co2Rating = diagnostic.copy()\n",
    "oxygenRatingNum = 0\n",
    "co2RatingNum = 0\n",
    "\n",
    "# Loop through each index\n",
    "for i in range(len(diagnostic[0])):\n",
    "    # Get all bits for that index (oxygen and co2)\n",
    "    oxygenIndexBits = [int(x[i]) for x in oxygenRating]\n",
    "    co2IndexBits = [int(x[i]) for x in co2Rating]\n",
    "\n",
    "    # Get the most and least common bit at that index (most common for oxygen, least common for co2)\n",
    "    oxygenMostCommonBit = str(int(sum(oxygenIndexBits) > len(oxygenIndexBits)/2))\n",
    "    co2LeastCommonBit = str(int(sum(co2IndexBits) < len(co2IndexBits)/2))\n",
    "    if oxygenIndexBits.count(0) == oxygenIndexBits.count(1):\n",
    "        oxygenMostCommonBit = \"1\"\n",
    "    if co2IndexBits.count(0) == co2IndexBits.count(1):\n",
    "        co2LeastCommonBit = \"0\"\n",
    "\n",
    "    # Filter out values for oxygenRating and co2Rating\n",
    "    oxygenRating = [x for x in oxygenRating if x[i] == oxygenMostCommonBit]\n",
    "    co2Rating = [x for x in co2Rating if x[i] == co2LeastCommonBit]\n",
    "\n",
    "    # If either of the rating lists have one value left in them, save it to it's respective variable\n",
    "    if len(oxygenRating) == 1:\n",
    "        oxygenRatingNum = oxygenRating[0]\n",
    "    if len(co2Rating) == 1:\n",
    "        co2RatingNum = co2Rating[0]\n",
    "\n",
    "print(\"Answer:\")\n",
    "print(f\"Oxygen generator rating in binary: {oxygenRatingNum} | Decimal: {int(oxygenRatingNum, 2)}\")\n",
    "print(f\"CO2 scrubber rating in binary: {co2RatingNum} | Decimal: {int(co2RatingNum, 2)}\")\n",
    "print(f\"Life support rating: {int(oxygenRatingNum, 2) * int(co2RatingNum, 2)}\")"
   ]
  },
  {
   "cell_type": "markdown",
   "id": "80cae6ce-eb66-4736-b599-1dc9de51bc7e",
   "metadata": {},
   "source": [
    "# Original Part 1 and 2 \n",
    "(part 2 no longer working for some reason)"
   ]
  },
  {
   "cell_type": "code",
   "execution_count": 91,
   "id": "acb11769",
   "metadata": {},
   "outputs": [
    {
     "name": "stdout",
     "output_type": "stream",
     "text": [
      "Answer:\n",
      "Gamma rate in binary: 011101001101 | Decimal: 1869\n",
      "Epsilon rate in binary: 100010110010 | Decimal: 2226\n",
      "Power consumption: 4160394\n"
     ]
    }
   ],
   "source": [
    "diagnostic = readFile().split('\\n') #Gets the data from the file and turns it into a list\n",
    "\n",
    "def binaryFrequencys(diagnostic):\n",
    "    values = []\n",
    "    for i in range(len(diagnostic[0])):\n",
    "        values.append([]) #Creates a list called values that should store every value in\n",
    "    for i in range(len(diagnostic)): #i is the specific binary number\n",
    "        for j in range(len(diagnostic[i])): #j is the index of the specific binary number\n",
    "            values[j].append(int(diagnostic[i][j])) #appends the value of the bit to \n",
    "\n",
    "    mostCommonBinary = '' #Most common bit\n",
    "    leastCommonBinary = '' #Least common bit\n",
    "    for i in values:\n",
    "        mostCommonBinary += str(int(sum(i) >=len(i)/2))\n",
    "        leastCommonBinary += str(int(sum(i) <=len(i)/2))\n",
    "    return mostCommonBinary, leastCommonBinary, values\n",
    "gammaBinary, epsilonBinary, values = binaryFrequencys(diagnostic)\n",
    "\n",
    "\n",
    "#Test code to make sure everything worked as planned\n",
    "\"\"\"\n",
    "print(\"Tests:\")\n",
    "print(f\"Total length of binary diagnostic: {len(diagnostic)}\")\n",
    "print(f\"Length of Binary number: {len(values)}\")\n",
    "for i in range(len(values)):\n",
    "    print(f\"length of bit {i+1}: {len(values[i])} | sum = {sum(values[i])}\")\n",
    "print('\\n')\n",
    "\"\"\"\n",
    "\n",
    "print(\"Answer:\")\n",
    "print(f\"Gamma rate in binary: {gammaBinary} | Decimal: {int(gammaBinary, 2)}\")\n",
    "print(f\"Epsilon rate in binary: {epsilonBinary} | Decimal: {int(epsilonBinary, 2)}\")\n",
    "print(f\"Power consumption: {int(gammaBinary, 2) * int(epsilonBinary, 2)}\")"
   ]
  },
  {
   "cell_type": "code",
   "execution_count": 89,
   "id": "21df03a4",
   "metadata": {},
   "outputs": [
    {
     "name": "stdout",
     "output_type": "stream",
     "text": [
      "Start:\n",
      "M common numbers: 011101001101\n",
      "L common numbers: 100010110010\n",
      "Oxygen Generator Rating binary: 011010110111 | Decimal: 1719\n",
      "CO2 Scrubber Rating binary: 101011111101 | Decimal: 2813\n",
      "Life Support Rating: 4835547\n"
     ]
    }
   ],
   "source": [
    "diagnostic = readFile().split('\\n') #Gets the data from the file and turns it into a list\n",
    "\n",
    "def binaryFrequencys(diagnostic):\n",
    "    values = []\n",
    "    for i in range(len(diagnostic[0])):\n",
    "        values.append([]) #Creates a list called values that should store every value in\n",
    "    for i in range(len(diagnostic)): #i is the specific binary number\n",
    "        for j in range(len(diagnostic[i])): #j is the index of the specific binary number\n",
    "            values[j].append(int(diagnostic[i][j])) #appends the value of the bit to \n",
    "\n",
    "    mostCommonBinary = '' #Most common bit\n",
    "    leastCommonBinary = '' #Least common bit\n",
    "    for i in values:\n",
    "        mostCommonBinary += str(int(sum(i)>=len(i)/2))\n",
    "        leastCommonBinary += str(int(sum(i)<=len(i)/2))\n",
    "    return mostCommonBinary, leastCommonBinary, values\n",
    "mostCommonBinary, leastCommonBinary, _ = binaryFrequencys(diagnostic)\n",
    "\n",
    "print(f\"Start:\\nM common numbers: {mostCommonBinary}\\nL common numbers: {leastCommonBinary}\")\n",
    "\n",
    "\n",
    "counter=0\n",
    "while len(diagnostic) != 1:\n",
    "    for i in reversed(range(len(diagnostic))):\n",
    "        if mostCommonBinary[counter] != diagnostic[i][counter]:\n",
    "            diagnostic.pop(i)\n",
    "    mostCommonBinary, leastCommonBinary, value = binaryFrequencys(diagnostic)\n",
    "    counter+=1\n",
    "oxygenGeneratorRating = diagnostic[0]\n",
    "\n",
    "diagnostic = readFile().split('\\n') #Resets diagnostic\n",
    "mostCommonBinary, leastCommonBinary, _ = binaryFrequencys(diagnostic)\n",
    "counter = 0\n",
    "while len(diagnostic) != 1:\n",
    "    for i in reversed(range(len(diagnostic))):\n",
    "        if leastCommonBinary[counter] != diagnostic[i][counter]:\n",
    "            diagnostic.pop(i)\n",
    "    mostCommonBinary, leastCommonBinary, _ = binaryFrequencys(diagnostic)\n",
    "    counter+=1\n",
    "CO2ScrubberRating = diagnostic[0]\n",
    "lifeSupportRating = int(oxygenGeneratorRating, 2)*int(CO2ScrubberRating, 2)\n",
    "\n",
    "print(f\"Oxygen Generator Rating binary: {oxygenGeneratorRating} | Decimal: {int(oxygenGeneratorRating, 2)}\")\n",
    "print(f\"CO2 Scrubber Rating binary: {CO2ScrubberRating} | Decimal: {int(CO2ScrubberRating, 2)}\")\n",
    "print(f\"Life Support Rating: {lifeSupportRating}\")"
   ]
  }
 ],
 "metadata": {
  "kernelspec": {
   "display_name": "Python 3 (ipykernel)",
   "language": "python",
   "name": "python3"
  },
  "language_info": {
   "codemirror_mode": {
    "name": "ipython",
    "version": 3
   },
   "file_extension": ".py",
   "mimetype": "text/x-python",
   "name": "python",
   "nbconvert_exporter": "python",
   "pygments_lexer": "ipython3",
   "version": "3.12.7"
  }
 },
 "nbformat": 4,
 "nbformat_minor": 5
}
