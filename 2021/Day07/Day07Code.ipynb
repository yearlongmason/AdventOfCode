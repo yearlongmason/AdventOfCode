{
 "cells": [
  {
   "cell_type": "markdown",
   "id": "9c19919a",
   "metadata": {},
   "source": [
    "# --- Day 7: The Treachery of Whales ---\n",
    "https://adventofcode.com/2021/day/7"
   ]
  },
  {
   "cell_type": "code",
   "execution_count": 2,
   "id": "a3500eee",
   "metadata": {
    "scrolled": true
   },
   "outputs": [],
   "source": [
    "def readSubs():\n",
    "    with open('crabSubs.txt') as file:\n",
    "        return file.read()"
   ]
  },
  {
   "cell_type": "code",
   "execution_count": 3,
   "id": "4b5b0d75",
   "metadata": {},
   "outputs": [
    {
     "name": "stdout",
     "output_type": "stream",
     "text": [
      "Optimal location: 331\n",
      "Fuel used: 349769\n"
     ]
    }
   ],
   "source": [
    "#Input formatting\n",
    "crabSubs = readSubs().split(',')\n",
    "for i, loc in enumerate(crabSubs):\n",
    "    crabSubs[i] = int(loc)\n",
    "\n",
    "meetPoints = {}\n",
    "for i in range(min(crabSubs), max(crabSubs)): #Goes through every meeting point possible (from lowest to highest location)\n",
    "    meetPoints[i] = 0 #Sets a new key in the dictionary equal to 0\n",
    "    for j in crabSubs: #Loops through all crab submarine locations\n",
    "        meetPoints[i] += abs(i-j) #Adds the absolute value of the difference between the meeting location and sub location\n",
    "\n",
    "#Prints the horizontal axis location of least fuel consumption and the amount of fuel consumed\n",
    "print(f\"Optimal location: {min(meetPoints,key=meetPoints.get)}\\nFuel used: {meetPoints[min(meetPoints,key=meetPoints.get)]}\")"
   ]
  },
  {
   "cell_type": "markdown",
   "id": "f694a440",
   "metadata": {},
   "source": [
    "# --- Part Two ---"
   ]
  },
  {
   "cell_type": "code",
   "execution_count": 5,
   "id": "900a49c7",
   "metadata": {},
   "outputs": [
    {
     "name": "stdout",
     "output_type": "stream",
     "text": [
      "Optimal location: 479\n",
      "Fuel used: 99540554\n"
     ]
    }
   ],
   "source": [
    "#Input formatting\n",
    "crabSubs = readSubs().split(',')\n",
    "for i, loc in enumerate(crabSubs):\n",
    "    crabSubs[i] = int(loc)\n",
    "\n",
    "meetPoints = {}\n",
    "for i in range(min(crabSubs), max(crabSubs)): #Goes through every meeting point possible (from lowest to highest location)\n",
    "    meetPoints[i] = 0 #Sets a new key in the dictionary equal to 0\n",
    "    for j in crabSubs: #Loops through all crab submarine locations\n",
    "            meetPoints[i] += abs(i-j)*(abs(i-j)+1)//2 #Instead adds formula for 1+2+3+...+n (n(n+1)/2)\n",
    "\n",
    "#Prints the horizontal axis location of least fuel consumption and the amount of fuel consumed\n",
    "print(f\"Optimal location: {min(meetPoints,key=meetPoints.get)}\\nFuel used: {meetPoints[min(meetPoints,key=meetPoints.get)]}\")"
   ]
  }
 ],
 "metadata": {
  "kernelspec": {
   "display_name": "Python 3 (ipykernel)",
   "language": "python",
   "name": "python3"
  },
  "language_info": {
   "codemirror_mode": {
    "name": "ipython",
    "version": 3
   },
   "file_extension": ".py",
   "mimetype": "text/x-python",
   "name": "python",
   "nbconvert_exporter": "python",
   "pygments_lexer": "ipython3",
   "version": "3.12.7"
  }
 },
 "nbformat": 4,
 "nbformat_minor": 5
}
