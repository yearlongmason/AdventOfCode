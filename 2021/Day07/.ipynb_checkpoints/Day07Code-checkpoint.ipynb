{
 "cells": [
  {
   "cell_type": "markdown",
   "id": "9c19919a",
   "metadata": {},
   "source": [
    "# --- Day 7: The Treachery of Whales ---\n",
    "https://adventofcode.com/2021/day/7\n",
    "\n",
    "A giant whale has decided your submarine is its next meal, and it's much faster than you are. There's nowhere to run!\n",
    "\n",
    "Suddenly, a swarm of crabs (each in its own tiny submarine - it's too deep for them otherwise) zooms in to rescue you! They seem to be preparing to blast a hole in the ocean floor; sensors indicate a massive underground cave system just beyond where they're aiming!\n",
    "\n",
    "The crab submarines all need to be aligned before they'll have enough power to blast a large enough hole for your submarine to get through. However, it doesn't look like they'll be aligned before the whale catches you! Maybe you can help?\n",
    "\n",
    "There's one major catch - crab submarines can only move horizontally.\n",
    "\n",
    "You quickly make a list of the horizontal position of each crab (your puzzle input). Crab submarines have limited fuel, so you need to find a way to make all of their horizontal positions match while requiring them to spend as little fuel as possible.\n",
    "\n",
    "For example, consider the following horizontal positions:\n",
    "\n",
    "16,1,2,0,4,2,7,1,2,14\n",
    "This means there's a crab with horizontal position 16, a crab with horizontal position 1, and so on.\n",
    "\n",
    "Each change of 1 step in horizontal position of a single crab costs 1 fuel. You could choose any horizontal position to align them all on, but the one that costs the least fuel is horizontal position 2\n",
    "\n",
    "This costs a total of 37 fuel. This is the cheapest possible outcome; more expensive outcomes include aligning at position 1 (41 fuel), position 3 (39 fuel), or position 10 (71 fuel).\n",
    "\n",
    "Determine the horizontal position that the crabs can align to using the least fuel possible. How much fuel must they spend to align to that position?"
   ]
  },
  {
   "cell_type": "code",
   "execution_count": 2,
   "id": "a3500eee",
   "metadata": {
    "scrolled": true
   },
   "outputs": [],
   "source": [
    "def readSubs():\n",
    "    with open('crabSubs.txt') as file:\n",
    "        return file.read()"
   ]
  },
  {
   "cell_type": "code",
   "execution_count": 3,
   "id": "4b5b0d75",
   "metadata": {},
   "outputs": [
    {
     "name": "stdout",
     "output_type": "stream",
     "text": [
      "Optimal location: 331\n",
      "Fuel used: 349769\n"
     ]
    }
   ],
   "source": [
    "#Input formatting\n",
    "crabSubs = readSubs().split(',')\n",
    "for i, loc in enumerate(crabSubs):\n",
    "    crabSubs[i] = int(loc)\n",
    "\n",
    "meetPoints = {}\n",
    "for i in range(min(crabSubs), max(crabSubs)): #Goes through every meeting point possible (from lowest to highest location)\n",
    "    meetPoints[i] = 0 #Sets a new key in the dictionary equal to 0\n",
    "    for j in crabSubs: #Loops through all crab submarine locations\n",
    "        meetPoints[i] += abs(i-j) #Adds the absolute value of the difference between the meeting location and sub location\n",
    "\n",
    "#Prints the horizontal axis location of least fuel consumption and the amount of fuel consumed\n",
    "print(f\"Optimal location: {min(meetPoints,key=meetPoints.get)}\\nFuel used: {meetPoints[min(meetPoints,key=meetPoints.get)]}\")"
   ]
  },
  {
   "cell_type": "markdown",
   "id": "f694a440",
   "metadata": {},
   "source": [
    "# --- Part Two ---\n",
    "The crabs don't seem interested in your proposed solution. Perhaps you misunderstand crab engineering?\n",
    "\n",
    "As it turns out, crab submarine engines don't burn fuel at a constant rate. Instead, each change of 1 step in horizontal position costs 1 more unit of fuel than the last: the first step costs 1, the second step costs 2, the third step costs 3, and so on.\n",
    "\n",
    "As each crab moves, moving further becomes more expensive. This changes the best horizontal position to align them all on; in the example above, this becomes 5\n",
    "\n",
    "This costs a total of 168 fuel. This is the new cheapest possible outcome; the old alignment position (2) now costs 206 fuel instead.\n",
    "\n",
    "Determine the horizontal position that the crabs can align to using the least fuel possible so they can make you an escape route! How much fuel must they spend to align to that position?"
   ]
  },
  {
   "cell_type": "code",
   "execution_count": 5,
   "id": "900a49c7",
   "metadata": {},
   "outputs": [
    {
     "name": "stdout",
     "output_type": "stream",
     "text": [
      "Optimal location: 479\n",
      "Fuel used: 99540554\n"
     ]
    }
   ],
   "source": [
    "#Input formatting\n",
    "crabSubs = readSubs().split(',')\n",
    "for i, loc in enumerate(crabSubs):\n",
    "    crabSubs[i] = int(loc)\n",
    "\n",
    "meetPoints = {}\n",
    "for i in range(min(crabSubs), max(crabSubs)): #Goes through every meeting point possible (from lowest to highest location)\n",
    "    meetPoints[i] = 0 #Sets a new key in the dictionary equal to 0\n",
    "    for j in crabSubs: #Loops through all crab submarine locations\n",
    "            meetPoints[i] += abs(i-j)*(abs(i-j)+1)//2 #Instead adds formula for 1+2+3+...+n (n(n+1)/2)\n",
    "\n",
    "#Prints the horizontal axis location of least fuel consumption and the amount of fuel consumed\n",
    "print(f\"Optimal location: {min(meetPoints,key=meetPoints.get)}\\nFuel used: {meetPoints[min(meetPoints,key=meetPoints.get)]}\")"
   ]
  }
 ],
 "metadata": {
  "kernelspec": {
   "display_name": "Python 3 (ipykernel)",
   "language": "python",
   "name": "python3"
  },
  "language_info": {
   "codemirror_mode": {
    "name": "ipython",
    "version": 3
   },
   "file_extension": ".py",
   "mimetype": "text/x-python",
   "name": "python",
   "nbconvert_exporter": "python",
   "pygments_lexer": "ipython3",
   "version": "3.12.4"
  }
 },
 "nbformat": 4,
 "nbformat_minor": 5
}
