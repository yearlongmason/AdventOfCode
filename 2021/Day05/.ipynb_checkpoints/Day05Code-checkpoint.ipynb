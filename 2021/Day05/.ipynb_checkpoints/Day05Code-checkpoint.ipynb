{
 "cells": [
  {
   "cell_type": "markdown",
   "id": "d3b3bc61",
   "metadata": {},
   "source": [
    "# --- Day 5: Hydrothermal Venture ---\n",
    "https://adventofcode.com/2021/day/5\n",
    "\n",
    "You come across a field of hydrothermal vents on the ocean floor! These vents constantly produce large, opaque clouds, so it would be best to avoid them if possible.\n",
    "\n",
    "They tend to form in lines; the submarine helpfully produces a list of nearby lines of vents (your puzzle input) for you to review.\n",
    "\n",
    "Each line of vents is given as a line segment in the format x1,y1 -> x2,y2 where x1,y1 are the coordinates of one end the line segment and x2,y2 are the coordinates of the other end. These line segments include the points at both ends. In other words:\n",
    "\n",
    "An entry like 1,1 -> 1,3 covers points 1,1, 1,2, and 1,3.\n",
    "\n",
    "An entry like 9,7 -> 7,7 covers points 9,7, 8,7, and 7,7.\n",
    "\n",
    "For now, only consider horizontal and vertical lines: lines where either x1 = x2 or y1 = y2.\n",
    "\n",
    "To avoid the most dangerous areas, you need to determine the number of points where at least two lines overlap.\n",
    "\n",
    "Consider only horizontal and vertical lines. At how many points do at least two lines overlap?"
   ]
  },
  {
   "cell_type": "code",
   "execution_count": 2,
   "id": "d5943506",
   "metadata": {},
   "outputs": [],
   "source": [
    "from collections import Counter\n",
    "\n",
    "def readLines():\n",
    "    with open('hydrothermalLines.txt') as file:\n",
    "        return file.read()\n",
    "\n",
    "def readLinesTest():\n",
    "    with open('hydroLinesTest.txt') as file:\n",
    "        return file.read()"
   ]
  },
  {
   "cell_type": "code",
   "execution_count": 3,
   "id": "6b2797cc",
   "metadata": {},
   "outputs": [
    {
     "name": "stdout",
     "output_type": "stream",
     "text": [
      "Number of dangerous points: 7674\n"
     ]
    }
   ],
   "source": [
    "lines = readLines()\n",
    "\n",
    "#Data formatting\n",
    "lines = lines.split('\\n') #Splits by new lines\n",
    "for i in range(len(lines)): #Splits by new set of points\n",
    "    lines[i] = lines[i].split(\" -> \")\n",
    "for i in range(len(lines)): #Splits by x1,y1, and x2,y2\n",
    "    lines[i].append(lines[i][0].split(','))\n",
    "    lines[i].append(lines[i][1].split(','))\n",
    "    lines[i].pop(0)\n",
    "    lines[i].pop(0)\n",
    "for i in range(len(lines)): #Casts all numbers to int\n",
    "    for j in range(len(lines[i])):\n",
    "        for k in range(len(lines[i][j])):\n",
    "            lines[i][j][k] = int(lines[i][j][k])\n",
    "            \n",
    "allPoints = []\n",
    "for i in range(len(lines)):#This should loop through all the rows\n",
    "    x1 = lines[i][0][0]\n",
    "    x2 = lines[i][1][0]\n",
    "    y1 = lines[i][0][1]\n",
    "    y2 = lines[i][1][1]\n",
    "    if x1 == x2: #Runs when x values are the same\n",
    "        if y1 > y2: #Decides which way to loop\n",
    "            for i in range(y2, y1+1, 1): \n",
    "                allPoints.append(f\"{x1},{i}\")\n",
    "        elif y1 < y2:\n",
    "            for i in range(y1, y2+1, 1):\n",
    "                allPoints.append(f\"{x1},{i}\")\n",
    "        else:\n",
    "            allPoints.append(f\"{x1},{y1}\")\n",
    "    if y1 == y2: #Runs when y values are the same\n",
    "        if x1 > x2: #Decides which way to loop\n",
    "            for i in range(x2, x1+1, 1):\n",
    "                allPoints.append(f\"{i},{y1}\")\n",
    "        elif x1 < x2:\n",
    "            for i in range(x1, x2+1, 1):\n",
    "                allPoints.append(f\"{i},{y1}\")\n",
    "\n",
    "numOfDangerPoints = 0\n",
    "for i in list(Counter(allPoints).values()):\n",
    "    if i >= 2:\n",
    "        numOfDangerPoints +=1\n",
    "print(f\"Number of dangerous points: {numOfDangerPoints}\")"
   ]
  },
  {
   "cell_type": "markdown",
   "id": "686b6062",
   "metadata": {},
   "source": [
    "# --- Part Two ---\n",
    "Unfortunately, considering only horizontal and vertical lines doesn't give you the full picture; you need to also consider diagonal lines.\n",
    "\n",
    "Because of the limits of the hydrothermal vent mapping system, the lines in your list will only ever be horizontal, vertical, or a diagonal line at exactly 45 degrees. In other words:\n",
    "\n",
    "An entry like 1,1 -> 3,3 covers points 1,1, 2,2, and 3,3.\n",
    "\n",
    "An entry like 9,7 -> 7,9 covers points 9,7, 8,8, and 7,9.\n",
    "\n",
    "You still need to determine the number of points where at least two lines overlap.\n",
    "\n",
    "Consider all of the lines. At how many points do at least two lines overlap?"
   ]
  },
  {
   "cell_type": "code",
   "execution_count": 5,
   "id": "87d1b854",
   "metadata": {},
   "outputs": [
    {
     "name": "stdout",
     "output_type": "stream",
     "text": [
      "Number of dangerous points: 20898\n"
     ]
    }
   ],
   "source": [
    "lines = readLines()\n",
    "\n",
    "#Data formatting\n",
    "lines = lines.split('\\n') #Splits by new lines\n",
    "for i in range(len(lines)): #Splits by new set of points\n",
    "    lines[i] = lines[i].split(\" -> \")\n",
    "for i in range(len(lines)): #Splits by x1,y1, and x2,y2\n",
    "    lines[i].append(lines[i][0].split(','))\n",
    "    lines[i].append(lines[i][1].split(','))\n",
    "    lines[i].pop(0)\n",
    "    lines[i].pop(0)\n",
    "for i in range(len(lines)): #Casts all numbers to int\n",
    "    for j in range(len(lines[i])):\n",
    "        for k in range(len(lines[i][j])):\n",
    "            lines[i][j][k] = int(lines[i][j][k])\n",
    "            \n",
    "allPoints = []\n",
    "for i in range(len(lines)):#This should loop through all the rows\n",
    "    x1 = lines[i][0][0]\n",
    "    x2 = lines[i][1][0]\n",
    "    y1 = lines[i][0][1]\n",
    "    y2 = lines[i][1][1]\n",
    "    \n",
    "    if (x1-x2 == y2-y1) or (x1-x2 == y1-y2): #if diagonal\n",
    "        if (x1-x2 == y2-y1): #ex: \\ = 1,6 -> 5,2  x1-x2 == -4 | y2-y1 == -4\n",
    "            if x1>x2:\n",
    "                for i in range(abs(x1-x2)+1): #range(5)\n",
    "                    allPoints.append(f\"{x1-i},{y1+i}\") #(1,6), (2,5), (3,4), (4,3), (5,2)\n",
    "            else:\n",
    "                for i in range(abs(x1-x2)+1): #range(5)\n",
    "                    allPoints.append(f\"{x2-i},{y2+i}\") #(1,6), (2,5), (3,4), (4,3), (5,2)\n",
    "        elif x1-x2 == y1-y2: #ex: / = 1,2 -> 4,5  x1-x2 == -3 | y1-y2 == -3\n",
    "            if x1<x2:\n",
    "                for i in range(abs(x1-x2)+1): #range(4)\n",
    "                    allPoints.append(f\"{x1+i},{y1+i}\") #(1,2), (2,3), (3,4), (4,5) \n",
    "            else:\n",
    "                for i in range(abs(x1-x2)+1): #range(4)\n",
    "                    allPoints.append(f\"{x2+i},{y2+i}\") #(1,2), (2,3), (3,4), (4,5)\n",
    "                \n",
    "    if x1 == x2: #Runs when x values are the same\n",
    "        if y1 > y2: #Decides which way to loop\n",
    "            for i in range(y2, y1+1, 1):\n",
    "                allPoints.append(f\"{x1},{i}\")\n",
    "        elif y1 < y2:\n",
    "            for i in range(y1, y2+1, 1):\n",
    "                allPoints.append(f\"{x1},{i}\")\n",
    "        else:\n",
    "            allPoints.append(f\"{x1},{y1}\")\n",
    "            \n",
    "    if y1 == y2: #Runs when y values are the same\n",
    "        if x1 > x2: #Decides which way to loop\n",
    "            for i in range(x2, x1+1, 1):\n",
    "                allPoints.append(f\"{i},{y1}\")\n",
    "        elif x1 < x2:\n",
    "            for i in range(x1, x2+1, 1):\n",
    "                allPoints.append(f\"{i},{y1}\")\n",
    "        else:\n",
    "            allPoints.append(f\"{i},{y1}\")\n",
    "\n",
    "numOfDangerPoints = 0\n",
    "for i in list(Counter(allPoints).values()):#Gets the frequencies of the points and finds danger points\n",
    "    if i >= 2:\n",
    "        numOfDangerPoints +=1\n",
    "print(f\"Number of dangerous points: {numOfDangerPoints}\")"
   ]
  }
 ],
 "metadata": {
  "kernelspec": {
   "display_name": "Python 3 (ipykernel)",
   "language": "python",
   "name": "python3"
  },
  "language_info": {
   "codemirror_mode": {
    "name": "ipython",
    "version": 3
   },
   "file_extension": ".py",
   "mimetype": "text/x-python",
   "name": "python",
   "nbconvert_exporter": "python",
   "pygments_lexer": "ipython3",
   "version": "3.12.4"
  }
 },
 "nbformat": 4,
 "nbformat_minor": 5
}
