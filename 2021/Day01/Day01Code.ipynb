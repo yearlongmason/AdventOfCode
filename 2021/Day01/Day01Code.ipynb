{
 "cells": [
  {
   "cell_type": "markdown",
   "id": "8e4ce1d4",
   "metadata": {},
   "source": [
    "# --- Day 1: Sonar Sweep ---\n",
    "https://adventofcode.com/2021/day/1"
   ]
  },
  {
   "cell_type": "code",
   "execution_count": 1,
   "id": "51bd76d1",
   "metadata": {},
   "outputs": [],
   "source": [
    "#Load the contents of the depths provided into the variable depths\n",
    "def getDepths():\n",
    "    with open(\"SonarSweepDepths.txt\", \"r\") as file:\n",
    "        return file.read()"
   ]
  },
  {
   "cell_type": "code",
   "execution_count": 3,
   "id": "af0eb709",
   "metadata": {},
   "outputs": [
    {
     "name": "stdout",
     "output_type": "stream",
     "text": [
      "Number of increases: 1655\n"
     ]
    }
   ],
   "source": [
    "strDepths = getDepths()\n",
    "\n",
    "depths = []\n",
    "lastNum = ''\n",
    "for i in range(len(strDepths)): #loops through every character. At '\\n' it will do stuff\n",
    "    if strDepths[i] != '\\n': #If the character is not '\\n' it will add the character to a string\n",
    "        lastNum+=strDepths[i]\n",
    "    else:#If the character is '\\n' it will add the 'lastNum' string as an integer to the list and then reset 'lastNum'\n",
    "        depths.append(int(lastNum))\n",
    "        lastNum=''\n",
    "depths.append(int(lastNum))#Adds the last number in the list\n",
    "#len(depths) should be 2000 unless file is changed\n",
    "\n",
    "increases=0 #Num of increases tracker\n",
    "for i in range(len(depths)):#Loops through depths\n",
    "    if i != len(depths)-1:\n",
    "        if depths[i+1] > depths[i]:\n",
    "            increases+=1\n",
    "print(f\"Number of increases: {increases}\")"
   ]
  },
  {
   "cell_type": "markdown",
   "id": "43197f1d",
   "metadata": {},
   "source": [
    "# --- Part Two ---"
   ]
  },
  {
   "cell_type": "code",
   "execution_count": 5,
   "id": "3e4d7eca",
   "metadata": {},
   "outputs": [
    {
     "name": "stdout",
     "output_type": "stream",
     "text": [
      "Number of increases: 1683\n"
     ]
    }
   ],
   "source": [
    "#Load the contents of the depths provided into the variable depths\n",
    "with open(\"SonarSweepDepths.txt\", \"r\") as file:\n",
    "    strDepths = file.read()\n",
    "\n",
    "depths = []\n",
    "lastNum = ''\n",
    "for i in range(len(strDepths)): #loops through every character. At '\\n' it will do stuff\n",
    "    if strDepths[i] != '\\n': #If the character is not '\\n' it will add the character to a string\n",
    "        lastNum+=strDepths[i]\n",
    "    else:#If the character is '\\n' it will add the 'lastNum' string as an integer to the list and then reset 'lastNum'\n",
    "        depths.append(int(lastNum))\n",
    "        lastNum=''\n",
    "depths.append(int(lastNum))#Adds the last number in the list\n",
    "\n",
    "TMDepths = [] #Stands for Three Measurements Depths\n",
    "for i in range(len(depths)-2): #This calculates a new list containing the three measurement depth sums as depicted above\n",
    "    TMDepths.append(depths[i] + depths[i+1] + depths[i+2])\n",
    "    \n",
    "TMIncreases = 0\n",
    "for i in range(len(TMDepths)-1):#This counts the amount of increases there are in TMDepths\n",
    "    if TMDepths[i+1] > TMDepths[i]:\n",
    "        TMIncreases+=1\n",
    "print(f\"Number of increases: {TMIncreases}\")"
   ]
  }
 ],
 "metadata": {
  "kernelspec": {
   "display_name": "Python 3 (ipykernel)",
   "language": "python",
   "name": "python3"
  },
  "language_info": {
   "codemirror_mode": {
    "name": "ipython",
    "version": 3
   },
   "file_extension": ".py",
   "mimetype": "text/x-python",
   "name": "python",
   "nbconvert_exporter": "python",
   "pygments_lexer": "ipython3",
   "version": "3.12.7"
  }
 },
 "nbformat": 4,
 "nbformat_minor": 5
}
