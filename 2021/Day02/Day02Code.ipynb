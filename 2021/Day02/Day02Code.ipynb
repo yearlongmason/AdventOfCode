{
 "cells": [
  {
   "cell_type": "markdown",
   "id": "7433b68a",
   "metadata": {},
   "source": [
    "# --- Day 2: Dive! ---\n",
    "https://adventofcode.com/2021/day/2"
   ]
  },
  {
   "cell_type": "code",
   "execution_count": 2,
   "id": "593101ef",
   "metadata": {},
   "outputs": [],
   "source": [
    "def getDiveData():\n",
    "    with open('DivePuzzleInput.txt', 'r') as file:\n",
    "        return file.read()"
   ]
  },
  {
   "cell_type": "code",
   "execution_count": 3,
   "id": "c1944175",
   "metadata": {},
   "outputs": [
    {
     "name": "stdout",
     "output_type": "stream",
     "text": [
      "Horizontal: 2105\n",
      "Depth: 807\n",
      "Horizontal * Depth = 1698735\n"
     ]
    }
   ],
   "source": [
    "diveData = getDiveData()\n",
    "\n",
    "horizontalSum = 0\n",
    "depthSum = 0\n",
    "while diveData: #Runs until data is empty\n",
    "    if diveData[0] == 'f': #When forward\n",
    "            diveData = diveData[8:] #Takes the text off the line leaving just the value\n",
    "            if '\\n' not in diveData: #Accounts for the potential last value\n",
    "                horizontalSum += int(diveData)\n",
    "                diveData=\"\"\n",
    "            else: #For when it's not the last value\n",
    "                horizontalSum += int(diveData[:diveData.find('\\n')])\n",
    "                diveData=diveData[diveData.find('\\n')+1:]\n",
    "\n",
    "    elif diveData[0] == 'd': #When down\n",
    "        diveData = diveData[5:] #Takes the text off the line leaving just the value\n",
    "        if '\\n' not in diveData: #Accounts for the potential last value\n",
    "            depthSum += int(diveData) #int(diveData) is the actual value here!\n",
    "            diveData=\"\"\n",
    "        else: #For when it's not the last value\n",
    "            depthSum += int(diveData[:diveData.find('\\n')]) #int(diveData[:diveData.find('\\n')]) is the actual value here!\n",
    "            diveData=diveData[diveData.find('\\n')+1:]\n",
    "\n",
    "    else: #When up\n",
    "        diveData = diveData[3:] #Takes the text off the line leaving just the value\n",
    "        if '\\n' not in diveData: #Accounts for the potential last value\n",
    "            depthSum -= int(diveData)\n",
    "            diveData=\"\"\n",
    "        else: #For when it's not the last value\n",
    "            depthSum -= int(diveData[:diveData.find('\\n')])\n",
    "            diveData=diveData[diveData.find('\\n')+1:]\n",
    "\n",
    "print(f\"Horizontal: {horizontalSum}\\nDepth: {depthSum}\\nHorizontal * Depth = {horizontalSum*depthSum}\")"
   ]
  },
  {
   "cell_type": "markdown",
   "id": "203a82b3",
   "metadata": {},
   "source": [
    "# --- Part Two ---"
   ]
  },
  {
   "cell_type": "code",
   "execution_count": 5,
   "id": "f0aad41b",
   "metadata": {},
   "outputs": [
    {
     "name": "stdout",
     "output_type": "stream",
     "text": [
      "Horizontal: 2105\n",
      "Depth: 757618\n",
      "Horizontal * Depth = 1594785890\n"
     ]
    }
   ],
   "source": [
    "diveData = getDiveData()\n",
    "\n",
    "horizontalSum = 0\n",
    "depthSum = 0\n",
    "aim = 0\n",
    "while diveData: #Runs until data is empty\n",
    "    if diveData[0] == 'f': #When forward\n",
    "            diveData = diveData[8:] #Takes the text off the line leaving just the value\n",
    "            if '\\n' not in diveData: #Accounts for the potential last value\n",
    "                horizontalSum += int(diveData)\n",
    "                depthSum += aim*int(diveData)\n",
    "                diveData=\"\"\n",
    "            else: #For when it's not the last value\n",
    "                horizontalSum += int(diveData[:diveData.find('\\n')])\n",
    "                depthSum += aim*int(diveData[:diveData.find('\\n')])\n",
    "                diveData=diveData[diveData.find('\\n')+1:]\n",
    "\n",
    "    elif diveData[0] == 'd': #When down\n",
    "        diveData = diveData[5:] #Takes the text off the line leaving just the value\n",
    "        if '\\n' not in diveData: #Accounts for the potential last value\n",
    "            aim += int(diveData) #int(diveData) is the actual value here!\n",
    "            diveData=\"\"\n",
    "        else: #For when it's not the last value\n",
    "            aim += int(diveData[:diveData.find('\\n')]) #int(diveData[:diveData.find('\\n')]) is the actual value here!\n",
    "            diveData=diveData[diveData.find('\\n')+1:]\n",
    "\n",
    "    else: #When up\n",
    "        diveData = diveData[3:] #Takes the text off the line leaving just the value\n",
    "        if '\\n' not in diveData: #Accounts for the potential last value\n",
    "            aim -= int(diveData)\n",
    "            diveData=\"\"\n",
    "        else: #For when it's not the last value\n",
    "            aim -= int(diveData[:diveData.find('\\n')])\n",
    "            diveData=diveData[diveData.find('\\n')+1:]\n",
    "\n",
    "print(f\"Horizontal: {horizontalSum}\\nDepth: {depthSum}\\nHorizontal * Depth = {horizontalSum*depthSum}\")\n",
    "diveData = getDiveData() #Resets the value of diveData so it can run again without a problem"
   ]
  }
 ],
 "metadata": {
  "kernelspec": {
   "display_name": "Python 3 (ipykernel)",
   "language": "python",
   "name": "python3"
  },
  "language_info": {
   "codemirror_mode": {
    "name": "ipython",
    "version": 3
   },
   "file_extension": ".py",
   "mimetype": "text/x-python",
   "name": "python",
   "nbconvert_exporter": "python",
   "pygments_lexer": "ipython3",
   "version": "3.12.7"
  }
 },
 "nbformat": 4,
 "nbformat_minor": 5
}
