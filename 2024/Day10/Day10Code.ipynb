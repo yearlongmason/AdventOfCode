{
 "cells": [
  {
   "cell_type": "markdown",
   "id": "e4d0e5e5-f424-447a-9863-ee0e091de685",
   "metadata": {},
   "source": [
    "# --- Day 10: Hoof It ---\n",
    "https://adventofcode.com/2024/day/10"
   ]
  },
  {
   "cell_type": "code",
   "execution_count": 3,
   "id": "2a4b85c5-7ee8-4aa1-8296-c14eda5476fb",
   "metadata": {},
   "outputs": [],
   "source": [
    "def getTopographicMap():\n",
    "    with open(\"topographicMap.txt\") as file:\n",
    "        return file.read()"
   ]
  },
  {
   "cell_type": "code",
   "execution_count": 4,
   "id": "ac7338e7-5566-469b-8f65-a2d3fc2aed3e",
   "metadata": {},
   "outputs": [
    {
     "name": "stdout",
     "output_type": "stream",
     "text": [
      "Sum of trailhead scores: 531\n"
     ]
    }
   ],
   "source": [
    "# Formatting\n",
    "tmap = getTopographicMap()\n",
    "tmap = [[int(y) for y in x] for x in tmap.split(\"\\n\")]\n",
    "rows, cols = len(tmap), len(tmap[0])\n",
    "\n",
    "# Return true if given coordinates (i, j) are valid given the topographic map\n",
    "def isValidCoord(tmap: list[list[int]], coords: list[int]) -> bool:\n",
    "    rows, cols = len(tmap), len(tmap[0])\n",
    "    rowValid = coords[0] >= 0 and coords[0] < rows\n",
    "    colValid = coords[1] >= 0 and coords[1] < cols\n",
    "    return rowValid and colValid\n",
    "\n",
    "# Takes in tmap and i, j coordinates, returns trailhead score\n",
    "def scoreTrailHead(tmap: list[list[int]], i: int, j: int) -> int:\n",
    "    score = 0\n",
    "    # Define queue for breadth first search\n",
    "    frontier = [tuple([i,j])]\n",
    "    explored = [tuple([i,j])]\n",
    "\n",
    "    # Continue looping until we've searched everything\n",
    "    while frontier:\n",
    "        # Keep track of current location and surrounding points\n",
    "        currentLoc = frontier.pop(0)\n",
    "        up = [currentLoc[0] - 1, currentLoc[1]]\n",
    "        down = [currentLoc[0] + 1, currentLoc[1]]\n",
    "        left = [currentLoc[0], currentLoc[1] - 1]\n",
    "        right = [currentLoc[0], currentLoc[1] + 1]\n",
    "\n",
    "        # If current location is a 9\n",
    "        if tmap[currentLoc[0]][currentLoc[1]] == 9:\n",
    "            score += 1\n",
    "\n",
    "        # Check each direction\n",
    "        for direction in [up, down, left, right]:\n",
    "            if isValidCoord(tmap, direction):\n",
    "                # Check if it's a valid increase\n",
    "                if tmap[direction[0]][direction[1]] - tmap[currentLoc[0]][currentLoc[1]] == 1:\n",
    "                    # If it has not already been explored, explore it!\n",
    "                    if tuple(direction) not in explored:\n",
    "                        frontier.append(tuple(direction))\n",
    "                        explored.append(tuple(direction))\n",
    "\n",
    "    # Once we've\n",
    "    return score\n",
    "        \n",
    "    \n",
    "\n",
    "trailHeadScores = []\n",
    "# Loop through all values looking for trail heads\n",
    "for i in range(rows):\n",
    "    for j in range(cols):\n",
    "        if tmap[i][j] == 0:\n",
    "            trailHeadScores.append(scoreTrailHead(tmap, i, j))\n",
    "\n",
    "print(f\"Sum of trailhead scores: {sum(trailHeadScores)}\")"
   ]
  },
  {
   "cell_type": "markdown",
   "id": "68858a55-9979-4a6c-b091-afc3da8eb1ca",
   "metadata": {},
   "source": [
    "# --- Part Two ---"
   ]
  },
  {
   "cell_type": "code",
   "execution_count": 6,
   "id": "691f0a88-c820-4eab-a214-5d80864be4ea",
   "metadata": {},
   "outputs": [
    {
     "name": "stdout",
     "output_type": "stream",
     "text": [
      "Sum of trailhead scores: 1210\n"
     ]
    }
   ],
   "source": [
    "# Formatting\n",
    "tmap = getTopographicMap()\n",
    "tmap = [[int(y) for y in x] for x in tmap.split(\"\\n\")]\n",
    "rows, cols = len(tmap), len(tmap[0])\n",
    "\n",
    "# Return true if given coordinates (i, j) are valid given the topographic map\n",
    "def isValidCoord(tmap: list[list[int]], coords: list[int]) -> bool:\n",
    "    rows, cols = len(tmap), len(tmap[0])\n",
    "    rowValid = coords[0] >= 0 and coords[0] < rows\n",
    "    colValid = coords[1] >= 0 and coords[1] < cols\n",
    "    return rowValid and colValid\n",
    "\n",
    "# Takes in tmap and i, j coordinates, returns trailhead score\n",
    "def scoreTrailHead(tmap: list[list[int]], i: int, j: int, score: int = 0) -> int:\n",
    "    # Base case (if we've made it to the end of a trail)\n",
    "    if tmap[i][j] == 9:\n",
    "        return score + 1\n",
    "\n",
    "    # Coordinates of all directions\n",
    "    up = [i - 1, j]\n",
    "    down = [i + 1, j]\n",
    "    left = [i, j - 1]\n",
    "    right = [i, j + 1]\n",
    "\n",
    "    # Loop through each direction\n",
    "    for direction in [up, down, left, right]:\n",
    "        if isValidCoord(tmap, direction):\n",
    "            # If the next spot is an increase of 1\n",
    "            if tmap[direction[0]][direction[1]] - tmap[i][j] == 1:\n",
    "                score = scoreTrailHead(tmap, direction[0], direction[1], score)\n",
    "    \n",
    "    return score\n",
    "    \n",
    "\n",
    "trailHeadScores = []\n",
    "# Loop through all values looking for trail heads\n",
    "for i in range(rows):\n",
    "    for j in range(cols):\n",
    "        if tmap[i][j] == 0:\n",
    "            trailHeadScores.append(scoreTrailHead(tmap, i, j))\n",
    "\n",
    "print(f\"Sum of trailhead scores: {sum(trailHeadScores)}\")"
   ]
  }
 ],
 "metadata": {
  "kernelspec": {
   "display_name": "Python 3 (ipykernel)",
   "language": "python",
   "name": "python3"
  },
  "language_info": {
   "codemirror_mode": {
    "name": "ipython",
    "version": 3
   },
   "file_extension": ".py",
   "mimetype": "text/x-python",
   "name": "python",
   "nbconvert_exporter": "python",
   "pygments_lexer": "ipython3",
   "version": "3.12.7"
  }
 },
 "nbformat": 4,
 "nbformat_minor": 5
}
