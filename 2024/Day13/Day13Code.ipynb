{
 "cells": [
  {
   "cell_type": "markdown",
   "metadata": {},
   "source": [
    "# --- Day 13: Claw Contraption ---\n",
    "https://adventofcode.com/2024/day/13"
   ]
  },
  {
   "cell_type": "code",
   "execution_count": 1,
   "metadata": {},
   "outputs": [],
   "source": [
    "def getMachineRules():\n",
    "    with open(\"machineRules.txt\") as file:\n",
    "        return file.read()"
   ]
  },
  {
   "cell_type": "code",
   "execution_count": 2,
   "metadata": {},
   "outputs": [
    {
     "name": "stdout",
     "output_type": "stream",
     "text": [
      "Fewest tokens spent to win all possible prizes: 29023\n"
     ]
    }
   ],
   "source": [
    "import numpy as np\n",
    "\n",
    "machines = getMachineRules()\n",
    "machines = machines.split(\"\\n\\n\")\n",
    "machines = [x.split(\"\\n\") for x in machines]\n",
    "buttonA, buttonB, goal = [], [], []\n",
    "\n",
    "# Optimize with regex?\n",
    "# Loop through each machine\n",
    "for machine in range(len(machines)):\n",
    "    currButtonA =  machines[machine][0]\n",
    "    currButtonB =  machines[machine][1]\n",
    "    currGoal = machines[machine][2]\n",
    "\n",
    "    # Formatting button a list\n",
    "    currButtonA = currButtonA.lstrip(\"Button A: X+\")\n",
    "    currButtonA = currButtonA.split(\", \")\n",
    "    currButtonA[1] = currButtonA[1].lstrip(\"Y+\")\n",
    "    currButtonA = list(map(int, currButtonA))\n",
    "\n",
    "    # Formatting button b list\n",
    "    currButtonB = currButtonB.lstrip(\"Button B: X+\")\n",
    "    currButtonB = currButtonB.split(\", \")\n",
    "    currButtonB[1] = currButtonB[1].lstrip(\"Y+\")\n",
    "    currButtonB = list(map(int, currButtonB))\n",
    "\n",
    "    # Formatting goal list\n",
    "    currGoal = currGoal.lstrip(\"Prize: X=\")   \n",
    "    currGoal = currGoal.split(\", \") \n",
    "    currGoal[1] = currGoal[1].lstrip(\"Y=\")\n",
    "    currGoal = list(map(int, currGoal))\n",
    "\n",
    "    # Append all rules to their respective list\n",
    "    buttonA.append(currButtonA)\n",
    "    buttonB.append(currButtonB)\n",
    "    goal.append(currGoal)\n",
    "\n",
    "tokensSpent = 0\n",
    "for i in range(len(goal)):\n",
    "    # Get the changes in x and changes in y to their own lists\n",
    "    xChanges = [buttonA[i][0], buttonB[i][0]]\n",
    "    yChanges = [buttonA[i][1], buttonB[i][1]]\n",
    "    changes = [xChanges, yChanges]\n",
    "    currGoal = goal[i]\n",
    "\n",
    "    # Use np to solve linear equation\n",
    "    solution = np.linalg.solve(changes, currGoal)\n",
    "\n",
    "    # If valid solution, add tokens spent to the total count of tokens spent\n",
    "    # For some reason numpy will return floats with crazy small decimal points instead of ints\n",
    "    # so there's a weird way of checking if an answer is a float or not\n",
    "    aValid = solution[0] >= 0 and abs(solution[0] - round(solution[0])) < .0001\n",
    "    bValid = solution[1] >= 0 and abs(solution[1] - round(solution[1])) < .0001\n",
    "    if aValid and bValid:\n",
    "        tokensSpent += round(solution[0]) * 3\n",
    "        tokensSpent += round(solution[1])\n",
    "\n",
    "print(f\"Fewest tokens spent to win all possible prizes: {tokensSpent}\")"
   ]
  },
  {
   "cell_type": "markdown",
   "metadata": {},
   "source": [
    "# --- Part Two ---"
   ]
  },
  {
   "cell_type": "code",
   "execution_count": 3,
   "metadata": {},
   "outputs": [
    {
     "name": "stdout",
     "output_type": "stream",
     "text": [
      "Fewest tokens spent to win all possible prizes: 96787395375634\n"
     ]
    }
   ],
   "source": [
    "import numpy as np\n",
    "\n",
    "machines = getMachineRules()\n",
    "machines = machines.split(\"\\n\\n\")\n",
    "machines = [x.split(\"\\n\") for x in machines]\n",
    "buttonA, buttonB, goal = [], [], []\n",
    "\n",
    "# Optimize with regex?\n",
    "# Loop through each machine\n",
    "for machine in range(len(machines)):\n",
    "    currButtonA =  machines[machine][0]\n",
    "    currButtonB =  machines[machine][1]\n",
    "    currGoal = machines[machine][2]\n",
    "\n",
    "    # Formatting button a list\n",
    "    currButtonA = currButtonA.lstrip(\"Button A: X+\")\n",
    "    currButtonA = currButtonA.split(\", \")\n",
    "    currButtonA[1] = currButtonA[1].lstrip(\"Y+\")\n",
    "    currButtonA = list(map(int, currButtonA))\n",
    "\n",
    "    # Formatting button b list\n",
    "    currButtonB = currButtonB.lstrip(\"Button B: X+\")\n",
    "    currButtonB = currButtonB.split(\", \")\n",
    "    currButtonB[1] = currButtonB[1].lstrip(\"Y+\")\n",
    "    currButtonB = list(map(int, currButtonB))\n",
    "\n",
    "    # Formatting goal list and adding 10 trillion to the goal\n",
    "    currGoal = currGoal.lstrip(\"Prize: X=\")   \n",
    "    currGoal = currGoal.split(\", \") \n",
    "    currGoal[1] = currGoal[1].lstrip(\"Y=\")\n",
    "    currGoal = list(map(lambda x: int(x) + 10000000000000, currGoal))\n",
    "\n",
    "    # Append all rules to their respective list\n",
    "    buttonA.append(currButtonA)\n",
    "    buttonB.append(currButtonB)\n",
    "    goal.append(currGoal)\n",
    "\n",
    "tokensSpent = 0\n",
    "for i in range(len(goal)):\n",
    "    # Get the changes in x and changes in y to their own lists\n",
    "    xChanges = [buttonA[i][0], buttonB[i][0]]\n",
    "    yChanges = [buttonA[i][1], buttonB[i][1]]\n",
    "    changes = [xChanges, yChanges]\n",
    "    currGoal = goal[i]\n",
    "\n",
    "    # Use np to solve linear equation\n",
    "    solution = np.linalg.solve(changes, currGoal)\n",
    "\n",
    "    # If valid solution, add tokens spent to the total count of tokens spent\n",
    "    # For some reason numpy will return floats with crazy small decimal points instead of ints\n",
    "    # so there's a weird way of checking if an answer is a float or not\n",
    "    aValid = solution[0] >= 0 and abs(solution[0] - round(solution[0])) < .0001\n",
    "    bValid = solution[1] >= 0 and abs(solution[1] - round(solution[1])) < .0001\n",
    "    if aValid and bValid:\n",
    "        tokensSpent += round(solution[0]) * 3\n",
    "        tokensSpent += round(solution[1])\n",
    "\n",
    "print(f\"Fewest tokens spent to win all possible prizes: {tokensSpent}\")"
   ]
  }
 ],
 "metadata": {
  "kernelspec": {
   "display_name": "base",
   "language": "python",
   "name": "python3"
  },
  "language_info": {
   "codemirror_mode": {
    "name": "ipython",
    "version": 3
   },
   "file_extension": ".py",
   "mimetype": "text/x-python",
   "name": "python",
   "nbconvert_exporter": "python",
   "pygments_lexer": "ipython3",
   "version": "3.12.7"
  }
 },
 "nbformat": 4,
 "nbformat_minor": 2
}
