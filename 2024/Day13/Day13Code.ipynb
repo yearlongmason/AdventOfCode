{
 "cells": [
  {
   "cell_type": "markdown",
   "metadata": {},
   "source": [
    "# --- Day 13: Claw Contraption ---\n",
    "https://adventofcode.com/2024/day/13"
   ]
  },
  {
   "cell_type": "code",
   "execution_count": 2,
   "metadata": {},
   "outputs": [],
   "source": [
    "def getMachineRules():\n",
    "    with open(\"machineRules.txt\") as file:\n",
    "        return file.read()"
   ]
  },
  {
   "cell_type": "code",
   "execution_count": 5,
   "metadata": {},
   "outputs": [
    {
     "data": {
      "text/plain": [
       "array([26., 90.])"
      ]
     },
     "execution_count": 5,
     "metadata": {},
     "output_type": "execute_result"
    }
   ],
   "source": [
    "import numpy as np\n",
    "\n",
    "machines = getMachineRules()\n",
    "machines = machines.split(\"\\n\\n\")\n",
    "machines = [x.split(\"\\n\") for x in machines]\n",
    "buttonA, buttonB, goal = [], [], []\n",
    "\n",
    "# Optimize with regex?\n",
    "# Loop through each machine\n",
    "for machine in range(len(machines)):\n",
    "    currButtonA =  machines[machine][0]\n",
    "    currButtonB =  machines[machine][1]\n",
    "    currGoal = machines[machine][2]\n",
    "\n",
    "    # Formatting button a list\n",
    "    currButtonA = currButtonA.lstrip(\"Button A: X+\")\n",
    "    currButtonA = currButtonA.split(\", \")\n",
    "    currButtonA[1] = currButtonA[1].lstrip(\"Y+\")\n",
    "    currButtonA = list(map(int, currButtonA))\n",
    "\n",
    "    # Formatting button b list\n",
    "    currButtonB = currButtonB.lstrip(\"Button B: X+\")\n",
    "    currButtonB = currButtonB.split(\", \")\n",
    "    currButtonB[1] = currButtonB[1].lstrip(\"Y+\")\n",
    "    currButtonB = list(map(int, currButtonB))\n",
    "\n",
    "    # Formatting goal list\n",
    "    currGoal = currGoal.lstrip(\"Prize: X=\")   \n",
    "    currGoal = currGoal.split(\", \") \n",
    "    currGoal[1] = currGoal[1].lstrip(\"Y=\")\n",
    "    currGoal = list(map(int, currGoal))\n",
    "\n",
    "    # Append all rules to their respective list\n",
    "    buttonA.append(currButtonA)\n",
    "    buttonB.append(currButtonB)\n",
    "    goal.append(currGoal)\n",
    "\n",
    "a = np.array([[79,61], [26,99]])\n",
    "b = np.array([7544,9586])\n",
    "x = np.linalg.solve(a, b)\n",
    "x"
   ]
  }
 ],
 "metadata": {
  "kernelspec": {
   "display_name": "base",
   "language": "python",
   "name": "python3"
  },
  "language_info": {
   "codemirror_mode": {
    "name": "ipython",
    "version": 3
   },
   "file_extension": ".py",
   "mimetype": "text/x-python",
   "name": "python",
   "nbconvert_exporter": "python",
   "pygments_lexer": "ipython3",
   "version": "3.12.7"
  }
 },
 "nbformat": 4,
 "nbformat_minor": 2
}
