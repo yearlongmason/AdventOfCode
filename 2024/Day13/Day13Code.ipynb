{
 "cells": [
  {
   "cell_type": "markdown",
   "metadata": {},
   "source": [
    "# --- Day 13: Claw Contraption ---\n",
    "https://adventofcode.com/2024/day/13"
   ]
  },
  {
   "cell_type": "code",
   "execution_count": 1,
   "metadata": {},
   "outputs": [],
   "source": [
    "def getMachineRules():\n",
    "    with open(\"machineRules.txt\") as file:\n",
    "        return file.read()"
   ]
  },
  {
   "cell_type": "code",
   "execution_count": 2,
   "metadata": {},
   "outputs": [
    {
     "name": "stdout",
     "output_type": "stream",
     "text": [
      "Fewest tokens spent to win all possible prizes: 29023\n"
     ]
    }
   ],
   "source": [
    "import numpy as np\n",
    "import re\n",
    "\n",
    "# Formatting each machine\n",
    "machines = getMachineRules()\n",
    "machines = machines.split(\"\\n\\n\")\n",
    "machines = [x.split(\"\\n\") for x in machines]\n",
    "buttonA, buttonB, goal = [], [], []\n",
    "\n",
    "# Optimize with regex?\n",
    "# Loop through each machine\n",
    "for machine in range(len(machines)):\n",
    "    currButtonA =  machines[machine][0]\n",
    "    currButtonB =  machines[machine][1]\n",
    "    currGoal = machines[machine][2]\n",
    "\n",
    "    # Formatting each button and goal as [Xnum, Ynum] using regex\n",
    "    currButtonA = list(map(int, re.findall(r'X\\+(\\d{1,2}), Y\\+(\\d{1,2})', currButtonA)[0]))\n",
    "    currButtonB = list(map(int, re.findall(r'X\\+(\\d{1,2}), Y\\+(\\d{1,2})', currButtonB)[0]))\n",
    "    currGoal = list(map(int, re.findall(r'X\\=(\\d{1,5}), Y\\=(\\d{1,5})', currGoal)[0]))\n",
    "\n",
    "    # Append all rules to their respective list\n",
    "    buttonA.append(currButtonA)\n",
    "    buttonB.append(currButtonB)\n",
    "    goal.append(currGoal)\n",
    "\n",
    "tokensSpent = 0\n",
    "for i in range(len(machines)):\n",
    "    # Get the changes in x and changes in y to their own lists\n",
    "    xChanges = [buttonA[i][0], buttonB[i][0]]\n",
    "    yChanges = [buttonA[i][1], buttonB[i][1]]\n",
    "    changes = [xChanges, yChanges]\n",
    "    currGoal = goal[i]\n",
    "\n",
    "    # Use np to solve linear equation\n",
    "    solution = np.linalg.solve(changes, currGoal)\n",
    "\n",
    "    # If valid solution, add tokens spent to the total count of tokens spent\n",
    "    # For some reason numpy will return floats with crazy small decimal points instead of ints\n",
    "    # so there's a weird way of checking if an answer is a float or not\n",
    "    aValid = solution[0] >= 0 and round(solution[0], 3) % 1 == 0\n",
    "    bValid = solution[1] >= 0 and round(solution[1], 3) % 1 == 0\n",
    "    if aValid and bValid:\n",
    "        tokensSpent += round(solution[0]) * 3\n",
    "        tokensSpent += round(solution[1])\n",
    "\n",
    "print(f\"Fewest tokens spent to win all possible prizes: {tokensSpent}\")"
   ]
  },
  {
   "cell_type": "markdown",
   "metadata": {},
   "source": [
    "# --- Part Two ---"
   ]
  },
  {
   "cell_type": "code",
   "execution_count": 3,
   "metadata": {},
   "outputs": [
    {
     "name": "stdout",
     "output_type": "stream",
     "text": [
      "Fewest tokens spent to win all possible prizes: 96787395375634\n"
     ]
    }
   ],
   "source": [
    "import numpy as np\n",
    "import re\n",
    "\n",
    "# Formatting each machine\n",
    "machines = getMachineRules()\n",
    "machines = machines.split(\"\\n\\n\")\n",
    "machines = [x.split(\"\\n\") for x in machines]\n",
    "buttonA, buttonB, goal = [], [], []\n",
    "\n",
    "# Optimize with regex?\n",
    "# Loop through each machine\n",
    "for machine in range(len(machines)):\n",
    "    currButtonA =  machines[machine][0]\n",
    "    currButtonB =  machines[machine][1]\n",
    "    currGoal = machines[machine][2]\n",
    "\n",
    "    # Formatting each button and goal as [Xnum, Ynum] using regex, but each goal value has 10 trillion added to it\n",
    "    currButtonA = list(map(int, re.findall(r'X\\+(\\d{1,2}), Y\\+(\\d{1,2})', currButtonA)[0]))\n",
    "    currButtonB = list(map(int, re.findall(r'X\\+(\\d{1,2}), Y\\+(\\d{1,2})', currButtonB)[0]))\n",
    "    currGoal = list(map(lambda x: int(x) + 10000000000000, re.findall(r'X\\=(\\d{1,5}), Y\\=(\\d{1,5})', currGoal)[0]))\n",
    "\n",
    "    # Append all rules to their respective list\n",
    "    buttonA.append(currButtonA)\n",
    "    buttonB.append(currButtonB)\n",
    "    goal.append(currGoal)\n",
    "\n",
    "tokensSpent = 0\n",
    "for i in range(len(machines)):\n",
    "    # Get the changes in x and changes in y to their own lists\n",
    "    xChanges = [buttonA[i][0], buttonB[i][0]]\n",
    "    yChanges = [buttonA[i][1], buttonB[i][1]]\n",
    "    changes = [xChanges, yChanges]\n",
    "    currGoal = goal[i]\n",
    "\n",
    "    # Use np to solve linear equation\n",
    "    solution = np.linalg.solve(changes, currGoal)\n",
    "\n",
    "    # If valid solution, add tokens spent to the total count of tokens spent\n",
    "    # For some reason numpy will return floats with crazy small decimal points instead of ints\n",
    "    # so there's a weird way of checking if an answer is a float or not\n",
    "    aValid = solution[0] >= 0 and round(solution[0], 3) % 1 == 0\n",
    "    bValid = solution[1] >= 0 and round(solution[1], 3) % 1 == 0\n",
    "    if aValid and bValid:\n",
    "        tokensSpent += round(solution[0]) * 3\n",
    "        tokensSpent += round(solution[1])\n",
    "\n",
    "print(f\"Fewest tokens spent to win all possible prizes: {tokensSpent}\")"
   ]
  }
 ],
 "metadata": {
  "kernelspec": {
   "display_name": "base",
   "language": "python",
   "name": "python3"
  },
  "language_info": {
   "codemirror_mode": {
    "name": "ipython",
    "version": 3
   },
   "file_extension": ".py",
   "mimetype": "text/x-python",
   "name": "python",
   "nbconvert_exporter": "python",
   "pygments_lexer": "ipython3",
   "version": "3.12.7"
  }
 },
 "nbformat": 4,
 "nbformat_minor": 2
}
