{
 "cells": [
  {
   "cell_type": "markdown",
   "id": "a61609af-46b8-4647-a4c8-5482a3f5b8f7",
   "metadata": {},
   "source": [
    "# --- Day 3: Mull It Over ---\n",
    "https://adventofcode.com/2024/day/3"
   ]
  },
  {
   "cell_type": "code",
   "execution_count": 2,
   "id": "3139c816-a332-4332-90cf-f1b96e38e9fc",
   "metadata": {},
   "outputs": [],
   "source": [
    "def getMemory():\n",
    "    with open(\"memory.txt\") as file:\n",
    "        return file.read()"
   ]
  },
  {
   "cell_type": "code",
   "execution_count": 3,
   "id": "d71d6f09-39a4-442b-addc-e7369d3b0153",
   "metadata": {},
   "outputs": [
    {
     "name": "stdout",
     "output_type": "stream",
     "text": [
      "Uncurrupted multiplications sum: 170068701\n"
     ]
    }
   ],
   "source": [
    "import re\n",
    "memory = getMemory()\n",
    "\n",
    "# Use regex to get valid mul statements\n",
    "muls = re.findall(r'mul\\([0-9]{1,3}\\,[0-9]{1,3}\\)', memory)\n",
    "muls = [x.split(\"(\")[1].strip(\")\") for x in muls]\n",
    "muls = [[int(y) for y in x.split(\",\")] for x in muls]\n",
    "\n",
    "# Get the sum of the instruction results\n",
    "mulTotals = sum([x * y for x, y in muls])\n",
    "\n",
    "print(f\"Uncurrupted multiplications sum: {mulTotals}\")"
   ]
  },
  {
   "cell_type": "markdown",
   "id": "8ac5dab7-04da-4bcf-9ff0-e11d34de040a",
   "metadata": {},
   "source": [
    "# Part 1 One Liner"
   ]
  },
  {
   "cell_type": "code",
   "execution_count": 5,
   "id": "7281fb61-f8c0-48d0-8614-b1a2d0e4787a",
   "metadata": {},
   "outputs": [
    {
     "name": "stdout",
     "output_type": "stream",
     "text": [
      "170068701\n"
     ]
    }
   ],
   "source": [
    "print(sum([x*y for x, y in [[int(y) for y in x] for x in re.findall(r'mul\\((\\d{1,3}),(\\d{1,3})\\)', getMemory())]]))"
   ]
  },
  {
   "cell_type": "markdown",
   "id": "b8c05339-7de2-4e15-a7ad-95d22a19e404",
   "metadata": {},
   "source": [
    "# --- Part Two ---"
   ]
  },
  {
   "cell_type": "code",
   "execution_count": 7,
   "id": "b5a23a33-1e2e-4dfe-90aa-a45882e9ed29",
   "metadata": {},
   "outputs": [
    {
     "name": "stdout",
     "output_type": "stream",
     "text": [
      "Uncurrupted multiplications sum: 78683433\n"
     ]
    }
   ],
   "source": [
    "memory = getMemory()\n",
    "\n",
    "# Use regex to get valid mul statements and do() or don't()\n",
    "# Format instruction if it's a mul instruction (if it has a comma in it, it's a mul instruction)\n",
    "instructions = re.findall(r'(mul\\([0-9]{1,3}\\,[0-9]{1,3}\\)|do\\(\\)|don\\'t\\(\\))', memory)\n",
    "instructions = [x.split(\"(\")[1].strip(\")\") if \",\" in x else x for x in instructions]\n",
    "instructions = [[int(y) for y in x.split(\",\")] if \",\" in x else x for x in instructions]\n",
    "\n",
    "# Loop through each instruction\n",
    "mulTotals = 0\n",
    "do = True\n",
    "for instruction in instructions:\n",
    "    # Depending on the instruction, add to mulTotals or toggle \"do\" variable\n",
    "    if do and len(instruction) == 2:\n",
    "        mulTotals += instruction[0] * instruction[1]\n",
    "    elif instruction == \"do()\":\n",
    "        do = True\n",
    "    else:\n",
    "        do = False\n",
    "\n",
    "print(f\"Uncurrupted multiplications sum: {mulTotals}\")"
   ]
  }
 ],
 "metadata": {
  "kernelspec": {
   "display_name": "Python 3 (ipykernel)",
   "language": "python",
   "name": "python3"
  },
  "language_info": {
   "codemirror_mode": {
    "name": "ipython",
    "version": 3
   },
   "file_extension": ".py",
   "mimetype": "text/x-python",
   "name": "python",
   "nbconvert_exporter": "python",
   "pygments_lexer": "ipython3",
   "version": "3.12.7"
  }
 },
 "nbformat": 4,
 "nbformat_minor": 5
}
