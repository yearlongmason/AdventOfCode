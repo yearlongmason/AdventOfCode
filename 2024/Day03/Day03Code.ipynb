{
 "cells": [
  {
   "cell_type": "markdown",
   "id": "6949c0b8-0337-45c4-9f36-ff1cea92bd70",
   "metadata": {},
   "source": [
    "# --- Day 3: Mull It Over ---\r\n",
    "\"Our computers are having issues, so I have no idea if we have any Chief Historians in stock! You're welcome to check the warehouse, though,\" says the mildly flustered shopkeeper at the North Pole Toboggan Rental Shop. The Historians head out to take a look.\r\n",
    "\r\n",
    "The shopkeeper turns to you. \"Any chance you can see why our computers are having issues again?\"\r\n",
    "\r\n",
    "The computer appears to be trying to run a program, but its memory (your puzzle input) is corrupted. All of the instructions have been jumbled up!\r\n",
    "\r\n",
    "It seems like the goal of the program is just to multiply some numbers. It does that with instructions like mul(X,Y), where X and Y are each 1-3 digit numbers. For instance, mul(44,46) multiplies 44 by 46 to get a result of 2024. Similarly, mul(123,4) would multiply 123 by 4.\r\n",
    "\r\n",
    "However, because the program's memory has been corrupted, there are also many invalid characters that should be ignored, even if they look like part of a mul instruction. Sequences like mul(4*, mul(6,9!, ?(12,34), or mul ( 2 , 4 ) do nothing.\r\n",
    "\r\n",
    "For example, consider the following section of corrupted memory:\r\n",
    "\r\n",
    "xmul(2,4)%&mul[3,7]!@^do_not_mul(5,5)+mul(32,64]then(mul(11,8)mul(8,5))\r\n",
    "Only the four highlighted sections are real mul instructions. Adding up the result of each instruction produces 161 (2*4 + 5*5 + 11*8 + 8*5).\r\n",
    "\r\n",
    "Scan the corrupted memory for uncorrupted mul instructions. What do you get if you add up all of the results of the multiplications?"
   ]
  },
  {
   "cell_type": "code",
   "execution_count": 3,
   "id": "3139c816-a332-4332-90cf-f1b96e38e9fc",
   "metadata": {},
   "outputs": [],
   "source": [
    "def getMemory():\n",
    "    with open(\"memory.txt\") as file:\n",
    "        return file.read()"
   ]
  },
  {
   "cell_type": "code",
   "execution_count": 9,
   "id": "d71d6f09-39a4-442b-addc-e7369d3b0153",
   "metadata": {},
   "outputs": [
    {
     "name": "stdout",
     "output_type": "stream",
     "text": [
      "Uncurrupted multiplications sum: 170068701\n"
     ]
    }
   ],
   "source": [
    "import re\n",
    "memory = getMemory()\n",
    "\n",
    "# Use regex to get valid mul statements\n",
    "muls = re.findall(r'mul\\([0-9]{1,3}\\,[0-9]{1,3}\\)', memory)\n",
    "muls = [x.split(\"(\")[1].strip(\")\") for x in muls]\n",
    "muls = [[int(y) for y in x.split(\",\")] for x in muls]\n",
    "\n",
    "# Get the sum of the instruction results\n",
    "mulTotals = sum([x * y for x, y in muls])\n",
    "\n",
    "print(f\"Uncurrupted multiplications sum: {mulTotals}\")"
   ]
  },
  {
   "cell_type": "markdown",
   "id": "8ac5dab7-04da-4bcf-9ff0-e11d34de040a",
   "metadata": {},
   "source": [
    "# Part 1 One Liner"
   ]
  },
  {
   "cell_type": "code",
   "execution_count": 31,
   "id": "7281fb61-f8c0-48d0-8614-b1a2d0e4787a",
   "metadata": {},
   "outputs": [
    {
     "name": "stdout",
     "output_type": "stream",
     "text": [
      "170068701\n"
     ]
    }
   ],
   "source": [
    "print(sum([x*y for x, y in [[int(y) for y in x] for x in re.findall(r'mul\\((\\d{1,3}),(\\d{1,3})\\)', getMemory())]]))"
   ]
  },
  {
   "cell_type": "markdown",
   "id": "1fb41a3a-6b9a-418c-a973-cde5a4c6db4f",
   "metadata": {},
   "source": [
    "# --- Part Two ---\r\n",
    "As you scan through the corrupted memory, you notice that some of the conditional statements are also still intact. If you handle some of the uncorrupted conditional statements in the program, you might be able to get an even more accurate result.\r\n",
    "\r\n",
    "There are two new instructions you'll need to handle:\r\n",
    "\r\n",
    "The do() instruction enables future mul instructions.\r\n",
    "The don't() instruction disables future mul instructions.\r\n",
    "Only the most recent do() or don't() instruction applies. At the beginning of the program, mul instructions are enabled.\r\n",
    "\r\n",
    "For example:\r\n",
    "\r\n",
    "xmul(2,4)&mul[3,7]!^don't()_mul(5,5)+mul(32,64](mul(11,8)undo()?mul(8,5))\r\n",
    "This corrupted memory is similar to the example from before, but this time the mul(5,5) and mul(11,8) instructions are disabled because there is a don't() instruction before them. The other mul instructions function normally, including the one at the end that gets re-enabled by a do() instruction.\r\n",
    "\r\n",
    "This time, the sum of the results is 48 (2*4 + 8*5).\r\n",
    "\r\n",
    "Handle the new instructions; what do you get if you add up all of the results of just the enabled multiplications?"
   ]
  },
  {
   "cell_type": "code",
   "execution_count": 75,
   "id": "b5a23a33-1e2e-4dfe-90aa-a45882e9ed29",
   "metadata": {},
   "outputs": [
    {
     "name": "stdout",
     "output_type": "stream",
     "text": [
      "Uncurrupted multiplications sum: 78683433\n"
     ]
    }
   ],
   "source": [
    "memory = getMemory()\n",
    "\n",
    "# Use regex to get valid mul statements and do() or don't()\n",
    "# Format instruction if it's a mul instruction (if it has a comma in it, it's a mul instruction)\n",
    "instructions = re.findall(r'(mul\\([0-9]{1,3}\\,[0-9]{1,3}\\)|do\\(\\)|don\\'t\\(\\))', memory)\n",
    "instructions = [x.split(\"(\")[1].strip(\")\") if \",\" in x else x for x in instructions]\n",
    "instructions = [[int(y) for y in x.split(\",\")] if \",\" in x else x for x in instructions]\n",
    "\n",
    "# Loop through each instruction\n",
    "mulTotals = 0\n",
    "do = True\n",
    "for instruction in instructions:\n",
    "    # Depending on the instruction, add to mulTotals or toggle \"do\" variable\n",
    "    if do and len(instruction) == 2:\n",
    "        mulTotals += instruction[0] * instruction[1]\n",
    "    elif instruction == \"do()\":\n",
    "        do = True\n",
    "    else:\n",
    "        do = False\n",
    "\n",
    "print(f\"Uncurrupted multiplications sum: {mulTotals}\")"
   ]
  }
 ],
 "metadata": {
  "kernelspec": {
   "display_name": "Python 3 (ipykernel)",
   "language": "python",
   "name": "python3"
  },
  "language_info": {
   "codemirror_mode": {
    "name": "ipython",
    "version": 3
   },
   "file_extension": ".py",
   "mimetype": "text/x-python",
   "name": "python",
   "nbconvert_exporter": "python",
   "pygments_lexer": "ipython3",
   "version": "3.12.7"
  }
 },
 "nbformat": 4,
 "nbformat_minor": 5
}
