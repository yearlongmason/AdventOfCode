{
 "cells": [
  {
   "cell_type": "markdown",
   "id": "0fb2dd31-3479-4e1d-8844-6f987590071e",
   "metadata": {},
   "source": [
    "# --- Day 8: Resonant Collinearity ---\n",
    "https://adventofcode.com/2024/day/8"
   ]
  },
  {
   "cell_type": "code",
   "execution_count": 139,
   "id": "651ae5a5-6940-4c23-8e23-0bb4b35af279",
   "metadata": {},
   "outputs": [],
   "source": [
    "def getAntenna():\n",
    "    with open(\"antennaMap.txt\") as file:\n",
    "        return file.read()"
   ]
  },
  {
   "cell_type": "code",
   "execution_count": 141,
   "id": "95eca31f-2bcd-465a-98a6-37d05f8c2de3",
   "metadata": {},
   "outputs": [
    {
     "name": "stdout",
     "output_type": "stream",
     "text": [
      "Unique antinode locations: 369\n"
     ]
    }
   ],
   "source": [
    "from collections import defaultdict\n",
    "\n",
    "antenna = getAntenna()\n",
    "antenna = [x for x in antenna.split(\"\\n\")]\n",
    "\n",
    "# Keep track of all antenna coordinates in a default dict (e.g. antennaCoords[\"A\"] = [[1,2], [3,4]])\n",
    "antennaCoords = defaultdict(list)\n",
    "for i in range(len(antenna)):\n",
    "    for j in range(len(antenna[i])):\n",
    "        if antenna[i][j] != \".\":\n",
    "            antennaCoords[antenna[i][j]].append([i,j])\n",
    "\n",
    "# Get the antinodes for a given pair of antenna\n",
    "def getAntinodes(ant1, ant2):\n",
    "    # Get the row and column shift\n",
    "    rowShift = ant1[0] - ant2[0]\n",
    "    colShift = ant1[1] - ant2[1]\n",
    "    antinode1 = [ant1[0] + rowShift, ant1[1] + colShift]\n",
    "\n",
    "    # To get to the other side, flip the sign, and multiply by 2 (or just *= -2)\n",
    "    rowShift *= -2\n",
    "    colShift *= -2\n",
    "    antinode2 = [ant1[0] + rowShift, ant1[1] + colShift]\n",
    "    return antinode1, antinode2\n",
    "\n",
    "# Checks if an antinode is in bounds of the antenna map\n",
    "def inRange(antennaMap: list[list[str]], antinode: list[int]):\n",
    "    return antinode[0] >= 0 and antinode[0] < len(antennaMap) and antinode[1] >= 0 and antinode[1] < len(antennaMap[0])\n",
    "\n",
    "uniqueAntinodes = set()\n",
    "# Loop through all antenna frequencies\n",
    "for freq in antennaCoords.keys():\n",
    "    freqCoords = antennaCoords[freq]\n",
    "\n",
    "    # Compare every antenna to each of the antenna that come after it\n",
    "    for ant in range(len(freqCoords) - 1):\n",
    "        for ant2 in range(ant + 1, len(freqCoords)):\n",
    "\n",
    "            # Get antinodes\n",
    "            antinodes = getAntinodes(freqCoords[ant], freqCoords[ant2])\n",
    "            if inRange(antenna, antinodes[0]):\n",
    "                # add antinodes[0] to set\n",
    "                uniqueAntinodes.add(tuple(antinodes[0]))\n",
    "            if inRange(antenna, antinodes[1]):\n",
    "                # add antinodes[1] to set\n",
    "                uniqueAntinodes.add(tuple(antinodes[1]))\n",
    "\n",
    "print(f\"Unique antinode locations: {len(uniqueAntinodes)}\")"
   ]
  },
  {
   "cell_type": "markdown",
   "id": "0f339bad-0948-4077-a019-5b190fce716e",
   "metadata": {},
   "source": [
    "# --- Part Two ---"
   ]
  },
  {
   "cell_type": "code",
   "execution_count": 143,
   "id": "13d29c4e-6b2d-44ac-aa04-814be1564856",
   "metadata": {},
   "outputs": [
    {
     "name": "stdout",
     "output_type": "stream",
     "text": [
      "Unique antinode locations: 1169\n"
     ]
    }
   ],
   "source": [
    "from collections import defaultdict\n",
    "\n",
    "antenna = getAntenna()\n",
    "antenna = [[*x] for x in antenna.split(\"\\n\")]\n",
    "\n",
    "# Keep track of all antenna coordinates in a default dict (e.g. antennaCoords[\"A\"] = [[1,2], [3,4]])\n",
    "antennaCoords = defaultdict(list)\n",
    "for i in range(len(antenna)):\n",
    "    for j in range(len(antenna[i])):\n",
    "        if antenna[i][j] != \".\":\n",
    "            antennaCoords[antenna[i][j]].append([i,j])\n",
    "\n",
    "# Get the antinodes for a given pair of antenna\n",
    "def getAntinodes(ant1, ant2, antennaMap):\n",
    "    # Keep track of antinodes, in bounds params, rows, cols, and iteration\n",
    "    antinodes = [tuple(ant1), tuple(ant2)]\n",
    "    posInBounds = True\n",
    "    negInBounds = True\n",
    "    rowShift = ant1[0] - ant2[0]\n",
    "    colShift = ant1[1] - ant2[1]\n",
    "    posRow, negRow = ant1[0], ant2[0]\n",
    "    posCol, negCol = ant1[1], ant2[1]\n",
    "    iteration = 0\n",
    "\n",
    "    # Continue while both positive and negative directions are still in bounds\n",
    "    while posInBounds or negInBounds:\n",
    "        # Check the positive direction\n",
    "        if posInBounds:\n",
    "            # Incriment posRow and posCol by their respective shifts\n",
    "            posRow += rowShift\n",
    "            posCol += colShift\n",
    "            if inRange(antennaMap, [posRow, posCol]):\n",
    "                antinodes.append([posRow, posCol])\n",
    "            else:\n",
    "                posInBounds = False\n",
    "        \n",
    "        # Check the negative direction\n",
    "        if negInBounds:\n",
    "            # Decriment negRow and negCol by their respective shifts\n",
    "            negRow -= rowShift\n",
    "            negCol -= colShift\n",
    "            if inRange(antennaMap, [negRow, negCol]):\n",
    "                antinodes.append([negRow, negCol])\n",
    "            else:\n",
    "                negInBounds = False\n",
    "\n",
    "    return antinodes\n",
    "\n",
    "# Checks if an antinode is in bounds of the antenna map\n",
    "def inRange(antennaMap: list[list[str]], antinode: list[int]):\n",
    "    return antinode[0] >= 0 and antinode[0] < len(antennaMap) and antinode[1] >= 0 and antinode[1] < len(antennaMap[0])\n",
    "\n",
    "# Keep track of all unique antinodes\n",
    "uniqueAntinodes = set()\n",
    "# Loop through all antenna frequencies\n",
    "for freq in antennaCoords.keys():\n",
    "    freqCoords = antennaCoords[freq]\n",
    "\n",
    "    # Compare every antenna to each of the antenna that come after it\n",
    "    for ant in range(len(freqCoords) - 1):\n",
    "        for ant2 in range(ant + 1, len(freqCoords)):\n",
    "\n",
    "            # Get antinodes\n",
    "            antinodes = getAntinodes(freqCoords[ant], freqCoords[ant2], antenna)\n",
    "            # Add all antinodes to the set\n",
    "            for antinode in antinodes:\n",
    "                uniqueAntinodes.add(tuple(antinode))\n",
    "\n",
    "print(f\"Unique antinode locations: {len(uniqueAntinodes)}\")"
   ]
  }
 ],
 "metadata": {
  "kernelspec": {
   "display_name": "Python 3 (ipykernel)",
   "language": "python",
   "name": "python3"
  },
  "language_info": {
   "codemirror_mode": {
    "name": "ipython",
    "version": 3
   },
   "file_extension": ".py",
   "mimetype": "text/x-python",
   "name": "python",
   "nbconvert_exporter": "python",
   "pygments_lexer": "ipython3",
   "version": "3.12.7"
  }
 },
 "nbformat": 4,
 "nbformat_minor": 5
}
