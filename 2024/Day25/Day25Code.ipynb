{
 "cells": [
  {
   "cell_type": "markdown",
   "metadata": {},
   "source": [
    "# --- Day 25: Code Chronicle ---\n",
    "https://adventofcode.com/2024/day/25"
   ]
  },
  {
   "cell_type": "code",
   "execution_count": 2,
   "metadata": {},
   "outputs": [],
   "source": [
    "def getLocksKeys():\n",
    "    with open(\"locksKeys.txt\") as file:\n",
    "        return file.read()"
   ]
  },
  {
   "cell_type": "code",
   "execution_count": 18,
   "metadata": {},
   "outputs": [],
   "source": [
    "# Formatting\n",
    "locksKeys = getLocksKeys()\n",
    "locksKeys = locksKeys.split(\"\\n\\n\")\n",
    "locksKeys = [x.split(\"\\n\") for x in locksKeys]\n",
    "\n",
    "# Split into locks and keys lists rather than a combined list\n",
    "locks = []\n",
    "keys = []\n",
    "for i in locksKeys:\n",
    "    # If the entire top row is \"#\" that means it's a lock\n",
    "    if list(set(i[0])) == [\"#\"]:\n",
    "        locks.append(i)\n",
    "    # If the entire top row is empty that means it's a key\n",
    "    elif list(set(i[0])) == [\".\"]:\n",
    "        keys.append(i)"
   ]
  }
 ],
 "metadata": {
  "kernelspec": {
   "display_name": "base",
   "language": "python",
   "name": "python3"
  },
  "language_info": {
   "codemirror_mode": {
    "name": "ipython",
    "version": 3
   },
   "file_extension": ".py",
   "mimetype": "text/x-python",
   "name": "python",
   "nbconvert_exporter": "python",
   "pygments_lexer": "ipython3",
   "version": "3.12.7"
  }
 },
 "nbformat": 4,
 "nbformat_minor": 2
}
