{
 "cells": [
  {
   "cell_type": "markdown",
   "metadata": {},
   "source": [
    "# --- Day 25: Code Chronicle ---\n",
    "https://adventofcode.com/2024/day/25"
   ]
  },
  {
   "cell_type": "code",
   "execution_count": 2,
   "metadata": {},
   "outputs": [],
   "source": [
    "def getLocksKeys():\n",
    "    with open(\"locksKeys.txt\") as file:\n",
    "        return file.read()"
   ]
  },
  {
   "cell_type": "code",
   "execution_count": 44,
   "metadata": {},
   "outputs": [
    {
     "name": "stdout",
     "output_type": "stream",
     "text": [
      "Number of unique lock/key pairs without overlap: 3133\n"
     ]
    }
   ],
   "source": [
    "# Formatting\n",
    "locksKeys = getLocksKeys()\n",
    "locksKeys = locksKeys.split(\"\\n\\n\")\n",
    "locksKeys = [x.split(\"\\n\") for x in locksKeys]\n",
    "lockSize = len(locksKeys[0])\n",
    "\n",
    "# Turns key or lock input into height values\n",
    "def getHeights(keyLock: list[str]) -> list[int]:\n",
    "    heights = [0] * len(keyLock[0])\n",
    "\n",
    "    # Loop through each value in each row\n",
    "    # If the value is a \"#\" add 1 to that height index\n",
    "    for row in keyLock:\n",
    "        for i, value in enumerate(row):\n",
    "            if value == \"#\":\n",
    "                heights[i] += 1\n",
    "\n",
    "    return heights\n",
    "\n",
    "# Split into locks and keys lists rather than a combined list\n",
    "locks = []\n",
    "keys = []\n",
    "for i in locksKeys:\n",
    "    # If the entire top row is \"#\" that means it's a lock\n",
    "    if list(set(i[0])) == [\"#\"]:\n",
    "        locks.append(getHeights(i))\n",
    "    # If the entire top row is empty that means it's a key\n",
    "    elif list(set(i[0])) == [\".\"]:\n",
    "        keys.append(getHeights(i))\n",
    "\n",
    "# If the key fits in the lock, then return True, otherwise return False\n",
    "def keyFits(key: list[int], lock: list[int], lockSize: int) -> bool:\n",
    "    # If any columns are too big to fit in the size of the lock return False\n",
    "    for i in range(len(key)):\n",
    "        if key[i] + lock[i] > lockSize:\n",
    "            return False\n",
    "\n",
    "    return True\n",
    "\n",
    "# Find all good lock/key pairs\n",
    "goodPairs = 0\n",
    "for key in keys:\n",
    "    for lock in locks:\n",
    "        if keyFits(key, lock, lockSize):\n",
    "            goodPairs += 1\n",
    "\n",
    "print(f\"Number of unique lock/key pairs without overlap: {goodPairs}\")"
   ]
  }
 ],
 "metadata": {
  "kernelspec": {
   "display_name": "base",
   "language": "python",
   "name": "python3"
  },
  "language_info": {
   "codemirror_mode": {
    "name": "ipython",
    "version": 3
   },
   "file_extension": ".py",
   "mimetype": "text/x-python",
   "name": "python",
   "nbconvert_exporter": "python",
   "pygments_lexer": "ipython3",
   "version": "3.12.7"
  }
 },
 "nbformat": 4,
 "nbformat_minor": 2
}
