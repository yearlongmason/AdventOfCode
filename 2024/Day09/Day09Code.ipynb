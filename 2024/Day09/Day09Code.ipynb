{
 "cells": [
  {
   "cell_type": "markdown",
   "id": "c01349f2-5fa3-497c-b1a0-8fcbc7f8292a",
   "metadata": {},
   "source": [
    "# --- Day 9: Disk Fragmenter ---\n",
    "https://adventofcode.com/2024/day/9"
   ]
  },
  {
   "cell_type": "code",
   "execution_count": 214,
   "id": "f797e519-f9e9-4771-ad48-2677dc2ed4c2",
   "metadata": {},
   "outputs": [],
   "source": [
    "def getDiscMap():\n",
    "    with open(\"discMap.txt\") as file:\n",
    "        return file.read()"
   ]
  },
  {
   "cell_type": "code",
   "execution_count": 223,
   "id": "d801f84b-3014-4a61-9d81-e3e2a972deb7",
   "metadata": {},
   "outputs": [
    {
     "name": "stdout",
     "output_type": "stream",
     "text": [
      "Filesystem checksum: 6288599492129\n"
     ]
    }
   ],
   "source": [
    "# Formatting\n",
    "discMap = getDiscMap()\n",
    "fileSize = [int(discMap[x]) for x in range(0, len(discMap), 2)]\n",
    "freeSpace = [int(discMap[x]) for x in range(1, len(discMap), 2)]\n",
    "\n",
    "# Format disc map as shown in puzzle example\n",
    "fDiscMap = [] # Formatted discMap\n",
    "for i in range(len(fileSize)):\n",
    "    fDiscMap.extend([str(i) for x in range(fileSize[i])])\n",
    "    if i < len(freeSpace):\n",
    "        fDiscMap.extend([\".\" for x in range(freeSpace[i])])\n",
    "\n",
    "# Loop through fDiscMap backwards\n",
    "for i in range(len(fDiscMap) - 1, -1, -1):\n",
    "    # If the current index is a \".\" just continue\n",
    "    if fDiscMap[i] == \".\":\n",
    "        continue\n",
    "    \n",
    "    firstAvailable = fDiscMap.index(\".\")\n",
    "    # Swap current index with the first available free space\n",
    "    fDiscMap[i], fDiscMap[firstAvailable] = fDiscMap[firstAvailable], fDiscMap[i]\n",
    "    \n",
    "    # Check if we're done by checking if there is nothing after the first free space but other free spaces\n",
    "    if len(set(fDiscMap[fDiscMap.index(\".\"):])) == 1:\n",
    "        fDiscMap = fDiscMap[:fDiscMap.index(\".\")]\n",
    "        break\n",
    "\n",
    "# Get the checksum of the filesystem\n",
    "checksum = 0\n",
    "for i, val in enumerate(fDiscMap):\n",
    "    checksum += i * int(val)\n",
    "\n",
    "print(f\"Filesystem checksum: {checksum}\")"
   ]
  },
  {
   "cell_type": "markdown",
   "id": "0f48a7b0-0f2d-414f-bfb0-7e8999eac2d2",
   "metadata": {},
   "source": [
    "# --- Part Two ---"
   ]
  },
  {
   "cell_type": "code",
   "execution_count": 218,
   "id": "50d369ab-ad02-4cb8-8920-afbe79205ab7",
   "metadata": {},
   "outputs": [
    {
     "name": "stdout",
     "output_type": "stream",
     "text": [
      "Filesystem checksum: 6321896265143\n"
     ]
    }
   ],
   "source": [
    "# Formatting\n",
    "discMap = getDiscMap()\n",
    "fileSize = [int(discMap[x]) for x in range(0, len(discMap), 2)]\n",
    "freeSpace = [int(discMap[x]) for x in range(1, len(discMap), 2)]\n",
    "\n",
    "# Format disc map as shown in puzzle example\n",
    "fDiscMap = [] # Formatted discMap\n",
    "for i in range(len(fileSize)):\n",
    "    fDiscMap.append([str(i) for x in range(fileSize[i])])\n",
    "    if i < len(freeSpace) and freeSpace[i] != 0:\n",
    "        fDiscMap.append([\".\" for x in range(freeSpace[i])])\n",
    "\n",
    "# Moves a file from the end of the list to an empty space\n",
    "def moveFile(discMap: list[list[str]], emptyChunkIndex: int, fileChunkIndex: int) -> list[list[str]]:\n",
    "    # Pop off file and save to file variable\n",
    "    file = discMap.pop(fileChunkIndex)\n",
    "    emptySpace = len(discMap[emptyChunkIndex])\n",
    "    \n",
    "    # Fill empty space just created\n",
    "    discMap.insert(fileChunkIndex, [\".\" for x in range(len(file))])\n",
    "    \n",
    "    # If the file takes up the entire empty space, just replace the space with the file\n",
    "    if len(file) == emptySpace:\n",
    "        discMap[emptyChunkIndex] = file\n",
    "        return discMap\n",
    "\n",
    "    # Otherwise replace the empty space with the amount of empty space - the length of the file\n",
    "    discMap[emptyChunkIndex] = [\".\" for x in range(emptySpace - len(file))]\n",
    "    discMap.insert(emptyChunkIndex, file) #insert the file into the space where the empty space just was\n",
    "    return discMap\n",
    "\n",
    "# Loop through fDiscMap backwards\n",
    "i = len(fDiscMap) - 1\n",
    "while i != 0:\n",
    "    # Skip over free space\n",
    "    if fDiscMap[i][0] == \".\":\n",
    "        i -= 1\n",
    "        continue\n",
    "\n",
    "    # Loop through each chunk of space until we find a chunk that can fit the file\n",
    "    # Or we make it back to currentIndex\n",
    "    lenFile = len(fDiscMap[i])\n",
    "    for chunk in range(0, i):\n",
    "        # If we find a space that can fit it, move the file and do not decriment i\n",
    "        if fDiscMap[chunk][0] == \".\" and len(fDiscMap[chunk]) >= lenFile:\n",
    "            fDiscMap = moveFile(fDiscMap, chunk, i)\n",
    "            break\n",
    "    else:\n",
    "        i -= 1\n",
    "\n",
    "# Get the checksum of the filesystem\n",
    "checksum = 0\n",
    "for i, val in enumerate([x for chunk in fDiscMap for x in chunk]):\n",
    "    if val != \".\":\n",
    "        checksum += i * int(val)\n",
    "\n",
    "print(f\"Filesystem checksum: {checksum}\")"
   ]
  }
 ],
 "metadata": {
  "kernelspec": {
   "display_name": "Python 3 (ipykernel)",
   "language": "python",
   "name": "python3"
  },
  "language_info": {
   "codemirror_mode": {
    "name": "ipython",
    "version": 3
   },
   "file_extension": ".py",
   "mimetype": "text/x-python",
   "name": "python",
   "nbconvert_exporter": "python",
   "pygments_lexer": "ipython3",
   "version": "3.12.7"
  }
 },
 "nbformat": 4,
 "nbformat_minor": 5
}
