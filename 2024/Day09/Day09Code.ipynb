{
 "cells": [
  {
   "cell_type": "markdown",
   "id": "c01349f2-5fa3-497c-b1a0-8fcbc7f8292a",
   "metadata": {},
   "source": [
    "# Day 9\n",
    "https://adventofcode.com/2024/day/9"
   ]
  },
  {
   "cell_type": "code",
   "execution_count": 3,
   "id": "f797e519-f9e9-4771-ad48-2677dc2ed4c2",
   "metadata": {},
   "outputs": [],
   "source": [
    "def getDiscMap():\n",
    "    with open(\"discMap.txt\") as file:\n",
    "        return file.read()"
   ]
  },
  {
   "cell_type": "code",
   "execution_count": 101,
   "id": "d801f84b-3014-4a61-9d81-e3e2a972deb7",
   "metadata": {},
   "outputs": [
    {
     "name": "stdout",
     "output_type": "stream",
     "text": [
      "Filesystem checksum: 1928\n"
     ]
    }
   ],
   "source": [
    "# Formatting\n",
    "discMap = getDiscMap()\n",
    "discMap = \"2333133121414131402\"\n",
    "fileSize = [int(discMap[x]) for x in range(0, len(discMap), 2)]\n",
    "freeSpace = [int(discMap[x]) for x in range(1, len(discMap), 2)]\n",
    "\n",
    "# Format disc map as shown in puzzle example\n",
    "fDiscMap = [] # Formatted discMap\n",
    "for i in range(len(fileSize)):\n",
    "    fDiscMap += str(i) * fileSize[i]\n",
    "    if i < len(freeSpace):\n",
    "        fDiscMap += \".\" * freeSpace[i]\n",
    "\n",
    "# Turn fDiscMap into a list of strings to make swapping indexes easier\n",
    "fDiscMap = [*fDiscMap]\n",
    "for i in range(len(fDiscMap) - 1, -1, -1):\n",
    "    firstAvailable = fDiscMap.index(\".\")\n",
    "    # Swap current index with the first available free space\n",
    "    fDiscMap[i], fDiscMap[firstAvailable] = fDiscMap[firstAvailable], fDiscMap[i]\n",
    "    \n",
    "    # Check if we're done by checking if there is nothing after the first free space but other free spaces\n",
    "    if len(set(fDiscMap[fDiscMap.index(\".\"):])) == 1:\n",
    "        fDiscMap = fDiscMap[:fDiscMap.index(\".\")]\n",
    "        break\n",
    "\n",
    "# Get the checksum of the filesystem\n",
    "checksum = 0\n",
    "for i, val in enumerate(fDiscMap):\n",
    "    checksum += i * int(val)\n",
    "\n",
    "print(f\"Filesystem checksum: {checksum}\")"
   ]
  },
  {
   "cell_type": "code",
   "execution_count": null,
   "id": "9cd64a5d-8903-468c-be40-5345031f7dd7",
   "metadata": {},
   "outputs": [],
   "source": [
    "# Using list instead of string to account for 2 digit numbers? (Might not work. Not sure yet)\n",
    "#Format disc map as shown in puzzle example\n",
    "fDiscMap = [] # Formatted discMap\n",
    "for i in range(len(fileSize)):\n",
    "    fDiscMap.extend([str(i)] * fileSize[i])\n",
    "    if i < len(freeSpace):\n",
    "        fDiscMap.extend([\".\"] * fileSize[i])"
   ]
  }
 ],
 "metadata": {
  "kernelspec": {
   "display_name": "Python 3 (ipykernel)",
   "language": "python",
   "name": "python3"
  },
  "language_info": {
   "codemirror_mode": {
    "name": "ipython",
    "version": 3
   },
   "file_extension": ".py",
   "mimetype": "text/x-python",
   "name": "python",
   "nbconvert_exporter": "python",
   "pygments_lexer": "ipython3",
   "version": "3.12.7"
  }
 },
 "nbformat": 4,
 "nbformat_minor": 5
}
