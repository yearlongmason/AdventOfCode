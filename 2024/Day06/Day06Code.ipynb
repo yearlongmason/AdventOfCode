{
 "cells": [
  {
   "cell_type": "markdown",
   "id": "8ca55126-e6c2-4833-b192-d8c30e3da14b",
   "metadata": {},
   "source": [
    "# --- Day 6: Guard Gallivant ---\n",
    "https://adventofcode.com/2024/day/6"
   ]
  },
  {
   "cell_type": "code",
   "execution_count": 1,
   "id": "8db3a664-5905-4851-8a51-1b3d955abdd7",
   "metadata": {},
   "outputs": [],
   "source": [
    "def getMap():\n",
    "    with open(\"map.txt\") as file:\n",
    "        return file.read()"
   ]
  },
  {
   "cell_type": "code",
   "execution_count": 3,
   "id": "e911a9bd-0f43-46af-baa1-9f29a918382a",
   "metadata": {},
   "outputs": [
    {
     "name": "stdout",
     "output_type": "stream",
     "text": [
      "Number of distinct guard positions: 5030\n"
     ]
    }
   ],
   "source": [
    "map = getMap()\n",
    "map = [[*x] for x in map.split(\"\\n\")]\n",
    "rows, cols = len(map), len(map[0])\n",
    "\n",
    "# Find guard\n",
    "for row in range(rows):\n",
    "    for col in range(cols):\n",
    "        if map[row][col] == \"^\":\n",
    "            guard = [row, col]\n",
    "            guardDirection = \"Up\"\n",
    "\n",
    "guardLocations = set() # Keep track of unique guard locations\n",
    "guardLocations.add(tuple(guard)) # Add initial guard position\n",
    "# Move the guard around as long as it stays within the bounds of the map\n",
    "nextLoc = guard.copy()\n",
    "while True:\n",
    "    # Get the next location\n",
    "    if guardDirection == \"Up\":\n",
    "        nextLoc[0] = guard[0] - 1\n",
    "    elif guardDirection == \"Down\":\n",
    "        nextLoc[0] = guard[0] + 1\n",
    "    elif guardDirection == \"Left\":\n",
    "        nextLoc[1] = guard[1] - 1\n",
    "    elif guardDirection == \"Right\":\n",
    "        nextLoc[1] = guard[1] + 1\n",
    "\n",
    "    # If guard is about to go out of bounds: break\n",
    "    if nextLoc[0] < 0 or nextLoc[0] >= rows or nextLoc[1] < 0 or nextLoc[1] >= cols:\n",
    "        break\n",
    "\n",
    "    # If the guard hits a barrier, turn the guard and reset nextLoc variable\n",
    "    if map[nextLoc[0]][nextLoc[1]] == \"#\":\n",
    "        if guardDirection == \"Up\":\n",
    "            guardDirection = \"Right\"\n",
    "            nextLoc[0] = guard[0]\n",
    "        elif guardDirection == \"Down\":\n",
    "            guardDirection = \"Left\"\n",
    "            nextLoc[0] = guard[0]\n",
    "        elif guardDirection == \"Left\":\n",
    "            guardDirection = \"Up\"\n",
    "            nextLoc[1] = guard[1]\n",
    "        elif guardDirection == \"Right\":\n",
    "            guardDirection = \"Down\"\n",
    "            nextLoc[1] = guard[1]\n",
    "        continue\n",
    "\n",
    "    # Move the guard and add the new location to the set of unique locations\n",
    "    guard = nextLoc.copy()\n",
    "    guardLocations.add(tuple(guard))\n",
    "\n",
    "print(f\"Number of distinct guard positions: {len(guardLocations)}\")"
   ]
  },
  {
   "cell_type": "markdown",
   "id": "1ef570d7-964e-44c1-bca4-71a3b3ce144b",
   "metadata": {},
   "source": [
    "# --- Part Two ---"
   ]
  },
  {
   "cell_type": "code",
   "execution_count": 5,
   "id": "7d028084-23c0-43d7-8621-03d5d5d2ad72",
   "metadata": {},
   "outputs": [
    {
     "name": "stdout",
     "output_type": "stream",
     "text": [
      "Number of infinite loops: 1928\n"
     ]
    }
   ],
   "source": [
    "from copy import deepcopy\n",
    "\n",
    "map = getMap()\n",
    "map = [[*x] for x in map.split(\"\\n\")]\n",
    "rows, cols = len(map), len(map[0])\n",
    "\n",
    "def findGuard(map):\n",
    "    # Find guard\n",
    "    for row in range(rows):\n",
    "        for col in range(cols):\n",
    "            if map[row][col] == \"^\":\n",
    "                return [row, col], \"Up\"\n",
    "\n",
    "ininiteLoopCount = 0\n",
    "# Try adding an obstruction at every index\n",
    "for i in range(rows):\n",
    "    for j in range(cols):\n",
    "        # Copy map and place new obstruction\n",
    "        copyMap = deepcopy(map)\n",
    "        copyMap[i][j] = \"#\"\n",
    "        guard, guardDirection = findGuard(map)\n",
    "        obstructionEncounters = []\n",
    "        \n",
    "        # Move the guard around as long as it stays within the bounds of the map\n",
    "        nextLoc = guard.copy()\n",
    "        while True:\n",
    "            # Get the next location\n",
    "            if guardDirection == \"Up\":\n",
    "                nextLoc[0] = guard[0] - 1\n",
    "            elif guardDirection == \"Down\":\n",
    "                nextLoc[0] = guard[0] + 1\n",
    "            elif guardDirection == \"Left\":\n",
    "                nextLoc[1] = guard[1] - 1\n",
    "            elif guardDirection == \"Right\":\n",
    "                nextLoc[1] = guard[1] + 1\n",
    "            \n",
    "            # If guard is about to go out of bounds: break\n",
    "            if nextLoc[0] < 0 or nextLoc[0] >= rows or nextLoc[1] < 0 or nextLoc[1] >= cols:\n",
    "                break\n",
    "        \n",
    "            # If the guard hits a barrier, turn the guard\n",
    "            if copyMap[nextLoc[0]][nextLoc[1]] == \"#\":\n",
    "                # If we've already hit this obstruction in the same direction, it's an infinite loop\n",
    "                if tuple([nextLoc[0], nextLoc[1], guardDirection]) in obstructionEncounters:\n",
    "                    ininiteLoopCount += 1\n",
    "                    break\n",
    "                obstructionEncounters.append(tuple([nextLoc[0], nextLoc[1], guardDirection]))\n",
    "\n",
    "                # Change direction and update guard direction\n",
    "                if guardDirection == \"Up\":\n",
    "                    guardDirection = \"Right\"\n",
    "                    nextLoc[0] = guard[0]\n",
    "                elif guardDirection == \"Down\":\n",
    "                    guardDirection = \"Left\"\n",
    "                    nextLoc[0] = guard[0]\n",
    "                elif guardDirection == \"Left\":\n",
    "                    guardDirection = \"Up\"\n",
    "                    nextLoc[1] = guard[1]\n",
    "                elif guardDirection == \"Right\":\n",
    "                    guardDirection = \"Down\"\n",
    "                    nextLoc[1] = guard[1]\n",
    "                continue\n",
    "            # Move guard\n",
    "            guard = nextLoc.copy()\n",
    "        \n",
    "print(f\"Number of infinite loops: {ininiteLoopCount}\")"
   ]
  },
  {
   "cell_type": "code",
   "execution_count": 3,
   "id": "c7f49ebc-0773-42c5-8f0b-763e7e696291",
   "metadata": {},
   "outputs": [],
   "source": [
    "# Optimize by only testing spaces travelled?"
   ]
  }
 ],
 "metadata": {
  "kernelspec": {
   "display_name": "Python 3 (ipykernel)",
   "language": "python",
   "name": "python3"
  },
  "language_info": {
   "codemirror_mode": {
    "name": "ipython",
    "version": 3
   },
   "file_extension": ".py",
   "mimetype": "text/x-python",
   "name": "python",
   "nbconvert_exporter": "python",
   "pygments_lexer": "ipython3",
   "version": "3.12.7"
  }
 },
 "nbformat": 4,
 "nbformat_minor": 5
}
