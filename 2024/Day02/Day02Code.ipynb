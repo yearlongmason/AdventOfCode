{
 "cells": [
  {
   "cell_type": "markdown",
   "id": "a1a89c3e-1fa0-4f6f-bb06-31a371289d09",
   "metadata": {},
   "source": [
    "# --- Day 2: Red-Nosed Reports ---\n",
    "Fortunately, the first location The Historians want to search isn't a long walk from the Chief Historian's office.\n",
    "\n",
    "While the Red-Nosed Reindeer nuclear fusion/fission plant appears to contain no sign of the Chief Historian, the engineers there run up to you as soon as they see you. Apparently, they still talk about the time Rudolph was saved through molecular synthesis from a single electron.\n",
    "\n",
    "They're quick to add that - since you're already here - they'd really appreciate your help analyzing some unusual data from the Red-Nosed reactor. You turn to check if The Historians are waiting for you, but they seem to have already divided into groups that are currently searching every corner of the facility. You offer to help with the unusual data.\n",
    "\n",
    "The unusual data (your puzzle input) consists of many reports, one report per line. Each report is a list of numbers called levels that are separated by spaces. For example:\n",
    "\n",
    "```\n",
    "7 6 4 2 1\n",
    "1 2 7 8 9\n",
    "9 7 6 2 1\n",
    "1 3 2 4 5\n",
    "8 6 4 4 1\n",
    "1 3 6 7 9\n",
    "```\n",
    "\n",
    "This example data contains six reports each containing five levels.\n",
    "\n",
    "The engineers are trying to figure out which reports are safe. The Red-Nosed reactor safety systems can only tolerate levels that are either gradually increasing or gradually decreasing. So, a report only counts as safe if both of the following are true:\n",
    "\n",
    "The levels are either all increasing or all decreasing.\n",
    "Any two adjacent levels differ by at least one and at most three.\n",
    "In the example above, the reports can be found safe or unsafe by checking those rules:\n",
    "\n",
    "- 7 6 4 2 1: Safe because the levels are all decreasing by 1 or 2.\n",
    "- 1 2 7 8 9: Unsafe because 2 7 is an increase of 5.\n",
    "- 9 7 6 2 1: Unsafe because 6 2 is a decrease of 4.\n",
    "- 1 3 2 4 5: Unsafe because 1 3 is increasing but 3 2 is decreasing.\n",
    "- 8 6 4 4 1: Unsafe because 4 4 is neither an increase or a decrease.\n",
    "- 1 3 6 7 9: Safe because the levels are all increasing by 1, 2, or 3.\n",
    "\n",
    "So, in this example, 2 reports are safe.\n",
    "\n",
    "Analyze the unusual data from the engineers. How many reports are safe?"
   ]
  },
  {
   "cell_type": "code",
   "execution_count": 3,
   "id": "181afa34-2adc-4863-af58-0a134cda15f2",
   "metadata": {},
   "outputs": [],
   "source": [
    "def getLevels():\n",
    "    with open(\"levels.txt\") as file:\n",
    "        return file.read()"
   ]
  },
  {
   "cell_type": "code",
   "execution_count": 4,
   "id": "17074f31-37ac-41aa-9917-6a17c0215935",
   "metadata": {},
   "outputs": [
    {
     "name": "stdout",
     "output_type": "stream",
     "text": [
      "Number of safe levels: 639\n"
     ]
    }
   ],
   "source": [
    "# Data formatting\n",
    "levels = getLevels()\n",
    "levels = [[int(y) for y in x.split(\" \")] for x in levels.split(\"\\n\")]\n",
    "\n",
    "# This takes in a level and returns whether or not it is safe\n",
    "def checkSafety(level: list[int]) -> bool:\n",
    "\n",
    "    # Get the differences\n",
    "    differences = [level[x] - level[x + 1] for x in range(len(level) - 1)]\n",
    "\n",
    "    # If the distances are either all increasing and between -1 and -3 or all decreasing and between 1 and 3\n",
    "    if all([True if x < 0 and x > -4 else False for x in differences]):\n",
    "        return True\n",
    "    if all([True if x > 0 and x < 4 else False for x in differences]):\n",
    "        return True\n",
    "    \n",
    "    return False\n",
    "\n",
    "# Count the number of levels that are safe\n",
    "numSafeLevels = 0\n",
    "for level in levels:\n",
    "    numSafeLevels += int(checkSafety(level))\n",
    "\n",
    "print(f\"Number of safe levels: {numSafeLevels}\")"
   ]
  },
  {
   "cell_type": "markdown",
   "id": "2d37fff4-d9a9-4969-bed1-262b10feab4d",
   "metadata": {},
   "source": [
    "# --- Part Two ---\n",
    "The engineers are surprised by the low number of safe reports until they realize they forgot to tell you about the Problem Dampener.\n",
    "\n",
    "The Problem Dampener is a reactor-mounted module that lets the reactor safety systems tolerate a single bad level in what would otherwise be a safe report. It's like the bad level never happened!\n",
    "\n",
    "Now, the same rules apply as before, except if removing a single level from an unsafe report would make it safe, the report instead counts as safe.\n",
    "\n",
    "More of the above example's reports are now safe:\n",
    "\n",
    "- 7 6 4 2 1: Safe without removing any level.\n",
    "- 1 2 7 8 9: Unsafe regardless of which level is removed.\n",
    "- 9 7 6 2 1: Unsafe regardless of which level is removed.\n",
    "- 1 3 2 4 5: Safe by removing the second level, 3.\n",
    "- 8 6 4 4 1: Safe by removing the third level, 4.\n",
    "- 1 3 6 7 9: Safe without removing any level.\n",
    "\n",
    "Thanks to the Problem Dampener, 4 reports are actually safe!\n",
    "\n",
    "Update your analysis by handling situations where the Problem Dampener can remove a single level from unsafe reports. How many reports are now safe?"
   ]
  },
  {
   "cell_type": "code",
   "execution_count": 6,
   "id": "811c7d35-42ec-4774-bc5a-3d8d7b522d05",
   "metadata": {},
   "outputs": [
    {
     "name": "stdout",
     "output_type": "stream",
     "text": [
      "Number of safe levels: 674\n"
     ]
    }
   ],
   "source": [
    "# Data formatting\n",
    "levels = getLevels()\n",
    "levels = [[int(y) for y in x.split(\" \")] for x in levels.split(\"\\n\")]\n",
    "\n",
    "# This takes in a level and returns whether or not it is safe\n",
    "def checkSafety(level: list[int]) -> bool:\n",
    "\n",
    "    # Get the differences\n",
    "    differences = [level[x] - level[x + 1] for x in range(len(level) - 1)]\n",
    "\n",
    "    # If the distances are safe, return True, otherwise return False\n",
    "    if all([True if x < 0 and x > -4 else False for x in differences]):\n",
    "        return True\n",
    "    if all([True if x > 0 and x < 4 else False for x in differences]):\n",
    "        return True\n",
    "    \n",
    "    return False\n",
    "\n",
    "# Count the number of levels that are safe\n",
    "numSafeLevels = 0\n",
    "for level in levels:\n",
    "\n",
    "    # For each value in the level, check the safety without that value\n",
    "    # If one of those instances are safe then the whole thing is safe\n",
    "    for i in range(len(level)):\n",
    "        levelCopy = level.copy()\n",
    "        levelCopy.pop(i)\n",
    "        if checkSafety(levelCopy):\n",
    "            break\n",
    "    # If we make it through without breaking skip over the part where we add 1 to numSafeLevels\n",
    "    else:\n",
    "        continue\n",
    "\n",
    "    numSafeLevels += 1\n",
    "\n",
    "print(f\"Number of safe levels: {numSafeLevels}\")"
   ]
  }
 ],
 "metadata": {
  "kernelspec": {
   "display_name": "Python 3 (ipykernel)",
   "language": "python",
   "name": "python3"
  },
  "language_info": {
   "codemirror_mode": {
    "name": "ipython",
    "version": 3
   },
   "file_extension": ".py",
   "mimetype": "text/x-python",
   "name": "python",
   "nbconvert_exporter": "python",
   "pygments_lexer": "ipython3",
   "version": "3.12.7"
  }
 },
 "nbformat": 4,
 "nbformat_minor": 5
}
