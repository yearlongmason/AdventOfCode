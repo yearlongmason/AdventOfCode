{
 "cells": [
  {
   "cell_type": "markdown",
   "id": "a1a89c3e-1fa0-4f6f-bb06-31a371289d09",
   "metadata": {},
   "source": [
    "# --- Day 2: Red-Nosed Reports ---\n",
    "https://adventofcode.com/2024/day/2"
   ]
  },
  {
   "cell_type": "code",
   "execution_count": 2,
   "id": "181afa34-2adc-4863-af58-0a134cda15f2",
   "metadata": {},
   "outputs": [],
   "source": [
    "def getLevels():\n",
    "    with open(\"levels.txt\") as file:\n",
    "        return file.read()"
   ]
  },
  {
   "cell_type": "code",
   "execution_count": 3,
   "id": "17074f31-37ac-41aa-9917-6a17c0215935",
   "metadata": {},
   "outputs": [
    {
     "name": "stdout",
     "output_type": "stream",
     "text": [
      "Number of safe levels: 639\n"
     ]
    }
   ],
   "source": [
    "# Data formatting\n",
    "levels = getLevels()\n",
    "levels = [[int(y) for y in x.split(\" \")] for x in levels.split(\"\\n\")]\n",
    "\n",
    "# This takes in a level and returns whether or not it is safe\n",
    "def checkSafety(level: list[int]) -> bool:\n",
    "\n",
    "    # Get the differences\n",
    "    differences = [level[x] - level[x + 1] for x in range(len(level) - 1)]\n",
    "\n",
    "    # If the distances are either all increasing and between -1 and -3 or all decreasing and between 1 and 3\n",
    "    if all([True if x < 0 and x > -4 else False for x in differences]):\n",
    "        return True\n",
    "    if all([True if x > 0 and x < 4 else False for x in differences]):\n",
    "        return True\n",
    "    \n",
    "    return False\n",
    "\n",
    "# Count the number of levels that are safe\n",
    "numSafeLevels = 0\n",
    "for level in levels:\n",
    "    numSafeLevels += int(checkSafety(level))\n",
    "\n",
    "print(f\"Number of safe levels: {numSafeLevels}\")"
   ]
  },
  {
   "cell_type": "markdown",
   "id": "2d37fff4-d9a9-4969-bed1-262b10feab4d",
   "metadata": {},
   "source": [
    "# --- Part Two ---"
   ]
  },
  {
   "cell_type": "code",
   "execution_count": 5,
   "id": "811c7d35-42ec-4774-bc5a-3d8d7b522d05",
   "metadata": {},
   "outputs": [
    {
     "name": "stdout",
     "output_type": "stream",
     "text": [
      "Number of safe levels: 674\n"
     ]
    }
   ],
   "source": [
    "# Data formatting\n",
    "levels = getLevels()\n",
    "levels = [[int(y) for y in x.split(\" \")] for x in levels.split(\"\\n\")]\n",
    "\n",
    "# This takes in a level and returns whether or not it is safe\n",
    "def checkSafety(level: list[int]) -> bool:\n",
    "\n",
    "    # Get the differences\n",
    "    differences = [level[x] - level[x + 1] for x in range(len(level) - 1)]\n",
    "\n",
    "    # If the distances are safe, return True, otherwise return False\n",
    "    if all([True if x < 0 and x > -4 else False for x in differences]):\n",
    "        return True\n",
    "    if all([True if x > 0 and x < 4 else False for x in differences]):\n",
    "        return True\n",
    "    \n",
    "    return False\n",
    "\n",
    "# Count the number of levels that are safe\n",
    "numSafeLevels = 0\n",
    "for level in levels:\n",
    "\n",
    "    # For each value in the level, check the safety without that value\n",
    "    # If one of those instances are safe then the whole thing is safe\n",
    "    for i in range(len(level)):\n",
    "        levelCopy = level.copy()\n",
    "        levelCopy.pop(i)\n",
    "        if checkSafety(levelCopy):\n",
    "            break\n",
    "    # If we make it through without breaking skip over the part where we add 1 to numSafeLevels\n",
    "    else:\n",
    "        continue\n",
    "\n",
    "    numSafeLevels += 1\n",
    "\n",
    "print(f\"Number of safe levels: {numSafeLevels}\")"
   ]
  }
 ],
 "metadata": {
  "kernelspec": {
   "display_name": "Python 3 (ipykernel)",
   "language": "python",
   "name": "python3"
  },
  "language_info": {
   "codemirror_mode": {
    "name": "ipython",
    "version": 3
   },
   "file_extension": ".py",
   "mimetype": "text/x-python",
   "name": "python",
   "nbconvert_exporter": "python",
   "pygments_lexer": "ipython3",
   "version": "3.12.7"
  }
 },
 "nbformat": 4,
 "nbformat_minor": 5
}
