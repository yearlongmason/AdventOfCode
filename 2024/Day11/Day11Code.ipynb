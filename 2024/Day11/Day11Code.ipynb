{
 "cells": [
  {
   "cell_type": "markdown",
   "id": "4234ecf3-e8e3-420b-9f96-38009035c317",
   "metadata": {},
   "source": [
    "# --- Day 11: Plutonian Pebbles ---\n",
    "https://adventofcode.com/2024/day/11"
   ]
  },
  {
   "cell_type": "code",
   "execution_count": 2,
   "id": "c6c1caf8-a42d-431e-9c2a-ac3a668e9fce",
   "metadata": {},
   "outputs": [],
   "source": [
    "def getStones():\n",
    "    with open(\"stones.txt\") as file:\n",
    "        return file.read()"
   ]
  },
  {
   "cell_type": "code",
   "execution_count": 3,
   "id": "65724712-2279-4773-9c1a-1f1f110801b5",
   "metadata": {},
   "outputs": [
    {
     "name": "stdout",
     "output_type": "stream",
     "text": [
      "Number of stones after 25 blinks: 239714\n"
     ]
    }
   ],
   "source": [
    "stones = getStones()\n",
    "stones = [int(x) for x in stones.split(\" \")]\n",
    "\n",
    "# Take in a list of stones and return the updated list of stones after a blink\n",
    "def changeStones(stones: list[int]) -> list[int]:\n",
    "    # Keep track of new stones list rather than updating old stones\n",
    "    newStones = []\n",
    "\n",
    "    # Loop through all stones\n",
    "    for stone in stones:\n",
    "        stringStone = str(stone)\n",
    "        \n",
    "        # If the stone is 0 change it to 1\n",
    "        if stone == 0:\n",
    "            newStones.append(1)\n",
    "\n",
    "        # If the number of digits is even, split it in half and add both\n",
    "        elif len(stringStone) % 2 == 0:\n",
    "            firstHalf = stringStone[:len(stringStone)//2]\n",
    "            secondHalf = stringStone[len(stringStone)//2:]\n",
    "            newStones.append(int(firstHalf))\n",
    "            newStones.append(int(secondHalf))\n",
    "\n",
    "        # If neither rule applies, multiply the number by 2024\n",
    "        else:\n",
    "            newStones.append(stone * 2024)\n",
    "    \n",
    "    return newStones\n",
    "\n",
    "# Change stones once per blink\n",
    "for blink in range(25):\n",
    "    stones = changeStones(stones)\n",
    "    # print(len(stones), len(set(stones))) # This is my reasoning for doing part 2 the way I did\n",
    "\n",
    "print(f\"Number of stones after 25 blinks: {len(stones)}\")"
   ]
  },
  {
   "cell_type": "markdown",
   "id": "cc168f0c-eebc-460e-9ca5-481fe70292a8",
   "metadata": {},
   "source": [
    "# --- Part Two ---"
   ]
  },
  {
   "cell_type": "code",
   "execution_count": 5,
   "id": "b4adff18-6d48-4c5e-bb39-3006921d4124",
   "metadata": {},
   "outputs": [
    {
     "name": "stdout",
     "output_type": "stream",
     "text": [
      "Number of stones after 75 blinks: 284973560658514\n"
     ]
    }
   ],
   "source": [
    "from collections import defaultdict\n",
    "\n",
    "# Formatting\n",
    "stones = getStones()\n",
    "stones = [int(x) for x in stones.split(\" \")]\n",
    "stoneCounts = defaultdict(int) # Get the value counts for each stone\n",
    "for stone in stones:\n",
    "    stoneCounts[stone] += 1\n",
    "\n",
    "# Take in the value counts of each stone and return the new value counts after a blink\n",
    "def changeStoneCounts(stoneCounts: list[int]) -> list[int]:\n",
    "    # Keep track of new stone counts rather than updating old stone counts\n",
    "    newStoneCounts = defaultdict(int)\n",
    "\n",
    "    # Loop through all stones\n",
    "    for stone, count in stoneCounts.items():\n",
    "        stringStone = str(stone)\n",
    "        \n",
    "        # If the stone is 0 change it to 1\n",
    "        if stone == 0:\n",
    "            newStoneCounts[1] += count\n",
    "        \n",
    "        # If the number of digits is even, split it in half and add both\n",
    "        elif len(stringStone) % 2 == 0:\n",
    "            firstHalf = stringStone[:len(stringStone)//2]\n",
    "            secondHalf = stringStone[len(stringStone)//2:]\n",
    "            newStoneCounts[int(firstHalf)] += count\n",
    "            newStoneCounts[int(secondHalf)] += count\n",
    "\n",
    "        # If neither rule applies, multiply the number by 2024\n",
    "        else:\n",
    "            newStoneCounts[stone * 2024] += count\n",
    "    \n",
    "    return newStoneCounts\n",
    "\n",
    "# With test input, \"125, 17\" this solution can calculate up to about 23000 blinks!\n",
    "# Change stones once per blink\n",
    "for blink in range(75):\n",
    "    stoneCounts = changeStoneCounts(stoneCounts)\n",
    "\n",
    "print(f\"Number of stones after 75 blinks: {sum(stoneCounts.values())}\")"
   ]
  }
 ],
 "metadata": {
  "kernelspec": {
   "display_name": "Python 3 (ipykernel)",
   "language": "python",
   "name": "python3"
  },
  "language_info": {
   "codemirror_mode": {
    "name": "ipython",
    "version": 3
   },
   "file_extension": ".py",
   "mimetype": "text/x-python",
   "name": "python",
   "nbconvert_exporter": "python",
   "pygments_lexer": "ipython3",
   "version": "3.12.7"
  }
 },
 "nbformat": 4,
 "nbformat_minor": 5
}
