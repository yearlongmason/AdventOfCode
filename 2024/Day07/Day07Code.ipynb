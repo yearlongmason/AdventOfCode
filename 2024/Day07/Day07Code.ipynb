{
 "cells": [
  {
   "cell_type": "markdown",
   "id": "ebe51430-cd96-4354-88f6-bc68cb37c468",
   "metadata": {},
   "source": [
    "# --- Day 7: Bridge Repair ---\n",
    "https://adventofcode.com/2024/day/7"
   ]
  },
  {
   "cell_type": "code",
   "execution_count": 2,
   "id": "d1e89af0-769e-428d-8d39-e5fd1f71782c",
   "metadata": {},
   "outputs": [],
   "source": [
    "def getEquations():\n",
    "    with open(\"equations.txt\") as file:\n",
    "        return file.read()"
   ]
  },
  {
   "cell_type": "code",
   "execution_count": 198,
   "id": "42626a97-1bc1-4866-a9ec-a7cea6648334",
   "metadata": {},
   "outputs": [
    {
     "name": "stdout",
     "output_type": "stream",
     "text": [
      "Total calibration result: 1708857123053\n"
     ]
    }
   ],
   "source": [
    "from itertools import product\n",
    "\n",
    "# Formatting\n",
    "equations = getEquations()\n",
    "equations = [x.split(\": \") for x in equations.split(\"\\n\")]\n",
    "for i in range(len(equations)):\n",
    "    equations[i][0] = int(equations[i][0])\n",
    "    equations[i][1] = [int(x) for x in equations[i][1].split()]\n",
    "\n",
    "def evaluateEquation(equation):\n",
    "    # Get initial answer value (first calculation)\n",
    "    if equation[1] == \"*\":\n",
    "        answer = equation[0] * equation[2]\n",
    "    elif equation[1] == \"+\":\n",
    "        answer = equation[0] + equation[2]\n",
    "    \n",
    "    # Loop over all the next calculations and add them to answer\n",
    "    for i in range(3, len(equation) - 1, 2):\n",
    "        if equation[i] == \"*\":\n",
    "            answer *= equation[i + 1]\n",
    "        elif equation[i] == \"+\":\n",
    "            answer += equation[i + 1]\n",
    "\n",
    "    return answer\n",
    "\n",
    "# Loop through each equation\n",
    "totalCalibration = 0\n",
    "for answer, nums in equations:\n",
    "\n",
    "    # Get all possible permutations of operators\n",
    "    for combo in product([\"+\",\"*\"], repeat=len(nums) - 1):\n",
    "        counter = 0\n",
    "        builtEquation = []\n",
    "\n",
    "        # Build the equation in a list (e.g. [1, \"+\", 2])\n",
    "        # Loop through each number\n",
    "        for x in nums:\n",
    "            # Add on the number and then the operator\n",
    "            builtEquation.append(x)\n",
    "            if counter < len(combo):\n",
    "                builtEquation.append(combo[counter])\n",
    "                counter += 1\n",
    "\n",
    "        # If the answer is equal to the evaluated equation, add the answer to the total calibration\n",
    "        if answer == evaluateEquation(builtEquation):\n",
    "            totalCalibration += answer\n",
    "            break\n",
    "\n",
    "print(f\"Total calibration result: {totalCalibration}\")"
   ]
  },
  {
   "cell_type": "markdown",
   "id": "586921ea-a670-4d21-8307-661f753e7b6f",
   "metadata": {},
   "source": [
    "# --- Part Two ---"
   ]
  },
  {
   "cell_type": "code",
   "execution_count": 202,
   "id": "b763c660-d6f9-4649-9d11-57e65568476c",
   "metadata": {},
   "outputs": [
    {
     "name": "stdout",
     "output_type": "stream",
     "text": [
      "Total calibration result: 189207836795655\n"
     ]
    }
   ],
   "source": [
    "from itertools import product\n",
    "\n",
    "# Formatting\n",
    "equations = getEquations()\n",
    "equations = [x.split(\": \") for x in equations.split(\"\\n\")]\n",
    "for i in range(len(equations)):\n",
    "    equations[i][0] = int(equations[i][0])\n",
    "    equations[i][1] = [int(x) for x in equations[i][1].split()]\n",
    "\n",
    "def evaluateEquation(equation):\n",
    "    # Get initial answer value (first calculation)\n",
    "    if equation[1] == \"*\":\n",
    "        answer = equation[0] * equation[2]\n",
    "    elif equation[1] == \"+\":\n",
    "        answer = equation[0] + equation[2]\n",
    "    elif equation[1] == \"||\":\n",
    "        answer = int(str(equation[0]) + str(equation[2]))\n",
    "    \n",
    "    # Loop over all the next calculations and add them to answer\n",
    "    for i in range(3, len(equation) - 1, 2):\n",
    "        if equation[i] == \"*\":\n",
    "            answer *= equation[i + 1]\n",
    "        elif equation[i] == \"+\":\n",
    "            answer += equation[i + 1]\n",
    "        elif equation[i] == \"||\":\n",
    "            answer = int(str(answer) + str(equation[i + 1]))\n",
    "\n",
    "    return answer\n",
    "\n",
    "# Loop through each equation\n",
    "totalCalibration = 0\n",
    "for answer, nums in equations:\n",
    "\n",
    "    # Get all possible permutations of operators\n",
    "    for combo in product([\"+\",\"*\",\"||\"], repeat=len(nums) - 1):\n",
    "        counter = 0\n",
    "        builtEquation = []\n",
    "\n",
    "        # Build the equation in a list (e.g. [1, \"+\", 2])\n",
    "        # Loop through each number\n",
    "        for x in nums:\n",
    "            # Add on the number and then the operator\n",
    "            builtEquation.append(x)\n",
    "            if counter < len(combo):\n",
    "                builtEquation.append(combo[counter])\n",
    "                counter += 1\n",
    "\n",
    "        # If the answer is equal to the evaluated equation, add the answer to the total calibration\n",
    "        if answer == evaluateEquation(builtEquation):\n",
    "            totalCalibration += answer\n",
    "            break\n",
    "\n",
    "print(f\"Total calibration result: {totalCalibration}\")"
   ]
  }
 ],
 "metadata": {
  "kernelspec": {
   "display_name": "Python 3 (ipykernel)",
   "language": "python",
   "name": "python3"
  },
  "language_info": {
   "codemirror_mode": {
    "name": "ipython",
    "version": 3
   },
   "file_extension": ".py",
   "mimetype": "text/x-python",
   "name": "python",
   "nbconvert_exporter": "python",
   "pygments_lexer": "ipython3",
   "version": "3.12.7"
  }
 },
 "nbformat": 4,
 "nbformat_minor": 5
}
