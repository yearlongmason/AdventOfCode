{
 "cells": [
  {
   "cell_type": "markdown",
   "metadata": {},
   "source": [
    "# --- Day 16: Reindeer Maze ---\n",
    "https://adventofcode.com/2024/day/16"
   ]
  },
  {
   "cell_type": "code",
   "execution_count": 1,
   "metadata": {},
   "outputs": [],
   "source": [
    "def getMaze():\n",
    "    with open(\"maze.txt\") as file:\n",
    "        return file.read()"
   ]
  },
  {
   "cell_type": "code",
   "execution_count": 2,
   "metadata": {},
   "outputs": [
    {
     "name": "stdout",
     "output_type": "stream",
     "text": [
      "Lowest possible reindeer score: 98416\n"
     ]
    }
   ],
   "source": [
    "from heapq import heappush, heappop\n",
    "\n",
    "# Define a Node class where information about a current location (coordinate) is held\n",
    "class Node:\n",
    "    def __init__(self, coords: tuple[int], parent, direction: str, cost: int=-1):\n",
    "        self.coords = coords # Coordinates\n",
    "        self.parent = parent # This is the parent node that this node came from\n",
    "        self.direction = direction\n",
    "        self.cost = cost\n",
    "\n",
    "    # Returns true if state (coordinates) are equal\n",
    "    def __eq__(self, other):\n",
    "        if type(self) == type(other):\n",
    "            return self.coords == other.coords\n",
    "        return self.coords == other\n",
    "    \n",
    "    def __lt__(self, other):\n",
    "        return self.cost < other.cost\n",
    "    \n",
    "    def __repr__(self):\n",
    "        return f\"{self.coords}, {self.direction}, {self.cost}\"\n",
    "\n",
    "# Formatting\n",
    "maze = getMaze()\n",
    "maze = maze.split(\"\\n\")\n",
    "rows, cols = len(maze), len(maze[0])\n",
    "\n",
    "# Find the start and the end node\n",
    "for i in range(rows):\n",
    "    for j in range(cols):\n",
    "        if maze[i][j] == \"S\":\n",
    "            start = (i,j)\n",
    "        if maze[i][j] == \"E\":\n",
    "            end = (i,j)\n",
    "\n",
    "# Search through the maze until we hit the end\n",
    "def astar(maze, start, end):\n",
    "    startNode = Node(start, None, \"right\", 0) # Create a start node with coords\n",
    "\n",
    "    # Create frontier\n",
    "    frontier = []\n",
    "    heappush(frontier, startNode)\n",
    "\n",
    "    # Create explored \n",
    "    explored = dict()\n",
    "    explored[startNode.coords] = startNode.cost\n",
    "\n",
    "    # Loop until frontier is empty\n",
    "    while frontier:\n",
    "        currentNode = heappop(frontier)\n",
    "\n",
    "        # If we've made it to the end, then we can return the current node\n",
    "        if currentNode == end:\n",
    "            return currentNode\n",
    "        \n",
    "        # Check all successors\n",
    "        currentCoords = currentNode.coords\n",
    "        newCost = currentNode.cost + 1\n",
    "        up = Node((currentCoords[0] - 1, currentCoords[1]), parent=currentNode, direction=\"up\", cost=newCost)\n",
    "        down = Node((currentCoords[0] + 1, currentCoords[1]), parent=currentNode, direction=\"down\", cost=newCost)\n",
    "        left = Node((currentCoords[0], currentCoords[1] - 1), parent=currentNode, direction=\"left\", cost=newCost)\n",
    "        right = Node((currentCoords[0], currentCoords[1] + 1), parent=currentNode, direction=\"right\", cost=newCost)\n",
    "\n",
    "        # Loop through each child\n",
    "        for child in [up, down, left, right]:\n",
    "            # If the spot is open or we make it to the end\n",
    "            if maze[child.coords[0]][child.coords[1]] in [\".\", \"E\"]:\n",
    "\n",
    "                # If there is a direction change, add 1000 to the cost\n",
    "                if currentNode.direction != child.direction:\n",
    "                    child.cost += 1000\n",
    "\n",
    "                # If new coordinate or cheaper coordinate, add to frontier and explored\n",
    "                if child.coords not in explored.keys() or explored[child.coords] > child.cost:\n",
    "                    explored[child.coords] = child.cost\n",
    "                    heappush(frontier, child)\n",
    "\n",
    "    # If we made it to the end, then we did not find our goal :(\n",
    "    return None\n",
    "\n",
    "print(f\"Lowest possible reindeer score: {astar(maze, start, end).cost}\")"
   ]
  },
  {
   "cell_type": "markdown",
   "metadata": {},
   "source": [
    "# --- Part Two ---"
   ]
  },
  {
   "cell_type": "code",
   "execution_count": 3,
   "metadata": {},
   "outputs": [],
   "source": [
    "# Ideas so far - \n",
    "# Use A* to find shortest possible path\n",
    "# Find all paths of that length"
   ]
  }
 ],
 "metadata": {
  "kernelspec": {
   "display_name": "base",
   "language": "python",
   "name": "python3"
  },
  "language_info": {
   "codemirror_mode": {
    "name": "ipython",
    "version": 3
   },
   "file_extension": ".py",
   "mimetype": "text/x-python",
   "name": "python",
   "nbconvert_exporter": "python",
   "pygments_lexer": "ipython3",
   "version": "3.12.7"
  }
 },
 "nbformat": 4,
 "nbformat_minor": 2
}
