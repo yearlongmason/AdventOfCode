{
 "cells": [
  {
   "cell_type": "markdown",
   "id": "b3a34331-ad83-481b-9fc2-56519c3090ac",
   "metadata": {},
   "source": [
    "# --- Day 4: Ceres Search ---\n",
    "\n",
    "\"Looks like the Chief's not here. Next!\" One of The Historians pulls out a device and pushes the only button on it. After a brief flash, you recognize the interior of the Ceres monitoring station!\n",
    "\n",
    "As the search for the Chief continues, a small Elf who lives on the station tugs on your shirt; she'd like to know if you could help her with her word search (your puzzle input). She only has to find one word: XMAS.\n",
    "\n",
    "This word search allows words to be horizontal, vertical, diagonal, written backwards, or even overlapping other words. It's a little unusual, though, as you don't merely need to find one instance of XMAS - you need to find all of them. Here are a few ways XMAS might appear, where irrelevant characters have been replaced with .:\n",
    "\n",
    "```\n",
    "..X...\n",
    ".SAMX.\n",
    ".A..A.\n",
    "XMAS.S\n",
    ".X....\n",
    "```\n",
    "\n",
    "The actual word search will be full of letters instead. For example:\n",
    "\n",
    "```\n",
    "MMMSXXMASM\n",
    "MSAMXMSMSA\n",
    "AMXSXMAAMM\n",
    "MSAMASMSMX\n",
    "XMASAMXAMM\n",
    "XXAMMXXAMA\n",
    "SMSMSASXSS\n",
    "SAXAMASAAA\n",
    "MAMMMXMMMM\n",
    "MXMXAXMASX\n",
    "```\n",
    "\n",
    "In this word search, XMAS occurs a total of 18 times; here's the same word search again, but where letters not involved in any XMAS have been replaced with .:\n",
    "\n",
    "```\n",
    "....XXMAS.\n",
    ".SAMXMS...\n",
    "...S..A...\n",
    "..A.A.MS.X\n",
    "XMASAMX.MM\n",
    "X.....XA.A\n",
    "S.S.S.S.SS\n",
    ".A.A.A.A.A\n",
    "..M.M.M.MM\n",
    ".X.X.XMASX\n",
    "```\n",
    "\n",
    "Take a look at the little Elf's word search. How many times does XMAS appear?"
   ]
  },
  {
   "cell_type": "code",
   "execution_count": 38,
   "id": "4f0a4e7e-1ed3-4b0d-bde6-61d095ce56aa",
   "metadata": {},
   "outputs": [],
   "source": [
    "def getWordSearch():\n",
    "    with open(\"wordSearch.txt\") as file:\n",
    "        return file.read()"
   ]
  },
  {
   "cell_type": "code",
   "execution_count": 187,
   "id": "effa88dc-081d-4870-a164-819041fb7106",
   "metadata": {},
   "outputs": [
    {
     "name": "stdout",
     "output_type": "stream",
     "text": [
      "Numer of XMAS's in word search: 2493\n"
     ]
    }
   ],
   "source": [
    "import re\n",
    "\n",
    "wordSearch = getWordSearch().split(\"\\n\")\n",
    "rowLen, colLen = len(wordSearch), len(wordSearch[0])\n",
    "\n",
    "totalXmas = 0\n",
    "# Use regex to find horizontal \"XMAS\" and \"SAMX\"\n",
    "for row in wordSearch:\n",
    "    totalXmas += len(re.findall(r'XMAS', row))\n",
    "    totalXmas += len(re.findall(r'SAMX', row))\n",
    "\n",
    "# Loop through each character in word search\n",
    "for i in range(rowLen):\n",
    "    for j in range(colLen):\n",
    "        if wordSearch[i][j] == \"X\":\n",
    "            # Check bottom to top verticle (Tested)\n",
    "            inRange = i - 3 >= 0\n",
    "            if inRange and wordSearch[i-1][j] == \"M\" and wordSearch[i-2][j] == \"A\" and wordSearch[i-3][j] == \"S\":\n",
    "                totalXmas += 1\n",
    "            # Check top to bottom verticle (Tested)\n",
    "            inRange = i + 3 < rowLen\n",
    "            if inRange and wordSearch[i+1][j] == \"M\" and wordSearch[i+2][j] == \"A\" and wordSearch[i+3][j] == \"S\":\n",
    "                totalXmas += 1\n",
    "            # Check diagonals\n",
    "            # Check bottom right to top left\n",
    "            inRange = i - 3 >= 0 and j - 3 >= 0\n",
    "            if inRange and wordSearch[i-1][j-1] == \"M\" and wordSearch[i-2][j-2] == \"A\" and wordSearch[i-3][j-3] == \"S\":\n",
    "                totalXmas += 1\n",
    "            # Check bottom left to top right\n",
    "            inRange = i - 3 >= 0 and j + 3 < colLen\n",
    "            if inRange and wordSearch[i-1][j+1] == \"M\" and wordSearch[i-2][j+2] == \"A\" and wordSearch[i-3][j+3] == \"S\":\n",
    "                totalXmas += 1\n",
    "            # Check top right to bottom left\n",
    "            inRange = i + 3 < rowLen and j + 3 < colLen\n",
    "            if inRange and wordSearch[i+1][j+1] == \"M\" and wordSearch[i+2][j+2] == \"A\" and wordSearch[i+3][j+3] == \"S\":\n",
    "                totalXmas += 1\n",
    "            # Check top left to bottom right\n",
    "            inRange = i + 3 < rowLen and j - 3 >= 0\n",
    "            if inRange and wordSearch[i+1][j-1] == \"M\" and wordSearch[i+2][j-2] == \"A\" and wordSearch[i+3][j-3] == \"S\":\n",
    "                totalXmas += 1\n",
    "\n",
    "print(f\"Numer of XMAS's in word search: {totalXmas}\")"
   ]
  },
  {
   "cell_type": "markdown",
   "id": "c0ad33eb-762b-4a4f-8f12-8d4739bd9579",
   "metadata": {},
   "source": [
    "# --- Part Two ---\n",
    "\n",
    "The Elf looks quizzically at you. Did you misunderstand the assignment?\n",
    "\n",
    "Looking for the instructions, you flip over the word search to find that this isn't actually an XMAS puzzle; it's an X-MAS puzzle in which you're supposed to find two MAS in the shape of an X. One way to achieve that is like this:\n",
    "\n",
    "```\n",
    "M.S\n",
    ".A.\n",
    "M.S\n",
    "```\n",
    "\n",
    "Irrelevant characters have again been replaced with . in the above diagram. Within the X, each MAS can be written forwards or backwards.\n",
    "\n",
    "Here's the same example from before, but this time all of the X-MASes have been kept instead:\n",
    "\n",
    "```\n",
    ".M.S......\n",
    "..A..MSMS.\n",
    ".M.S.MAA..\n",
    "..A.ASMSM.\n",
    ".M.S.M....\n",
    "..........\n",
    "S.S.S.S.S.\n",
    ".A.A.A.A..\n",
    "M.M.M.M.M.\n",
    "..........\n",
    "```\n",
    "\n",
    "In this example, an X-MAS appears 9 times.\n",
    "\n",
    "Flip the word search from the instructions back over to the word search side and try again. How many times does an X-MAS appear?"
   ]
  },
  {
   "cell_type": "code",
   "execution_count": 189,
   "id": "9c301e0a-dbb6-4e6e-8828-fe2aa13ab33c",
   "metadata": {},
   "outputs": [
    {
     "name": "stdout",
     "output_type": "stream",
     "text": [
      "Numer of X-MAS appearances: 1890\n"
     ]
    }
   ],
   "source": [
    "# Formatting word search\n",
    "wordSearch = getWordSearch().split(\"\\n\")\n",
    "rowLen, colLen = len(wordSearch), len(wordSearch[0])\n",
    "\n",
    "# Loop through each character in word search and check treating current index as top right\n",
    "totalXmas = 0\n",
    "for i in range(rowLen - 2):\n",
    "    for j in range(colLen - 2):\n",
    "        # Get diagonals in cube\n",
    "        diagonal1 = \"\".join([wordSearch[i][j], wordSearch[i+1][j+1], wordSearch[i+2][j+2]])\n",
    "        diagonal2 = \"\".join([wordSearch[i][j+2], wordSearch[i+1][j+1], wordSearch[i+2][j]])\n",
    "\n",
    "        # If both diagonals are valid then add 1 to totalXmas\n",
    "        if diagonal1 in [\"MAS\", \"SAM\"] and diagonal2 in [\"MAS\", \"SAM\"]:\n",
    "            totalXmas += 1\n",
    "\n",
    "print(f\"Numer of X-MAS appearances: {totalXmas}\")"
   ]
  }
 ],
 "metadata": {
  "kernelspec": {
   "display_name": "Python 3 (ipykernel)",
   "language": "python",
   "name": "python3"
  },
  "language_info": {
   "codemirror_mode": {
    "name": "ipython",
    "version": 3
   },
   "file_extension": ".py",
   "mimetype": "text/x-python",
   "name": "python",
   "nbconvert_exporter": "python",
   "pygments_lexer": "ipython3",
   "version": "3.12.7"
  }
 },
 "nbformat": 4,
 "nbformat_minor": 5
}
