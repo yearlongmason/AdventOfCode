{
 "cells": [
  {
   "cell_type": "markdown",
   "id": "bbe16275-24a0-4e8a-9f60-7aacb05b690f",
   "metadata": {},
   "source": [
    "# --- Day 5: Print Queue ---\n",
    "https://adventofcode.com/2024/day/5"
   ]
  },
  {
   "cell_type": "code",
   "execution_count": 2,
   "id": "58bddb09-13e9-4a19-8056-0898b6f3ba0b",
   "metadata": {},
   "outputs": [],
   "source": [
    "def getRules():\n",
    "    with open(\"rules.txt\") as file:\n",
    "        return file.read()\n",
    "\n",
    "def getUpdates():\n",
    "    with open(\"updates.txt\") as file:\n",
    "        return file.read()"
   ]
  },
  {
   "cell_type": "code",
   "execution_count": 3,
   "id": "2b288e8f-f859-4611-a222-2cff82a70447",
   "metadata": {},
   "outputs": [
    {
     "name": "stdout",
     "output_type": "stream",
     "text": [
      "Sum of middle page numbers in correctly-ordered updates: 5509\n"
     ]
    }
   ],
   "source": [
    "from collections import defaultdict\n",
    "\n",
    "# Formatting\n",
    "rules = getRules()\n",
    "rules = [[int(y) for y in x.split(\"|\")] for x in rules.split(\"\\n\")]\n",
    "updates = getUpdates()\n",
    "updates = [[int(y) for y in x.split(\",\")] for x in updates.split(\"\\n\")]\n",
    "\n",
    "ordering = defaultdict(list)\n",
    "for rule in rules:\n",
    "    ordering[rule[0]].append(rule[1])\n",
    "\n",
    "validUpdates = []\n",
    "for update in updates:\n",
    "    # Keep track of progress through the current update\n",
    "    progress = []\n",
    "    valid = True\n",
    "\n",
    "    # Loop through all values in the current update\n",
    "    for val in update:\n",
    "        # Check to see if current val is valid\n",
    "        for i in ordering[val]:\n",
    "            if i in progress:\n",
    "                valid = False\n",
    "        progress.append(val)\n",
    "    if valid:\n",
    "        validUpdates.append(progress)\n",
    "\n",
    "validMiddlePageSum = 0\n",
    "for update in validUpdates:\n",
    "    validMiddlePageSum += update[len(update)//2]\n",
    "\n",
    "print(f\"Sum of middle page numbers in correctly-ordered updates: {validMiddlePageSum}\")"
   ]
  },
  {
   "cell_type": "markdown",
   "id": "991714bc-cb07-48b3-a52a-cddf6493bc93",
   "metadata": {},
   "source": [
    "# Part 1 Different Approach\n",
    "(In my opinion this is a better approach for clarity's sake)"
   ]
  },
  {
   "cell_type": "code",
   "execution_count": 5,
   "id": "16e90d40-72bd-4ab0-9af9-a36af7bacc2c",
   "metadata": {},
   "outputs": [
    {
     "name": "stdout",
     "output_type": "stream",
     "text": [
      "Sum of middle page numbers in correctly-ordered updates: 5509\n"
     ]
    }
   ],
   "source": [
    "# Formatting\n",
    "rules = getRules()\n",
    "rules = [[int(y) for y in x.split(\"|\")] for x in rules.split(\"\\n\")]\n",
    "updates = getUpdates()\n",
    "updates = [[int(y) for y in x.split(\",\")] for x in updates.split(\"\\n\")]\n",
    "\n",
    "# This function checks to see if an update is already sorted\n",
    "# Credit to Zack for thinking of this cool approach\n",
    "def checkSorted(update, rules) -> bool:\n",
    "    # Loop through all rules\n",
    "    for before, after in rules:\n",
    "        # If a rule is violated, return false\n",
    "        try:\n",
    "            if update.index(before) > update.index(after):\n",
    "                return False\n",
    "        except ValueError:\n",
    "            continue\n",
    "\n",
    "    # If we make it through with no rule violations, return True\n",
    "    return True\n",
    "\n",
    "validMiddlePageSum = 0\n",
    "for update in updates:\n",
    "    if checkSorted(update, rules):\n",
    "        validMiddlePageSum += update[len(update)//2]\n",
    "\n",
    "print(f\"Sum of middle page numbers in correctly-ordered updates: {validMiddlePageSum}\")"
   ]
  },
  {
   "cell_type": "markdown",
   "id": "0b122b48-8e92-4e69-a36f-2b4a6e863354",
   "metadata": {},
   "source": [
    "# --- Part Two ---"
   ]
  },
  {
   "cell_type": "code",
   "execution_count": 9,
   "id": "5f40962a-2c72-4b64-9d8d-e6a0697203ea",
   "metadata": {},
   "outputs": [
    {
     "name": "stdout",
     "output_type": "stream",
     "text": [
      "Sum of middle page numbers in incorrectly-ordered updates: 4407\n"
     ]
    }
   ],
   "source": [
    "# Shoutout to Zack for the hints on this part\n",
    "# Formatting\n",
    "rules = getRules()\n",
    "rules = [[int(y) for y in x.split(\"|\")] for x in rules.split(\"\\n\")]\n",
    "updates = getUpdates()\n",
    "updates = [[int(y) for y in x.split(\",\")] for x in updates.split(\"\\n\")]\n",
    "\n",
    "# Sort update list based on rules. Return new update list\n",
    "def sortUpdate(update, rules) -> list[int]:\n",
    "    sortedUpdate = update.copy()\n",
    "    # Loop through all rules\n",
    "    for before, after in rules:\n",
    "        # If a rule is violated, swap the indexes\n",
    "        try:\n",
    "            beforeIndex = sortedUpdate.index(before)\n",
    "            afterIndex = sortedUpdate.index(after)\n",
    "            if beforeIndex > afterIndex:\n",
    "                sortedUpdate[beforeIndex], sortedUpdate[afterIndex] = sortedUpdate[afterIndex], sortedUpdate[beforeIndex]\n",
    "        except ValueError:\n",
    "            continue\n",
    "\n",
    "    # Return the sorted update\n",
    "    return sortedUpdate\n",
    "\n",
    "# Loop through all updates\n",
    "invalidMiddlePageSum = 0\n",
    "for update in updates:\n",
    "    # If an update violates any rules\n",
    "    if sortUpdate(update, rules) != update:\n",
    "\n",
    "        # Sort the update and continue to sort until it no longer changes\n",
    "        sortedUpdate = sortUpdate(update, rules)\n",
    "        while sortUpdate(sortedUpdate, rules) != sortedUpdate:\n",
    "            sortedUpdate = sortUpdate(sortedUpdate, rules)\n",
    "\n",
    "        # Add the middle page to the sum of invalid update middle pages\n",
    "        invalidMiddlePageSum += sortedUpdate[len(sortedUpdate)//2]\n",
    "\n",
    "print(f\"Sum of middle page numbers in incorrectly-ordered updates: {invalidMiddlePageSum}\")"
   ]
  }
 ],
 "metadata": {
  "kernelspec": {
   "display_name": "Python 3 (ipykernel)",
   "language": "python",
   "name": "python3"
  },
  "language_info": {
   "codemirror_mode": {
    "name": "ipython",
    "version": 3
   },
   "file_extension": ".py",
   "mimetype": "text/x-python",
   "name": "python",
   "nbconvert_exporter": "python",
   "pygments_lexer": "ipython3",
   "version": "3.12.7"
  }
 },
 "nbformat": 4,
 "nbformat_minor": 5
}
