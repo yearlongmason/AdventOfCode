{
 "cells": [
  {
   "cell_type": "markdown",
   "id": "d6bcbd69-ebb4-4eb1-8980-6830b4e39e45",
   "metadata": {},
   "source": [
    "# --- Day 1: Historian Hysteria ---\n",
    "https://adventofcode.com/2024/day/1"
   ]
  },
  {
   "cell_type": "code",
   "execution_count": 2,
   "id": "feb2bfea-7699-48a7-ba10-2954cf034782",
   "metadata": {},
   "outputs": [],
   "source": [
    "def getLocationIDs():\n",
    "    with open(\"locationIDs.txt\") as file:\n",
    "        return file.read()"
   ]
  },
  {
   "cell_type": "code",
   "execution_count": 3,
   "id": "c2fd8f19-e743-411f-97a9-7ea70b090cee",
   "metadata": {},
   "outputs": [
    {
     "name": "stdout",
     "output_type": "stream",
     "text": [
      "Total distance between your lists 1938424\n"
     ]
    }
   ],
   "source": [
    "# Data formatting\n",
    "locations = getLocationIDs()\n",
    "locations = [x.split(\"   \") for x in locations.split(\"\\n\")]\n",
    "leftLocs, rightLocs = [], []\n",
    "for left, right in locations:\n",
    "    leftLocs.append(int(left))\n",
    "    rightLocs.append(int(right))\n",
    "\n",
    "# Sort lists\n",
    "leftLocs.sort()\n",
    "rightLocs.sort()\n",
    "\n",
    "# Get distances\n",
    "distances = [abs(leftLocs[x] - rightLocs[x]) for x in range(len(leftLocs))]\n",
    "\n",
    "print(f\"Total distance between your lists {sum(distances)}\")"
   ]
  },
  {
   "cell_type": "markdown",
   "id": "b4f627a8-9874-4500-a79f-e960845645cc",
   "metadata": {},
   "source": [
    "# --- Part Two ---"
   ]
  },
  {
   "cell_type": "code",
   "execution_count": 5,
   "id": "3b9528d7-23b4-4c54-988e-52afa48f6451",
   "metadata": {},
   "outputs": [
    {
     "name": "stdout",
     "output_type": "stream",
     "text": [
      "Similarity score: 22014209\n"
     ]
    }
   ],
   "source": [
    "# Data formatting\n",
    "locations = getLocationIDs()\n",
    "locations = [x.split(\"   \") for x in locations.split(\"\\n\")]\n",
    "leftLocs, rightLocs = [], []\n",
    "for left, right in locations:\n",
    "    leftLocs.append(int(left))\n",
    "    rightLocs.append(int(right))\n",
    "\n",
    "# Loop through left list and add similarity score for each number\n",
    "similarityScore = 0\n",
    "for num in leftLocs:\n",
    "    similarityScore += num * rightLocs.count(num)\n",
    "\n",
    "print(f\"Similarity score: {similarityScore}\")"
   ]
  }
 ],
 "metadata": {
  "kernelspec": {
   "display_name": "Python 3 (ipykernel)",
   "language": "python",
   "name": "python3"
  },
  "language_info": {
   "codemirror_mode": {
    "name": "ipython",
    "version": 3
   },
   "file_extension": ".py",
   "mimetype": "text/x-python",
   "name": "python",
   "nbconvert_exporter": "python",
   "pygments_lexer": "ipython3",
   "version": "3.12.7"
  }
 },
 "nbformat": 4,
 "nbformat_minor": 5
}
