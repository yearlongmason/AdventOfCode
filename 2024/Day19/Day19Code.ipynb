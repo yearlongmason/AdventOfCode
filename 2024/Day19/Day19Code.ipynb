{
 "cells": [
  {
   "cell_type": "markdown",
   "metadata": {},
   "source": [
    "# --- Day 19: Linen Layout ---\n",
    "https://adventofcode.com/2024/day/19"
   ]
  },
  {
   "cell_type": "code",
   "execution_count": 5,
   "metadata": {},
   "outputs": [],
   "source": [
    "def getTowels():\n",
    "    with open(\"towels.txt\") as file:\n",
    "        return file.read()"
   ]
  },
  {
   "cell_type": "code",
   "execution_count": 37,
   "metadata": {},
   "outputs": [
    {
     "name": "stdout",
     "output_type": "stream",
     "text": [
      "1\n",
      "2\n"
     ]
    },
    {
     "ename": "KeyboardInterrupt",
     "evalue": "",
     "output_type": "error",
     "traceback": [
      "\u001b[1;31m---------------------------------------------------------------------------\u001b[0m",
      "\u001b[1;31mKeyboardInterrupt\u001b[0m                         Traceback (most recent call last)",
      "Cell \u001b[1;32mIn[37], line 27\u001b[0m\n\u001b[0;32m     25\u001b[0m possibleDesigns \u001b[38;5;241m=\u001b[39m \u001b[38;5;241m0\u001b[39m\n\u001b[0;32m     26\u001b[0m \u001b[38;5;28;01mfor\u001b[39;00m design \u001b[38;5;129;01min\u001b[39;00m designs:\n\u001b[1;32m---> 27\u001b[0m     possibleDesigns \u001b[38;5;241m+\u001b[39m\u001b[38;5;241m=\u001b[39m \u001b[38;5;28mint\u001b[39m(isPossibleDesign(patterns, design))\n\u001b[0;32m     28\u001b[0m     \u001b[38;5;28mprint\u001b[39m(possibleDesigns)\n\u001b[0;32m     30\u001b[0m \u001b[38;5;28mprint\u001b[39m(\u001b[38;5;124mf\u001b[39m\u001b[38;5;124m\"\u001b[39m\u001b[38;5;124mNumber of possible designs: \u001b[39m\u001b[38;5;132;01m{\u001b[39;00mpossibleDesigns\u001b[38;5;132;01m}\u001b[39;00m\u001b[38;5;124m\"\u001b[39m)\n",
      "Cell \u001b[1;32mIn[37], line 18\u001b[0m, in \u001b[0;36misPossibleDesign\u001b[1;34m(patterns, design)\u001b[0m\n\u001b[0;32m     15\u001b[0m \u001b[38;5;28;01mfor\u001b[39;00m pattern \u001b[38;5;129;01min\u001b[39;00m patterns:\n\u001b[0;32m     16\u001b[0m     \u001b[38;5;66;03m# If the pattern matches start of the design\u001b[39;00m\n\u001b[0;32m     17\u001b[0m     \u001b[38;5;28;01mif\u001b[39;00m pattern \u001b[38;5;241m==\u001b[39m design[:\u001b[38;5;28mlen\u001b[39m(pattern)]:\n\u001b[1;32m---> 18\u001b[0m         \u001b[38;5;28;01mif\u001b[39;00m isPossibleDesign(patterns, design[\u001b[38;5;28mlen\u001b[39m(pattern):]):\n\u001b[0;32m     19\u001b[0m             \u001b[38;5;28;01mreturn\u001b[39;00m \u001b[38;5;28;01mTrue\u001b[39;00m\n\u001b[0;32m     21\u001b[0m \u001b[38;5;66;03m# If we make it through every pattern and none work, then return False\u001b[39;00m\n",
      "Cell \u001b[1;32mIn[37], line 18\u001b[0m, in \u001b[0;36misPossibleDesign\u001b[1;34m(patterns, design)\u001b[0m\n\u001b[0;32m     15\u001b[0m \u001b[38;5;28;01mfor\u001b[39;00m pattern \u001b[38;5;129;01min\u001b[39;00m patterns:\n\u001b[0;32m     16\u001b[0m     \u001b[38;5;66;03m# If the pattern matches start of the design\u001b[39;00m\n\u001b[0;32m     17\u001b[0m     \u001b[38;5;28;01mif\u001b[39;00m pattern \u001b[38;5;241m==\u001b[39m design[:\u001b[38;5;28mlen\u001b[39m(pattern)]:\n\u001b[1;32m---> 18\u001b[0m         \u001b[38;5;28;01mif\u001b[39;00m isPossibleDesign(patterns, design[\u001b[38;5;28mlen\u001b[39m(pattern):]):\n\u001b[0;32m     19\u001b[0m             \u001b[38;5;28;01mreturn\u001b[39;00m \u001b[38;5;28;01mTrue\u001b[39;00m\n\u001b[0;32m     21\u001b[0m \u001b[38;5;66;03m# If we make it through every pattern and none work, then return False\u001b[39;00m\n",
      "    \u001b[1;31m[... skipping similar frames: isPossibleDesign at line 18 (22 times)]\u001b[0m\n",
      "Cell \u001b[1;32mIn[37], line 18\u001b[0m, in \u001b[0;36misPossibleDesign\u001b[1;34m(patterns, design)\u001b[0m\n\u001b[0;32m     15\u001b[0m \u001b[38;5;28;01mfor\u001b[39;00m pattern \u001b[38;5;129;01min\u001b[39;00m patterns:\n\u001b[0;32m     16\u001b[0m     \u001b[38;5;66;03m# If the pattern matches start of the design\u001b[39;00m\n\u001b[0;32m     17\u001b[0m     \u001b[38;5;28;01mif\u001b[39;00m pattern \u001b[38;5;241m==\u001b[39m design[:\u001b[38;5;28mlen\u001b[39m(pattern)]:\n\u001b[1;32m---> 18\u001b[0m         \u001b[38;5;28;01mif\u001b[39;00m isPossibleDesign(patterns, design[\u001b[38;5;28mlen\u001b[39m(pattern):]):\n\u001b[0;32m     19\u001b[0m             \u001b[38;5;28;01mreturn\u001b[39;00m \u001b[38;5;28;01mTrue\u001b[39;00m\n\u001b[0;32m     21\u001b[0m \u001b[38;5;66;03m# If we make it through every pattern and none work, then return False\u001b[39;00m\n",
      "Cell \u001b[1;32mIn[37], line 17\u001b[0m, in \u001b[0;36misPossibleDesign\u001b[1;34m(patterns, design)\u001b[0m\n\u001b[0;32m     14\u001b[0m \u001b[38;5;66;03m# Loop through each pattern\u001b[39;00m\n\u001b[0;32m     15\u001b[0m \u001b[38;5;28;01mfor\u001b[39;00m pattern \u001b[38;5;129;01min\u001b[39;00m patterns:\n\u001b[0;32m     16\u001b[0m     \u001b[38;5;66;03m# If the pattern matches start of the design\u001b[39;00m\n\u001b[1;32m---> 17\u001b[0m     \u001b[38;5;28;01mif\u001b[39;00m pattern \u001b[38;5;241m==\u001b[39m design[:\u001b[38;5;28mlen\u001b[39m(pattern)]:\n\u001b[0;32m     18\u001b[0m         \u001b[38;5;28;01mif\u001b[39;00m isPossibleDesign(patterns, design[\u001b[38;5;28mlen\u001b[39m(pattern):]):\n\u001b[0;32m     19\u001b[0m             \u001b[38;5;28;01mreturn\u001b[39;00m \u001b[38;5;28;01mTrue\u001b[39;00m\n",
      "\u001b[1;31mKeyboardInterrupt\u001b[0m: "
     ]
    }
   ],
   "source": [
    "# Formatting\n",
    "towels = getTowels()\n",
    "patterns, designs = towels.split(\"\\n\\n\")\n",
    "patterns = patterns.split(\", \")\n",
    "designs = designs.split(\"\\n\")\n",
    "\n",
    "# Determines if a design is possible\n",
    "def isPossibleDesign(patterns: list[str], design: str) -> bool:\n",
    "\n",
    "    # Base case: design is an empty string\n",
    "    if design == \"\":\n",
    "        return True\n",
    "\n",
    "    # Loop through each pattern\n",
    "    for pattern in patterns:\n",
    "        # If the pattern matches start of the design\n",
    "        if pattern == design[:len(pattern)]:\n",
    "            if isPossibleDesign(patterns, design[len(pattern):]):\n",
    "                return True\n",
    "\n",
    "    # If we make it through every pattern and none work, then return False\n",
    "    return False\n",
    "\n",
    "# Loop through each design and determine whether or not it's possible\n",
    "possibleDesigns = 0\n",
    "for design in designs:\n",
    "    possibleDesigns += int(isPossibleDesign(patterns, design))\n",
    "    \n",
    "print(f\"Number of possible designs: {possibleDesigns}\")"
   ]
  },
  {
   "cell_type": "code",
   "execution_count": 39,
   "metadata": {},
   "outputs": [
    {
     "name": "stdout",
     "output_type": "stream",
     "text": [
      "1\n",
      "2\n",
      "3\n",
      "4\n",
      "4\n",
      "5\n",
      "6\n",
      "6\n",
      "Number of possible designs: 6\n"
     ]
    }
   ],
   "source": [
    "towels = getTowels()\n",
    "patterns, designs = towels.split(\"\\n\\n\")\n",
    "patterns = patterns.split(\", \")\n",
    "designs = designs.split(\"\\n\")\n",
    "\n",
    "memo = {}\n",
    "def findPossibleDesigns(design: str, currentIndex: int=0) -> int:\n",
    "\n",
    "    # Base case: we've made it to the end of the design\n",
    "    # Or if we've already reached this point before return the memoized value\n",
    "    if currentIndex == len(design):\n",
    "        return 1\n",
    "    if currentIndex in memo:\n",
    "        return memo[currentIndex]\n",
    "    \n",
    "    # Find number of valid designs\n",
    "    numValidDesigns = 0\n",
    "    # Check if each new pattern is a valid next choice\n",
    "    for pattern in patterns:\n",
    "        if pattern == design[currentIndex:currentIndex + len(pattern)]:\n",
    "            numValidDesigns += findPossibleDesigns(design, currentIndex + len(pattern))\n",
    "\n",
    "    # Cache answer\n",
    "    memo[(design, currentIndex)] = numValidDesigns\n",
    "    return memo[(design, currentIndex)]\n",
    "\n",
    "# Find all possible designs\n",
    "totalPossibleDesigns = 0\n",
    "for design in designs:\n",
    "    totalPossibleDesigns += 1 if findPossibleDesigns(design) > 0 else 0\n",
    "    print(totalPossibleDesigns)\n",
    "\n",
    "print(f\"Number of possible designs: {totalPossibleDesigns}\")"
   ]
  }
 ],
 "metadata": {
  "kernelspec": {
   "display_name": "base",
   "language": "python",
   "name": "python3"
  },
  "language_info": {
   "codemirror_mode": {
    "name": "ipython",
    "version": 3
   },
   "file_extension": ".py",
   "mimetype": "text/x-python",
   "name": "python",
   "nbconvert_exporter": "python",
   "pygments_lexer": "ipython3",
   "version": "3.12.7"
  }
 },
 "nbformat": 4,
 "nbformat_minor": 2
}
