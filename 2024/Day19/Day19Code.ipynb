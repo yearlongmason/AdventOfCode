{
 "cells": [
  {
   "cell_type": "markdown",
   "metadata": {},
   "source": [
    "# --- Day 19: Linen Layout ---\n",
    "https://adventofcode.com/2024/day/19"
   ]
  },
  {
   "cell_type": "code",
   "execution_count": 5,
   "metadata": {},
   "outputs": [],
   "source": [
    "def getTowels():\n",
    "    with open(\"towels.txt\") as file:\n",
    "        return file.read()"
   ]
  },
  {
   "cell_type": "code",
   "execution_count": null,
   "metadata": {},
   "outputs": [],
   "source": [
    "# Formatting\n",
    "towels = getTowels()\n",
    "patterns, designs = towels.split(\"\\n\\n\")\n",
    "patterns = patterns.split(\", \")\n",
    "designs = designs.split(\"\\n\")\n",
    "\n",
    "# Determines if a design is possible\n",
    "def isPossibleDesign(patterns: list[str], design: str) -> bool:\n",
    "\n",
    "    # Base case: design is an empty string\n",
    "    if design == \"\":\n",
    "        return True\n",
    "\n",
    "    # Loop through each pattern\n",
    "    for pattern in patterns:\n",
    "        # If the pattern matches start of the design\n",
    "        if pattern == design[:len(pattern)]:\n",
    "            if isPossibleDesign(patterns, design[len(pattern):]):\n",
    "                return True\n",
    "\n",
    "    # If we make it through every pattern and none work, then return False\n",
    "    return False\n",
    "\n",
    "# Loop through each design and determine whether or not it's possible\n",
    "possibleDesigns = 0\n",
    "for design in designs:\n",
    "    possibleDesigns += int(isPossibleDesign(patterns, design))\n",
    "    \n",
    "print(f\"Number of possible designs: {possibleDesigns}\")"
   ]
  },
  {
   "cell_type": "markdown",
   "metadata": {},
   "source": [
    "## Trying Memoization"
   ]
  },
  {
   "cell_type": "code",
   "execution_count": null,
   "metadata": {},
   "outputs": [],
   "source": [
    "towels = getTowels()\n",
    "patterns, designs = towels.split(\"\\n\\n\")\n",
    "patterns = patterns.split(\", \")\n",
    "designs = designs.split(\"\\n\")\n",
    "\n",
    "memo = {}\n",
    "def findPossibleDesigns(design: str, currentIndex: int=0) -> int:\n",
    "\n",
    "    # Base case: we've made it to the end of the design\n",
    "    # Or if we've already reached this point before return the memoized value\n",
    "    if currentIndex == len(design):\n",
    "        return 1\n",
    "    if currentIndex in memo:\n",
    "        return memo[currentIndex]\n",
    "    \n",
    "    # Find number of valid designs\n",
    "    numValidDesigns = 0\n",
    "    # Check if each new pattern is a valid next choice\n",
    "    for pattern in patterns:\n",
    "        if pattern == design[currentIndex:currentIndex + len(pattern)]:\n",
    "            numValidDesigns += findPossibleDesigns(design, currentIndex + len(pattern))\n",
    "\n",
    "    # Cache answer\n",
    "    memo[(design, currentIndex)] = numValidDesigns\n",
    "    return memo[(design, currentIndex)]\n",
    "\n",
    "# Find all possible designs\n",
    "totalPossibleDesigns = 0\n",
    "for design in designs:\n",
    "    totalPossibleDesigns += 1 if findPossibleDesigns(design) > 0 else 0\n",
    "    print(totalPossibleDesigns)\n",
    "\n",
    "print(f\"Number of possible designs: {totalPossibleDesigns}\")"
   ]
  }
 ],
 "metadata": {
  "kernelspec": {
   "display_name": "base",
   "language": "python",
   "name": "python3"
  },
  "language_info": {
   "codemirror_mode": {
    "name": "ipython",
    "version": 3
   },
   "file_extension": ".py",
   "mimetype": "text/x-python",
   "name": "python",
   "nbconvert_exporter": "python",
   "pygments_lexer": "ipython3",
   "version": "3.12.7"
  }
 },
 "nbformat": 4,
 "nbformat_minor": 2
}
